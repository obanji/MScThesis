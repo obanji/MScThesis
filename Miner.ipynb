{
 "cells": [
  {
   "cell_type": "markdown",
   "metadata": {},
   "source": [
    "# Mimid :  Inferring Grammars from X86 Binaries\n",
    "\n",
    "* Evaluation starts [here](#Evaluation)\n",
    "  * The evaluation on specific subjects starts [here](#Subjects)\n",
    "    * [Calculator](#Calculator)\n",
    "    * [MJS](#MJS)\n",
    "    * [Duktape](#Duktape)\n",
    "    * [TinyC](#TinyC)\n",
    "    * [CSV](#CSV)\n",
    "    * [Lisp](#Lisp)\n",
    "    * [Yxml](#Yxml)"
   ]
  },
  {
   "cell_type": "code",
   "execution_count": 1301,
   "metadata": {
    "ExecuteTime": {
     "end_time": "2021-01-13T22:52:33.833161Z",
     "start_time": "2021-01-13T22:52:33.830197Z"
    }
   },
   "outputs": [],
   "source": [
    "import fuzzingbook"
   ]
  },
  {
   "cell_type": "markdown",
   "metadata": {},
   "source": [
    "## X86 Instruction"
   ]
  },
  {
   "cell_type": "markdown",
   "metadata": {},
   "source": [
    "### Class Instruction"
   ]
  },
  {
   "cell_type": "code",
   "execution_count": 1302,
   "metadata": {
    "ExecuteTime": {
     "end_time": "2021-01-13T22:52:35.440784Z",
     "start_time": "2021-01-13T22:52:35.437533Z"
    }
   },
   "outputs": [],
   "source": [
    "class Instruction:\n",
    "    def __init__(self, instr):\n",
    "        self.symbol_name = None\n",
    "        self.pointed_address = None\n",
    "        self.dest_reg = None\n",
    "        self.instr_type = None\n",
    "        self._parse(instr)"
   ]
  },
  {
   "cell_type": "code",
   "execution_count": 1303,
   "metadata": {
    "ExecuteTime": {
     "end_time": "2021-01-13T22:52:35.452409Z",
     "start_time": "2021-01-13T22:52:35.448237Z"
    }
   },
   "outputs": [],
   "source": [
    "class Instruction(Instruction):\n",
    "    def get_pointed_value(self, val):\n",
    "        val = val.strip('%*')\n",
    "        if val in REGISTERS:\n",
    "            ptr_addr = gdb.execute('x/s $%s' % (val),\n",
    "                                to_string=True).split(':')\n",
    "            return ptr_addr[0]\n",
    "        return val"
   ]
  },
  {
   "cell_type": "code",
   "execution_count": 1304,
   "metadata": {
    "ExecuteTime": {
     "end_time": "2021-01-13T22:52:35.468089Z",
     "start_time": "2021-01-13T22:52:35.459201Z"
    }
   },
   "outputs": [],
   "source": [
    "class Instruction(Instruction):\n",
    "    def resolve_addressing_mode(self, instr):\n",
    "        str0 = instr.split(',')\n",
    "        if len(str0) > 2:\n",
    "            if instr.startswith('%'):\n",
    "                return '$%s' % (str0[0][1:])\n",
    "            else:\n",
    "                if instr.startswith('-') or instr.startswith('0x'):\n",
    "                    d, rb = tuple(str0[0].split('(%'))\n",
    "                    ri = str0[1][1:]\n",
    "                    s = str0[2].strip(')')\n",
    "                    return '$%s+%s+%s*$%s' % (rb, d, s, ri)\n",
    "\n",
    "        src = str0[-1]\n",
    "        if '(' not in src:\n",
    "            if src[1:] in REGISTERS:\n",
    "\n",
    "                return '$%s' % src[1:]\n",
    "        else:\n",
    "            if src.startswith('-'):\n",
    "                displacement, rest = tuple(src.split('(%'))\n",
    "                return '$%s%s' % (rest[:-1], displacement)\n",
    "            elif src.startswith('(') and src.endswith(')'):\n",
    "                return '$%s' % src[2: -1]\n",
    "            else:\n",
    "                displacement, rest = tuple(src.split('(%'))\n",
    "                return '$%s+%s' % (rest[:-1], displacement)"
   ]
  },
  {
   "cell_type": "code",
   "execution_count": 1305,
   "metadata": {
    "ExecuteTime": {
     "end_time": "2021-01-13T22:52:35.475675Z",
     "start_time": "2021-01-13T22:52:35.470061Z"
    }
   },
   "outputs": [],
   "source": [
    "class Instruction(Instruction):\n",
    "    def _parse(self, instr):\n",
    "        instr_list = instr.split()\n",
    "        instr_list.pop(0)\n",
    "\n",
    "        self.current_address = instr_list[0]\n",
    "        if \"<\" in instr_list[1]:\n",
    "            instr_list.pop(1)\n",
    "        self.instr_type = instr_list[1]\n",
    "\n",
    "        if self.instr_type == CALL:\n",
    "            self.pointed_address = self.get_pointed_value(instr_list[2])\n",
    "            if len(instr_list) > 3:\n",
    "                self.symbol_name = instr_list[-1]\n",
    "\n",
    "        elif self.instr_type.startswith('mov') or self.instr_type == 'push' or \\\n",
    "            self.instr_type == 'pop':\n",
    "            self.dest_reg = self.resolve_addressing_mode(instr_list[2])"
   ]
  },
  {
   "cell_type": "markdown",
   "metadata": {},
   "source": [
    "### Extracting function names from binary"
   ]
  },
  {
   "cell_type": "code",
   "execution_count": 1306,
   "metadata": {
    "ExecuteTime": {
     "end_time": "2021-01-13T22:52:36.192664Z",
     "start_time": "2021-01-13T22:52:36.190226Z"
    }
   },
   "outputs": [],
   "source": [
    "INP_ARR = []\n",
    "VAL_TUPLE = []"
   ]
  },
  {
   "cell_type": "code",
   "execution_count": 1307,
   "metadata": {
    "ExecuteTime": {
     "end_time": "2021-01-13T22:52:36.202997Z",
     "start_time": "2021-01-13T22:52:36.200230Z"
    }
   },
   "outputs": [],
   "source": [
    "def reset_helper():\n",
    "    global INP_ARR \n",
    "    global VAL_TUPLE\n",
    "    INP_ARR.clear()\n",
    "    VAL_TUPLE.clear()"
   ]
  },
  {
   "cell_type": "markdown",
   "metadata": {},
   "source": [
    "### Binary Miner"
   ]
  },
  {
   "cell_type": "code",
   "execution_count": 1308,
   "metadata": {
    "ExecuteTime": {
     "end_time": "2021-01-13T22:52:36.918518Z",
     "start_time": "2021-01-13T22:52:36.913694Z"
    }
   },
   "outputs": [],
   "source": [
    "class BinaryDebugger:\n",
    "    def __init__(self, inp, binary, fn_list):\n",
    "        self.inp = inp\n",
    "        self.binary = binary\n",
    "        self.functions = fn_list\n",
    "        self._set_logger()\n",
    "        self.tree = {}\n",
    "        self.mid = None\n",
    "        self.method_map, self.m_stack = {}, []"
   ]
  },
  {
   "cell_type": "code",
   "execution_count": 1309,
   "metadata": {
    "ExecuteTime": {
     "end_time": "2021-01-13T22:52:36.930572Z",
     "start_time": "2021-01-13T22:52:36.921546Z"
    }
   },
   "outputs": [],
   "source": [
    "class BinaryDebugger(BinaryDebugger):\n",
    "    def break_at(self, address):\n",
    "        gdb.execute(\"break *%s\" % address)\n",
    "    def finish(self):\n",
    "        gdb.execute('finish')\n",
    "    def get_instruction(self):\n",
    "        return gdb.execute('x/i $rip', to_string=True)\n",
    "    def nexti(self):\n",
    "        gdb.execute('nexti')\n",
    "    def resume(self):\n",
    "        gdb.execute('continue')\n",
    "    def run(self):\n",
    "        gdb.execute('run')\n",
    "    def step(self):\n",
    "        gdb.execute('stepi')"
   ]
  },
  {
   "cell_type": "code",
   "execution_count": 1310,
   "metadata": {
    "ExecuteTime": {
     "end_time": "2021-01-13T22:52:36.935870Z",
     "start_time": "2021-01-13T22:52:36.932520Z"
    }
   },
   "outputs": [],
   "source": [
    "class BinaryDebugger(BinaryDebugger):\n",
    "    def start_program(self):\n",
    "        gdb.execute(\"set args '%s'\" % self.inp)\n",
    "        gdb.execute(\"file %s\" % self.binary)"
   ]
  },
  {
   "cell_type": "code",
   "execution_count": 1311,
   "metadata": {
    "ExecuteTime": {
     "end_time": "2021-01-13T22:52:36.942956Z",
     "start_time": "2021-01-13T22:52:36.938013Z"
    }
   },
   "outputs": [],
   "source": [
    "class BinaryDebugger(BinaryDebugger):\n",
    "    def _in_scope(self, instr, addr_range):\n",
    "        s1, e1, s2, e2 = addr_range\n",
    "        instr = instr.split()\n",
    "        instr.pop(0)\n",
    "        \n",
    "        current_addr = instr[0].strip(':')\n",
    "        hex_val = int(current_addr, 16)\n",
    "        if hex_val in range(int(s1, 16), int(e1, 16)) or \\\n",
    "            hex_val in range(int(s2, 16), int(e2, 16)):\n",
    "            return True\n",
    "        else:\n",
    "            return False"
   ]
  },
  {
   "cell_type": "code",
   "execution_count": 1312,
   "metadata": {
    "ExecuteTime": {
     "end_time": "2021-01-13T22:52:36.952558Z",
     "start_time": "2021-01-13T22:52:36.948276Z"
    }
   },
   "outputs": [],
   "source": [
    "class BinaryDebugger(BinaryDebugger):\n",
    "    def _get_entry_address(self):\n",
    "        self.start_program()\n",
    "        self.run()\n",
    "\n",
    "        info_file = gdb.execute('info file', to_string=True)\n",
    "        entry = None\n",
    "        \n",
    "        for line in info_file.splitlines():\n",
    "            if 'Entry point' in line:\n",
    "                entry = line.split(':')[1]\n",
    "                break\n",
    "        return entry"
   ]
  },
  {
   "cell_type": "code",
   "execution_count": 1313,
   "metadata": {
    "ExecuteTime": {
     "end_time": "2021-01-13T22:52:36.964744Z",
     "start_time": "2021-01-13T22:52:36.959468Z"
    }
   },
   "outputs": [],
   "source": [
    "class BinaryDebugger(BinaryDebugger):\n",
    "    def _set_logger(self):\n",
    "        gdb.execute('set logging overwrite on')\n",
    "        gdb.execute('set logging redirect on')\n",
    "        gdb.execute('set logging on')"
   ]
  },
  {
   "cell_type": "code",
   "execution_count": 1314,
   "metadata": {
    "ExecuteTime": {
     "end_time": "2021-01-13T22:52:36.972104Z",
     "start_time": "2021-01-13T22:52:36.966641Z"
    }
   },
   "outputs": [],
   "source": [
    "class BinaryDebugger(BinaryDebugger):\n",
    "    def _get_address_range(self):\n",
    "        s1 = s2 = None\n",
    "        e1 = e2 = None\n",
    "        mappings = gdb.execute('info proc mappings', to_string=True)\n",
    "\n",
    "        for i, line in enumerate(mappings.splitlines()):\n",
    "            if i == 4:\n",
    "                s1 = line.split()[0]\n",
    "            elif i == 6:\n",
    "                e1 = line.split()[1]\n",
    "            elif i == 7:\n",
    "                s2 = line.split()[0]\n",
    "            elif i == 10:\n",
    "                e2 = line.split()[1]\n",
    "        return (s1, e1, s2, e2)"
   ]
  },
  {
   "cell_type": "code",
   "execution_count": 1315,
   "metadata": {
    "ExecuteTime": {
     "end_time": "2021-01-13T22:52:36.985144Z",
     "start_time": "2021-01-13T22:52:36.978745Z"
    }
   },
   "outputs": [],
   "source": [
    "class BinaryDebugger(BinaryDebugger):\n",
    "    def _get_main_address(self):\n",
    "        entry = self._get_entry_address()\n",
    "        self.break_at(entry)\n",
    "        gdb.execute('run')\n",
    "\n",
    "        instr = []\n",
    "        while True:\n",
    "            next_i = self.get_instruction()\n",
    "            if CALL in next_i:\n",
    "                break\n",
    "            instr.append(next_i)\n",
    "            self.step()\n",
    "\n",
    "        instr = instr[-1].split()\n",
    "        if len(instr) == 6:\n",
    "            s = instr[3]\n",
    "        else:\n",
    "            s = instr[4]\n",
    "\n",
    "        reg = s[-3:]\n",
    "        main_addr = gdb.execute('p/x $%s' % reg, to_string=True)\n",
    "        main_addr = main_addr.partition(\"= \")\n",
    "        main_addr = main_addr[-1]\n",
    "\n",
    "        return main_addr"
   ]
  },
  {
   "cell_type": "code",
   "execution_count": 1316,
   "metadata": {
    "ExecuteTime": {
     "end_time": "2021-01-13T22:52:36.992376Z",
     "start_time": "2021-01-13T22:52:36.987344Z"
    }
   },
   "outputs": [],
   "source": [
    "class BinaryDebugger(BinaryDebugger):\n",
    "    def _lookup_address(self, addr, symbol):\n",
    "        addr = addr.rstrip(\"\\n\")\n",
    "        if addr in self.functions.keys():\n",
    "            return self.functions[addr]\n",
    "        else:\n",
    "            if symbol:\n",
    "                s0 = symbol[1:-1].split('@')[0]\n",
    "                return s0\n",
    "            return None"
   ]
  },
  {
   "cell_type": "code",
   "execution_count": 1317,
   "metadata": {
    "ExecuteTime": {
     "end_time": "2021-01-13T22:52:36.999548Z",
     "start_time": "2021-01-13T22:52:36.994854Z"
    }
   },
   "outputs": [],
   "source": [
    "class BinaryDebugger(BinaryDebugger):\n",
    "    def _init_methodMap_mtdStack(self, mname):\n",
    "        self.method_map = {'0':[0, None, [1]], '1': [1, mname, []]}\n",
    "        self.m_stack = ['0', '1']"
   ]
  },
  {
   "cell_type": "code",
   "execution_count": 1318,
   "metadata": {
    "ExecuteTime": {
     "end_time": "2021-01-13T22:52:37.007759Z",
     "start_time": "2021-01-13T22:52:37.004166Z"
    }
   },
   "outputs": [],
   "source": [
    "class BinaryDebugger(BinaryDebugger):\n",
    "    def _init_result(self, inp, arg1):\n",
    "        self.result = {'inputstr': inp,\n",
    "                'arg': inp,\n",
    "                'original': arg1,\n",
    "                'comparisons': []}"
   ]
  },
  {
   "cell_type": "code",
   "execution_count": 2503,
   "metadata": {
    "ExecuteTime": {
     "end_time": "2021-01-20T09:53:13.284079Z",
     "start_time": "2021-01-20T09:53:13.270324Z"
    },
    "code_folding": []
   },
   "outputs": [],
   "source": [
    "class BinaryDebugger(BinaryDebugger):\n",
    "    def event_loop(self):\n",
    "        main = self._get_main_address()\n",
    "        mname = self._lookup_address(main, None)\n",
    "        cs = CallStack()\n",
    "        cs.enter(mname)\n",
    "\n",
    "        self._init_methodMap_mtdStack(mname)     \n",
    "        self._init_result(self.inp, arg1)  \n",
    "        self.break_at(main)\n",
    "        self.resume()\n",
    "        addr_range = self._get_address_range()\n",
    "        t = ['main']\n",
    "\n",
    "        while True:\n",
    "            try:\n",
    "                nexti = self.get_instruction()\n",
    "                if self._in_scope(nexti, addr_range):\n",
    "                    h = Instruction(nexti)\n",
    "                    if h.instr_type == CALL:\n",
    "                        name = self._lookup_address(h.pointed_address, h.symbol_name)\n",
    "                        if not name or name == 'exit':\n",
    "                            self.step()\n",
    "                            self.finish()\n",
    "                        else:\n",
    "                            self.step()\n",
    "                            cs.enter(name)\n",
    "                            x, self.mid = cs.method_id\n",
    "                            self.method_map[self.m_stack[-1]][-1].append(self.mid)\n",
    "                            self.method_map[str(self.mid)] = [self.mid, name, []]\n",
    "                            self.m_stack.append(str(self.mid))\n",
    "                    elif h.instr_type == RETURN:\n",
    "                        self.step()\n",
    "                        c = [i for i, s in enumerate(t) if s in nexti]\n",
    "                        if c:\n",
    "                            for x in range(c[-1], len(t)):\n",
    "                                t.pop()\n",
    "                                cs.leave()\n",
    "                                if len(self.m_stack) > 1: self.m_stack.pop()\n",
    "                        else:\n",
    "                            t.pop()\n",
    "                            cs.leave()\n",
    "                            if len(self.m_stack) > 1: self.m_stack.pop()\n",
    "                        self.mid = cs.method_id[1]\n",
    "                    else:\n",
    "                        self.step()\n",
    "                        val = read_register_val(h.dest_reg, self.inp)\n",
    "                        comparison = process_value(val, self.mid, self.inp)\n",
    "                        if comparison != None:\n",
    "                            self.result['comparisons'].extend(comparison)\n",
    "                else:\n",
    "                    self.finish()\n",
    "            except gdb.error:\n",
    "                break\n",
    "        self.result['method_map'] = self.method_map\n",
    "        with open('tree', 'w+') as f:\n",
    "            obj = jsonpickle.encode(self.result)\n",
    "            f.write(obj)"
   ]
  },
  {
   "cell_type": "code",
   "execution_count": 1320,
   "metadata": {
    "ExecuteTime": {
     "end_time": "2021-01-13T22:52:37.040870Z",
     "start_time": "2021-01-13T22:52:37.037133Z"
    }
   },
   "outputs": [],
   "source": [
    "from fuzzingbook import fuzzingbook_utils\n",
    "import sys"
   ]
  },
  {
   "cell_type": "code",
   "execution_count": 1321,
   "metadata": {
    "ExecuteTime": {
     "end_time": "2021-01-13T22:52:37.066936Z",
     "start_time": "2021-01-13T22:52:37.043453Z"
    }
   },
   "outputs": [],
   "source": [
    "head = \"\"\"\\\n",
    "import sys\n",
    "sys.path.extend([%s])\n",
    "sys.path.append('.')\n",
    "import matplotlib.pyplot\n",
    "matplotlib.pyplot._IP_REGISTERED = True # Hack\n",
    "#import fuzzingbook_utils\n",
    "import fuzzingbook\n",
    "from fuzzingbook.GrammarMiner import CallStack\n",
    "import jsonpickle\n",
    "import os, subprocess\n",
    "import gdb\n",
    "import re, json\n",
    "\"\"\" % (', '.join(\"'%s'\" % str(i) for i in sys.path if i))\n",
    "Instruction_src = fuzzingbook_utils.extract_class_definition(Instruction)\n",
    "BinaryDebugger_src = fuzzingbook_utils.extract_class_definition(BinaryDebugger)\n",
    "\n",
    "declaration = \"\"\"\n",
    "CALL = 'callq'\n",
    "RETURN = 'retq'\n",
    "LINE = 'line'\n",
    "ARG_REGISTERS = ['rdi', 'rsi', 'rdx', 'rcx', 'r8', 'r9', 'edi', 'rbx']\n",
    "REGISTERS = ARG_REGISTERS + ['rax', 'eax', 'edi' 'esi', 'edx', 'ecx', 'rsp', 'rbp']\n",
    "\"\"\"\n",
    "helper1 = \"\"\"\n",
    "INP_ARR = []\n",
    "VAL_TUPLE = []\n",
    "\n",
    "def reset_helper():\n",
    "    global INP_ARR \n",
    "    global VAL_TUPLE\n",
    "    INP_ARR.clear()\n",
    "    VAL_TUPLE.clear()\n",
    "    \n",
    "def get_names_from_symbols(objfile):\n",
    "    names = []\n",
    "    for name in objfile:\n",
    "        name = name.split()\n",
    "        name = name[-1].decode('utf-8')\n",
    "        if '@@' in name:\n",
    "            names.append(name.split('@@')[0])\n",
    "            continue\n",
    "        names.append(name)\n",
    "    return names\n",
    "\n",
    "def list_objfile_symbols():\n",
    "    proc = subprocess.Popen(['nm', 'a.out'], stdout=subprocess.PIPE)\n",
    "    output = proc.stdout.read()\n",
    "    output = output.splitlines()\n",
    "    return output\n",
    "\n",
    "def get_function_names(inp, binary):\n",
    "    fn_dict = {}\n",
    "    fn_names = []\n",
    "\n",
    "    symbols = list_objfile_symbols()\n",
    "    functions = get_names_from_symbols(symbols)\n",
    "\n",
    "    gdb.execute(\"set args '%s'\" % inp)\n",
    "    gdb.execute(\"file %s\" % binary)\n",
    "    gdb.execute('set confirm off')\n",
    "    gdb.execute('run')\n",
    "    for k in functions:\n",
    "        try:\n",
    "            s = gdb.execute('info address %s' % k,\n",
    "            to_string=True).split(' ')\n",
    "            if s[4].startswith('0x'):\n",
    "                v = s[4].rstrip()\n",
    "                u = v.strip('.')\n",
    "                fn_dict[v] = k\n",
    "            else:\n",
    "                u = s[-1].rstrip()\n",
    "                u = u.strip('.')\n",
    "                fn_dict[u] = k\n",
    "        except gdb.error:\n",
    "            continue\n",
    "    return fn_dict\n",
    "\"\"\"\n",
    "helper2 = \"\"\"\n",
    "def read_register_val(reg, original):\n",
    "    if not reg:\n",
    "        return None\n",
    "\n",
    "    val = read_as_string(reg)\n",
    "    if not val or 'error' in val:\n",
    "        return None\n",
    "    elif val in original:\n",
    "        return val\n",
    "    else:\n",
    "        val = val.strip('\\t')\n",
    "        x = val[1: -1] if val[0] == '\"' and val[-1] == '\"' else val\n",
    "        return x if x in original else None\n",
    "\n",
    "def read_ptr_addr(reg):\n",
    "    try:\n",
    "        str1 = gdb.execute('x/a %s' % (reg), to_string=True)\n",
    "        for idx, char in enumerate(str1):\n",
    "            if str1[idx] == ':':\n",
    "                addr_val = str1[idx + 1:]\n",
    "                addr_val = addr_val.strip()\n",
    "                break\n",
    "        return addr_val\n",
    "    except Exception:\n",
    "        return\n",
    "        \n",
    "def read_as_string(reg):\n",
    "    try:\n",
    "        str0 = gdb.execute('x/s %s' % (reg), to_string=True)\n",
    "        if '<error:' in str0 and not reg.startswith('0x'):\n",
    "            x = gdb.execute('p/c %s' % reg, to_string=True)\n",
    "            x = x.split()\n",
    "            x = x[-1]\n",
    "            return x[1:-1]\n",
    "\n",
    "        for idx, char in enumerate(str0):\n",
    "            if str0[idx] == ':':\n",
    "                str_val = str0[idx + 1:]\n",
    "                str_val = str_val.strip()\n",
    "                break\n",
    "        return str_val\n",
    "    except Exception:\n",
    "        return\n",
    "\n",
    "def process_value(val, mid, inputstr):\n",
    "    if val and val != inputstr and mid:\n",
    "        idx = inputstr.find(val)\n",
    "        for idx in range(idx, idx + len(val)):\n",
    "            return [[idx, inputstr[idx], mid]]\n",
    "\"\"\"\n",
    "tail = \"\"\"\n",
    "reset_helper()\n",
    "arg_0 = None\n",
    "with open(f'inp.0.txt', 'r+') as f:\n",
    "    arg_0 = f.read().strip()\n",
    "\n",
    "fnames = get_function_names(arg_0, \"a.out\")\n",
    "subprocess.call(['strip', '-s', \"a.out\"])\n",
    "\n",
    "debugger = BinaryDebugger(arg_0, 'a.out', fnames)\n",
    "debugger.event_loop()\n",
    "\"\"\"\n",
    "miner_src = '\\n'.join([head, declaration, Instruction_src, helper1, BinaryDebugger_src, helper2, tail])"
   ]
  },
  {
   "cell_type": "code",
   "execution_count": 1322,
   "metadata": {
    "ExecuteTime": {
     "end_time": "2021-01-13T22:52:40.503026Z",
     "start_time": "2021-01-13T22:52:40.499671Z"
    }
   },
   "outputs": [],
   "source": [
    "with open('x.py', 'w+') as f:\n",
    "    print(miner_src, file=f)"
   ]
  },
  {
   "cell_type": "markdown",
   "metadata": {},
   "source": [
    "## Generating Trace"
   ]
  },
  {
   "cell_type": "markdown",
   "metadata": {},
   "source": [
    "Here is how one can generate traces for the `calc` program."
   ]
  },
  {
   "cell_type": "code",
   "execution_count": 1525,
   "metadata": {
    "ExecuteTime": {
     "end_time": "2021-01-24T22:39:43.625974Z",
     "start_time": "2021-01-24T22:39:43.620813Z"
    }
   },
   "outputs": [],
   "source": [
    "inp = '(123)+456*789'\n",
    "source = 'subject/calc/calc.c'\n",
    "#(1+2)-2\n",
    "\n",
    "with open(f'inp.0.txt', 'w+') as f:\n",
    "    print(inp, file=f)"
   ]
  },
  {
   "cell_type": "code",
   "execution_count": 1526,
   "metadata": {
    "ExecuteTime": {
     "end_time": "2021-01-24T22:39:46.841540Z",
     "start_time": "2021-01-24T22:39:43.630760Z"
    }
   },
   "outputs": [],
   "source": [
    "arg0 = '\\'py arg0=\"%s\"\\'' % inp\n",
    "arg1 = '\\'py arg1=\"%s\"\\'' % source\n",
    "\n",
    "!gcc -g {source}\n",
    "!gdb --batch-silent -ex {arg0} -ex {arg1} -x bminer.py"
   ]
  },
  {
   "cell_type": "code",
   "execution_count": 1527,
   "metadata": {
    "ExecuteTime": {
     "end_time": "2021-01-24T22:39:46.887162Z",
     "start_time": "2021-01-24T22:39:46.845850Z"
    },
    "scrolled": true
   },
   "outputs": [
    {
     "data": {
      "text/plain": [
       "[{'inputstr': '(123)+456*789',\n",
       "  'arg': '(123)+456*789',\n",
       "  'original': 'subject/calc/calc.c',\n",
       "  'comparisons': [[6, '4', 2],\n",
       "   [7, '5', 2],\n",
       "   [8, '6', 2],\n",
       "   [9, '*', 2],\n",
       "   [10, '7', 2],\n",
       "   [11, '8', 2],\n",
       "   [12, '9', 2],\n",
       "   [0, '(', 2],\n",
       "   [1, '1', 2],\n",
       "   [2, '2', 2],\n",
       "   [3, '3', 2],\n",
       "   [4, ')', 2],\n",
       "   [5, '+', 2],\n",
       "   [0, '(', 3],\n",
       "   [1, '1', 7],\n",
       "   [1, '1', 10],\n",
       "   [2, '2', 10],\n",
       "   [3, '3', 10],\n",
       "   [4, ')', 10],\n",
       "   [4, ')', 7],\n",
       "   [5, '+', 3],\n",
       "   [6, '4', 3],\n",
       "   [6, '4', 25],\n",
       "   [7, '5', 25],\n",
       "   [8, '6', 25],\n",
       "   [9, '*', 25],\n",
       "   [9, '*', 3],\n",
       "   [10, '7', 3],\n",
       "   [10, '7', 38],\n",
       "   [11, '8', 38],\n",
       "   [12, '9', 38]],\n",
       "  'method_map': {'0': [0, None, [1]],\n",
       "   '1': [1, 'main', [2, 3]],\n",
       "   '2': [2, 'strcpy', []],\n",
       "   '3': [3,\n",
       "    'parse_expr',\n",
       "    [4, 5, 6, 21, 22, 23, 24, 25, 34, 35, 36, 37, 38, 46]],\n",
       "   '4': [4, 'strlen', []],\n",
       "   '5': [5, '__ctype_b_loc', []],\n",
       "   '6': [6, 'parse_paren', [7]],\n",
       "   '7': [7, 'parse_expr', [8, 9, 10, 19, 20]],\n",
       "   '8': [8, 'strlen', []],\n",
       "   '9': [9, '__ctype_b_loc', []],\n",
       "   '10': [10, 'parse_num', [11, 12, 13, 14, 15, 16, 17, 18]],\n",
       "   '11': [11, 'strlen', []],\n",
       "   '12': [12, '__ctype_b_loc', []],\n",
       "   '13': [13, 'strlen', []],\n",
       "   '14': [14, '__ctype_b_loc', []],\n",
       "   '15': [15, 'strlen', []],\n",
       "   '16': [16, '__ctype_b_loc', []],\n",
       "   '17': [17, 'strlen', []],\n",
       "   '18': [18, '__ctype_b_loc', []],\n",
       "   '19': [19, 'strlen', []],\n",
       "   '20': [20, '__ctype_b_loc', []],\n",
       "   '21': [21, 'strlen', []],\n",
       "   '22': [22, '__ctype_b_loc', []],\n",
       "   '23': [23, 'strlen', []],\n",
       "   '24': [24, '__ctype_b_loc', []],\n",
       "   '25': [25, 'parse_num', [26, 27, 28, 29, 30, 31, 32, 33]],\n",
       "   '26': [26, 'strlen', []],\n",
       "   '27': [27, '__ctype_b_loc', []],\n",
       "   '28': [28, 'strlen', []],\n",
       "   '29': [29, '__ctype_b_loc', []],\n",
       "   '30': [30, 'strlen', []],\n",
       "   '31': [31, '__ctype_b_loc', []],\n",
       "   '32': [32, 'strlen', []],\n",
       "   '33': [33, '__ctype_b_loc', []],\n",
       "   '34': [34, 'strlen', []],\n",
       "   '35': [35, '__ctype_b_loc', []],\n",
       "   '36': [36, 'strlen', []],\n",
       "   '37': [37, '__ctype_b_loc', []],\n",
       "   '38': [38, 'parse_num', [39, 40, 41, 42, 43, 44, 45]],\n",
       "   '39': [39, 'strlen', []],\n",
       "   '40': [40, '__ctype_b_loc', []],\n",
       "   '41': [41, 'strlen', []],\n",
       "   '42': [42, '__ctype_b_loc', []],\n",
       "   '43': [43, 'strlen', []],\n",
       "   '44': [44, '__ctype_b_loc', []],\n",
       "   '45': [45, 'strlen', []],\n",
       "   '46': [46, 'strlen', []]}}]"
      ]
     },
     "execution_count": 1527,
     "metadata": {},
     "output_type": "execute_result"
    }
   ],
   "source": [
    "import jsonpickle\n",
    "calc_trace = []\n",
    "with open(f'tree', 'rb') as f:\n",
    "    calc_trace.append((jsonpickle.decode(f.read())))\n",
    "\n",
    "calc_trace"
   ]
  },
  {
   "cell_type": "markdown",
   "metadata": {},
   "source": [
    "## Mining the Traces Generated"
   ]
  },
  {
   "cell_type": "markdown",
   "metadata": {},
   "source": [
    "### Reconstructing the Method Tree with Attached Character Comparisons\n",
    "\n",
    "Reconstruct the actual method trace from a trace with the following\n",
    "format\n",
    "```\n",
    "key   : [ mid, method_name, children_ids ]\n",
    "```"
   ]
  },
  {
   "cell_type": "code",
   "execution_count": 1528,
   "metadata": {
    "ExecuteTime": {
     "end_time": "2021-01-24T22:39:56.382231Z",
     "start_time": "2021-01-24T22:39:56.374278Z"
    }
   },
   "outputs": [],
   "source": [
    "def reconstruct_method_tree(method_map):\n",
    "    first_id = None\n",
    "    tree_map = {}\n",
    "    for key in method_map:\n",
    "        m_id, m_name, m_children = method_map[key]\n",
    "        children = []\n",
    "        if m_id in tree_map:\n",
    "            # just update the name and children\n",
    "            assert not tree_map[m_id]\n",
    "            tree_map[m_id]['id'] = m_id\n",
    "            tree_map[m_id]['name'] = m_name\n",
    "            tree_map[m_id]['indexes'] = []\n",
    "            tree_map[m_id]['children'] = children\n",
    "        else:\n",
    "            assert first_id is None\n",
    "            tree_map[m_id] = {'id': m_id, 'name': m_name, 'children': children, 'indexes': []}\n",
    "            first_id = m_id\n",
    "\n",
    "        for c in m_children:\n",
    "            assert c not in tree_map\n",
    "            val = {}\n",
    "            tree_map[c] = val\n",
    "            children.append(val)\n",
    "    return first_id, tree_map"
   ]
  },
  {
   "cell_type": "code",
   "execution_count": 1529,
   "metadata": {
    "ExecuteTime": {
     "end_time": "2021-01-24T22:39:56.391717Z",
     "start_time": "2021-01-24T22:39:56.388395Z"
    }
   },
   "outputs": [],
   "source": [
    "from fuzzingbook.GrammarFuzzer import display_tree"
   ]
  },
  {
   "cell_type": "code",
   "execution_count": 1530,
   "metadata": {
    "ExecuteTime": {
     "end_time": "2021-01-24T22:39:56.398766Z",
     "start_time": "2021-01-24T22:39:56.395107Z"
    }
   },
   "outputs": [],
   "source": [
    "first, calc_method_tree = reconstruct_method_tree(calc_trace[0]['method_map'])"
   ]
  },
  {
   "cell_type": "code",
   "execution_count": 1531,
   "metadata": {
    "ExecuteTime": {
     "end_time": "2021-01-24T22:39:56.408840Z",
     "start_time": "2021-01-24T22:39:56.405587Z"
    }
   },
   "outputs": [],
   "source": [
    "def extract_node(node, id):\n",
    "    symbol = str(node['id'])\n",
    "    children = node['children']\n",
    "    annotation = str(node['name'])\n",
    "    return \"%s:%s\" % (symbol, annotation), children, ''"
   ]
  },
  {
   "cell_type": "code",
   "execution_count": 1532,
   "metadata": {
    "ExecuteTime": {
     "end_time": "2021-01-24T22:39:56.467235Z",
     "start_time": "2021-01-24T22:39:56.414087Z"
    },
    "scrolled": false
   },
   "outputs": [
    {
     "data": {
      "image/svg+xml": [
       "<?xml version=\"1.0\" encoding=\"UTF-8\" standalone=\"no\"?>\n",
       "<!DOCTYPE svg PUBLIC \"-//W3C//DTD SVG 1.1//EN\"\n",
       " \"http://www.w3.org/Graphics/SVG/1.1/DTD/svg11.dtd\">\n",
       "<!-- Generated by graphviz version 2.43.0 (0)\n",
       " -->\n",
       "<!-- Title: %3 Pages: 1 -->\n",
       "<svg width=\"2106pt\" height=\"329pt\"\n",
       " viewBox=\"0.00 0.00 2106.00 329.00\" xmlns=\"http://www.w3.org/2000/svg\" xmlns:xlink=\"http://www.w3.org/1999/xlink\">\n",
       "<g id=\"graph0\" class=\"graph\" transform=\"scale(1 1) rotate(0) translate(4 325)\">\n",
       "<title>%3</title>\n",
       "<polygon fill=\"white\" stroke=\"transparent\" points=\"-4,4 -4,-325 2102,-325 2102,4 -4,4\"/>\n",
       "<!-- 0 -->\n",
       "<g id=\"node1\" class=\"node\">\n",
       "<title>0</title>\n",
       "<text text-anchor=\"middle\" x=\"866.5\" y=\"-309.8\" font-family=\"Times,serif\" font-size=\"14.00\">0:None</text>\n",
       "</g>\n",
       "<!-- 1 -->\n",
       "<g id=\"node2\" class=\"node\">\n",
       "<title>1</title>\n",
       "<text text-anchor=\"middle\" x=\"866.5\" y=\"-258.8\" font-family=\"Times,serif\" font-size=\"14.00\">1:main</text>\n",
       "</g>\n",
       "<!-- 0&#45;&gt;1 -->\n",
       "<g id=\"edge1\" class=\"edge\">\n",
       "<title>0&#45;&gt;1</title>\n",
       "<path fill=\"none\" stroke=\"black\" d=\"M866.5,-305.69C866.5,-299.18 866.5,-289.1 866.5,-280.43\"/>\n",
       "<polygon fill=\"black\" stroke=\"black\" points=\"870,-280.26 866.5,-270.26 863,-280.26 870,-280.26\"/>\n",
       "</g>\n",
       "<!-- 2 -->\n",
       "<g id=\"node3\" class=\"node\">\n",
       "<title>2</title>\n",
       "<text text-anchor=\"middle\" x=\"819.5\" y=\"-207.8\" font-family=\"Times,serif\" font-size=\"14.00\">2:strcpy</text>\n",
       "</g>\n",
       "<!-- 1&#45;&gt;2 -->\n",
       "<g id=\"edge2\" class=\"edge\">\n",
       "<title>1&#45;&gt;2</title>\n",
       "<path fill=\"none\" stroke=\"black\" d=\"M859.96,-254.69C853.02,-247.45 841.84,-235.79 832.99,-226.57\"/>\n",
       "<polygon fill=\"black\" stroke=\"black\" points=\"835.43,-224.05 825.98,-219.26 830.38,-228.9 835.43,-224.05\"/>\n",
       "</g>\n",
       "<!-- 3 -->\n",
       "<g id=\"node4\" class=\"node\">\n",
       "<title>3</title>\n",
       "<text text-anchor=\"middle\" x=\"913.5\" y=\"-207.8\" font-family=\"Times,serif\" font-size=\"14.00\">3:parse_expr</text>\n",
       "</g>\n",
       "<!-- 1&#45;&gt;3 -->\n",
       "<g id=\"edge3\" class=\"edge\">\n",
       "<title>1&#45;&gt;3</title>\n",
       "<path fill=\"none\" stroke=\"black\" d=\"M873.04,-254.69C879.98,-247.45 891.16,-235.79 900.01,-226.57\"/>\n",
       "<polygon fill=\"black\" stroke=\"black\" points=\"902.62,-228.9 907.02,-219.26 897.57,-224.05 902.62,-228.9\"/>\n",
       "</g>\n",
       "<!-- 4 -->\n",
       "<g id=\"node5\" class=\"node\">\n",
       "<title>4</title>\n",
       "<text text-anchor=\"middle\" x=\"192.5\" y=\"-156.8\" font-family=\"Times,serif\" font-size=\"14.00\">4:strlen</text>\n",
       "</g>\n",
       "<!-- 3&#45;&gt;4 -->\n",
       "<g id=\"edge4\" class=\"edge\">\n",
       "<title>3&#45;&gt;4</title>\n",
       "<path fill=\"none\" stroke=\"black\" d=\"M866.77,-204.87C863.63,-204.56 860.52,-204.26 857.5,-204 582.24,-180.16 508.91,-199.77 230.72,-167.96\"/>\n",
       "<polygon fill=\"black\" stroke=\"black\" points=\"231.07,-164.48 220.73,-166.81 230.26,-171.43 231.07,-164.48\"/>\n",
       "</g>\n",
       "<!-- 5 -->\n",
       "<g id=\"node6\" class=\"node\">\n",
       "<title>5</title>\n",
       "<text text-anchor=\"middle\" x=\"293.5\" y=\"-156.8\" font-family=\"Times,serif\" font-size=\"14.00\">5:__ctype_b_loc</text>\n",
       "</g>\n",
       "<!-- 3&#45;&gt;5 -->\n",
       "<g id=\"edge5\" class=\"edge\">\n",
       "<title>3&#45;&gt;5</title>\n",
       "<path fill=\"none\" stroke=\"black\" d=\"M866.77,-204.92C863.63,-204.59 860.52,-204.28 857.5,-204 638.93,-183.46 581.15,-187.14 358.35,-168.04\"/>\n",
       "<polygon fill=\"black\" stroke=\"black\" points=\"358.57,-164.55 348.3,-167.17 357.96,-171.52 358.57,-164.55\"/>\n",
       "</g>\n",
       "<!-- 6 -->\n",
       "<g id=\"node7\" class=\"node\">\n",
       "<title>6</title>\n",
       "<text text-anchor=\"middle\" x=\"417.5\" y=\"-156.8\" font-family=\"Times,serif\" font-size=\"14.00\">6:parse_paren</text>\n",
       "</g>\n",
       "<!-- 3&#45;&gt;6 -->\n",
       "<g id=\"edge6\" class=\"edge\">\n",
       "<title>3&#45;&gt;6</title>\n",
       "<path fill=\"none\" stroke=\"black\" d=\"M866.76,-205C863.63,-204.65 860.52,-204.32 857.5,-204 692,-186.56 647.94,-185.18 478.57,-168.09\"/>\n",
       "<polygon fill=\"black\" stroke=\"black\" points=\"478.86,-164.6 468.56,-167.08 478.15,-171.57 478.86,-164.6\"/>\n",
       "</g>\n",
       "<!-- 21 -->\n",
       "<g id=\"node22\" class=\"node\">\n",
       "<title>21</title>\n",
       "<text text-anchor=\"middle\" x=\"519.5\" y=\"-156.8\" font-family=\"Times,serif\" font-size=\"14.00\">21:strlen</text>\n",
       "</g>\n",
       "<!-- 3&#45;&gt;21 -->\n",
       "<g id=\"edge21\" class=\"edge\">\n",
       "<title>3&#45;&gt;21</title>\n",
       "<path fill=\"none\" stroke=\"black\" d=\"M866.93,-205.07C789.09,-195.97 634.79,-177.79 562.15,-168.02\"/>\n",
       "<polygon fill=\"black\" stroke=\"black\" points=\"562.42,-164.53 552.04,-166.65 561.48,-171.46 562.42,-164.53\"/>\n",
       "</g>\n",
       "<!-- 22 -->\n",
       "<g id=\"node23\" class=\"node\">\n",
       "<title>22</title>\n",
       "<text text-anchor=\"middle\" x=\"629.5\" y=\"-156.8\" font-family=\"Times,serif\" font-size=\"14.00\">22:__ctype_b_loc</text>\n",
       "</g>\n",
       "<!-- 3&#45;&gt;22 -->\n",
       "<g id=\"edge22\" class=\"edge\">\n",
       "<title>3&#45;&gt;22</title>\n",
       "<path fill=\"none\" stroke=\"black\" d=\"M875.79,-203.99C824.65,-195.17 733.3,-179.41 677.38,-169.76\"/>\n",
       "<polygon fill=\"black\" stroke=\"black\" points=\"677.82,-166.29 667.37,-168.03 676.63,-173.18 677.82,-166.29\"/>\n",
       "</g>\n",
       "<!-- 23 -->\n",
       "<g id=\"node24\" class=\"node\">\n",
       "<title>23</title>\n",
       "<text text-anchor=\"middle\" x=\"739.5\" y=\"-156.8\" font-family=\"Times,serif\" font-size=\"14.00\">23:strlen</text>\n",
       "</g>\n",
       "<!-- 3&#45;&gt;23 -->\n",
       "<g id=\"edge23\" class=\"edge\">\n",
       "<title>3&#45;&gt;23</title>\n",
       "<path fill=\"none\" stroke=\"black\" d=\"M890.39,-203.99C860.23,-195.5 807.24,-180.58 772.76,-170.87\"/>\n",
       "<polygon fill=\"black\" stroke=\"black\" points=\"773.28,-167.38 762.7,-168.03 771.38,-174.11 773.28,-167.38\"/>\n",
       "</g>\n",
       "<!-- 24 -->\n",
       "<g id=\"node25\" class=\"node\">\n",
       "<title>24</title>\n",
       "<text text-anchor=\"middle\" x=\"849.5\" y=\"-156.8\" font-family=\"Times,serif\" font-size=\"14.00\">24:__ctype_b_loc</text>\n",
       "</g>\n",
       "<!-- 3&#45;&gt;24 -->\n",
       "<g id=\"edge24\" class=\"edge\">\n",
       "<title>3&#45;&gt;24</title>\n",
       "<path fill=\"none\" stroke=\"black\" d=\"M904.87,-203.89C894.98,-196.32 878.56,-183.75 866.16,-174.26\"/>\n",
       "<polygon fill=\"black\" stroke=\"black\" points=\"868.06,-171.3 857.99,-168 863.81,-176.86 868.06,-171.3\"/>\n",
       "</g>\n",
       "<!-- 25 -->\n",
       "<g id=\"node26\" class=\"node\">\n",
       "<title>25</title>\n",
       "<text text-anchor=\"middle\" x=\"977.5\" y=\"-156.8\" font-family=\"Times,serif\" font-size=\"14.00\">25:parse_num</text>\n",
       "</g>\n",
       "<!-- 3&#45;&gt;25 -->\n",
       "<g id=\"edge25\" class=\"edge\">\n",
       "<title>3&#45;&gt;25</title>\n",
       "<path fill=\"none\" stroke=\"black\" d=\"M922.13,-203.89C932.02,-196.32 948.44,-183.75 960.84,-174.26\"/>\n",
       "<polygon fill=\"black\" stroke=\"black\" points=\"963.19,-176.86 969.01,-168 958.94,-171.3 963.19,-176.86\"/>\n",
       "</g>\n",
       "<!-- 34 -->\n",
       "<g id=\"node35\" class=\"node\">\n",
       "<title>34</title>\n",
       "<text text-anchor=\"middle\" x=\"1078.5\" y=\"-156.8\" font-family=\"Times,serif\" font-size=\"14.00\">34:strlen</text>\n",
       "</g>\n",
       "<!-- 3&#45;&gt;34 -->\n",
       "<g id=\"edge34\" class=\"edge\">\n",
       "<title>3&#45;&gt;34</title>\n",
       "<path fill=\"none\" stroke=\"black\" d=\"M935.41,-203.99C963.89,-195.54 1013.83,-180.71 1046.53,-170.99\"/>\n",
       "<polygon fill=\"black\" stroke=\"black\" points=\"1047.91,-174.24 1056.5,-168.03 1045.92,-167.53 1047.91,-174.24\"/>\n",
       "</g>\n",
       "<!-- 35 -->\n",
       "<g id=\"node36\" class=\"node\">\n",
       "<title>35</title>\n",
       "<text text-anchor=\"middle\" x=\"1188.5\" y=\"-156.8\" font-family=\"Times,serif\" font-size=\"14.00\">35:__ctype_b_loc</text>\n",
       "</g>\n",
       "<!-- 3&#45;&gt;35 -->\n",
       "<g id=\"edge35\" class=\"edge\">\n",
       "<title>3&#45;&gt;35</title>\n",
       "<path fill=\"none\" stroke=\"black\" d=\"M950.02,-203.99C999.43,-195.19 1087.62,-179.47 1141.8,-169.82\"/>\n",
       "<polygon fill=\"black\" stroke=\"black\" points=\"1142.6,-173.23 1151.83,-168.03 1141.37,-166.34 1142.6,-173.23\"/>\n",
       "</g>\n",
       "<!-- 36 -->\n",
       "<g id=\"node37\" class=\"node\">\n",
       "<title>36</title>\n",
       "<text text-anchor=\"middle\" x=\"1298.5\" y=\"-156.8\" font-family=\"Times,serif\" font-size=\"14.00\">36:strlen</text>\n",
       "</g>\n",
       "<!-- 3&#45;&gt;36 -->\n",
       "<g id=\"edge36\" class=\"edge\">\n",
       "<title>3&#45;&gt;36</title>\n",
       "<path fill=\"none\" stroke=\"black\" d=\"M960.16,-205.17C1024.28,-197.75 1143.47,-183.6 1255.8,-168.05\"/>\n",
       "<polygon fill=\"black\" stroke=\"black\" points=\"1256.53,-171.48 1265.95,-166.64 1255.57,-164.55 1256.53,-171.48\"/>\n",
       "</g>\n",
       "<!-- 37 -->\n",
       "<g id=\"node38\" class=\"node\">\n",
       "<title>37</title>\n",
       "<text text-anchor=\"middle\" x=\"1408.5\" y=\"-156.8\" font-family=\"Times,serif\" font-size=\"14.00\">37:__ctype_b_loc</text>\n",
       "</g>\n",
       "<!-- 3&#45;&gt;37 -->\n",
       "<g id=\"edge37\" class=\"edge\">\n",
       "<title>3&#45;&gt;37</title>\n",
       "<path fill=\"none\" stroke=\"black\" d=\"M960.07,-205.89C1047.44,-197.24 1236.36,-178.54 1338.89,-168.39\"/>\n",
       "<polygon fill=\"black\" stroke=\"black\" points=\"1339.54,-171.84 1349.15,-167.38 1338.85,-164.88 1339.54,-171.84\"/>\n",
       "</g>\n",
       "<!-- 38 -->\n",
       "<g id=\"node39\" class=\"node\">\n",
       "<title>38</title>\n",
       "<text text-anchor=\"middle\" x=\"1625.5\" y=\"-156.8\" font-family=\"Times,serif\" font-size=\"14.00\">38:parse_num</text>\n",
       "</g>\n",
       "<!-- 3&#45;&gt;38 -->\n",
       "<g id=\"edge38\" class=\"edge\">\n",
       "<title>3&#45;&gt;38</title>\n",
       "<path fill=\"none\" stroke=\"black\" d=\"M960.22,-207.28C1084.87,-198.71 1425.33,-175.28 1564.75,-165.68\"/>\n",
       "<polygon fill=\"black\" stroke=\"black\" points=\"1565.09,-169.17 1574.83,-164.99 1564.61,-162.18 1565.09,-169.17\"/>\n",
       "</g>\n",
       "<!-- 46 -->\n",
       "<g id=\"node47\" class=\"node\">\n",
       "<title>46</title>\n",
       "<text text-anchor=\"middle\" x=\"1726.5\" y=\"-156.8\" font-family=\"Times,serif\" font-size=\"14.00\">46:strlen</text>\n",
       "</g>\n",
       "<!-- 3&#45;&gt;46 -->\n",
       "<g id=\"edge46\" class=\"edge\">\n",
       "<title>3&#45;&gt;46</title>\n",
       "<path fill=\"none\" stroke=\"black\" d=\"M960.19,-209.59C1079.21,-206.92 1403.81,-197.41 1683.92,-168.04\"/>\n",
       "<polygon fill=\"black\" stroke=\"black\" points=\"1684.29,-171.52 1693.87,-166.98 1683.55,-164.55 1684.29,-171.52\"/>\n",
       "</g>\n",
       "<!-- 7 -->\n",
       "<g id=\"node8\" class=\"node\">\n",
       "<title>7</title>\n",
       "<text text-anchor=\"middle\" x=\"417.5\" y=\"-105.8\" font-family=\"Times,serif\" font-size=\"14.00\">7:parse_expr</text>\n",
       "</g>\n",
       "<!-- 6&#45;&gt;7 -->\n",
       "<g id=\"edge7\" class=\"edge\">\n",
       "<title>6&#45;&gt;7</title>\n",
       "<path fill=\"none\" stroke=\"black\" d=\"M417.5,-152.69C417.5,-146.18 417.5,-136.1 417.5,-127.43\"/>\n",
       "<polygon fill=\"black\" stroke=\"black\" points=\"421,-127.26 417.5,-117.26 414,-127.26 421,-127.26\"/>\n",
       "</g>\n",
       "<!-- 8 -->\n",
       "<g id=\"node9\" class=\"node\">\n",
       "<title>8</title>\n",
       "<text text-anchor=\"middle\" x=\"193.5\" y=\"-54.8\" font-family=\"Times,serif\" font-size=\"14.00\">8:strlen</text>\n",
       "</g>\n",
       "<!-- 7&#45;&gt;8 -->\n",
       "<g id=\"edge8\" class=\"edge\">\n",
       "<title>7&#45;&gt;8</title>\n",
       "<path fill=\"none\" stroke=\"black\" d=\"M387.75,-101.99C347.46,-93.18 275.49,-77.44 231.38,-67.79\"/>\n",
       "<polygon fill=\"black\" stroke=\"black\" points=\"232.12,-64.37 221.6,-65.65 230.62,-71.2 232.12,-64.37\"/>\n",
       "</g>\n",
       "<!-- 9 -->\n",
       "<g id=\"node10\" class=\"node\">\n",
       "<title>9</title>\n",
       "<text text-anchor=\"middle\" x=\"294.5\" y=\"-54.8\" font-family=\"Times,serif\" font-size=\"14.00\">9:__ctype_b_loc</text>\n",
       "</g>\n",
       "<!-- 7&#45;&gt;9 -->\n",
       "<g id=\"edge9\" class=\"edge\">\n",
       "<title>7&#45;&gt;9</title>\n",
       "<path fill=\"none\" stroke=\"black\" d=\"M401.17,-101.99C380.49,-93.76 344.63,-79.47 320.25,-69.76\"/>\n",
       "<polygon fill=\"black\" stroke=\"black\" points=\"321.49,-66.48 310.9,-66.03 318.9,-72.99 321.49,-66.48\"/>\n",
       "</g>\n",
       "<!-- 10 -->\n",
       "<g id=\"node11\" class=\"node\">\n",
       "<title>10</title>\n",
       "<text text-anchor=\"middle\" x=\"417.5\" y=\"-54.8\" font-family=\"Times,serif\" font-size=\"14.00\">10:parse_num</text>\n",
       "</g>\n",
       "<!-- 7&#45;&gt;10 -->\n",
       "<g id=\"edge10\" class=\"edge\">\n",
       "<title>7&#45;&gt;10</title>\n",
       "<path fill=\"none\" stroke=\"black\" d=\"M417.5,-101.69C417.5,-95.18 417.5,-85.1 417.5,-76.43\"/>\n",
       "<polygon fill=\"black\" stroke=\"black\" points=\"421,-76.26 417.5,-66.26 414,-76.26 421,-76.26\"/>\n",
       "</g>\n",
       "<!-- 19 -->\n",
       "<g id=\"node20\" class=\"node\">\n",
       "<title>19</title>\n",
       "<text text-anchor=\"middle\" x=\"518.5\" y=\"-54.8\" font-family=\"Times,serif\" font-size=\"14.00\">19:strlen</text>\n",
       "</g>\n",
       "<!-- 7&#45;&gt;19 -->\n",
       "<g id=\"edge19\" class=\"edge\">\n",
       "<title>7&#45;&gt;19</title>\n",
       "<path fill=\"none\" stroke=\"black\" d=\"M431.12,-101.89C447.7,-93.85 475.95,-80.14 495.83,-70.5\"/>\n",
       "<polygon fill=\"black\" stroke=\"black\" points=\"497.63,-73.52 505.09,-66 494.57,-67.22 497.63,-73.52\"/>\n",
       "</g>\n",
       "<!-- 20 -->\n",
       "<g id=\"node21\" class=\"node\">\n",
       "<title>20</title>\n",
       "<text text-anchor=\"middle\" x=\"628.5\" y=\"-54.8\" font-family=\"Times,serif\" font-size=\"14.00\">20:__ctype_b_loc</text>\n",
       "</g>\n",
       "<!-- 7&#45;&gt;20 -->\n",
       "<g id=\"edge20\" class=\"edge\">\n",
       "<title>7&#45;&gt;20</title>\n",
       "<path fill=\"none\" stroke=\"black\" d=\"M445.52,-101.99C482.8,-93.34 548.86,-78 590.57,-68.31\"/>\n",
       "<polygon fill=\"black\" stroke=\"black\" points=\"591.42,-71.71 600.36,-66.03 589.83,-64.89 591.42,-71.71\"/>\n",
       "</g>\n",
       "<!-- 11 -->\n",
       "<g id=\"node12\" class=\"node\">\n",
       "<title>11</title>\n",
       "<text text-anchor=\"middle\" x=\"32.5\" y=\"-3.8\" font-family=\"Times,serif\" font-size=\"14.00\">11:strlen</text>\n",
       "</g>\n",
       "<!-- 10&#45;&gt;11 -->\n",
       "<g id=\"edge11\" class=\"edge\">\n",
       "<title>10&#45;&gt;11</title>\n",
       "<path fill=\"none\" stroke=\"black\" d=\"M366.88,-51.71C301.86,-44.17 185.29,-30.29 75.01,-15.02\"/>\n",
       "<polygon fill=\"black\" stroke=\"black\" points=\"75.43,-11.55 65.05,-13.64 74.47,-18.48 75.43,-11.55\"/>\n",
       "</g>\n",
       "<!-- 12 -->\n",
       "<g id=\"node13\" class=\"node\">\n",
       "<title>12</title>\n",
       "<text text-anchor=\"middle\" x=\"142.5\" y=\"-3.8\" font-family=\"Times,serif\" font-size=\"14.00\">12:__ctype_b_loc</text>\n",
       "</g>\n",
       "<!-- 10&#45;&gt;12 -->\n",
       "<g id=\"edge12\" class=\"edge\">\n",
       "<title>10&#45;&gt;12</title>\n",
       "<path fill=\"none\" stroke=\"black\" d=\"M380.98,-50.99C331.57,-42.19 243.38,-26.47 189.2,-16.82\"/>\n",
       "<polygon fill=\"black\" stroke=\"black\" points=\"189.63,-13.34 179.17,-15.03 188.4,-20.23 189.63,-13.34\"/>\n",
       "</g>\n",
       "<!-- 13 -->\n",
       "<g id=\"node14\" class=\"node\">\n",
       "<title>13</title>\n",
       "<text text-anchor=\"middle\" x=\"252.5\" y=\"-3.8\" font-family=\"Times,serif\" font-size=\"14.00\">13:strlen</text>\n",
       "</g>\n",
       "<!-- 10&#45;&gt;13 -->\n",
       "<g id=\"edge13\" class=\"edge\">\n",
       "<title>10&#45;&gt;13</title>\n",
       "<path fill=\"none\" stroke=\"black\" d=\"M395.59,-50.99C367.11,-42.54 317.17,-27.71 284.47,-17.99\"/>\n",
       "<polygon fill=\"black\" stroke=\"black\" points=\"285.08,-14.53 274.5,-15.03 283.09,-21.24 285.08,-14.53\"/>\n",
       "</g>\n",
       "<!-- 14 -->\n",
       "<g id=\"node15\" class=\"node\">\n",
       "<title>14</title>\n",
       "<text text-anchor=\"middle\" x=\"362.5\" y=\"-3.8\" font-family=\"Times,serif\" font-size=\"14.00\">14:__ctype_b_loc</text>\n",
       "</g>\n",
       "<!-- 10&#45;&gt;14 -->\n",
       "<g id=\"edge14\" class=\"edge\">\n",
       "<title>10&#45;&gt;14</title>\n",
       "<path fill=\"none\" stroke=\"black\" d=\"M409.85,-50.69C401.56,-43.3 388.11,-31.32 377.66,-22.01\"/>\n",
       "<polygon fill=\"black\" stroke=\"black\" points=\"379.88,-19.29 370.08,-15.26 375.22,-24.52 379.88,-19.29\"/>\n",
       "</g>\n",
       "<!-- 15 -->\n",
       "<g id=\"node16\" class=\"node\">\n",
       "<title>15</title>\n",
       "<text text-anchor=\"middle\" x=\"472.5\" y=\"-3.8\" font-family=\"Times,serif\" font-size=\"14.00\">15:strlen</text>\n",
       "</g>\n",
       "<!-- 10&#45;&gt;15 -->\n",
       "<g id=\"edge15\" class=\"edge\">\n",
       "<title>10&#45;&gt;15</title>\n",
       "<path fill=\"none\" stroke=\"black\" d=\"M425.15,-50.69C433.44,-43.3 446.89,-31.32 457.34,-22.01\"/>\n",
       "<polygon fill=\"black\" stroke=\"black\" points=\"459.78,-24.52 464.92,-15.26 455.12,-19.29 459.78,-24.52\"/>\n",
       "</g>\n",
       "<!-- 16 -->\n",
       "<g id=\"node17\" class=\"node\">\n",
       "<title>16</title>\n",
       "<text text-anchor=\"middle\" x=\"582.5\" y=\"-3.8\" font-family=\"Times,serif\" font-size=\"14.00\">16:__ctype_b_loc</text>\n",
       "</g>\n",
       "<!-- 10&#45;&gt;16 -->\n",
       "<g id=\"edge16\" class=\"edge\">\n",
       "<title>10&#45;&gt;16</title>\n",
       "<path fill=\"none\" stroke=\"black\" d=\"M439.41,-50.99C467.89,-42.54 517.83,-27.71 550.53,-17.99\"/>\n",
       "<polygon fill=\"black\" stroke=\"black\" points=\"551.91,-21.24 560.5,-15.03 549.92,-14.53 551.91,-21.24\"/>\n",
       "</g>\n",
       "<!-- 17 -->\n",
       "<g id=\"node18\" class=\"node\">\n",
       "<title>17</title>\n",
       "<text text-anchor=\"middle\" x=\"692.5\" y=\"-3.8\" font-family=\"Times,serif\" font-size=\"14.00\">17:strlen</text>\n",
       "</g>\n",
       "<!-- 10&#45;&gt;17 -->\n",
       "<g id=\"edge17\" class=\"edge\">\n",
       "<title>10&#45;&gt;17</title>\n",
       "<path fill=\"none\" stroke=\"black\" d=\"M454.02,-50.99C504.67,-41.97 596.05,-25.68 649.8,-16.11\"/>\n",
       "<polygon fill=\"black\" stroke=\"black\" points=\"650.47,-19.54 659.7,-14.34 649.24,-12.65 650.47,-19.54\"/>\n",
       "</g>\n",
       "<!-- 18 -->\n",
       "<g id=\"node19\" class=\"node\">\n",
       "<title>18</title>\n",
       "<text text-anchor=\"middle\" x=\"802.5\" y=\"-3.8\" font-family=\"Times,serif\" font-size=\"14.00\">18:__ctype_b_loc</text>\n",
       "</g>\n",
       "<!-- 10&#45;&gt;18 -->\n",
       "<g id=\"edge18\" class=\"edge\">\n",
       "<title>10&#45;&gt;18</title>\n",
       "<path fill=\"none\" stroke=\"black\" d=\"M468.23,-51.04C538.53,-42.1 665.44,-25.94 741.04,-16.32\"/>\n",
       "<polygon fill=\"black\" stroke=\"black\" points=\"741.87,-19.74 751.35,-15.01 740.99,-12.8 741.87,-19.74\"/>\n",
       "</g>\n",
       "<!-- 26 -->\n",
       "<g id=\"node27\" class=\"node\">\n",
       "<title>26</title>\n",
       "<text text-anchor=\"middle\" x=\"525.5\" y=\"-105.8\" font-family=\"Times,serif\" font-size=\"14.00\">26:strlen</text>\n",
       "</g>\n",
       "<!-- 25&#45;&gt;26 -->\n",
       "<g id=\"edge26\" class=\"edge\">\n",
       "<title>25&#45;&gt;26</title>\n",
       "<path fill=\"none\" stroke=\"black\" d=\"M926.76,-153.98C923.63,-153.65 920.52,-153.32 917.5,-153 765.18,-136.92 724.26,-136.96 568,-116.98\"/>\n",
       "<polygon fill=\"black\" stroke=\"black\" points=\"568.4,-113.51 558.04,-115.7 567.51,-120.45 568.4,-113.51\"/>\n",
       "</g>\n",
       "<!-- 27 -->\n",
       "<g id=\"node28\" class=\"node\">\n",
       "<title>27</title>\n",
       "<text text-anchor=\"middle\" x=\"635.5\" y=\"-105.8\" font-family=\"Times,serif\" font-size=\"14.00\">27:__ctype_b_loc</text>\n",
       "</g>\n",
       "<!-- 25&#45;&gt;27 -->\n",
       "<g id=\"edge27\" class=\"edge\">\n",
       "<title>25&#45;&gt;27</title>\n",
       "<path fill=\"none\" stroke=\"black\" d=\"M932.09,-152.99C869.87,-144.08 758.21,-128.08 691.08,-118.46\"/>\n",
       "<polygon fill=\"black\" stroke=\"black\" points=\"691.5,-114.99 681.1,-117.03 690.51,-121.92 691.5,-114.99\"/>\n",
       "</g>\n",
       "<!-- 28 -->\n",
       "<g id=\"node29\" class=\"node\">\n",
       "<title>28</title>\n",
       "<text text-anchor=\"middle\" x=\"745.5\" y=\"-105.8\" font-family=\"Times,serif\" font-size=\"14.00\">28:strlen</text>\n",
       "</g>\n",
       "<!-- 25&#45;&gt;28 -->\n",
       "<g id=\"edge28\" class=\"edge\">\n",
       "<title>25&#45;&gt;28</title>\n",
       "<path fill=\"none\" stroke=\"black\" d=\"M946.69,-152.99C905.44,-144.28 832.15,-128.8 786.33,-119.12\"/>\n",
       "<polygon fill=\"black\" stroke=\"black\" points=\"786.94,-115.68 776.44,-117.03 785.5,-122.52 786.94,-115.68\"/>\n",
       "</g>\n",
       "<!-- 29 -->\n",
       "<g id=\"node30\" class=\"node\">\n",
       "<title>29</title>\n",
       "<text text-anchor=\"middle\" x=\"855.5\" y=\"-105.8\" font-family=\"Times,serif\" font-size=\"14.00\">29:__ctype_b_loc</text>\n",
       "</g>\n",
       "<!-- 25&#45;&gt;29 -->\n",
       "<g id=\"edge29\" class=\"edge\">\n",
       "<title>25&#45;&gt;29</title>\n",
       "<path fill=\"none\" stroke=\"black\" d=\"M961.3,-152.99C940.88,-144.79 905.54,-130.6 881.37,-120.89\"/>\n",
       "<polygon fill=\"black\" stroke=\"black\" points=\"882.35,-117.51 871.77,-117.03 879.74,-124.01 882.35,-117.51\"/>\n",
       "</g>\n",
       "<!-- 30 -->\n",
       "<g id=\"node31\" class=\"node\">\n",
       "<title>30</title>\n",
       "<text text-anchor=\"middle\" x=\"965.5\" y=\"-105.8\" font-family=\"Times,serif\" font-size=\"14.00\">30:strlen</text>\n",
       "</g>\n",
       "<!-- 25&#45;&gt;30 -->\n",
       "<g id=\"edge30\" class=\"edge\">\n",
       "<title>25&#45;&gt;30</title>\n",
       "<path fill=\"none\" stroke=\"black\" d=\"M975.83,-152.69C974.22,-146.1 971.71,-135.87 969.57,-127.14\"/>\n",
       "<polygon fill=\"black\" stroke=\"black\" points=\"972.93,-126.14 967.15,-117.26 966.13,-127.8 972.93,-126.14\"/>\n",
       "</g>\n",
       "<!-- 31 -->\n",
       "<g id=\"node32\" class=\"node\">\n",
       "<title>31</title>\n",
       "<text text-anchor=\"middle\" x=\"1075.5\" y=\"-105.8\" font-family=\"Times,serif\" font-size=\"14.00\">31:__ctype_b_loc</text>\n",
       "</g>\n",
       "<!-- 25&#45;&gt;31 -->\n",
       "<g id=\"edge31\" class=\"edge\">\n",
       "<title>25&#45;&gt;31</title>\n",
       "<path fill=\"none\" stroke=\"black\" d=\"M990.72,-152.89C1006.81,-144.85 1034.22,-131.14 1053.5,-121.5\"/>\n",
       "<polygon fill=\"black\" stroke=\"black\" points=\"1055.11,-124.61 1062.49,-117 1051.98,-118.35 1055.11,-124.61\"/>\n",
       "</g>\n",
       "<!-- 32 -->\n",
       "<g id=\"node33\" class=\"node\">\n",
       "<title>32</title>\n",
       "<text text-anchor=\"middle\" x=\"1185.5\" y=\"-105.8\" font-family=\"Times,serif\" font-size=\"14.00\">32:strlen</text>\n",
       "</g>\n",
       "<!-- 25&#45;&gt;32 -->\n",
       "<g id=\"edge32\" class=\"edge\">\n",
       "<title>25&#45;&gt;32</title>\n",
       "<path fill=\"none\" stroke=\"black\" d=\"M1005.12,-152.99C1041.8,-144.35 1106.71,-129.06 1147.85,-119.37\"/>\n",
       "<polygon fill=\"black\" stroke=\"black\" points=\"1148.83,-122.73 1157.76,-117.03 1147.23,-115.92 1148.83,-122.73\"/>\n",
       "</g>\n",
       "<!-- 33 -->\n",
       "<g id=\"node34\" class=\"node\">\n",
       "<title>33</title>\n",
       "<text text-anchor=\"middle\" x=\"1295.5\" y=\"-105.8\" font-family=\"Times,serif\" font-size=\"14.00\">33:__ctype_b_loc</text>\n",
       "</g>\n",
       "<!-- 25&#45;&gt;33 -->\n",
       "<g id=\"edge33\" class=\"edge\">\n",
       "<title>25&#45;&gt;33</title>\n",
       "<path fill=\"none\" stroke=\"black\" d=\"M1019.73,-152.99C1077.34,-144.12 1180.55,-128.21 1243.05,-118.58\"/>\n",
       "<polygon fill=\"black\" stroke=\"black\" points=\"1243.75,-122.02 1253.1,-117.03 1242.68,-115.1 1243.75,-122.02\"/>\n",
       "</g>\n",
       "<!-- 39 -->\n",
       "<g id=\"node40\" class=\"node\">\n",
       "<title>39</title>\n",
       "<text text-anchor=\"middle\" x=\"1405.5\" y=\"-105.8\" font-family=\"Times,serif\" font-size=\"14.00\">39:strlen</text>\n",
       "</g>\n",
       "<!-- 38&#45;&gt;39 -->\n",
       "<g id=\"edge39\" class=\"edge\">\n",
       "<title>38&#45;&gt;39</title>\n",
       "<path fill=\"none\" stroke=\"black\" d=\"M1596.29,-152.99C1557.33,-144.32 1488.25,-128.93 1444.77,-119.25\"/>\n",
       "<polygon fill=\"black\" stroke=\"black\" points=\"1445.36,-115.79 1434.84,-117.03 1443.84,-122.62 1445.36,-115.79\"/>\n",
       "</g>\n",
       "<!-- 40 -->\n",
       "<g id=\"node41\" class=\"node\">\n",
       "<title>40</title>\n",
       "<text text-anchor=\"middle\" x=\"1515.5\" y=\"-105.8\" font-family=\"Times,serif\" font-size=\"14.00\">40:__ctype_b_loc</text>\n",
       "</g>\n",
       "<!-- 38&#45;&gt;40 -->\n",
       "<g id=\"edge40\" class=\"edge\">\n",
       "<title>38&#45;&gt;40</title>\n",
       "<path fill=\"none\" stroke=\"black\" d=\"M1610.66,-152.89C1592.36,-144.74 1560.99,-130.77 1539.3,-121.1\"/>\n",
       "<polygon fill=\"black\" stroke=\"black\" points=\"1540.66,-117.88 1530.1,-117 1537.81,-124.27 1540.66,-117.88\"/>\n",
       "</g>\n",
       "<!-- 41 -->\n",
       "<g id=\"node42\" class=\"node\">\n",
       "<title>41</title>\n",
       "<text text-anchor=\"middle\" x=\"1625.5\" y=\"-105.8\" font-family=\"Times,serif\" font-size=\"14.00\">41:strlen</text>\n",
       "</g>\n",
       "<!-- 38&#45;&gt;41 -->\n",
       "<g id=\"edge41\" class=\"edge\">\n",
       "<title>38&#45;&gt;41</title>\n",
       "<path fill=\"none\" stroke=\"black\" d=\"M1625.5,-152.69C1625.5,-146.18 1625.5,-136.1 1625.5,-127.43\"/>\n",
       "<polygon fill=\"black\" stroke=\"black\" points=\"1629,-127.26 1625.5,-117.26 1622,-127.26 1629,-127.26\"/>\n",
       "</g>\n",
       "<!-- 42 -->\n",
       "<g id=\"node43\" class=\"node\">\n",
       "<title>42</title>\n",
       "<text text-anchor=\"middle\" x=\"1735.5\" y=\"-105.8\" font-family=\"Times,serif\" font-size=\"14.00\">42:__ctype_b_loc</text>\n",
       "</g>\n",
       "<!-- 38&#45;&gt;42 -->\n",
       "<g id=\"edge42\" class=\"edge\">\n",
       "<title>38&#45;&gt;42</title>\n",
       "<path fill=\"none\" stroke=\"black\" d=\"M1640.34,-152.89C1658.64,-144.74 1690.01,-130.77 1711.7,-121.1\"/>\n",
       "<polygon fill=\"black\" stroke=\"black\" points=\"1713.19,-124.27 1720.9,-117 1710.34,-117.88 1713.19,-124.27\"/>\n",
       "</g>\n",
       "<!-- 43 -->\n",
       "<g id=\"node44\" class=\"node\">\n",
       "<title>43</title>\n",
       "<text text-anchor=\"middle\" x=\"1845.5\" y=\"-105.8\" font-family=\"Times,serif\" font-size=\"14.00\">43:strlen</text>\n",
       "</g>\n",
       "<!-- 38&#45;&gt;43 -->\n",
       "<g id=\"edge43\" class=\"edge\">\n",
       "<title>38&#45;&gt;43</title>\n",
       "<path fill=\"none\" stroke=\"black\" d=\"M1654.71,-152.99C1693.67,-144.32 1762.75,-128.93 1806.23,-119.25\"/>\n",
       "<polygon fill=\"black\" stroke=\"black\" points=\"1807.16,-122.62 1816.16,-117.03 1805.64,-115.79 1807.16,-122.62\"/>\n",
       "</g>\n",
       "<!-- 44 -->\n",
       "<g id=\"node45\" class=\"node\">\n",
       "<title>44</title>\n",
       "<text text-anchor=\"middle\" x=\"1955.5\" y=\"-105.8\" font-family=\"Times,serif\" font-size=\"14.00\">44:__ctype_b_loc</text>\n",
       "</g>\n",
       "<!-- 38&#45;&gt;44 -->\n",
       "<g id=\"edge44\" class=\"edge\">\n",
       "<title>38&#45;&gt;44</title>\n",
       "<path fill=\"none\" stroke=\"black\" d=\"M1669.32,-152.99C1729.23,-144.1 1836.65,-128.15 1901.47,-118.52\"/>\n",
       "<polygon fill=\"black\" stroke=\"black\" points=\"1902.12,-121.96 1911.5,-117.03 1901.09,-115.04 1902.12,-121.96\"/>\n",
       "</g>\n",
       "<!-- 45 -->\n",
       "<g id=\"node46\" class=\"node\">\n",
       "<title>45</title>\n",
       "<text text-anchor=\"middle\" x=\"2065.5\" y=\"-105.8\" font-family=\"Times,serif\" font-size=\"14.00\">45:strlen</text>\n",
       "</g>\n",
       "<!-- 38&#45;&gt;45 -->\n",
       "<g id=\"edge45\" class=\"edge\">\n",
       "<title>38&#45;&gt;45</title>\n",
       "<path fill=\"none\" stroke=\"black\" d=\"M1676.24,-154C1679.37,-153.66 1682.48,-153.32 1685.5,-153 1832.48,-137.21 1872.02,-136.58 2022.86,-117.01\"/>\n",
       "<polygon fill=\"black\" stroke=\"black\" points=\"2023.5,-120.46 2032.96,-115.69 2022.59,-113.51 2023.5,-120.46\"/>\n",
       "</g>\n",
       "</g>\n",
       "</svg>\n"
      ],
      "text/plain": [
       "<graphviz.dot.Digraph at 0x7f68a74a5a10>"
      ]
     },
     "execution_count": 1532,
     "metadata": {},
     "output_type": "execute_result"
    }
   ],
   "source": [
    "display_tree(calc_method_tree[0], extract_node=extract_node)"
   ]
  },
  {
   "cell_type": "markdown",
   "metadata": {},
   "source": [
    "#### Identifying last comparisons\n",
    "We need only the last comparisons made on any index. This means that we should care for only the last parse in an ambiguous parse. So, we assign the method that last touched an index to be its consumer.\n",
    "\n",
    "However, to make concessions for real world, we also check if we are overwriting a child (`HEURISTIC`). Essentially, if the heursitic is enabled, then if the current method id (`midP`) is smaller than the `midC` already stored in the last comparison map, then it means that `midP` is a parent that called `midC` previously, and now accessing an index that `midC` touched. This happens when the parent tries to find a substring like `#` in the entirety of the original string. (Note that we have seen this only in `URLParser`). (Note that this heuristic does not restrict reparsing by another function call -- in such a case, `midC` will not smaller than `midP`). So, perhaps, we should let the child keep the ownership. However, there is one more wrinkle. If the character being contested was the last index touched by our `mid`, then it is likely that it was simply a boundary check. In that case, we should let the parent own this character."
   ]
  },
  {
   "cell_type": "code",
   "execution_count": 1533,
   "metadata": {
    "ExecuteTime": {
     "end_time": "2021-01-24T22:40:02.696997Z",
     "start_time": "2021-01-24T22:40:02.691343Z"
    }
   },
   "outputs": [],
   "source": [
    "LAST_COMPARISON_HEURISTIC = False"
   ]
  },
  {
   "cell_type": "code",
   "execution_count": 1534,
   "metadata": {
    "ExecuteTime": {
     "end_time": "2021-01-24T22:40:02.710113Z",
     "start_time": "2021-01-24T22:40:02.704024Z"
    }
   },
   "outputs": [],
   "source": [
    "def last_comparisons(comparisons):\n",
    "    last_cmp_only = {}\n",
    "    last_idx = {}\n",
    "\n",
    "    # get the last indexes compared in methods.\n",
    "    for idx, char, mid in comparisons:\n",
    "        if mid in last_idx:\n",
    "            if idx > last_idx[mid]:\n",
    "                last_idx[mid] = idx\n",
    "        else:\n",
    "            last_idx[mid] = idx\n",
    "\n",
    "    for idx, char, mid in comparisons:\n",
    "        if LAST_COMPARISON_HEURISTIC:\n",
    "            if idx in last_cmp_only:\n",
    "                midC = last_cmp_only[idx]\n",
    "                if midC > mid:\n",
    "                    # midC is a child of mid.\n",
    "                    # do not clobber children unless it was the last character\n",
    "                    # for that child.\n",
    "                    if last_idx[mid] == idx:\n",
    "                        # if it was the last index, may be the child used it\n",
    "                        # as a boundary check.\n",
    "                        pass\n",
    "                    else:\n",
    "                        # do not overwrite the current value of `last_cmp_only[idx]`\n",
    "                        continue\n",
    "        last_cmp_only[idx] = mid\n",
    "    return last_cmp_only"
   ]
  },
  {
   "cell_type": "code",
   "execution_count": 1535,
   "metadata": {
    "ExecuteTime": {
     "end_time": "2021-01-24T22:40:02.717910Z",
     "start_time": "2021-01-24T22:40:02.714988Z"
    },
    "scrolled": true
   },
   "outputs": [],
   "source": [
    "calc_last_comparisons = last_comparisons(calc_trace[0]['comparisons'])"
   ]
  },
  {
   "cell_type": "code",
   "execution_count": 1536,
   "metadata": {
    "ExecuteTime": {
     "end_time": "2021-01-24T22:40:02.728641Z",
     "start_time": "2021-01-24T22:40:02.722765Z"
    }
   },
   "outputs": [
    {
     "data": {
      "text/plain": [
       "{6: 25,\n",
       " 7: 25,\n",
       " 8: 25,\n",
       " 9: 3,\n",
       " 10: 38,\n",
       " 11: 38,\n",
       " 12: 38,\n",
       " 0: 3,\n",
       " 1: 10,\n",
       " 2: 10,\n",
       " 3: 10,\n",
       " 4: 7,\n",
       " 5: 3}"
      ]
     },
     "execution_count": 1536,
     "metadata": {},
     "output_type": "execute_result"
    }
   ],
   "source": [
    "calc_last_comparisons"
   ]
  },
  {
   "cell_type": "markdown",
   "metadata": {},
   "source": [
    "#### Attaching characters to the tree\n",
    "Add the comparison indexes to the method tree that we constructed"
   ]
  },
  {
   "cell_type": "code",
   "execution_count": 1537,
   "metadata": {
    "ExecuteTime": {
     "end_time": "2021-01-24T22:40:15.906592Z",
     "start_time": "2021-01-24T22:40:15.897196Z"
    }
   },
   "outputs": [],
   "source": [
    "def attach_comparisons(method_tree, comparisons):\n",
    "    for idx in comparisons:\n",
    "        mid = comparisons[idx]\n",
    "        method_tree[mid]['indexes'].append(idx)"
   ]
  },
  {
   "cell_type": "code",
   "execution_count": 1538,
   "metadata": {
    "ExecuteTime": {
     "end_time": "2021-01-24T22:40:15.918381Z",
     "start_time": "2021-01-24T22:40:15.915346Z"
    }
   },
   "outputs": [],
   "source": [
    "attach_comparisons(calc_method_tree, calc_last_comparisons)"
   ]
  },
  {
   "cell_type": "code",
   "execution_count": 1539,
   "metadata": {
    "ExecuteTime": {
     "end_time": "2021-01-24T22:40:15.963862Z",
     "start_time": "2021-01-24T22:40:15.924021Z"
    },
    "scrolled": true
   },
   "outputs": [
    {
     "data": {
      "text/plain": [
       "{0: {'id': 0,\n",
       "  'name': None,\n",
       "  'children': [{'id': 1,\n",
       "    'name': 'main',\n",
       "    'indexes': [],\n",
       "    'children': [{'id': 2, 'name': 'strcpy', 'indexes': [], 'children': []},\n",
       "     {'id': 3,\n",
       "      'name': 'parse_expr',\n",
       "      'indexes': [9, 0, 5],\n",
       "      'children': [{'id': 4, 'name': 'strlen', 'indexes': [], 'children': []},\n",
       "       {'id': 5, 'name': '__ctype_b_loc', 'indexes': [], 'children': []},\n",
       "       {'id': 6,\n",
       "        'name': 'parse_paren',\n",
       "        'indexes': [],\n",
       "        'children': [{'id': 7,\n",
       "          'name': 'parse_expr',\n",
       "          'indexes': [4],\n",
       "          'children': [{'id': 8,\n",
       "            'name': 'strlen',\n",
       "            'indexes': [],\n",
       "            'children': []},\n",
       "           {'id': 9, 'name': '__ctype_b_loc', 'indexes': [], 'children': []},\n",
       "           {'id': 10,\n",
       "            'name': 'parse_num',\n",
       "            'indexes': [1, 2, 3],\n",
       "            'children': [{'id': 11,\n",
       "              'name': 'strlen',\n",
       "              'indexes': [],\n",
       "              'children': []},\n",
       "             {'id': 12,\n",
       "              'name': '__ctype_b_loc',\n",
       "              'indexes': [],\n",
       "              'children': []},\n",
       "             {'id': 13, 'name': 'strlen', 'indexes': [], 'children': []},\n",
       "             {'id': 14,\n",
       "              'name': '__ctype_b_loc',\n",
       "              'indexes': [],\n",
       "              'children': []},\n",
       "             {'id': 15, 'name': 'strlen', 'indexes': [], 'children': []},\n",
       "             {'id': 16,\n",
       "              'name': '__ctype_b_loc',\n",
       "              'indexes': [],\n",
       "              'children': []},\n",
       "             {'id': 17, 'name': 'strlen', 'indexes': [], 'children': []},\n",
       "             {'id': 18,\n",
       "              'name': '__ctype_b_loc',\n",
       "              'indexes': [],\n",
       "              'children': []}]},\n",
       "           {'id': 19, 'name': 'strlen', 'indexes': [], 'children': []},\n",
       "           {'id': 20,\n",
       "            'name': '__ctype_b_loc',\n",
       "            'indexes': [],\n",
       "            'children': []}]}]},\n",
       "       {'id': 21, 'name': 'strlen', 'indexes': [], 'children': []},\n",
       "       {'id': 22, 'name': '__ctype_b_loc', 'indexes': [], 'children': []},\n",
       "       {'id': 23, 'name': 'strlen', 'indexes': [], 'children': []},\n",
       "       {'id': 24, 'name': '__ctype_b_loc', 'indexes': [], 'children': []},\n",
       "       {'id': 25,\n",
       "        'name': 'parse_num',\n",
       "        'indexes': [6, 7, 8],\n",
       "        'children': [{'id': 26,\n",
       "          'name': 'strlen',\n",
       "          'indexes': [],\n",
       "          'children': []},\n",
       "         {'id': 27, 'name': '__ctype_b_loc', 'indexes': [], 'children': []},\n",
       "         {'id': 28, 'name': 'strlen', 'indexes': [], 'children': []},\n",
       "         {'id': 29, 'name': '__ctype_b_loc', 'indexes': [], 'children': []},\n",
       "         {'id': 30, 'name': 'strlen', 'indexes': [], 'children': []},\n",
       "         {'id': 31, 'name': '__ctype_b_loc', 'indexes': [], 'children': []},\n",
       "         {'id': 32, 'name': 'strlen', 'indexes': [], 'children': []},\n",
       "         {'id': 33, 'name': '__ctype_b_loc', 'indexes': [], 'children': []}]},\n",
       "       {'id': 34, 'name': 'strlen', 'indexes': [], 'children': []},\n",
       "       {'id': 35, 'name': '__ctype_b_loc', 'indexes': [], 'children': []},\n",
       "       {'id': 36, 'name': 'strlen', 'indexes': [], 'children': []},\n",
       "       {'id': 37, 'name': '__ctype_b_loc', 'indexes': [], 'children': []},\n",
       "       {'id': 38,\n",
       "        'name': 'parse_num',\n",
       "        'indexes': [10, 11, 12],\n",
       "        'children': [{'id': 39,\n",
       "          'name': 'strlen',\n",
       "          'indexes': [],\n",
       "          'children': []},\n",
       "         {'id': 40, 'name': '__ctype_b_loc', 'indexes': [], 'children': []},\n",
       "         {'id': 41, 'name': 'strlen', 'indexes': [], 'children': []},\n",
       "         {'id': 42, 'name': '__ctype_b_loc', 'indexes': [], 'children': []},\n",
       "         {'id': 43, 'name': 'strlen', 'indexes': [], 'children': []},\n",
       "         {'id': 44, 'name': '__ctype_b_loc', 'indexes': [], 'children': []},\n",
       "         {'id': 45, 'name': 'strlen', 'indexes': [], 'children': []}]},\n",
       "       {'id': 46, 'name': 'strlen', 'indexes': [], 'children': []}]}]}],\n",
       "  'indexes': []},\n",
       " 1: {'id': 1,\n",
       "  'name': 'main',\n",
       "  'indexes': [],\n",
       "  'children': [{'id': 2, 'name': 'strcpy', 'indexes': [], 'children': []},\n",
       "   {'id': 3,\n",
       "    'name': 'parse_expr',\n",
       "    'indexes': [9, 0, 5],\n",
       "    'children': [{'id': 4, 'name': 'strlen', 'indexes': [], 'children': []},\n",
       "     {'id': 5, 'name': '__ctype_b_loc', 'indexes': [], 'children': []},\n",
       "     {'id': 6,\n",
       "      'name': 'parse_paren',\n",
       "      'indexes': [],\n",
       "      'children': [{'id': 7,\n",
       "        'name': 'parse_expr',\n",
       "        'indexes': [4],\n",
       "        'children': [{'id': 8,\n",
       "          'name': 'strlen',\n",
       "          'indexes': [],\n",
       "          'children': []},\n",
       "         {'id': 9, 'name': '__ctype_b_loc', 'indexes': [], 'children': []},\n",
       "         {'id': 10,\n",
       "          'name': 'parse_num',\n",
       "          'indexes': [1, 2, 3],\n",
       "          'children': [{'id': 11,\n",
       "            'name': 'strlen',\n",
       "            'indexes': [],\n",
       "            'children': []},\n",
       "           {'id': 12, 'name': '__ctype_b_loc', 'indexes': [], 'children': []},\n",
       "           {'id': 13, 'name': 'strlen', 'indexes': [], 'children': []},\n",
       "           {'id': 14, 'name': '__ctype_b_loc', 'indexes': [], 'children': []},\n",
       "           {'id': 15, 'name': 'strlen', 'indexes': [], 'children': []},\n",
       "           {'id': 16, 'name': '__ctype_b_loc', 'indexes': [], 'children': []},\n",
       "           {'id': 17, 'name': 'strlen', 'indexes': [], 'children': []},\n",
       "           {'id': 18,\n",
       "            'name': '__ctype_b_loc',\n",
       "            'indexes': [],\n",
       "            'children': []}]},\n",
       "         {'id': 19, 'name': 'strlen', 'indexes': [], 'children': []},\n",
       "         {'id': 20,\n",
       "          'name': '__ctype_b_loc',\n",
       "          'indexes': [],\n",
       "          'children': []}]}]},\n",
       "     {'id': 21, 'name': 'strlen', 'indexes': [], 'children': []},\n",
       "     {'id': 22, 'name': '__ctype_b_loc', 'indexes': [], 'children': []},\n",
       "     {'id': 23, 'name': 'strlen', 'indexes': [], 'children': []},\n",
       "     {'id': 24, 'name': '__ctype_b_loc', 'indexes': [], 'children': []},\n",
       "     {'id': 25,\n",
       "      'name': 'parse_num',\n",
       "      'indexes': [6, 7, 8],\n",
       "      'children': [{'id': 26, 'name': 'strlen', 'indexes': [], 'children': []},\n",
       "       {'id': 27, 'name': '__ctype_b_loc', 'indexes': [], 'children': []},\n",
       "       {'id': 28, 'name': 'strlen', 'indexes': [], 'children': []},\n",
       "       {'id': 29, 'name': '__ctype_b_loc', 'indexes': [], 'children': []},\n",
       "       {'id': 30, 'name': 'strlen', 'indexes': [], 'children': []},\n",
       "       {'id': 31, 'name': '__ctype_b_loc', 'indexes': [], 'children': []},\n",
       "       {'id': 32, 'name': 'strlen', 'indexes': [], 'children': []},\n",
       "       {'id': 33, 'name': '__ctype_b_loc', 'indexes': [], 'children': []}]},\n",
       "     {'id': 34, 'name': 'strlen', 'indexes': [], 'children': []},\n",
       "     {'id': 35, 'name': '__ctype_b_loc', 'indexes': [], 'children': []},\n",
       "     {'id': 36, 'name': 'strlen', 'indexes': [], 'children': []},\n",
       "     {'id': 37, 'name': '__ctype_b_loc', 'indexes': [], 'children': []},\n",
       "     {'id': 38,\n",
       "      'name': 'parse_num',\n",
       "      'indexes': [10, 11, 12],\n",
       "      'children': [{'id': 39, 'name': 'strlen', 'indexes': [], 'children': []},\n",
       "       {'id': 40, 'name': '__ctype_b_loc', 'indexes': [], 'children': []},\n",
       "       {'id': 41, 'name': 'strlen', 'indexes': [], 'children': []},\n",
       "       {'id': 42, 'name': '__ctype_b_loc', 'indexes': [], 'children': []},\n",
       "       {'id': 43, 'name': 'strlen', 'indexes': [], 'children': []},\n",
       "       {'id': 44, 'name': '__ctype_b_loc', 'indexes': [], 'children': []},\n",
       "       {'id': 45, 'name': 'strlen', 'indexes': [], 'children': []}]},\n",
       "     {'id': 46, 'name': 'strlen', 'indexes': [], 'children': []}]}]},\n",
       " 2: {'id': 2, 'name': 'strcpy', 'indexes': [], 'children': []},\n",
       " 3: {'id': 3,\n",
       "  'name': 'parse_expr',\n",
       "  'indexes': [9, 0, 5],\n",
       "  'children': [{'id': 4, 'name': 'strlen', 'indexes': [], 'children': []},\n",
       "   {'id': 5, 'name': '__ctype_b_loc', 'indexes': [], 'children': []},\n",
       "   {'id': 6,\n",
       "    'name': 'parse_paren',\n",
       "    'indexes': [],\n",
       "    'children': [{'id': 7,\n",
       "      'name': 'parse_expr',\n",
       "      'indexes': [4],\n",
       "      'children': [{'id': 8, 'name': 'strlen', 'indexes': [], 'children': []},\n",
       "       {'id': 9, 'name': '__ctype_b_loc', 'indexes': [], 'children': []},\n",
       "       {'id': 10,\n",
       "        'name': 'parse_num',\n",
       "        'indexes': [1, 2, 3],\n",
       "        'children': [{'id': 11,\n",
       "          'name': 'strlen',\n",
       "          'indexes': [],\n",
       "          'children': []},\n",
       "         {'id': 12, 'name': '__ctype_b_loc', 'indexes': [], 'children': []},\n",
       "         {'id': 13, 'name': 'strlen', 'indexes': [], 'children': []},\n",
       "         {'id': 14, 'name': '__ctype_b_loc', 'indexes': [], 'children': []},\n",
       "         {'id': 15, 'name': 'strlen', 'indexes': [], 'children': []},\n",
       "         {'id': 16, 'name': '__ctype_b_loc', 'indexes': [], 'children': []},\n",
       "         {'id': 17, 'name': 'strlen', 'indexes': [], 'children': []},\n",
       "         {'id': 18, 'name': '__ctype_b_loc', 'indexes': [], 'children': []}]},\n",
       "       {'id': 19, 'name': 'strlen', 'indexes': [], 'children': []},\n",
       "       {'id': 20, 'name': '__ctype_b_loc', 'indexes': [], 'children': []}]}]},\n",
       "   {'id': 21, 'name': 'strlen', 'indexes': [], 'children': []},\n",
       "   {'id': 22, 'name': '__ctype_b_loc', 'indexes': [], 'children': []},\n",
       "   {'id': 23, 'name': 'strlen', 'indexes': [], 'children': []},\n",
       "   {'id': 24, 'name': '__ctype_b_loc', 'indexes': [], 'children': []},\n",
       "   {'id': 25,\n",
       "    'name': 'parse_num',\n",
       "    'indexes': [6, 7, 8],\n",
       "    'children': [{'id': 26, 'name': 'strlen', 'indexes': [], 'children': []},\n",
       "     {'id': 27, 'name': '__ctype_b_loc', 'indexes': [], 'children': []},\n",
       "     {'id': 28, 'name': 'strlen', 'indexes': [], 'children': []},\n",
       "     {'id': 29, 'name': '__ctype_b_loc', 'indexes': [], 'children': []},\n",
       "     {'id': 30, 'name': 'strlen', 'indexes': [], 'children': []},\n",
       "     {'id': 31, 'name': '__ctype_b_loc', 'indexes': [], 'children': []},\n",
       "     {'id': 32, 'name': 'strlen', 'indexes': [], 'children': []},\n",
       "     {'id': 33, 'name': '__ctype_b_loc', 'indexes': [], 'children': []}]},\n",
       "   {'id': 34, 'name': 'strlen', 'indexes': [], 'children': []},\n",
       "   {'id': 35, 'name': '__ctype_b_loc', 'indexes': [], 'children': []},\n",
       "   {'id': 36, 'name': 'strlen', 'indexes': [], 'children': []},\n",
       "   {'id': 37, 'name': '__ctype_b_loc', 'indexes': [], 'children': []},\n",
       "   {'id': 38,\n",
       "    'name': 'parse_num',\n",
       "    'indexes': [10, 11, 12],\n",
       "    'children': [{'id': 39, 'name': 'strlen', 'indexes': [], 'children': []},\n",
       "     {'id': 40, 'name': '__ctype_b_loc', 'indexes': [], 'children': []},\n",
       "     {'id': 41, 'name': 'strlen', 'indexes': [], 'children': []},\n",
       "     {'id': 42, 'name': '__ctype_b_loc', 'indexes': [], 'children': []},\n",
       "     {'id': 43, 'name': 'strlen', 'indexes': [], 'children': []},\n",
       "     {'id': 44, 'name': '__ctype_b_loc', 'indexes': [], 'children': []},\n",
       "     {'id': 45, 'name': 'strlen', 'indexes': [], 'children': []}]},\n",
       "   {'id': 46, 'name': 'strlen', 'indexes': [], 'children': []}]},\n",
       " 4: {'id': 4, 'name': 'strlen', 'indexes': [], 'children': []},\n",
       " 5: {'id': 5, 'name': '__ctype_b_loc', 'indexes': [], 'children': []},\n",
       " 6: {'id': 6,\n",
       "  'name': 'parse_paren',\n",
       "  'indexes': [],\n",
       "  'children': [{'id': 7,\n",
       "    'name': 'parse_expr',\n",
       "    'indexes': [4],\n",
       "    'children': [{'id': 8, 'name': 'strlen', 'indexes': [], 'children': []},\n",
       "     {'id': 9, 'name': '__ctype_b_loc', 'indexes': [], 'children': []},\n",
       "     {'id': 10,\n",
       "      'name': 'parse_num',\n",
       "      'indexes': [1, 2, 3],\n",
       "      'children': [{'id': 11, 'name': 'strlen', 'indexes': [], 'children': []},\n",
       "       {'id': 12, 'name': '__ctype_b_loc', 'indexes': [], 'children': []},\n",
       "       {'id': 13, 'name': 'strlen', 'indexes': [], 'children': []},\n",
       "       {'id': 14, 'name': '__ctype_b_loc', 'indexes': [], 'children': []},\n",
       "       {'id': 15, 'name': 'strlen', 'indexes': [], 'children': []},\n",
       "       {'id': 16, 'name': '__ctype_b_loc', 'indexes': [], 'children': []},\n",
       "       {'id': 17, 'name': 'strlen', 'indexes': [], 'children': []},\n",
       "       {'id': 18, 'name': '__ctype_b_loc', 'indexes': [], 'children': []}]},\n",
       "     {'id': 19, 'name': 'strlen', 'indexes': [], 'children': []},\n",
       "     {'id': 20, 'name': '__ctype_b_loc', 'indexes': [], 'children': []}]}]},\n",
       " 21: {'id': 21, 'name': 'strlen', 'indexes': [], 'children': []},\n",
       " 22: {'id': 22, 'name': '__ctype_b_loc', 'indexes': [], 'children': []},\n",
       " 23: {'id': 23, 'name': 'strlen', 'indexes': [], 'children': []},\n",
       " 24: {'id': 24, 'name': '__ctype_b_loc', 'indexes': [], 'children': []},\n",
       " 25: {'id': 25,\n",
       "  'name': 'parse_num',\n",
       "  'indexes': [6, 7, 8],\n",
       "  'children': [{'id': 26, 'name': 'strlen', 'indexes': [], 'children': []},\n",
       "   {'id': 27, 'name': '__ctype_b_loc', 'indexes': [], 'children': []},\n",
       "   {'id': 28, 'name': 'strlen', 'indexes': [], 'children': []},\n",
       "   {'id': 29, 'name': '__ctype_b_loc', 'indexes': [], 'children': []},\n",
       "   {'id': 30, 'name': 'strlen', 'indexes': [], 'children': []},\n",
       "   {'id': 31, 'name': '__ctype_b_loc', 'indexes': [], 'children': []},\n",
       "   {'id': 32, 'name': 'strlen', 'indexes': [], 'children': []},\n",
       "   {'id': 33, 'name': '__ctype_b_loc', 'indexes': [], 'children': []}]},\n",
       " 34: {'id': 34, 'name': 'strlen', 'indexes': [], 'children': []},\n",
       " 35: {'id': 35, 'name': '__ctype_b_loc', 'indexes': [], 'children': []},\n",
       " 36: {'id': 36, 'name': 'strlen', 'indexes': [], 'children': []},\n",
       " 37: {'id': 37, 'name': '__ctype_b_loc', 'indexes': [], 'children': []},\n",
       " 38: {'id': 38,\n",
       "  'name': 'parse_num',\n",
       "  'indexes': [10, 11, 12],\n",
       "  'children': [{'id': 39, 'name': 'strlen', 'indexes': [], 'children': []},\n",
       "   {'id': 40, 'name': '__ctype_b_loc', 'indexes': [], 'children': []},\n",
       "   {'id': 41, 'name': 'strlen', 'indexes': [], 'children': []},\n",
       "   {'id': 42, 'name': '__ctype_b_loc', 'indexes': [], 'children': []},\n",
       "   {'id': 43, 'name': 'strlen', 'indexes': [], 'children': []},\n",
       "   {'id': 44, 'name': '__ctype_b_loc', 'indexes': [], 'children': []},\n",
       "   {'id': 45, 'name': 'strlen', 'indexes': [], 'children': []}]},\n",
       " 46: {'id': 46, 'name': 'strlen', 'indexes': [], 'children': []},\n",
       " 7: {'id': 7,\n",
       "  'name': 'parse_expr',\n",
       "  'indexes': [4],\n",
       "  'children': [{'id': 8, 'name': 'strlen', 'indexes': [], 'children': []},\n",
       "   {'id': 9, 'name': '__ctype_b_loc', 'indexes': [], 'children': []},\n",
       "   {'id': 10,\n",
       "    'name': 'parse_num',\n",
       "    'indexes': [1, 2, 3],\n",
       "    'children': [{'id': 11, 'name': 'strlen', 'indexes': [], 'children': []},\n",
       "     {'id': 12, 'name': '__ctype_b_loc', 'indexes': [], 'children': []},\n",
       "     {'id': 13, 'name': 'strlen', 'indexes': [], 'children': []},\n",
       "     {'id': 14, 'name': '__ctype_b_loc', 'indexes': [], 'children': []},\n",
       "     {'id': 15, 'name': 'strlen', 'indexes': [], 'children': []},\n",
       "     {'id': 16, 'name': '__ctype_b_loc', 'indexes': [], 'children': []},\n",
       "     {'id': 17, 'name': 'strlen', 'indexes': [], 'children': []},\n",
       "     {'id': 18, 'name': '__ctype_b_loc', 'indexes': [], 'children': []}]},\n",
       "   {'id': 19, 'name': 'strlen', 'indexes': [], 'children': []},\n",
       "   {'id': 20, 'name': '__ctype_b_loc', 'indexes': [], 'children': []}]},\n",
       " 8: {'id': 8, 'name': 'strlen', 'indexes': [], 'children': []},\n",
       " 9: {'id': 9, 'name': '__ctype_b_loc', 'indexes': [], 'children': []},\n",
       " 10: {'id': 10,\n",
       "  'name': 'parse_num',\n",
       "  'indexes': [1, 2, 3],\n",
       "  'children': [{'id': 11, 'name': 'strlen', 'indexes': [], 'children': []},\n",
       "   {'id': 12, 'name': '__ctype_b_loc', 'indexes': [], 'children': []},\n",
       "   {'id': 13, 'name': 'strlen', 'indexes': [], 'children': []},\n",
       "   {'id': 14, 'name': '__ctype_b_loc', 'indexes': [], 'children': []},\n",
       "   {'id': 15, 'name': 'strlen', 'indexes': [], 'children': []},\n",
       "   {'id': 16, 'name': '__ctype_b_loc', 'indexes': [], 'children': []},\n",
       "   {'id': 17, 'name': 'strlen', 'indexes': [], 'children': []},\n",
       "   {'id': 18, 'name': '__ctype_b_loc', 'indexes': [], 'children': []}]},\n",
       " 19: {'id': 19, 'name': 'strlen', 'indexes': [], 'children': []},\n",
       " 20: {'id': 20, 'name': '__ctype_b_loc', 'indexes': [], 'children': []},\n",
       " 11: {'id': 11, 'name': 'strlen', 'indexes': [], 'children': []},\n",
       " 12: {'id': 12, 'name': '__ctype_b_loc', 'indexes': [], 'children': []},\n",
       " 13: {'id': 13, 'name': 'strlen', 'indexes': [], 'children': []},\n",
       " 14: {'id': 14, 'name': '__ctype_b_loc', 'indexes': [], 'children': []},\n",
       " 15: {'id': 15, 'name': 'strlen', 'indexes': [], 'children': []},\n",
       " 16: {'id': 16, 'name': '__ctype_b_loc', 'indexes': [], 'children': []},\n",
       " 17: {'id': 17, 'name': 'strlen', 'indexes': [], 'children': []},\n",
       " 18: {'id': 18, 'name': '__ctype_b_loc', 'indexes': [], 'children': []},\n",
       " 26: {'id': 26, 'name': 'strlen', 'indexes': [], 'children': []},\n",
       " 27: {'id': 27, 'name': '__ctype_b_loc', 'indexes': [], 'children': []},\n",
       " 28: {'id': 28, 'name': 'strlen', 'indexes': [], 'children': []},\n",
       " 29: {'id': 29, 'name': '__ctype_b_loc', 'indexes': [], 'children': []},\n",
       " 30: {'id': 30, 'name': 'strlen', 'indexes': [], 'children': []},\n",
       " 31: {'id': 31, 'name': '__ctype_b_loc', 'indexes': [], 'children': []},\n",
       " 32: {'id': 32, 'name': 'strlen', 'indexes': [], 'children': []},\n",
       " 33: {'id': 33, 'name': '__ctype_b_loc', 'indexes': [], 'children': []},\n",
       " 39: {'id': 39, 'name': 'strlen', 'indexes': [], 'children': []},\n",
       " 40: {'id': 40, 'name': '__ctype_b_loc', 'indexes': [], 'children': []},\n",
       " 41: {'id': 41, 'name': 'strlen', 'indexes': [], 'children': []},\n",
       " 42: {'id': 42, 'name': '__ctype_b_loc', 'indexes': [], 'children': []},\n",
       " 43: {'id': 43, 'name': 'strlen', 'indexes': [], 'children': []},\n",
       " 44: {'id': 44, 'name': '__ctype_b_loc', 'indexes': [], 'children': []},\n",
       " 45: {'id': 45, 'name': 'strlen', 'indexes': [], 'children': []}}"
      ]
     },
     "execution_count": 1539,
     "metadata": {},
     "output_type": "execute_result"
    }
   ],
   "source": [
    "calc_method_tree"
   ]
  },
  {
   "cell_type": "code",
   "execution_count": 1540,
   "metadata": {
    "ExecuteTime": {
     "end_time": "2021-01-24T22:40:15.973247Z",
     "start_time": "2021-01-24T22:40:15.966505Z"
    }
   },
   "outputs": [],
   "source": [
    "def wrap_input(istr):\n",
    "    def extract_node(node, id):\n",
    "        symbol = str(node['id'])\n",
    "        children = node['children']\n",
    "        annotation = str(node['name'])\n",
    "        indexes = repr(tuple([istr[i] for i in node['indexes']]))\n",
    "        return \"%s %s\" % (annotation, indexes), children, ''\n",
    "    return extract_node"
   ]
  },
  {
   "cell_type": "code",
   "execution_count": 1541,
   "metadata": {
    "ExecuteTime": {
     "end_time": "2021-01-24T22:40:15.980216Z",
     "start_time": "2021-01-24T22:40:15.976249Z"
    }
   },
   "outputs": [],
   "source": [
    "extract_node1 = wrap_input(calc_trace[0]['inputstr'])"
   ]
  },
  {
   "cell_type": "markdown",
   "metadata": {},
   "source": [
    "#### Tree 1"
   ]
  },
  {
   "cell_type": "code",
   "execution_count": 1542,
   "metadata": {
    "ExecuteTime": {
     "end_time": "2021-01-24T22:40:16.601038Z",
     "start_time": "2021-01-24T22:40:16.547637Z"
    },
    "scrolled": false
   },
   "outputs": [
    {
     "data": {
      "image/svg+xml": [
       "<?xml version=\"1.0\" encoding=\"UTF-8\" standalone=\"no\"?>\n",
       "<!DOCTYPE svg PUBLIC \"-//W3C//DTD SVG 1.1//EN\"\n",
       " \"http://www.w3.org/Graphics/SVG/1.1/DTD/svg11.dtd\">\n",
       "<!-- Generated by graphviz version 2.43.0 (0)\n",
       " -->\n",
       "<!-- Title: %3 Pages: 1 -->\n",
       "<svg width=\"2005pt\" height=\"329pt\"\n",
       " viewBox=\"0.00 0.00 2005.00 329.00\" xmlns=\"http://www.w3.org/2000/svg\" xmlns:xlink=\"http://www.w3.org/1999/xlink\">\n",
       "<g id=\"graph0\" class=\"graph\" transform=\"scale(1 1) rotate(0) translate(4 325)\">\n",
       "<title>%3</title>\n",
       "<polygon fill=\"white\" stroke=\"transparent\" points=\"-4,4 -4,-325 2001,-325 2001,4 -4,4\"/>\n",
       "<!-- 0 -->\n",
       "<g id=\"node1\" class=\"node\">\n",
       "<title>0</title>\n",
       "<text text-anchor=\"middle\" x=\"811\" y=\"-309.8\" font-family=\"Times,serif\" font-size=\"14.00\">None ()</text>\n",
       "</g>\n",
       "<!-- 1 -->\n",
       "<g id=\"node2\" class=\"node\">\n",
       "<title>1</title>\n",
       "<text text-anchor=\"middle\" x=\"811\" y=\"-258.8\" font-family=\"Times,serif\" font-size=\"14.00\">main ()</text>\n",
       "</g>\n",
       "<!-- 0&#45;&gt;1 -->\n",
       "<g id=\"edge1\" class=\"edge\">\n",
       "<title>0&#45;&gt;1</title>\n",
       "<path fill=\"none\" stroke=\"black\" d=\"M811,-305.69C811,-299.18 811,-289.1 811,-280.43\"/>\n",
       "<polygon fill=\"black\" stroke=\"black\" points=\"814.5,-280.26 811,-270.26 807.5,-280.26 814.5,-280.26\"/>\n",
       "</g>\n",
       "<!-- 2 -->\n",
       "<g id=\"node3\" class=\"node\">\n",
       "<title>2</title>\n",
       "<text text-anchor=\"middle\" x=\"747\" y=\"-207.8\" font-family=\"Times,serif\" font-size=\"14.00\">strcpy ()</text>\n",
       "</g>\n",
       "<!-- 1&#45;&gt;2 -->\n",
       "<g id=\"edge2\" class=\"edge\">\n",
       "<title>1&#45;&gt;2</title>\n",
       "<path fill=\"none\" stroke=\"black\" d=\"M802.37,-254.89C792.48,-247.32 776.06,-234.75 763.66,-225.26\"/>\n",
       "<polygon fill=\"black\" stroke=\"black\" points=\"765.56,-222.3 755.49,-219 761.31,-227.86 765.56,-222.3\"/>\n",
       "</g>\n",
       "<!-- 3 -->\n",
       "<g id=\"node4\" class=\"node\">\n",
       "<title>3</title>\n",
       "<text text-anchor=\"middle\" x=\"875\" y=\"-207.8\" font-family=\"Times,serif\" font-size=\"14.00\">parse_expr (&#39;*&#39;, &#39;(&#39;, &#39;+&#39;)</text>\n",
       "</g>\n",
       "<!-- 1&#45;&gt;3 -->\n",
       "<g id=\"edge3\" class=\"edge\">\n",
       "<title>1&#45;&gt;3</title>\n",
       "<path fill=\"none\" stroke=\"black\" d=\"M819.63,-254.89C829.52,-247.32 845.94,-234.75 858.34,-225.26\"/>\n",
       "<polygon fill=\"black\" stroke=\"black\" points=\"860.69,-227.86 866.51,-219 856.44,-222.3 860.69,-227.86\"/>\n",
       "</g>\n",
       "<!-- 4 -->\n",
       "<g id=\"node5\" class=\"node\">\n",
       "<title>4</title>\n",
       "<text text-anchor=\"middle\" x=\"162\" y=\"-156.8\" font-family=\"Times,serif\" font-size=\"14.00\">strlen ()</text>\n",
       "</g>\n",
       "<!-- 3&#45;&gt;4 -->\n",
       "<g id=\"edge4\" class=\"edge\">\n",
       "<title>3&#45;&gt;4</title>\n",
       "<path fill=\"none\" stroke=\"black\" d=\"M795.43,-204.64C792.24,-204.42 789.09,-204.21 786,-204 528.96,-186.72 460.92,-197.75 201.52,-168.02\"/>\n",
       "<polygon fill=\"black\" stroke=\"black\" points=\"201.75,-164.53 191.41,-166.85 200.95,-171.48 201.75,-164.53\"/>\n",
       "</g>\n",
       "<!-- 5 -->\n",
       "<g id=\"node6\" class=\"node\">\n",
       "<title>5</title>\n",
       "<text text-anchor=\"middle\" x=\"265\" y=\"-156.8\" font-family=\"Times,serif\" font-size=\"14.00\">__ctype_b_loc ()</text>\n",
       "</g>\n",
       "<!-- 3&#45;&gt;5 -->\n",
       "<g id=\"edge5\" class=\"edge\">\n",
       "<title>3&#45;&gt;5</title>\n",
       "<path fill=\"none\" stroke=\"black\" d=\"M795.39,-204.54C670.68,-195.15 433.66,-177.16 330.94,-168.15\"/>\n",
       "<polygon fill=\"black\" stroke=\"black\" points=\"331.11,-164.65 320.84,-167.25 330.49,-171.62 331.11,-164.65\"/>\n",
       "</g>\n",
       "<!-- 6 -->\n",
       "<g id=\"node7\" class=\"node\">\n",
       "<title>6</title>\n",
       "<text text-anchor=\"middle\" x=\"390\" y=\"-156.8\" font-family=\"Times,serif\" font-size=\"14.00\">parse_paren ()</text>\n",
       "</g>\n",
       "<!-- 3&#45;&gt;6 -->\n",
       "<g id=\"edge6\" class=\"edge\">\n",
       "<title>3&#45;&gt;6</title>\n",
       "<path fill=\"none\" stroke=\"black\" d=\"M808.52,-203.97C727.07,-195.93 584.56,-181.78 451.55,-168.05\"/>\n",
       "<polygon fill=\"black\" stroke=\"black\" points=\"451.89,-164.57 441.58,-167.02 451.17,-171.53 451.89,-164.57\"/>\n",
       "</g>\n",
       "<!-- 21 -->\n",
       "<g id=\"node22\" class=\"node\">\n",
       "<title>21</title>\n",
       "<text text-anchor=\"middle\" x=\"489\" y=\"-156.8\" font-family=\"Times,serif\" font-size=\"14.00\">strlen ()</text>\n",
       "</g>\n",
       "<!-- 3&#45;&gt;21 -->\n",
       "<g id=\"edge21\" class=\"edge\">\n",
       "<title>3&#45;&gt;21</title>\n",
       "<path fill=\"none\" stroke=\"black\" d=\"M814.22,-203.97C746.77,-196.52 634.48,-183.53 527.98,-168.07\"/>\n",
       "<polygon fill=\"black\" stroke=\"black\" points=\"528.42,-164.59 518.02,-166.61 527.41,-171.52 528.42,-164.59\"/>\n",
       "</g>\n",
       "<!-- 22 -->\n",
       "<g id=\"node23\" class=\"node\">\n",
       "<title>22</title>\n",
       "<text text-anchor=\"middle\" x=\"592\" y=\"-156.8\" font-family=\"Times,serif\" font-size=\"14.00\">__ctype_b_loc ()</text>\n",
       "</g>\n",
       "<!-- 3&#45;&gt;22 -->\n",
       "<g id=\"edge22\" class=\"edge\">\n",
       "<title>3&#45;&gt;22</title>\n",
       "<path fill=\"none\" stroke=\"black\" d=\"M837.42,-203.99C786.46,-195.17 695.44,-179.41 639.71,-169.76\"/>\n",
       "<polygon fill=\"black\" stroke=\"black\" points=\"640.19,-166.29 629.74,-168.03 638.99,-173.19 640.19,-166.29\"/>\n",
       "</g>\n",
       "<!-- 23 -->\n",
       "<g id=\"node24\" class=\"node\">\n",
       "<title>23</title>\n",
       "<text text-anchor=\"middle\" x=\"695\" y=\"-156.8\" font-family=\"Times,serif\" font-size=\"14.00\">strlen ()</text>\n",
       "</g>\n",
       "<!-- 3&#45;&gt;23 -->\n",
       "<g id=\"edge23\" class=\"edge\">\n",
       "<title>3&#45;&gt;23</title>\n",
       "<path fill=\"none\" stroke=\"black\" d=\"M851.1,-203.99C819.76,-195.46 764.61,-180.45 728.95,-170.74\"/>\n",
       "<polygon fill=\"black\" stroke=\"black\" points=\"729.57,-167.28 719,-168.03 727.73,-174.04 729.57,-167.28\"/>\n",
       "</g>\n",
       "<!-- 24 -->\n",
       "<g id=\"node25\" class=\"node\">\n",
       "<title>24</title>\n",
       "<text text-anchor=\"middle\" x=\"798\" y=\"-156.8\" font-family=\"Times,serif\" font-size=\"14.00\">__ctype_b_loc ()</text>\n",
       "</g>\n",
       "<!-- 3&#45;&gt;24 -->\n",
       "<g id=\"edge24\" class=\"edge\">\n",
       "<title>3&#45;&gt;24</title>\n",
       "<path fill=\"none\" stroke=\"black\" d=\"M864.62,-203.89C852.38,-196.1 831.81,-183.01 816.75,-173.43\"/>\n",
       "<polygon fill=\"black\" stroke=\"black\" points=\"818.54,-170.42 808.22,-168 814.78,-176.33 818.54,-170.42\"/>\n",
       "</g>\n",
       "<!-- 25 -->\n",
       "<g id=\"node26\" class=\"node\">\n",
       "<title>25</title>\n",
       "<text text-anchor=\"middle\" x=\"952\" y=\"-156.8\" font-family=\"Times,serif\" font-size=\"14.00\">parse_num (&#39;4&#39;, &#39;5&#39;, &#39;6&#39;)</text>\n",
       "</g>\n",
       "<!-- 3&#45;&gt;25 -->\n",
       "<g id=\"edge25\" class=\"edge\">\n",
       "<title>3&#45;&gt;25</title>\n",
       "<path fill=\"none\" stroke=\"black\" d=\"M885.38,-203.89C897.62,-196.1 918.19,-183.01 933.25,-173.43\"/>\n",
       "<polygon fill=\"black\" stroke=\"black\" points=\"935.22,-176.33 941.78,-168 931.46,-170.42 935.22,-176.33\"/>\n",
       "</g>\n",
       "<!-- 34 -->\n",
       "<g id=\"node35\" class=\"node\">\n",
       "<title>34</title>\n",
       "<text text-anchor=\"middle\" x=\"1080\" y=\"-156.8\" font-family=\"Times,serif\" font-size=\"14.00\">strlen ()</text>\n",
       "</g>\n",
       "<!-- 3&#45;&gt;34 -->\n",
       "<g id=\"edge34\" class=\"edge\">\n",
       "<title>3&#45;&gt;34</title>\n",
       "<path fill=\"none\" stroke=\"black\" d=\"M902.22,-203.99C938.37,-195.35 1002.35,-180.06 1042.89,-170.37\"/>\n",
       "<polygon fill=\"black\" stroke=\"black\" points=\"1043.75,-173.76 1052.66,-168.03 1042.13,-166.95 1043.75,-173.76\"/>\n",
       "</g>\n",
       "<!-- 35 -->\n",
       "<g id=\"node36\" class=\"node\">\n",
       "<title>35</title>\n",
       "<text text-anchor=\"middle\" x=\"1183\" y=\"-156.8\" font-family=\"Times,serif\" font-size=\"14.00\">__ctype_b_loc ()</text>\n",
       "</g>\n",
       "<!-- 3&#45;&gt;35 -->\n",
       "<g id=\"edge35\" class=\"edge\">\n",
       "<title>3&#45;&gt;35</title>\n",
       "<path fill=\"none\" stroke=\"black\" d=\"M915.9,-203.99C971.59,-195.13 1071.25,-179.28 1131.83,-169.64\"/>\n",
       "<polygon fill=\"black\" stroke=\"black\" points=\"1132.6,-173.06 1141.93,-168.03 1131.51,-166.15 1132.6,-173.06\"/>\n",
       "</g>\n",
       "<!-- 36 -->\n",
       "<g id=\"node37\" class=\"node\">\n",
       "<title>36</title>\n",
       "<text text-anchor=\"middle\" x=\"1286\" y=\"-156.8\" font-family=\"Times,serif\" font-size=\"14.00\">strlen ()</text>\n",
       "</g>\n",
       "<!-- 3&#45;&gt;36 -->\n",
       "<g id=\"edge36\" class=\"edge\">\n",
       "<title>3&#45;&gt;36</title>\n",
       "<path fill=\"none\" stroke=\"black\" d=\"M940.98,-204C1013.34,-196.63 1133.12,-183.75 1246.72,-167.95\"/>\n",
       "<polygon fill=\"black\" stroke=\"black\" points=\"1247.22,-171.41 1256.64,-166.56 1246.25,-164.48 1247.22,-171.41\"/>\n",
       "</g>\n",
       "<!-- 37 -->\n",
       "<g id=\"node38\" class=\"node\">\n",
       "<title>37</title>\n",
       "<text text-anchor=\"middle\" x=\"1389\" y=\"-156.8\" font-family=\"Times,serif\" font-size=\"14.00\">__ctype_b_loc ()</text>\n",
       "</g>\n",
       "<!-- 3&#45;&gt;37 -->\n",
       "<g id=\"edge37\" class=\"edge\">\n",
       "<title>3&#45;&gt;37</title>\n",
       "<path fill=\"none\" stroke=\"black\" d=\"M945.01,-203.99C1031.28,-195.94 1182.65,-181.73 1323.23,-168.07\"/>\n",
       "<polygon fill=\"black\" stroke=\"black\" points=\"1323.72,-171.54 1333.33,-167.09 1323.04,-164.57 1323.72,-171.54\"/>\n",
       "</g>\n",
       "<!-- 38 -->\n",
       "<g id=\"node39\" class=\"node\">\n",
       "<title>38</title>\n",
       "<text text-anchor=\"middle\" x=\"1556\" y=\"-156.8\" font-family=\"Times,serif\" font-size=\"14.00\">parse_num (&#39;7&#39;, &#39;8&#39;, &#39;9&#39;)</text>\n",
       "</g>\n",
       "<!-- 3&#45;&gt;38 -->\n",
       "<g id=\"edge38\" class=\"edge\">\n",
       "<title>3&#45;&gt;38</title>\n",
       "<path fill=\"none\" stroke=\"black\" d=\"M954.79,-204.76C1082.21,-195.59 1330.92,-177.7 1465.05,-168.04\"/>\n",
       "<polygon fill=\"black\" stroke=\"black\" points=\"1465.58,-171.52 1475.3,-167.31 1465.07,-164.53 1465.58,-171.52\"/>\n",
       "</g>\n",
       "<!-- 46 -->\n",
       "<g id=\"node47\" class=\"node\">\n",
       "<title>46</title>\n",
       "<text text-anchor=\"middle\" x=\"1684\" y=\"-156.8\" font-family=\"Times,serif\" font-size=\"14.00\">strlen ()</text>\n",
       "</g>\n",
       "<!-- 3&#45;&gt;46 -->\n",
       "<g id=\"edge46\" class=\"edge\">\n",
       "<title>3&#45;&gt;46</title>\n",
       "<path fill=\"none\" stroke=\"black\" d=\"M954.61,-209.11C1092.92,-206.03 1386.68,-196.59 1644.28,-168.03\"/>\n",
       "<polygon fill=\"black\" stroke=\"black\" points=\"1645.04,-171.46 1654.59,-166.87 1644.26,-164.51 1645.04,-171.46\"/>\n",
       "</g>\n",
       "<!-- 7 -->\n",
       "<g id=\"node8\" class=\"node\">\n",
       "<title>7</title>\n",
       "<text text-anchor=\"middle\" x=\"390\" y=\"-105.8\" font-family=\"Times,serif\" font-size=\"14.00\">parse_expr (&#39;)&#39;,)</text>\n",
       "</g>\n",
       "<!-- 6&#45;&gt;7 -->\n",
       "<g id=\"edge7\" class=\"edge\">\n",
       "<title>6&#45;&gt;7</title>\n",
       "<path fill=\"none\" stroke=\"black\" d=\"M390,-152.69C390,-146.18 390,-136.1 390,-127.43\"/>\n",
       "<polygon fill=\"black\" stroke=\"black\" points=\"393.5,-127.26 390,-117.26 386.5,-127.26 393.5,-127.26\"/>\n",
       "</g>\n",
       "<!-- 8 -->\n",
       "<g id=\"node9\" class=\"node\">\n",
       "<title>8</title>\n",
       "<text text-anchor=\"middle\" x=\"133\" y=\"-54.8\" font-family=\"Times,serif\" font-size=\"14.00\">strlen ()</text>\n",
       "</g>\n",
       "<!-- 7&#45;&gt;8 -->\n",
       "<g id=\"edge8\" class=\"edge\">\n",
       "<title>7&#45;&gt;8</title>\n",
       "<path fill=\"none\" stroke=\"black\" d=\"M355.87,-101.99C308.32,-92.93 222.36,-76.54 172.23,-66.98\"/>\n",
       "<polygon fill=\"black\" stroke=\"black\" points=\"172.58,-63.48 162.1,-65.05 171.27,-70.36 172.58,-63.48\"/>\n",
       "</g>\n",
       "<!-- 9 -->\n",
       "<g id=\"node10\" class=\"node\">\n",
       "<title>9</title>\n",
       "<text text-anchor=\"middle\" x=\"236\" y=\"-54.8\" font-family=\"Times,serif\" font-size=\"14.00\">__ctype_b_loc ()</text>\n",
       "</g>\n",
       "<!-- 7&#45;&gt;9 -->\n",
       "<g id=\"edge9\" class=\"edge\">\n",
       "<title>7&#45;&gt;9</title>\n",
       "<path fill=\"none\" stroke=\"black\" d=\"M369.55,-101.99C343.09,-93.57 296.76,-78.83 266.23,-69.12\"/>\n",
       "<polygon fill=\"black\" stroke=\"black\" points=\"267.13,-65.73 256.53,-66.03 265,-72.4 267.13,-65.73\"/>\n",
       "</g>\n",
       "<!-- 10 -->\n",
       "<g id=\"node11\" class=\"node\">\n",
       "<title>10</title>\n",
       "<text text-anchor=\"middle\" x=\"390\" y=\"-54.8\" font-family=\"Times,serif\" font-size=\"14.00\">parse_num (&#39;1&#39;, &#39;2&#39;, &#39;3&#39;)</text>\n",
       "</g>\n",
       "<!-- 7&#45;&gt;10 -->\n",
       "<g id=\"edge10\" class=\"edge\">\n",
       "<title>7&#45;&gt;10</title>\n",
       "<path fill=\"none\" stroke=\"black\" d=\"M390,-101.69C390,-95.18 390,-85.1 390,-76.43\"/>\n",
       "<polygon fill=\"black\" stroke=\"black\" points=\"393.5,-76.26 390,-66.26 386.5,-76.26 393.5,-76.26\"/>\n",
       "</g>\n",
       "<!-- 19 -->\n",
       "<g id=\"node20\" class=\"node\">\n",
       "<title>19</title>\n",
       "<text text-anchor=\"middle\" x=\"518\" y=\"-54.8\" font-family=\"Times,serif\" font-size=\"14.00\">strlen ()</text>\n",
       "</g>\n",
       "<!-- 7&#45;&gt;19 -->\n",
       "<g id=\"edge19\" class=\"edge\">\n",
       "<title>7&#45;&gt;19</title>\n",
       "<path fill=\"none\" stroke=\"black\" d=\"M407,-101.99C428.61,-93.72 466.16,-79.34 491.54,-69.63\"/>\n",
       "<polygon fill=\"black\" stroke=\"black\" points=\"492.84,-72.88 500.93,-66.03 490.34,-66.34 492.84,-72.88\"/>\n",
       "</g>\n",
       "<!-- 20 -->\n",
       "<g id=\"node21\" class=\"node\">\n",
       "<title>20</title>\n",
       "<text text-anchor=\"middle\" x=\"621\" y=\"-54.8\" font-family=\"Times,serif\" font-size=\"14.00\">__ctype_b_loc ()</text>\n",
       "</g>\n",
       "<!-- 7&#45;&gt;20 -->\n",
       "<g id=\"edge20\" class=\"edge\">\n",
       "<title>7&#45;&gt;20</title>\n",
       "<path fill=\"none\" stroke=\"black\" d=\"M420.68,-101.99C461.75,-93.28 534.73,-77.8 580.34,-68.12\"/>\n",
       "<polygon fill=\"black\" stroke=\"black\" points=\"581.14,-71.53 590.2,-66.03 579.69,-64.69 581.14,-71.53\"/>\n",
       "</g>\n",
       "<!-- 11 -->\n",
       "<g id=\"node12\" class=\"node\">\n",
       "<title>11</title>\n",
       "<text text-anchor=\"middle\" x=\"29\" y=\"-3.8\" font-family=\"Times,serif\" font-size=\"14.00\">strlen ()</text>\n",
       "</g>\n",
       "<!-- 10&#45;&gt;11 -->\n",
       "<g id=\"edge11\" class=\"edge\">\n",
       "<title>10&#45;&gt;11</title>\n",
       "<path fill=\"none\" stroke=\"black\" d=\"M335.62,-50.99C273.42,-43.41 168.28,-30.14 68.02,-15.09\"/>\n",
       "<polygon fill=\"black\" stroke=\"black\" points=\"68.44,-11.62 58.03,-13.58 67.39,-18.54 68.44,-11.62\"/>\n",
       "</g>\n",
       "<!-- 12 -->\n",
       "<g id=\"node13\" class=\"node\">\n",
       "<title>12</title>\n",
       "<text text-anchor=\"middle\" x=\"132\" y=\"-3.8\" font-family=\"Times,serif\" font-size=\"14.00\">__ctype_b_loc ()</text>\n",
       "</g>\n",
       "<!-- 10&#45;&gt;12 -->\n",
       "<g id=\"edge12\" class=\"edge\">\n",
       "<title>10&#45;&gt;12</title>\n",
       "<path fill=\"none\" stroke=\"black\" d=\"M355.74,-50.99C309.57,-42.23 227.33,-26.61 176.45,-16.94\"/>\n",
       "<polygon fill=\"black\" stroke=\"black\" points=\"176.88,-13.46 166.4,-15.03 175.57,-20.34 176.88,-13.46\"/>\n",
       "</g>\n",
       "<!-- 13 -->\n",
       "<g id=\"node14\" class=\"node\">\n",
       "<title>13</title>\n",
       "<text text-anchor=\"middle\" x=\"235\" y=\"-3.8\" font-family=\"Times,serif\" font-size=\"14.00\">strlen ()</text>\n",
       "</g>\n",
       "<!-- 10&#45;&gt;13 -->\n",
       "<g id=\"edge13\" class=\"edge\">\n",
       "<title>10&#45;&gt;13</title>\n",
       "<path fill=\"none\" stroke=\"black\" d=\"M369.42,-50.99C342.78,-42.57 296.16,-27.83 265.43,-18.12\"/>\n",
       "<polygon fill=\"black\" stroke=\"black\" points=\"266.26,-14.71 255.67,-15.03 264.15,-21.39 266.26,-14.71\"/>\n",
       "</g>\n",
       "<!-- 14 -->\n",
       "<g id=\"node15\" class=\"node\">\n",
       "<title>14</title>\n",
       "<text text-anchor=\"middle\" x=\"338\" y=\"-3.8\" font-family=\"Times,serif\" font-size=\"14.00\">__ctype_b_loc ()</text>\n",
       "</g>\n",
       "<!-- 10&#45;&gt;14 -->\n",
       "<g id=\"edge14\" class=\"edge\">\n",
       "<title>10&#45;&gt;14</title>\n",
       "<path fill=\"none\" stroke=\"black\" d=\"M382.77,-50.69C375.01,-43.37 362.47,-31.56 352.63,-22.29\"/>\n",
       "<polygon fill=\"black\" stroke=\"black\" points=\"354.85,-19.57 345.17,-15.26 350.05,-24.66 354.85,-19.57\"/>\n",
       "</g>\n",
       "<!-- 15 -->\n",
       "<g id=\"node16\" class=\"node\">\n",
       "<title>15</title>\n",
       "<text text-anchor=\"middle\" x=\"441\" y=\"-3.8\" font-family=\"Times,serif\" font-size=\"14.00\">strlen ()</text>\n",
       "</g>\n",
       "<!-- 10&#45;&gt;15 -->\n",
       "<g id=\"edge15\" class=\"edge\">\n",
       "<title>10&#45;&gt;15</title>\n",
       "<path fill=\"none\" stroke=\"black\" d=\"M397.09,-50.69C404.7,-43.37 417,-31.56 426.65,-22.29\"/>\n",
       "<polygon fill=\"black\" stroke=\"black\" points=\"429.18,-24.71 433.97,-15.26 424.33,-19.66 429.18,-24.71\"/>\n",
       "</g>\n",
       "<!-- 16 -->\n",
       "<g id=\"node17\" class=\"node\">\n",
       "<title>16</title>\n",
       "<text text-anchor=\"middle\" x=\"544\" y=\"-3.8\" font-family=\"Times,serif\" font-size=\"14.00\">__ctype_b_loc ()</text>\n",
       "</g>\n",
       "<!-- 10&#45;&gt;16 -->\n",
       "<g id=\"edge16\" class=\"edge\">\n",
       "<title>10&#45;&gt;16</title>\n",
       "<path fill=\"none\" stroke=\"black\" d=\"M410.45,-50.99C436.91,-42.57 483.24,-27.83 513.77,-18.12\"/>\n",
       "<polygon fill=\"black\" stroke=\"black\" points=\"515,-21.4 523.47,-15.03 512.87,-14.73 515,-21.4\"/>\n",
       "</g>\n",
       "<!-- 17 -->\n",
       "<g id=\"node18\" class=\"node\">\n",
       "<title>17</title>\n",
       "<text text-anchor=\"middle\" x=\"647\" y=\"-3.8\" font-family=\"Times,serif\" font-size=\"14.00\">strlen ()</text>\n",
       "</g>\n",
       "<!-- 10&#45;&gt;17 -->\n",
       "<g id=\"edge17\" class=\"edge\">\n",
       "<title>10&#45;&gt;17</title>\n",
       "<path fill=\"none\" stroke=\"black\" d=\"M424.13,-50.99C471.68,-41.93 557.64,-25.54 607.77,-15.98\"/>\n",
       "<polygon fill=\"black\" stroke=\"black\" points=\"608.73,-19.36 617.9,-14.05 607.42,-12.48 608.73,-19.36\"/>\n",
       "</g>\n",
       "<!-- 18 -->\n",
       "<g id=\"node19\" class=\"node\">\n",
       "<title>18</title>\n",
       "<text text-anchor=\"middle\" x=\"750\" y=\"-3.8\" font-family=\"Times,serif\" font-size=\"14.00\">__ctype_b_loc ()</text>\n",
       "</g>\n",
       "<!-- 10&#45;&gt;18 -->\n",
       "<g id=\"edge18\" class=\"edge\">\n",
       "<title>10&#45;&gt;18</title>\n",
       "<path fill=\"none\" stroke=\"black\" d=\"M437.81,-50.99C503.43,-42.06 621.31,-26.02 691.93,-16.4\"/>\n",
       "<polygon fill=\"black\" stroke=\"black\" points=\"692.56,-19.85 702,-15.03 691.62,-12.91 692.56,-19.85\"/>\n",
       "</g>\n",
       "<!-- 26 -->\n",
       "<g id=\"node27\" class=\"node\">\n",
       "<title>26</title>\n",
       "<text text-anchor=\"middle\" x=\"526\" y=\"-105.8\" font-family=\"Times,serif\" font-size=\"14.00\">strlen ()</text>\n",
       "</g>\n",
       "<!-- 25&#45;&gt;26 -->\n",
       "<g id=\"edge26\" class=\"edge\">\n",
       "<title>25&#45;&gt;26</title>\n",
       "<path fill=\"none\" stroke=\"black\" d=\"M880.68,-152.99C804.94,-145.78 681.46,-133.19 565.17,-117.07\"/>\n",
       "<polygon fill=\"black\" stroke=\"black\" points=\"565.41,-113.57 555.02,-115.65 564.44,-120.5 565.41,-113.57\"/>\n",
       "</g>\n",
       "<!-- 27 -->\n",
       "<g id=\"node28\" class=\"node\">\n",
       "<title>27</title>\n",
       "<text text-anchor=\"middle\" x=\"629\" y=\"-105.8\" font-family=\"Times,serif\" font-size=\"14.00\">__ctype_b_loc ()</text>\n",
       "</g>\n",
       "<!-- 25&#45;&gt;27 -->\n",
       "<g id=\"edge27\" class=\"edge\">\n",
       "<title>25&#45;&gt;27</title>\n",
       "<path fill=\"none\" stroke=\"black\" d=\"M909.11,-152.99C850.59,-144.12 745.76,-128.21 682.27,-118.58\"/>\n",
       "<polygon fill=\"black\" stroke=\"black\" points=\"682.48,-115.07 672.07,-117.03 681.43,-121.99 682.48,-115.07\"/>\n",
       "</g>\n",
       "<!-- 28 -->\n",
       "<g id=\"node29\" class=\"node\">\n",
       "<title>28</title>\n",
       "<text text-anchor=\"middle\" x=\"732\" y=\"-105.8\" font-family=\"Times,serif\" font-size=\"14.00\">strlen ()</text>\n",
       "</g>\n",
       "<!-- 25&#45;&gt;28 -->\n",
       "<g id=\"edge28\" class=\"edge\">\n",
       "<title>25&#45;&gt;28</title>\n",
       "<path fill=\"none\" stroke=\"black\" d=\"M922.79,-152.99C883.83,-144.32 814.75,-128.93 771.27,-119.25\"/>\n",
       "<polygon fill=\"black\" stroke=\"black\" points=\"771.86,-115.79 761.34,-117.03 770.34,-122.62 771.86,-115.79\"/>\n",
       "</g>\n",
       "<!-- 29 -->\n",
       "<g id=\"node30\" class=\"node\">\n",
       "<title>29</title>\n",
       "<text text-anchor=\"middle\" x=\"835\" y=\"-105.8\" font-family=\"Times,serif\" font-size=\"14.00\">__ctype_b_loc ()</text>\n",
       "</g>\n",
       "<!-- 25&#45;&gt;29 -->\n",
       "<g id=\"edge29\" class=\"edge\">\n",
       "<title>25&#45;&gt;29</title>\n",
       "<path fill=\"none\" stroke=\"black\" d=\"M936.22,-152.89C916.66,-144.7 883.09,-130.64 860.01,-120.97\"/>\n",
       "<polygon fill=\"black\" stroke=\"black\" points=\"861.1,-117.64 850.53,-117 858.4,-124.09 861.1,-117.64\"/>\n",
       "</g>\n",
       "<!-- 30 -->\n",
       "<g id=\"node31\" class=\"node\">\n",
       "<title>30</title>\n",
       "<text text-anchor=\"middle\" x=\"938\" y=\"-105.8\" font-family=\"Times,serif\" font-size=\"14.00\">strlen ()</text>\n",
       "</g>\n",
       "<!-- 25&#45;&gt;30 -->\n",
       "<g id=\"edge30\" class=\"edge\">\n",
       "<title>25&#45;&gt;30</title>\n",
       "<path fill=\"none\" stroke=\"black\" d=\"M950.05,-152.69C948.17,-146.1 945.25,-135.87 942.75,-127.14\"/>\n",
       "<polygon fill=\"black\" stroke=\"black\" points=\"946.04,-125.91 939.93,-117.26 939.31,-127.83 946.04,-125.91\"/>\n",
       "</g>\n",
       "<!-- 31 -->\n",
       "<g id=\"node32\" class=\"node\">\n",
       "<title>31</title>\n",
       "<text text-anchor=\"middle\" x=\"1041\" y=\"-105.8\" font-family=\"Times,serif\" font-size=\"14.00\">__ctype_b_loc ()</text>\n",
       "</g>\n",
       "<!-- 25&#45;&gt;31 -->\n",
       "<g id=\"edge31\" class=\"edge\">\n",
       "<title>25&#45;&gt;31</title>\n",
       "<path fill=\"none\" stroke=\"black\" d=\"M964,-152.89C978.42,-144.96 1002.83,-131.52 1020.3,-121.9\"/>\n",
       "<polygon fill=\"black\" stroke=\"black\" points=\"1022.12,-124.89 1029.19,-117 1018.74,-118.76 1022.12,-124.89\"/>\n",
       "</g>\n",
       "<!-- 32 -->\n",
       "<g id=\"node33\" class=\"node\">\n",
       "<title>32</title>\n",
       "<text text-anchor=\"middle\" x=\"1144\" y=\"-105.8\" font-family=\"Times,serif\" font-size=\"14.00\">strlen ()</text>\n",
       "</g>\n",
       "<!-- 25&#45;&gt;32 -->\n",
       "<g id=\"edge32\" class=\"edge\">\n",
       "<title>25&#45;&gt;32</title>\n",
       "<path fill=\"none\" stroke=\"black\" d=\"M977.5,-152.99C1011.06,-144.43 1070.26,-129.32 1108.28,-119.62\"/>\n",
       "<polygon fill=\"black\" stroke=\"black\" points=\"1109.57,-122.9 1118.4,-117.03 1107.84,-116.12 1109.57,-122.9\"/>\n",
       "</g>\n",
       "<!-- 33 -->\n",
       "<g id=\"node34\" class=\"node\">\n",
       "<title>33</title>\n",
       "<text text-anchor=\"middle\" x=\"1247\" y=\"-105.8\" font-family=\"Times,serif\" font-size=\"14.00\">__ctype_b_loc ()</text>\n",
       "</g>\n",
       "<!-- 25&#45;&gt;33 -->\n",
       "<g id=\"edge33\" class=\"edge\">\n",
       "<title>25&#45;&gt;33</title>\n",
       "<path fill=\"none\" stroke=\"black\" d=\"M991.17,-152.99C1044.4,-144.15 1139.57,-128.34 1197.63,-118.7\"/>\n",
       "<polygon fill=\"black\" stroke=\"black\" points=\"1198.37,-122.13 1207.66,-117.03 1197.23,-115.22 1198.37,-122.13\"/>\n",
       "</g>\n",
       "<!-- 39 -->\n",
       "<g id=\"node40\" class=\"node\">\n",
       "<title>39</title>\n",
       "<text text-anchor=\"middle\" x=\"1350\" y=\"-105.8\" font-family=\"Times,serif\" font-size=\"14.00\">strlen ()</text>\n",
       "</g>\n",
       "<!-- 38&#45;&gt;39 -->\n",
       "<g id=\"edge39\" class=\"edge\">\n",
       "<title>38&#45;&gt;39</title>\n",
       "<path fill=\"none\" stroke=\"black\" d=\"M1528.64,-152.99C1492.32,-144.35 1428.03,-129.06 1387.29,-119.37\"/>\n",
       "<polygon fill=\"black\" stroke=\"black\" points=\"1388.01,-115.94 1377.47,-117.03 1386.39,-122.75 1388.01,-115.94\"/>\n",
       "</g>\n",
       "<!-- 40 -->\n",
       "<g id=\"node41\" class=\"node\">\n",
       "<title>40</title>\n",
       "<text text-anchor=\"middle\" x=\"1453\" y=\"-105.8\" font-family=\"Times,serif\" font-size=\"14.00\">__ctype_b_loc ()</text>\n",
       "</g>\n",
       "<!-- 38&#45;&gt;40 -->\n",
       "<g id=\"edge40\" class=\"edge\">\n",
       "<title>38&#45;&gt;40</title>\n",
       "<path fill=\"none\" stroke=\"black\" d=\"M1542.11,-152.89C1525.12,-144.81 1496.13,-131.02 1475.84,-121.37\"/>\n",
       "<polygon fill=\"black\" stroke=\"black\" points=\"1477.2,-118.14 1466.67,-117 1474.2,-124.46 1477.2,-118.14\"/>\n",
       "</g>\n",
       "<!-- 41 -->\n",
       "<g id=\"node42\" class=\"node\">\n",
       "<title>41</title>\n",
       "<text text-anchor=\"middle\" x=\"1556\" y=\"-105.8\" font-family=\"Times,serif\" font-size=\"14.00\">strlen ()</text>\n",
       "</g>\n",
       "<!-- 38&#45;&gt;41 -->\n",
       "<g id=\"edge41\" class=\"edge\">\n",
       "<title>38&#45;&gt;41</title>\n",
       "<path fill=\"none\" stroke=\"black\" d=\"M1556,-152.69C1556,-146.18 1556,-136.1 1556,-127.43\"/>\n",
       "<polygon fill=\"black\" stroke=\"black\" points=\"1559.5,-127.26 1556,-117.26 1552.5,-127.26 1559.5,-127.26\"/>\n",
       "</g>\n",
       "<!-- 42 -->\n",
       "<g id=\"node43\" class=\"node\">\n",
       "<title>42</title>\n",
       "<text text-anchor=\"middle\" x=\"1659\" y=\"-105.8\" font-family=\"Times,serif\" font-size=\"14.00\">__ctype_b_loc ()</text>\n",
       "</g>\n",
       "<!-- 38&#45;&gt;42 -->\n",
       "<g id=\"edge42\" class=\"edge\">\n",
       "<title>38&#45;&gt;42</title>\n",
       "<path fill=\"none\" stroke=\"black\" d=\"M1569.89,-152.89C1586.88,-144.81 1615.87,-131.02 1636.16,-121.37\"/>\n",
       "<polygon fill=\"black\" stroke=\"black\" points=\"1637.8,-124.46 1645.33,-117 1634.8,-118.14 1637.8,-124.46\"/>\n",
       "</g>\n",
       "<!-- 43 -->\n",
       "<g id=\"node44\" class=\"node\">\n",
       "<title>43</title>\n",
       "<text text-anchor=\"middle\" x=\"1762\" y=\"-105.8\" font-family=\"Times,serif\" font-size=\"14.00\">strlen ()</text>\n",
       "</g>\n",
       "<!-- 38&#45;&gt;43 -->\n",
       "<g id=\"edge43\" class=\"edge\">\n",
       "<title>38&#45;&gt;43</title>\n",
       "<path fill=\"none\" stroke=\"black\" d=\"M1583.36,-152.99C1619.68,-144.35 1683.97,-129.06 1724.71,-119.37\"/>\n",
       "<polygon fill=\"black\" stroke=\"black\" points=\"1725.61,-122.75 1734.53,-117.03 1723.99,-115.94 1725.61,-122.75\"/>\n",
       "</g>\n",
       "<!-- 44 -->\n",
       "<g id=\"node45\" class=\"node\">\n",
       "<title>44</title>\n",
       "<text text-anchor=\"middle\" x=\"1865\" y=\"-105.8\" font-family=\"Times,serif\" font-size=\"14.00\">__ctype_b_loc ()</text>\n",
       "</g>\n",
       "<!-- 38&#45;&gt;44 -->\n",
       "<g id=\"edge44\" class=\"edge\">\n",
       "<title>38&#45;&gt;44</title>\n",
       "<path fill=\"none\" stroke=\"black\" d=\"M1597.03,-152.99C1652.9,-144.13 1752.89,-128.28 1813.66,-118.64\"/>\n",
       "<polygon fill=\"black\" stroke=\"black\" points=\"1814.47,-122.06 1823.8,-117.03 1813.37,-115.14 1814.47,-122.06\"/>\n",
       "</g>\n",
       "<!-- 45 -->\n",
       "<g id=\"node46\" class=\"node\">\n",
       "<title>45</title>\n",
       "<text text-anchor=\"middle\" x=\"1968\" y=\"-105.8\" font-family=\"Times,serif\" font-size=\"14.00\">strlen ()</text>\n",
       "</g>\n",
       "<!-- 38&#45;&gt;45 -->\n",
       "<g id=\"edge45\" class=\"edge\">\n",
       "<title>38&#45;&gt;45</title>\n",
       "<path fill=\"none\" stroke=\"black\" d=\"M1623.37,-153C1696.17,-145.71 1815.82,-132.98 1928.77,-117.08\"/>\n",
       "<polygon fill=\"black\" stroke=\"black\" points=\"1929.57,-120.51 1938.98,-115.64 1928.59,-113.58 1929.57,-120.51\"/>\n",
       "</g>\n",
       "</g>\n",
       "</svg>\n"
      ],
      "text/plain": [
       "<graphviz.dot.Digraph at 0x7f68a7494510>"
      ]
     },
     "execution_count": 1542,
     "metadata": {},
     "output_type": "execute_result"
    }
   ],
   "source": [
    "display_tree(calc_method_tree[0], extract_node=extract_node1)"
   ]
  },
  {
   "cell_type": "markdown",
   "metadata": {},
   "source": [
    "#### Reduce Constructed tree"
   ]
  },
  {
   "cell_type": "markdown",
   "metadata": {},
   "source": [
    "Our goal here starting from the detailed tree is to iteratively reduce the tree. We carry out this tree reduction in two phases;\n",
    "\n",
    "* Phase1: Collapse subtrees which are formed from `for, while ` loops into characters.\n",
    "* Phase 2: Remove all external library functions in the tree."
   ]
  },
  {
   "cell_type": "code",
   "execution_count": 1543,
   "metadata": {
    "ExecuteTime": {
     "end_time": "2021-01-24T22:40:23.098612Z",
     "start_time": "2021-01-24T22:40:23.090446Z"
    }
   },
   "outputs": [],
   "source": [
    "def isCandidate(node):\n",
    "    return node['name'] and node['name'].startswith('_')"
   ]
  },
  {
   "cell_type": "code",
   "execution_count": 1544,
   "metadata": {
    "ExecuteTime": {
     "end_time": "2021-01-24T22:40:23.116968Z",
     "start_time": "2021-01-24T22:40:23.107400Z"
    },
    "scrolled": false
   },
   "outputs": [],
   "source": [
    "def filter_tree(node):\n",
    "    childrenToDelete = []\n",
    "    indexesToBeAdded = []\n",
    "    \n",
    "    if not node['children']:\n",
    "        if isCandidate(node):\n",
    "            return True, node['indexes'], []\n",
    "        return False, [], []\n",
    "    \n",
    "    for idx, child in enumerate(node['children']):\n",
    "        toBeDeleted, indexesOfDeletedNode, newChildren = filter_tree(child)\n",
    "\n",
    "        if toBeDeleted:\n",
    "            childrenToDelete.append(idx)\n",
    "            node['children'] += newChildren\n",
    "            for di in indexesOfDeletedNode:\n",
    "                indexesToBeAdded.append(di)\n",
    "                \n",
    "    tempIdx = []\n",
    "    childrenToDelete = set(childrenToDelete)\n",
    "    for i, c in enumerate(node['children']):\n",
    "        if i not in childrenToDelete:\n",
    "            tempIdx.append(c)\n",
    "    node['children'] = list(tempIdx)\n",
    "    \n",
    "    for idx in indexesToBeAdded:\n",
    "        node['indexes'].append(idx)\n",
    "    \n",
    "    if isCandidate(node):\n",
    "        return True, node['indexes'], node['children']\n",
    "    return False, [], []"
   ]
  },
  {
   "cell_type": "code",
   "execution_count": 1545,
   "metadata": {
    "ExecuteTime": {
     "end_time": "2021-01-24T22:40:23.123917Z",
     "start_time": "2021-01-24T22:40:23.119426Z"
    }
   },
   "outputs": [
    {
     "data": {
      "text/plain": [
       "(False, [], [])"
      ]
     },
     "execution_count": 1545,
     "metadata": {},
     "output_type": "execute_result"
    }
   ],
   "source": [
    "filter_tree(calc_method_tree[0])"
   ]
  },
  {
   "cell_type": "markdown",
   "metadata": {},
   "source": [
    "#### Tree 2"
   ]
  },
  {
   "cell_type": "code",
   "execution_count": 1546,
   "metadata": {
    "ExecuteTime": {
     "end_time": "2021-01-24T22:40:26.259276Z",
     "start_time": "2021-01-24T22:40:26.161901Z"
    }
   },
   "outputs": [
    {
     "data": {
      "image/svg+xml": [
       "<?xml version=\"1.0\" encoding=\"UTF-8\" standalone=\"no\"?>\n",
       "<!DOCTYPE svg PUBLIC \"-//W3C//DTD SVG 1.1//EN\"\n",
       " \"http://www.w3.org/Graphics/SVG/1.1/DTD/svg11.dtd\">\n",
       "<!-- Generated by graphviz version 2.43.0 (0)\n",
       " -->\n",
       "<!-- Title: %3 Pages: 1 -->\n",
       "<svg width=\"957pt\" height=\"329pt\"\n",
       " viewBox=\"0.00 0.00 957.00 329.00\" xmlns=\"http://www.w3.org/2000/svg\" xmlns:xlink=\"http://www.w3.org/1999/xlink\">\n",
       "<g id=\"graph0\" class=\"graph\" transform=\"scale(1 1) rotate(0) translate(4 325)\">\n",
       "<title>%3</title>\n",
       "<polygon fill=\"white\" stroke=\"transparent\" points=\"-4,4 -4,-325 953,-325 953,4 -4,4\"/>\n",
       "<!-- 0 -->\n",
       "<g id=\"node1\" class=\"node\">\n",
       "<title>0</title>\n",
       "<text text-anchor=\"middle\" x=\"396\" y=\"-309.8\" font-family=\"Times,serif\" font-size=\"14.00\">None ()</text>\n",
       "</g>\n",
       "<!-- 1 -->\n",
       "<g id=\"node2\" class=\"node\">\n",
       "<title>1</title>\n",
       "<text text-anchor=\"middle\" x=\"396\" y=\"-258.8\" font-family=\"Times,serif\" font-size=\"14.00\">main ()</text>\n",
       "</g>\n",
       "<!-- 0&#45;&gt;1 -->\n",
       "<g id=\"edge1\" class=\"edge\">\n",
       "<title>0&#45;&gt;1</title>\n",
       "<path fill=\"none\" stroke=\"black\" d=\"M396,-305.69C396,-299.18 396,-289.1 396,-280.43\"/>\n",
       "<polygon fill=\"black\" stroke=\"black\" points=\"399.5,-280.26 396,-270.26 392.5,-280.26 399.5,-280.26\"/>\n",
       "</g>\n",
       "<!-- 2 -->\n",
       "<g id=\"node3\" class=\"node\">\n",
       "<title>2</title>\n",
       "<text text-anchor=\"middle\" x=\"332\" y=\"-207.8\" font-family=\"Times,serif\" font-size=\"14.00\">strcpy ()</text>\n",
       "</g>\n",
       "<!-- 1&#45;&gt;2 -->\n",
       "<g id=\"edge2\" class=\"edge\">\n",
       "<title>1&#45;&gt;2</title>\n",
       "<path fill=\"none\" stroke=\"black\" d=\"M387.37,-254.89C377.48,-247.32 361.06,-234.75 348.66,-225.26\"/>\n",
       "<polygon fill=\"black\" stroke=\"black\" points=\"350.56,-222.3 340.49,-219 346.31,-227.86 350.56,-222.3\"/>\n",
       "</g>\n",
       "<!-- 3 -->\n",
       "<g id=\"node4\" class=\"node\">\n",
       "<title>3</title>\n",
       "<text text-anchor=\"middle\" x=\"460\" y=\"-207.8\" font-family=\"Times,serif\" font-size=\"14.00\">parse_expr (&#39;*&#39;, &#39;(&#39;, &#39;+&#39;)</text>\n",
       "</g>\n",
       "<!-- 1&#45;&gt;3 -->\n",
       "<g id=\"edge3\" class=\"edge\">\n",
       "<title>1&#45;&gt;3</title>\n",
       "<path fill=\"none\" stroke=\"black\" d=\"M404.63,-254.89C414.52,-247.32 430.94,-234.75 443.34,-225.26\"/>\n",
       "<polygon fill=\"black\" stroke=\"black\" points=\"445.69,-227.86 451.51,-219 441.44,-222.3 445.69,-227.86\"/>\n",
       "</g>\n",
       "<!-- 4 -->\n",
       "<g id=\"node5\" class=\"node\">\n",
       "<title>4</title>\n",
       "<text text-anchor=\"middle\" x=\"58\" y=\"-156.8\" font-family=\"Times,serif\" font-size=\"14.00\">strlen ()</text>\n",
       "</g>\n",
       "<!-- 3&#45;&gt;4 -->\n",
       "<g id=\"edge4\" class=\"edge\">\n",
       "<title>3&#45;&gt;4</title>\n",
       "<path fill=\"none\" stroke=\"black\" d=\"M395.1,-203.97C324.32,-196.62 207.48,-183.79 97,-168.06\"/>\n",
       "<polygon fill=\"black\" stroke=\"black\" points=\"97.42,-164.58 87.02,-166.63 96.42,-171.51 97.42,-164.58\"/>\n",
       "</g>\n",
       "<!-- 5 -->\n",
       "<g id=\"node6\" class=\"node\">\n",
       "<title>5</title>\n",
       "<text text-anchor=\"middle\" x=\"157\" y=\"-156.8\" font-family=\"Times,serif\" font-size=\"14.00\">parse_paren ()</text>\n",
       "</g>\n",
       "<!-- 3&#45;&gt;5 -->\n",
       "<g id=\"edge5\" class=\"edge\">\n",
       "<title>3&#45;&gt;5</title>\n",
       "<path fill=\"none\" stroke=\"black\" d=\"M419.76,-203.99C364.98,-195.13 266.94,-179.28 207.34,-169.64\"/>\n",
       "<polygon fill=\"black\" stroke=\"black\" points=\"207.83,-166.18 197.4,-168.03 206.72,-173.09 207.83,-166.18\"/>\n",
       "</g>\n",
       "<!-- 14 -->\n",
       "<g id=\"node15\" class=\"node\">\n",
       "<title>14</title>\n",
       "<text text-anchor=\"middle\" x=\"256\" y=\"-156.8\" font-family=\"Times,serif\" font-size=\"14.00\">strlen ()</text>\n",
       "</g>\n",
       "<!-- 3&#45;&gt;14 -->\n",
       "<g id=\"edge14\" class=\"edge\">\n",
       "<title>3&#45;&gt;14</title>\n",
       "<path fill=\"none\" stroke=\"black\" d=\"M432.91,-203.99C396.94,-195.35 333.27,-180.06 292.93,-170.37\"/>\n",
       "<polygon fill=\"black\" stroke=\"black\" points=\"293.74,-166.97 283.2,-168.03 292.11,-173.77 293.74,-166.97\"/>\n",
       "</g>\n",
       "<!-- 15 -->\n",
       "<g id=\"node16\" class=\"node\">\n",
       "<title>15</title>\n",
       "<text text-anchor=\"middle\" x=\"332\" y=\"-156.8\" font-family=\"Times,serif\" font-size=\"14.00\">strlen ()</text>\n",
       "</g>\n",
       "<!-- 3&#45;&gt;15 -->\n",
       "<g id=\"edge15\" class=\"edge\">\n",
       "<title>3&#45;&gt;15</title>\n",
       "<path fill=\"none\" stroke=\"black\" d=\"M443,-203.99C421.39,-195.72 383.84,-181.34 358.46,-171.63\"/>\n",
       "<polygon fill=\"black\" stroke=\"black\" points=\"359.66,-168.34 349.07,-168.03 357.16,-174.88 359.66,-168.34\"/>\n",
       "</g>\n",
       "<!-- 16 -->\n",
       "<g id=\"node17\" class=\"node\">\n",
       "<title>16</title>\n",
       "<text text-anchor=\"middle\" x=\"460\" y=\"-156.8\" font-family=\"Times,serif\" font-size=\"14.00\">parse_num (&#39;4&#39;, &#39;5&#39;, &#39;6&#39;)</text>\n",
       "</g>\n",
       "<!-- 3&#45;&gt;16 -->\n",
       "<g id=\"edge16\" class=\"edge\">\n",
       "<title>3&#45;&gt;16</title>\n",
       "<path fill=\"none\" stroke=\"black\" d=\"M460,-203.69C460,-197.18 460,-187.1 460,-178.43\"/>\n",
       "<polygon fill=\"black\" stroke=\"black\" points=\"463.5,-178.26 460,-168.26 456.5,-178.26 463.5,-178.26\"/>\n",
       "</g>\n",
       "<!-- 21 -->\n",
       "<g id=\"node22\" class=\"node\">\n",
       "<title>21</title>\n",
       "<text text-anchor=\"middle\" x=\"588\" y=\"-156.8\" font-family=\"Times,serif\" font-size=\"14.00\">strlen ()</text>\n",
       "</g>\n",
       "<!-- 3&#45;&gt;21 -->\n",
       "<g id=\"edge21\" class=\"edge\">\n",
       "<title>3&#45;&gt;21</title>\n",
       "<path fill=\"none\" stroke=\"black\" d=\"M477,-203.99C498.61,-195.72 536.16,-181.34 561.54,-171.63\"/>\n",
       "<polygon fill=\"black\" stroke=\"black\" points=\"562.84,-174.88 570.93,-168.03 560.34,-168.34 562.84,-174.88\"/>\n",
       "</g>\n",
       "<!-- 22 -->\n",
       "<g id=\"node23\" class=\"node\">\n",
       "<title>22</title>\n",
       "<text text-anchor=\"middle\" x=\"664\" y=\"-156.8\" font-family=\"Times,serif\" font-size=\"14.00\">strlen ()</text>\n",
       "</g>\n",
       "<!-- 3&#45;&gt;22 -->\n",
       "<g id=\"edge22\" class=\"edge\">\n",
       "<title>3&#45;&gt;22</title>\n",
       "<path fill=\"none\" stroke=\"black\" d=\"M487.09,-203.99C523.06,-195.35 586.73,-180.06 627.07,-170.37\"/>\n",
       "<polygon fill=\"black\" stroke=\"black\" points=\"627.89,-173.77 636.8,-168.03 626.26,-166.97 627.89,-173.77\"/>\n",
       "</g>\n",
       "<!-- 23 -->\n",
       "<g id=\"node24\" class=\"node\">\n",
       "<title>23</title>\n",
       "<text text-anchor=\"middle\" x=\"792\" y=\"-156.8\" font-family=\"Times,serif\" font-size=\"14.00\">parse_num (&#39;7&#39;, &#39;8&#39;, &#39;9&#39;)</text>\n",
       "</g>\n",
       "<!-- 3&#45;&gt;23 -->\n",
       "<g id=\"edge23\" class=\"edge\">\n",
       "<title>3&#45;&gt;23</title>\n",
       "<path fill=\"none\" stroke=\"black\" d=\"M504.09,-203.99C564.36,-195.1 672.43,-179.15 737.65,-169.52\"/>\n",
       "<polygon fill=\"black\" stroke=\"black\" points=\"738.35,-172.96 747.73,-168.03 737.33,-166.03 738.35,-172.96\"/>\n",
       "</g>\n",
       "<!-- 28 -->\n",
       "<g id=\"node29\" class=\"node\">\n",
       "<title>28</title>\n",
       "<text text-anchor=\"middle\" x=\"920\" y=\"-156.8\" font-family=\"Times,serif\" font-size=\"14.00\">strlen ()</text>\n",
       "</g>\n",
       "<!-- 3&#45;&gt;28 -->\n",
       "<g id=\"edge28\" class=\"edge\">\n",
       "<title>3&#45;&gt;28</title>\n",
       "<path fill=\"none\" stroke=\"black\" d=\"M539.53,-204.14C622.26,-197.15 755.8,-184.81 880.85,-168.05\"/>\n",
       "<polygon fill=\"black\" stroke=\"black\" points=\"881.55,-171.48 890.99,-166.68 880.61,-164.55 881.55,-171.48\"/>\n",
       "</g>\n",
       "<!-- 6 -->\n",
       "<g id=\"node7\" class=\"node\">\n",
       "<title>6</title>\n",
       "<text text-anchor=\"middle\" x=\"157\" y=\"-105.8\" font-family=\"Times,serif\" font-size=\"14.00\">parse_expr (&#39;)&#39;,)</text>\n",
       "</g>\n",
       "<!-- 5&#45;&gt;6 -->\n",
       "<g id=\"edge6\" class=\"edge\">\n",
       "<title>5&#45;&gt;6</title>\n",
       "<path fill=\"none\" stroke=\"black\" d=\"M157,-152.69C157,-146.18 157,-136.1 157,-127.43\"/>\n",
       "<polygon fill=\"black\" stroke=\"black\" points=\"160.5,-127.26 157,-117.26 153.5,-127.26 160.5,-127.26\"/>\n",
       "</g>\n",
       "<!-- 7 -->\n",
       "<g id=\"node8\" class=\"node\">\n",
       "<title>7</title>\n",
       "<text text-anchor=\"middle\" x=\"29\" y=\"-54.8\" font-family=\"Times,serif\" font-size=\"14.00\">strlen ()</text>\n",
       "</g>\n",
       "<!-- 6&#45;&gt;7 -->\n",
       "<g id=\"edge7\" class=\"edge\">\n",
       "<title>6&#45;&gt;7</title>\n",
       "<path fill=\"none\" stroke=\"black\" d=\"M140,-101.99C118.39,-93.72 80.84,-79.34 55.46,-69.63\"/>\n",
       "<polygon fill=\"black\" stroke=\"black\" points=\"56.66,-66.34 46.07,-66.03 54.16,-72.88 56.66,-66.34\"/>\n",
       "</g>\n",
       "<!-- 8 -->\n",
       "<g id=\"node9\" class=\"node\">\n",
       "<title>8</title>\n",
       "<text text-anchor=\"middle\" x=\"157\" y=\"-54.8\" font-family=\"Times,serif\" font-size=\"14.00\">parse_num (&#39;1&#39;, &#39;2&#39;, &#39;3&#39;)</text>\n",
       "</g>\n",
       "<!-- 6&#45;&gt;8 -->\n",
       "<g id=\"edge8\" class=\"edge\">\n",
       "<title>6&#45;&gt;8</title>\n",
       "<path fill=\"none\" stroke=\"black\" d=\"M157,-101.69C157,-95.18 157,-85.1 157,-76.43\"/>\n",
       "<polygon fill=\"black\" stroke=\"black\" points=\"160.5,-76.26 157,-66.26 153.5,-76.26 160.5,-76.26\"/>\n",
       "</g>\n",
       "<!-- 13 -->\n",
       "<g id=\"node14\" class=\"node\">\n",
       "<title>13</title>\n",
       "<text text-anchor=\"middle\" x=\"285\" y=\"-54.8\" font-family=\"Times,serif\" font-size=\"14.00\">strlen ()</text>\n",
       "</g>\n",
       "<!-- 6&#45;&gt;13 -->\n",
       "<g id=\"edge13\" class=\"edge\">\n",
       "<title>6&#45;&gt;13</title>\n",
       "<path fill=\"none\" stroke=\"black\" d=\"M174,-101.99C195.61,-93.72 233.16,-79.34 258.54,-69.63\"/>\n",
       "<polygon fill=\"black\" stroke=\"black\" points=\"259.84,-72.88 267.93,-66.03 257.34,-66.34 259.84,-72.88\"/>\n",
       "</g>\n",
       "<!-- 9 -->\n",
       "<g id=\"node10\" class=\"node\">\n",
       "<title>9</title>\n",
       "<text text-anchor=\"middle\" x=\"43\" y=\"-3.8\" font-family=\"Times,serif\" font-size=\"14.00\">strlen ()</text>\n",
       "</g>\n",
       "<!-- 8&#45;&gt;9 -->\n",
       "<g id=\"edge9\" class=\"edge\">\n",
       "<title>8&#45;&gt;9</title>\n",
       "<path fill=\"none\" stroke=\"black\" d=\"M141.63,-50.89C122.57,-42.7 89.86,-28.64 67.37,-18.97\"/>\n",
       "<polygon fill=\"black\" stroke=\"black\" points=\"68.7,-15.74 58.13,-15 65.94,-22.17 68.7,-15.74\"/>\n",
       "</g>\n",
       "<!-- 10 -->\n",
       "<g id=\"node11\" class=\"node\">\n",
       "<title>10</title>\n",
       "<text text-anchor=\"middle\" x=\"119\" y=\"-3.8\" font-family=\"Times,serif\" font-size=\"14.00\">strlen ()</text>\n",
       "</g>\n",
       "<!-- 8&#45;&gt;10 -->\n",
       "<g id=\"edge10\" class=\"edge\">\n",
       "<title>8&#45;&gt;10</title>\n",
       "<path fill=\"none\" stroke=\"black\" d=\"M151.72,-50.69C146.27,-43.67 137.61,-32.49 130.56,-23.41\"/>\n",
       "<polygon fill=\"black\" stroke=\"black\" points=\"133.13,-21.01 124.24,-15.26 127.6,-25.3 133.13,-21.01\"/>\n",
       "</g>\n",
       "<!-- 11 -->\n",
       "<g id=\"node12\" class=\"node\">\n",
       "<title>11</title>\n",
       "<text text-anchor=\"middle\" x=\"195\" y=\"-3.8\" font-family=\"Times,serif\" font-size=\"14.00\">strlen ()</text>\n",
       "</g>\n",
       "<!-- 8&#45;&gt;11 -->\n",
       "<g id=\"edge11\" class=\"edge\">\n",
       "<title>8&#45;&gt;11</title>\n",
       "<path fill=\"none\" stroke=\"black\" d=\"M162.28,-50.69C167.73,-43.67 176.39,-32.49 183.44,-23.41\"/>\n",
       "<polygon fill=\"black\" stroke=\"black\" points=\"186.4,-25.3 189.76,-15.26 180.87,-21.01 186.4,-25.3\"/>\n",
       "</g>\n",
       "<!-- 12 -->\n",
       "<g id=\"node13\" class=\"node\">\n",
       "<title>12</title>\n",
       "<text text-anchor=\"middle\" x=\"271\" y=\"-3.8\" font-family=\"Times,serif\" font-size=\"14.00\">strlen ()</text>\n",
       "</g>\n",
       "<!-- 8&#45;&gt;12 -->\n",
       "<g id=\"edge12\" class=\"edge\">\n",
       "<title>8&#45;&gt;12</title>\n",
       "<path fill=\"none\" stroke=\"black\" d=\"M172.37,-50.89C191.43,-42.7 224.14,-28.64 246.63,-18.97\"/>\n",
       "<polygon fill=\"black\" stroke=\"black\" points=\"248.06,-22.17 255.87,-15 245.3,-15.74 248.06,-22.17\"/>\n",
       "</g>\n",
       "<!-- 17 -->\n",
       "<g id=\"node18\" class=\"node\">\n",
       "<title>17</title>\n",
       "<text text-anchor=\"middle\" x=\"322\" y=\"-105.8\" font-family=\"Times,serif\" font-size=\"14.00\">strlen ()</text>\n",
       "</g>\n",
       "<!-- 16&#45;&gt;17 -->\n",
       "<g id=\"edge17\" class=\"edge\">\n",
       "<title>16&#45;&gt;17</title>\n",
       "<path fill=\"none\" stroke=\"black\" d=\"M441.67,-152.99C418.27,-144.68 377.53,-130.22 350.17,-120.5\"/>\n",
       "<polygon fill=\"black\" stroke=\"black\" points=\"351,-117.08 340.4,-117.03 348.65,-123.68 351,-117.08\"/>\n",
       "</g>\n",
       "<!-- 18 -->\n",
       "<g id=\"node19\" class=\"node\">\n",
       "<title>18</title>\n",
       "<text text-anchor=\"middle\" x=\"398\" y=\"-105.8\" font-family=\"Times,serif\" font-size=\"14.00\">strlen ()</text>\n",
       "</g>\n",
       "<!-- 16&#45;&gt;18 -->\n",
       "<g id=\"edge18\" class=\"edge\">\n",
       "<title>16&#45;&gt;18</title>\n",
       "<path fill=\"none\" stroke=\"black\" d=\"M451.64,-152.89C442.06,-145.32 426.15,-132.75 414.14,-123.26\"/>\n",
       "<polygon fill=\"black\" stroke=\"black\" points=\"416.24,-120.46 406.23,-117 411.9,-125.95 416.24,-120.46\"/>\n",
       "</g>\n",
       "<!-- 19 -->\n",
       "<g id=\"node20\" class=\"node\">\n",
       "<title>19</title>\n",
       "<text text-anchor=\"middle\" x=\"474\" y=\"-105.8\" font-family=\"Times,serif\" font-size=\"14.00\">strlen ()</text>\n",
       "</g>\n",
       "<!-- 16&#45;&gt;19 -->\n",
       "<g id=\"edge19\" class=\"edge\">\n",
       "<title>16&#45;&gt;19</title>\n",
       "<path fill=\"none\" stroke=\"black\" d=\"M461.95,-152.69C463.83,-146.1 466.75,-135.87 469.25,-127.14\"/>\n",
       "<polygon fill=\"black\" stroke=\"black\" points=\"472.69,-127.83 472.07,-117.26 465.96,-125.91 472.69,-127.83\"/>\n",
       "</g>\n",
       "<!-- 20 -->\n",
       "<g id=\"node21\" class=\"node\">\n",
       "<title>20</title>\n",
       "<text text-anchor=\"middle\" x=\"550\" y=\"-105.8\" font-family=\"Times,serif\" font-size=\"14.00\">strlen ()</text>\n",
       "</g>\n",
       "<!-- 16&#45;&gt;20 -->\n",
       "<g id=\"edge20\" class=\"edge\">\n",
       "<title>16&#45;&gt;20</title>\n",
       "<path fill=\"none\" stroke=\"black\" d=\"M472.14,-152.89C486.71,-144.96 511.4,-131.52 529.07,-121.9\"/>\n",
       "<polygon fill=\"black\" stroke=\"black\" points=\"530.95,-124.86 538.05,-117 527.6,-118.71 530.95,-124.86\"/>\n",
       "</g>\n",
       "<!-- 24 -->\n",
       "<g id=\"node25\" class=\"node\">\n",
       "<title>24</title>\n",
       "<text text-anchor=\"middle\" x=\"678\" y=\"-105.8\" font-family=\"Times,serif\" font-size=\"14.00\">strlen ()</text>\n",
       "</g>\n",
       "<!-- 23&#45;&gt;24 -->\n",
       "<g id=\"edge24\" class=\"edge\">\n",
       "<title>23&#45;&gt;24</title>\n",
       "<path fill=\"none\" stroke=\"black\" d=\"M776.63,-152.89C757.57,-144.7 724.86,-130.64 702.37,-120.97\"/>\n",
       "<polygon fill=\"black\" stroke=\"black\" points=\"703.7,-117.74 693.13,-117 700.94,-124.17 703.7,-117.74\"/>\n",
       "</g>\n",
       "<!-- 25 -->\n",
       "<g id=\"node26\" class=\"node\">\n",
       "<title>25</title>\n",
       "<text text-anchor=\"middle\" x=\"754\" y=\"-105.8\" font-family=\"Times,serif\" font-size=\"14.00\">strlen ()</text>\n",
       "</g>\n",
       "<!-- 23&#45;&gt;25 -->\n",
       "<g id=\"edge25\" class=\"edge\">\n",
       "<title>23&#45;&gt;25</title>\n",
       "<path fill=\"none\" stroke=\"black\" d=\"M786.72,-152.69C781.27,-145.67 772.61,-134.49 765.56,-125.41\"/>\n",
       "<polygon fill=\"black\" stroke=\"black\" points=\"768.13,-123.01 759.24,-117.26 762.6,-127.3 768.13,-123.01\"/>\n",
       "</g>\n",
       "<!-- 26 -->\n",
       "<g id=\"node27\" class=\"node\">\n",
       "<title>26</title>\n",
       "<text text-anchor=\"middle\" x=\"830\" y=\"-105.8\" font-family=\"Times,serif\" font-size=\"14.00\">strlen ()</text>\n",
       "</g>\n",
       "<!-- 23&#45;&gt;26 -->\n",
       "<g id=\"edge26\" class=\"edge\">\n",
       "<title>23&#45;&gt;26</title>\n",
       "<path fill=\"none\" stroke=\"black\" d=\"M797.28,-152.69C802.73,-145.67 811.39,-134.49 818.44,-125.41\"/>\n",
       "<polygon fill=\"black\" stroke=\"black\" points=\"821.4,-127.3 824.76,-117.26 815.87,-123.01 821.4,-127.3\"/>\n",
       "</g>\n",
       "<!-- 27 -->\n",
       "<g id=\"node28\" class=\"node\">\n",
       "<title>27</title>\n",
       "<text text-anchor=\"middle\" x=\"906\" y=\"-105.8\" font-family=\"Times,serif\" font-size=\"14.00\">strlen ()</text>\n",
       "</g>\n",
       "<!-- 23&#45;&gt;27 -->\n",
       "<g id=\"edge27\" class=\"edge\">\n",
       "<title>23&#45;&gt;27</title>\n",
       "<path fill=\"none\" stroke=\"black\" d=\"M807.37,-152.89C826.43,-144.7 859.14,-130.64 881.63,-120.97\"/>\n",
       "<polygon fill=\"black\" stroke=\"black\" points=\"883.06,-124.17 890.87,-117 880.3,-117.74 883.06,-124.17\"/>\n",
       "</g>\n",
       "</g>\n",
       "</svg>\n"
      ],
      "text/plain": [
       "<graphviz.dot.Digraph at 0x7f68a745ea90>"
      ]
     },
     "execution_count": 1546,
     "metadata": {},
     "output_type": "execute_result"
    }
   ],
   "source": [
    "display_tree(calc_method_tree[0], extract_node=extract_node1)"
   ]
  },
  {
   "cell_type": "markdown",
   "metadata": {},
   "source": [
    "To remove all external library functions in the tree, we only need to redefine the function `isCandidate` to only consider nodes which are external library calls for removal."
   ]
  },
  {
   "cell_type": "code",
   "execution_count": 1547,
   "metadata": {
    "ExecuteTime": {
     "end_time": "2021-01-24T22:40:35.210352Z",
     "start_time": "2021-01-24T22:40:35.204920Z"
    }
   },
   "outputs": [],
   "source": [
    "def isCandidate(node):\n",
    "    return node['name'] not in ['parse_num', 'parse_expr', 'parse_paren', 'main']"
   ]
  },
  {
   "cell_type": "markdown",
   "metadata": {},
   "source": [
    "#### Tree 3"
   ]
  },
  {
   "cell_type": "code",
   "execution_count": 1548,
   "metadata": {
    "ExecuteTime": {
     "end_time": "2021-01-24T22:40:35.820871Z",
     "start_time": "2021-01-24T22:40:35.815639Z"
    },
    "scrolled": false
   },
   "outputs": [
    {
     "data": {
      "text/plain": [
       "(True,\n",
       " [],\n",
       " [{'id': 1,\n",
       "   'name': 'main',\n",
       "   'indexes': [],\n",
       "   'children': [{'id': 3,\n",
       "     'name': 'parse_expr',\n",
       "     'indexes': [9, 0, 5],\n",
       "     'children': [{'id': 6,\n",
       "       'name': 'parse_paren',\n",
       "       'indexes': [],\n",
       "       'children': [{'id': 7,\n",
       "         'name': 'parse_expr',\n",
       "         'indexes': [4],\n",
       "         'children': [{'id': 10,\n",
       "           'name': 'parse_num',\n",
       "           'indexes': [1, 2, 3],\n",
       "           'children': []}]}]},\n",
       "      {'id': 25, 'name': 'parse_num', 'indexes': [6, 7, 8], 'children': []},\n",
       "      {'id': 38,\n",
       "       'name': 'parse_num',\n",
       "       'indexes': [10, 11, 12],\n",
       "       'children': []}]}]}])"
      ]
     },
     "execution_count": 1548,
     "metadata": {},
     "output_type": "execute_result"
    }
   ],
   "source": [
    "filter_tree(calc_method_tree[0])"
   ]
  },
  {
   "cell_type": "code",
   "execution_count": 1549,
   "metadata": {
    "ExecuteTime": {
     "end_time": "2021-01-24T22:40:35.868205Z",
     "start_time": "2021-01-24T22:40:35.823841Z"
    },
    "scrolled": false
   },
   "outputs": [
    {
     "data": {
      "image/svg+xml": [
       "<?xml version=\"1.0\" encoding=\"UTF-8\" standalone=\"no\"?>\n",
       "<!DOCTYPE svg PUBLIC \"-//W3C//DTD SVG 1.1//EN\"\n",
       " \"http://www.w3.org/Graphics/SVG/1.1/DTD/svg11.dtd\">\n",
       "<!-- Generated by graphviz version 2.43.0 (0)\n",
       " -->\n",
       "<!-- Title: %3 Pages: 1 -->\n",
       "<svg width=\"498pt\" height=\"278pt\"\n",
       " viewBox=\"0.00 0.00 498.00 278.00\" xmlns=\"http://www.w3.org/2000/svg\" xmlns:xlink=\"http://www.w3.org/1999/xlink\">\n",
       "<g id=\"graph0\" class=\"graph\" transform=\"scale(1 1) rotate(0) translate(4 274)\">\n",
       "<title>%3</title>\n",
       "<polygon fill=\"white\" stroke=\"transparent\" points=\"-4,4 -4,-274 494,-274 494,4 -4,4\"/>\n",
       "<!-- 0 -->\n",
       "<g id=\"node1\" class=\"node\">\n",
       "<title>0</title>\n",
       "<text text-anchor=\"middle\" x=\"230.5\" y=\"-258.8\" font-family=\"Times,serif\" font-size=\"14.00\">None ()</text>\n",
       "</g>\n",
       "<!-- 1 -->\n",
       "<g id=\"node2\" class=\"node\">\n",
       "<title>1</title>\n",
       "<text text-anchor=\"middle\" x=\"230.5\" y=\"-207.8\" font-family=\"Times,serif\" font-size=\"14.00\">main ()</text>\n",
       "</g>\n",
       "<!-- 0&#45;&gt;1 -->\n",
       "<g id=\"edge1\" class=\"edge\">\n",
       "<title>0&#45;&gt;1</title>\n",
       "<path fill=\"none\" stroke=\"black\" d=\"M230.5,-254.69C230.5,-248.18 230.5,-238.1 230.5,-229.43\"/>\n",
       "<polygon fill=\"black\" stroke=\"black\" points=\"234,-229.26 230.5,-219.26 227,-229.26 234,-229.26\"/>\n",
       "</g>\n",
       "<!-- 2 -->\n",
       "<g id=\"node3\" class=\"node\">\n",
       "<title>2</title>\n",
       "<text text-anchor=\"middle\" x=\"230.5\" y=\"-156.8\" font-family=\"Times,serif\" font-size=\"14.00\">parse_expr (&#39;*&#39;, &#39;(&#39;, &#39;+&#39;)</text>\n",
       "</g>\n",
       "<!-- 1&#45;&gt;2 -->\n",
       "<g id=\"edge2\" class=\"edge\">\n",
       "<title>1&#45;&gt;2</title>\n",
       "<path fill=\"none\" stroke=\"black\" d=\"M230.5,-203.69C230.5,-197.18 230.5,-187.1 230.5,-178.43\"/>\n",
       "<polygon fill=\"black\" stroke=\"black\" points=\"234,-178.26 230.5,-168.26 227,-178.26 234,-178.26\"/>\n",
       "</g>\n",
       "<!-- 3 -->\n",
       "<g id=\"node4\" class=\"node\">\n",
       "<title>3</title>\n",
       "<text text-anchor=\"middle\" x=\"80.5\" y=\"-105.8\" font-family=\"Times,serif\" font-size=\"14.00\">parse_paren ()</text>\n",
       "</g>\n",
       "<!-- 2&#45;&gt;3 -->\n",
       "<g id=\"edge3\" class=\"edge\">\n",
       "<title>2&#45;&gt;3</title>\n",
       "<path fill=\"none\" stroke=\"black\" d=\"M210.58,-152.99C184.92,-144.61 140.08,-129.96 110.34,-120.25\"/>\n",
       "<polygon fill=\"black\" stroke=\"black\" points=\"111.09,-116.81 100.5,-117.03 108.92,-123.47 111.09,-116.81\"/>\n",
       "</g>\n",
       "<!-- 6 -->\n",
       "<g id=\"node7\" class=\"node\">\n",
       "<title>6</title>\n",
       "<text text-anchor=\"middle\" x=\"230.5\" y=\"-105.8\" font-family=\"Times,serif\" font-size=\"14.00\">parse_num (&#39;4&#39;, &#39;5&#39;, &#39;6&#39;)</text>\n",
       "</g>\n",
       "<!-- 2&#45;&gt;6 -->\n",
       "<g id=\"edge6\" class=\"edge\">\n",
       "<title>2&#45;&gt;6</title>\n",
       "<path fill=\"none\" stroke=\"black\" d=\"M230.5,-152.69C230.5,-146.18 230.5,-136.1 230.5,-127.43\"/>\n",
       "<polygon fill=\"black\" stroke=\"black\" points=\"234,-127.26 230.5,-117.26 227,-127.26 234,-127.26\"/>\n",
       "</g>\n",
       "<!-- 7 -->\n",
       "<g id=\"node8\" class=\"node\">\n",
       "<title>7</title>\n",
       "<text text-anchor=\"middle\" x=\"409.5\" y=\"-105.8\" font-family=\"Times,serif\" font-size=\"14.00\">parse_num (&#39;7&#39;, &#39;8&#39;, &#39;9&#39;)</text>\n",
       "</g>\n",
       "<!-- 2&#45;&gt;7 -->\n",
       "<g id=\"edge7\" class=\"edge\">\n",
       "<title>2&#45;&gt;7</title>\n",
       "<path fill=\"none\" stroke=\"black\" d=\"M254.27,-152.99C285.43,-144.46 340.28,-129.45 375.74,-119.74\"/>\n",
       "<polygon fill=\"black\" stroke=\"black\" points=\"376.91,-123.05 385.63,-117.03 375.06,-116.3 376.91,-123.05\"/>\n",
       "</g>\n",
       "<!-- 4 -->\n",
       "<g id=\"node5\" class=\"node\">\n",
       "<title>4</title>\n",
       "<text text-anchor=\"middle\" x=\"80.5\" y=\"-54.8\" font-family=\"Times,serif\" font-size=\"14.00\">parse_expr (&#39;)&#39;,)</text>\n",
       "</g>\n",
       "<!-- 3&#45;&gt;4 -->\n",
       "<g id=\"edge4\" class=\"edge\">\n",
       "<title>3&#45;&gt;4</title>\n",
       "<path fill=\"none\" stroke=\"black\" d=\"M80.5,-101.69C80.5,-95.18 80.5,-85.1 80.5,-76.43\"/>\n",
       "<polygon fill=\"black\" stroke=\"black\" points=\"84,-76.26 80.5,-66.26 77,-76.26 84,-76.26\"/>\n",
       "</g>\n",
       "<!-- 5 -->\n",
       "<g id=\"node6\" class=\"node\">\n",
       "<title>5</title>\n",
       "<text text-anchor=\"middle\" x=\"80.5\" y=\"-3.8\" font-family=\"Times,serif\" font-size=\"14.00\">parse_num (&#39;1&#39;, &#39;2&#39;, &#39;3&#39;)</text>\n",
       "</g>\n",
       "<!-- 4&#45;&gt;5 -->\n",
       "<g id=\"edge5\" class=\"edge\">\n",
       "<title>4&#45;&gt;5</title>\n",
       "<path fill=\"none\" stroke=\"black\" d=\"M80.5,-50.69C80.5,-44.18 80.5,-34.1 80.5,-25.43\"/>\n",
       "<polygon fill=\"black\" stroke=\"black\" points=\"84,-25.26 80.5,-15.26 77,-25.26 84,-25.26\"/>\n",
       "</g>\n",
       "</g>\n",
       "</svg>\n"
      ],
      "text/plain": [
       "<graphviz.dot.Digraph at 0x7f68a745e750>"
      ]
     },
     "execution_count": 1549,
     "metadata": {},
     "output_type": "execute_result"
    }
   ],
   "source": [
    "display_tree(calc_method_tree[0], extract_node=extract_node1)"
   ]
  },
  {
   "cell_type": "markdown",
   "metadata": {},
   "source": [
    "Convert a list of indexes to a corresponding terminal tree node"
   ]
  },
  {
   "cell_type": "code",
   "execution_count": 1436,
   "metadata": {
    "ExecuteTime": {
     "end_time": "2021-01-24T16:17:23.351869Z",
     "start_time": "2021-01-24T16:17:23.340557Z"
    }
   },
   "outputs": [],
   "source": [
    "def to_node(idxes, my_str):\n",
    "    assert len(idxes) == idxes[-1] - idxes[0] + 1\n",
    "    assert min(idxes) == idxes[0]\n",
    "    assert max(idxes) == idxes[-1]\n",
    "    return my_str[idxes[0]:idxes[-1] + 1], [], idxes[0], idxes[-1]"
   ]
  },
  {
   "cell_type": "code",
   "execution_count": 1437,
   "metadata": {
    "ExecuteTime": {
     "end_time": "2021-01-24T16:17:23.363899Z",
     "start_time": "2021-01-24T16:17:23.359756Z"
    }
   },
   "outputs": [],
   "source": [
    "from operator import itemgetter\n",
    "import itertools as it"
   ]
  },
  {
   "cell_type": "markdown",
   "metadata": {},
   "source": [
    "We now need to identify the terminal (leaf) nodes. For that, we want to group contiguous letters in a node together, and call it a leaf node. So, convert our list of indexes to lists of contiguous indexes first, then convert them to terminal tree nodes. Then, return a set of one level child nodes with contiguous chars from indexes."
   ]
  },
  {
   "cell_type": "code",
   "execution_count": 1438,
   "metadata": {
    "ExecuteTime": {
     "end_time": "2021-01-24T16:17:23.852937Z",
     "start_time": "2021-01-24T16:17:23.849624Z"
    }
   },
   "outputs": [],
   "source": [
    "def indexes_to_children(indexes, my_str):\n",
    "    lst = [\n",
    "        list(map(itemgetter(1), g))\n",
    "        for k, g in it.groupby(enumerate(indexes), lambda x: x[0] - x[1])\n",
    "    ]\n",
    "\n",
    "    return [to_node(n, my_str) for n in lst]"
   ]
  },
  {
   "cell_type": "markdown",
   "metadata": {},
   "source": [
    "Finally, we need to remove the overlap from the trees we have so far. The idea is that, given a node, each child node of that node should be uniquely responsible for a specified range of characters, with no overlap allowed between the children. The starting of the first child to ending of the last child will be the range of the node."
   ]
  },
  {
   "cell_type": "markdown",
   "metadata": {},
   "source": [
    "#### Removing Overlap\n",
    "If overlap is found, the tie is biased to the later child. That is, the later child gets to keep the range, and the former child is recursively traversed to remove overlaps from its children. If a child is completely included in the overlap, the child is excised. A few convenience functions first:"
   ]
  },
  {
   "cell_type": "code",
   "execution_count": 220,
   "metadata": {
    "ExecuteTime": {
     "end_time": "2021-01-23T11:36:32.131808Z",
     "start_time": "2021-01-23T11:36:32.127878Z"
    }
   },
   "outputs": [],
   "source": [
    "def does_item_overlap(r, r_):\n",
    "    (s, e), (s_, e_) = r, r_\n",
    "    return ((s_ >= s and s_ <= e) or \n",
    "            (e_ >= s and e_ <= e) or \n",
    "            (s_ <= s and e_ >= e))"
   ]
  },
  {
   "cell_type": "code",
   "execution_count": 221,
   "metadata": {
    "ExecuteTime": {
     "end_time": "2021-01-23T11:36:32.139534Z",
     "start_time": "2021-01-23T11:36:32.136470Z"
    }
   },
   "outputs": [],
   "source": [
    "def is_second_item_included(r, r_):\n",
    "    (s, e), (s_, e_) = r, r_\n",
    "    return (s_ >= s and e_ <= e)"
   ]
  },
  {
   "cell_type": "code",
   "execution_count": 222,
   "metadata": {
    "ExecuteTime": {
     "end_time": "2021-01-23T11:36:32.147061Z",
     "start_time": "2021-01-23T11:36:32.144174Z"
    }
   },
   "outputs": [],
   "source": [
    "def has_overlap(ranges, r_):\n",
    "    return {r for r in ranges if does_item_overlap(r, r_)}"
   ]
  },
  {
   "cell_type": "code",
   "execution_count": 223,
   "metadata": {
    "ExecuteTime": {
     "end_time": "2021-01-23T11:36:32.154457Z",
     "start_time": "2021-01-23T11:36:32.151515Z"
    }
   },
   "outputs": [],
   "source": [
    "def is_included(ranges, r_):\n",
    "    return {r for r in ranges if is_second_item_included(r, r_)}"
   ]
  },
  {
   "cell_type": "code",
   "execution_count": 224,
   "metadata": {
    "ExecuteTime": {
     "end_time": "2021-01-23T11:36:32.164043Z",
     "start_time": "2021-01-23T11:36:32.158383Z"
    }
   },
   "outputs": [],
   "source": [
    "def remove_overlap_from(original_node, orange):\n",
    "    node, children, start, end = original_node\n",
    "    new_children = []\n",
    "    if not children:\n",
    "        return None\n",
    "    start = -1\n",
    "    end = -1\n",
    "    for child in children:\n",
    "        if does_item_overlap(child[2:4], orange):\n",
    "            new_child = remove_overlap_from(child, orange)\n",
    "            if new_child: # and new_child[1]:\n",
    "                if start == -1: start = new_child[2]\n",
    "                new_children.append(new_child)\n",
    "                end = new_child[3]\n",
    "        else:\n",
    "            new_children.append(child)\n",
    "            if start == -1: start = child[2]\n",
    "            end = child[3]\n",
    "    if not new_children:\n",
    "        return None\n",
    "    assert start != -1\n",
    "    assert end != -1\n",
    "    return (node, new_children, start, end)"
   ]
  },
  {
   "cell_type": "markdown",
   "metadata": {},
   "source": [
    "Verify that there is no overlap."
   ]
  },
  {
   "cell_type": "code",
   "execution_count": 225,
   "metadata": {
    "ExecuteTime": {
     "end_time": "2021-01-23T11:36:32.668660Z",
     "start_time": "2021-01-23T11:36:32.663924Z"
    }
   },
   "outputs": [],
   "source": [
    "def no_overlap(arr):\n",
    "    my_ranges = {}\n",
    "    for a in arr:\n",
    "        _, _, s, e = a\n",
    "        r = (s, e)\n",
    "        included = is_included(my_ranges, r)\n",
    "        if included:\n",
    "            continue  # we will fill up the blanks later.\n",
    "        else:\n",
    "            overlaps = has_overlap(my_ranges, r) \n",
    "            if overlaps:\n",
    "                # unlike include which can happen only once in a set of\n",
    "                # non-overlapping ranges, overlaps can happen on multiple parts.\n",
    "                # The rule is, the later child gets the say. So, we recursively\n",
    "                # remove any ranges that overlap with the current one from the\n",
    "                # overlapped range.\n",
    "                assert len(overlaps) == 1\n",
    "                oitem = list(overlaps)[0]\n",
    "                v = remove_overlap_from(my_ranges[oitem], r)\n",
    "                del my_ranges[oitem]\n",
    "                if v:\n",
    "                    my_ranges[v[2:4]] = v\n",
    "                my_ranges[r] = a\n",
    "            else:\n",
    "                my_ranges[r] = a\n",
    "    res = my_ranges.values()\n",
    "    # assert no overlap, and order by starting index\n",
    "    s = sorted(res, key=lambda x: x[2])\n",
    "    return s"
   ]
  },
  {
   "cell_type": "markdown",
   "metadata": {},
   "source": [
    "#### Generate derivation tree\n",
    "\n",
    "Convert a mapped tree to the _fuzzingbook_ style derivation tree."
   ]
  },
  {
   "cell_type": "code",
   "execution_count": 1155,
   "metadata": {
    "ExecuteTime": {
     "end_time": "2021-01-24T14:37:39.885666Z",
     "start_time": "2021-01-24T14:37:39.871055Z"
    }
   },
   "outputs": [],
   "source": [
    "def to_tree(node, my_str):\n",
    "    method_name = (\"<%s>\" % node['name']) if node['name'] is not None else '<START>'\n",
    "    indexes = node['indexes']\n",
    "    node_children = [to_tree(c, my_str) for c in node.get('children', [])]\n",
    "    idx_children = indexes_to_children(indexes, my_str)\n",
    "    children = no_overlap([c for c in node_children if c is not None] + idx_children)\n",
    "    if not children:\n",
    "        return None\n",
    "    start_idx = children[0][2]\n",
    "    end_idx = children[-1][3]\n",
    "    si = start_idx\n",
    "    my_children = []\n",
    "    # FILL IN chars that we did not compare. This is likely due to an i + n\n",
    "    # instruction.\n",
    "    for c in children:\n",
    "        if c[2] != si:\n",
    "            sbs = my_str[si: c[2]]\n",
    "            my_children.append((sbs, [], si, c[2] - 1))\n",
    "        my_children.append(c)\n",
    "        si = c[3] + 1\n",
    "\n",
    "    m = (method_name, my_children, start_idx, end_idx)\n",
    "    return m"
   ]
  },
  {
   "cell_type": "code",
   "execution_count": 1156,
   "metadata": {
    "ExecuteTime": {
     "end_time": "2021-01-24T14:37:39.900421Z",
     "start_time": "2021-01-24T14:37:39.888644Z"
    }
   },
   "outputs": [],
   "source": [
    "def is_nt(v):\n",
    "    return len(v) > 1 and (v[0], v[-1]) == ('<', '>')"
   ]
  },
  {
   "cell_type": "code",
   "execution_count": 1157,
   "metadata": {
    "ExecuteTime": {
     "end_time": "2021-01-24T14:37:39.907558Z",
     "start_time": "2021-01-24T14:37:39.902876Z"
    }
   },
   "outputs": [],
   "source": [
    "def tree_to_str(tree): # Non recursive\n",
    "    expanded = []\n",
    "    to_expand = [tree]\n",
    "    while to_expand:\n",
    "        (key, children, *rest), *to_expand = to_expand\n",
    "        if is_nt(key):\n",
    "            to_expand = children + to_expand\n",
    "        else:\n",
    "            assert not children\n",
    "            expanded.append(key)\n",
    "    return ''.join(expanded)"
   ]
  },
  {
   "cell_type": "markdown",
   "metadata": {},
   "source": [
    "#### Tree 3: in Fuzzing Book Style"
   ]
  },
  {
   "cell_type": "code",
   "execution_count": 1550,
   "metadata": {
    "ExecuteTime": {
     "end_time": "2021-01-24T22:40:41.425483Z",
     "start_time": "2021-01-24T22:40:41.372575Z"
    },
    "scrolled": false
   },
   "outputs": [
    {
     "data": {
      "image/svg+xml": [
       "<?xml version=\"1.0\" encoding=\"UTF-8\" standalone=\"no\"?>\n",
       "<!DOCTYPE svg PUBLIC \"-//W3C//DTD SVG 1.1//EN\"\n",
       " \"http://www.w3.org/Graphics/SVG/1.1/DTD/svg11.dtd\">\n",
       "<!-- Generated by graphviz version 2.43.0 (0)\n",
       " -->\n",
       "<!-- Title: %3 Pages: 1 -->\n",
       "<svg width=\"450pt\" height=\"329pt\"\n",
       " viewBox=\"0.00 0.00 450.00 329.00\" xmlns=\"http://www.w3.org/2000/svg\" xmlns:xlink=\"http://www.w3.org/1999/xlink\">\n",
       "<g id=\"graph0\" class=\"graph\" transform=\"scale(1 1) rotate(0) translate(4 325)\">\n",
       "<title>%3</title>\n",
       "<polygon fill=\"white\" stroke=\"transparent\" points=\"-4,4 -4,-325 446,-325 446,4 -4,4\"/>\n",
       "<!-- 0 -->\n",
       "<g id=\"node1\" class=\"node\">\n",
       "<title>0</title>\n",
       "<text text-anchor=\"middle\" x=\"206.5\" y=\"-309.8\" font-family=\"Times,serif\" font-size=\"14.00\">&lt;START&gt;</text>\n",
       "</g>\n",
       "<!-- 1 -->\n",
       "<g id=\"node2\" class=\"node\">\n",
       "<title>1</title>\n",
       "<text text-anchor=\"middle\" x=\"206.5\" y=\"-258.8\" font-family=\"Times,serif\" font-size=\"14.00\">&lt;main&gt;</text>\n",
       "</g>\n",
       "<!-- 0&#45;&gt;1 -->\n",
       "<g id=\"edge1\" class=\"edge\">\n",
       "<title>0&#45;&gt;1</title>\n",
       "<path fill=\"none\" stroke=\"black\" d=\"M206.5,-305.69C206.5,-299.18 206.5,-289.1 206.5,-280.43\"/>\n",
       "<polygon fill=\"black\" stroke=\"black\" points=\"210,-280.26 206.5,-270.26 203,-280.26 210,-280.26\"/>\n",
       "</g>\n",
       "<!-- 2 -->\n",
       "<g id=\"node3\" class=\"node\">\n",
       "<title>2</title>\n",
       "<text text-anchor=\"middle\" x=\"206.5\" y=\"-207.8\" font-family=\"Times,serif\" font-size=\"14.00\">&lt;parse_expr&gt;</text>\n",
       "</g>\n",
       "<!-- 1&#45;&gt;2 -->\n",
       "<g id=\"edge2\" class=\"edge\">\n",
       "<title>1&#45;&gt;2</title>\n",
       "<path fill=\"none\" stroke=\"black\" d=\"M206.5,-254.69C206.5,-248.18 206.5,-238.1 206.5,-229.43\"/>\n",
       "<polygon fill=\"black\" stroke=\"black\" points=\"210,-229.26 206.5,-219.26 203,-229.26 210,-229.26\"/>\n",
       "</g>\n",
       "<!-- 3 -->\n",
       "<g id=\"node4\" class=\"node\">\n",
       "<title>3</title>\n",
       "<text text-anchor=\"middle\" x=\"10.5\" y=\"-156.8\" font-family=\"Times,serif\" font-size=\"14.00\">(</text>\n",
       "</g>\n",
       "<!-- 2&#45;&gt;3 -->\n",
       "<g id=\"edge3\" class=\"edge\">\n",
       "<title>2&#45;&gt;3</title>\n",
       "<path fill=\"none\" stroke=\"black\" d=\"M163.52,-203.95C125.61,-197.39 69.26,-185.69 22.5,-168 22.4,-167.96 22.3,-167.92 22.2,-167.88\"/>\n",
       "<polygon fill=\"black\" stroke=\"black\" points=\"24.04,-164.9 13.55,-163.45 20.85,-171.13 24.04,-164.9\"/>\n",
       "</g>\n",
       "<!-- 4 -->\n",
       "<g id=\"node5\" class=\"node\">\n",
       "<title>4</title>\n",
       "<text text-anchor=\"middle\" x=\"87.5\" y=\"-156.8\" font-family=\"Times,serif\" font-size=\"14.00\">&lt;parse_paren&gt;</text>\n",
       "</g>\n",
       "<!-- 2&#45;&gt;4 -->\n",
       "<g id=\"edge4\" class=\"edge\">\n",
       "<title>2&#45;&gt;4</title>\n",
       "<path fill=\"none\" stroke=\"black\" d=\"M190.45,-203.89C170.47,-195.66 136.1,-181.51 112.62,-171.84\"/>\n",
       "<polygon fill=\"black\" stroke=\"black\" points=\"113.87,-168.57 103.29,-168 111.21,-175.05 113.87,-168.57\"/>\n",
       "</g>\n",
       "<!-- 9 -->\n",
       "<g id=\"node10\" class=\"node\">\n",
       "<title>9</title>\n",
       "<text text-anchor=\"middle\" x=\"168.5\" y=\"-156.8\" font-family=\"Times,serif\" font-size=\"14.00\">+</text>\n",
       "</g>\n",
       "<!-- 2&#45;&gt;9 -->\n",
       "<g id=\"edge9\" class=\"edge\">\n",
       "<title>2&#45;&gt;9</title>\n",
       "<path fill=\"none\" stroke=\"black\" d=\"M201.22,-203.69C195.77,-196.67 187.11,-185.49 180.06,-176.41\"/>\n",
       "<polygon fill=\"black\" stroke=\"black\" points=\"182.63,-174.01 173.74,-168.26 177.1,-178.3 182.63,-174.01\"/>\n",
       "</g>\n",
       "<!-- 10 -->\n",
       "<g id=\"node11\" class=\"node\">\n",
       "<title>10</title>\n",
       "<text text-anchor=\"middle\" x=\"244.5\" y=\"-156.8\" font-family=\"Times,serif\" font-size=\"14.00\">&lt;parse_num&gt;</text>\n",
       "</g>\n",
       "<!-- 2&#45;&gt;10 -->\n",
       "<g id=\"edge10\" class=\"edge\">\n",
       "<title>2&#45;&gt;10</title>\n",
       "<path fill=\"none\" stroke=\"black\" d=\"M211.78,-203.69C217.23,-196.67 225.89,-185.49 232.94,-176.41\"/>\n",
       "<polygon fill=\"black\" stroke=\"black\" points=\"235.9,-178.3 239.26,-168.26 230.37,-174.01 235.9,-178.3\"/>\n",
       "</g>\n",
       "<!-- 12 -->\n",
       "<g id=\"node13\" class=\"node\">\n",
       "<title>12</title>\n",
       "<text text-anchor=\"middle\" x=\"317.5\" y=\"-156.8\" font-family=\"Times,serif\" font-size=\"14.00\">*</text>\n",
       "</g>\n",
       "<!-- 2&#45;&gt;12 -->\n",
       "<g id=\"edge12\" class=\"edge\">\n",
       "<title>2&#45;&gt;12</title>\n",
       "<path fill=\"none\" stroke=\"black\" d=\"M222.23,-203.99C241.69,-195.86 275.76,-181.4 304.5,-168 304.6,-167.95 304.69,-167.91 304.79,-167.86\"/>\n",
       "<polygon fill=\"black\" stroke=\"black\" points=\"306.24,-171.05 313.66,-163.49 303.14,-164.77 306.24,-171.05\"/>\n",
       "</g>\n",
       "<!-- 13 -->\n",
       "<g id=\"node14\" class=\"node\">\n",
       "<title>13</title>\n",
       "<text text-anchor=\"middle\" x=\"390.5\" y=\"-156.8\" font-family=\"Times,serif\" font-size=\"14.00\">&lt;parse_num&gt;</text>\n",
       "</g>\n",
       "<!-- 2&#45;&gt;13 -->\n",
       "<g id=\"edge13\" class=\"edge\">\n",
       "<title>2&#45;&gt;13</title>\n",
       "<path fill=\"none\" stroke=\"black\" d=\"M230.93,-203.99C263.1,-195.43 319.83,-180.32 356.26,-170.62\"/>\n",
       "<polygon fill=\"black\" stroke=\"black\" points=\"357.2,-173.99 365.97,-168.03 355.4,-167.23 357.2,-173.99\"/>\n",
       "</g>\n",
       "<!-- 5 -->\n",
       "<g id=\"node6\" class=\"node\">\n",
       "<title>5</title>\n",
       "<text text-anchor=\"middle\" x=\"87.5\" y=\"-105.8\" font-family=\"Times,serif\" font-size=\"14.00\">&lt;parse_expr&gt;</text>\n",
       "</g>\n",
       "<!-- 4&#45;&gt;5 -->\n",
       "<g id=\"edge5\" class=\"edge\">\n",
       "<title>4&#45;&gt;5</title>\n",
       "<path fill=\"none\" stroke=\"black\" d=\"M87.5,-152.69C87.5,-146.18 87.5,-136.1 87.5,-127.43\"/>\n",
       "<polygon fill=\"black\" stroke=\"black\" points=\"91,-127.26 87.5,-117.26 84,-127.26 91,-127.26\"/>\n",
       "</g>\n",
       "<!-- 6 -->\n",
       "<g id=\"node7\" class=\"node\">\n",
       "<title>6</title>\n",
       "<text text-anchor=\"middle\" x=\"51.5\" y=\"-54.8\" font-family=\"Times,serif\" font-size=\"14.00\">&lt;parse_num&gt;</text>\n",
       "</g>\n",
       "<!-- 5&#45;&gt;6 -->\n",
       "<g id=\"edge6\" class=\"edge\">\n",
       "<title>5&#45;&gt;6</title>\n",
       "<path fill=\"none\" stroke=\"black\" d=\"M82.49,-101.69C77.34,-94.67 69.13,-83.49 62.46,-74.41\"/>\n",
       "<polygon fill=\"black\" stroke=\"black\" points=\"65.2,-72.24 56.46,-66.26 59.56,-76.39 65.2,-72.24\"/>\n",
       "</g>\n",
       "<!-- 8 -->\n",
       "<g id=\"node9\" class=\"node\">\n",
       "<title>8</title>\n",
       "<text text-anchor=\"middle\" x=\"124.5\" y=\"-54.8\" font-family=\"Times,serif\" font-size=\"14.00\">)</text>\n",
       "</g>\n",
       "<!-- 5&#45;&gt;8 -->\n",
       "<g id=\"edge8\" class=\"edge\">\n",
       "<title>5&#45;&gt;8</title>\n",
       "<path fill=\"none\" stroke=\"black\" d=\"M92.64,-101.69C98.48,-93.96 108.12,-81.19 115.27,-71.73\"/>\n",
       "<polygon fill=\"black\" stroke=\"black\" points=\"118.12,-73.76 121.35,-63.67 112.53,-69.54 118.12,-73.76\"/>\n",
       "</g>\n",
       "<!-- 7 -->\n",
       "<g id=\"node8\" class=\"node\">\n",
       "<title>7</title>\n",
       "<text text-anchor=\"middle\" x=\"51.5\" y=\"-3.8\" font-family=\"Times,serif\" font-size=\"14.00\">123</text>\n",
       "</g>\n",
       "<!-- 6&#45;&gt;7 -->\n",
       "<g id=\"edge7\" class=\"edge\">\n",
       "<title>6&#45;&gt;7</title>\n",
       "<path fill=\"none\" stroke=\"black\" d=\"M51.5,-50.69C51.5,-44.18 51.5,-34.1 51.5,-25.43\"/>\n",
       "<polygon fill=\"black\" stroke=\"black\" points=\"55,-25.26 51.5,-15.26 48,-25.26 55,-25.26\"/>\n",
       "</g>\n",
       "<!-- 11 -->\n",
       "<g id=\"node12\" class=\"node\">\n",
       "<title>11</title>\n",
       "<text text-anchor=\"middle\" x=\"244.5\" y=\"-105.8\" font-family=\"Times,serif\" font-size=\"14.00\">456</text>\n",
       "</g>\n",
       "<!-- 10&#45;&gt;11 -->\n",
       "<g id=\"edge11\" class=\"edge\">\n",
       "<title>10&#45;&gt;11</title>\n",
       "<path fill=\"none\" stroke=\"black\" d=\"M244.5,-152.69C244.5,-146.18 244.5,-136.1 244.5,-127.43\"/>\n",
       "<polygon fill=\"black\" stroke=\"black\" points=\"248,-127.26 244.5,-117.26 241,-127.26 248,-127.26\"/>\n",
       "</g>\n",
       "<!-- 14 -->\n",
       "<g id=\"node15\" class=\"node\">\n",
       "<title>14</title>\n",
       "<text text-anchor=\"middle\" x=\"390.5\" y=\"-105.8\" font-family=\"Times,serif\" font-size=\"14.00\">789</text>\n",
       "</g>\n",
       "<!-- 13&#45;&gt;14 -->\n",
       "<g id=\"edge14\" class=\"edge\">\n",
       "<title>13&#45;&gt;14</title>\n",
       "<path fill=\"none\" stroke=\"black\" d=\"M390.5,-152.69C390.5,-146.18 390.5,-136.1 390.5,-127.43\"/>\n",
       "<polygon fill=\"black\" stroke=\"black\" points=\"394,-127.26 390.5,-117.26 387,-127.26 394,-127.26\"/>\n",
       "</g>\n",
       "</g>\n",
       "</svg>\n"
      ],
      "text/plain": [
       "<graphviz.dot.Digraph at 0x7f68a74a5250>"
      ]
     },
     "execution_count": 1550,
     "metadata": {},
     "output_type": "execute_result"
    }
   ],
   "source": [
    "display_tree(to_tree(calc_method_tree[0], calc_trace[0]['inputstr']))"
   ]
  },
  {
   "cell_type": "code",
   "execution_count": 1357,
   "metadata": {
    "ExecuteTime": {
     "end_time": "2021-01-24T15:45:45.094397Z",
     "start_time": "2021-01-24T15:45:45.089227Z"
    }
   },
   "outputs": [
    {
     "data": {
      "text/plain": [
       "'(1+2)-3'"
      ]
     },
     "execution_count": 1357,
     "metadata": {},
     "output_type": "execute_result"
    }
   ],
   "source": [
    "calc_trace[0]['inputstr']"
   ]
  },
  {
   "cell_type": "code",
   "execution_count": 1356,
   "metadata": {
    "ExecuteTime": {
     "end_time": "2021-01-24T15:45:41.929095Z",
     "start_time": "2021-01-24T15:45:41.925146Z"
    }
   },
   "outputs": [
    {
     "data": {
      "text/plain": [
       "'(1+2)-3'"
      ]
     },
     "execution_count": 1356,
     "metadata": {},
     "output_type": "execute_result"
    }
   ],
   "source": [
    "tree_to_str(to_tree(calc_method_tree[0], calc_trace[0]['inputstr']))"
   ]
  },
  {
   "cell_type": "code",
   "execution_count": 233,
   "metadata": {
    "ExecuteTime": {
     "end_time": "2021-01-23T11:37:03.361654Z",
     "start_time": "2021-01-23T11:37:03.355008Z"
    }
   },
   "outputs": [],
   "source": [
    "from IPython.display import Image"
   ]
  },
  {
   "cell_type": "code",
   "execution_count": 234,
   "metadata": {
    "ExecuteTime": {
     "end_time": "2021-01-23T11:37:03.376810Z",
     "start_time": "2021-01-23T11:37:03.373353Z"
    }
   },
   "outputs": [],
   "source": [
    "def zoom(v, zoom=True):\n",
    "    # return v directly if you do not want to zoom out.\n",
    "    if zoom:\n",
    "        return Image(v.render(format='png'))\n",
    "    return v"
   ]
  },
  {
   "cell_type": "markdown",
   "metadata": {},
   "source": [
    "## Generating a Grammar\n",
    "\n",
    "Generating a grammar from the generalized derivation trees is pretty simple. Start at the start node, and any node that represents a method or a pseudo method becomes a nonterminal. The children forms alternate expansions for the nonterminal. Since all the keys are compatible, merging the grammar is simply merging the hash map."
   ]
  },
  {
   "cell_type": "markdown",
   "metadata": {},
   "source": [
    "First, we define a pretty printer for grammar."
   ]
  },
  {
   "cell_type": "code",
   "execution_count": 235,
   "metadata": {
    "ExecuteTime": {
     "end_time": "2021-01-23T11:37:11.968326Z",
     "start_time": "2021-01-23T11:37:11.964773Z"
    }
   },
   "outputs": [],
   "source": [
    "import re\n",
    "RE_NONTERMINAL = re.compile(r'(<[^<> ]*>)')"
   ]
  },
  {
   "cell_type": "code",
   "execution_count": 236,
   "metadata": {
    "ExecuteTime": {
     "end_time": "2021-01-23T11:37:11.978489Z",
     "start_time": "2021-01-23T11:37:11.973409Z"
    }
   },
   "outputs": [],
   "source": [
    "def recurse_grammar(grammar, key, order, canonical):\n",
    "    rules = sorted(grammar[key])\n",
    "    old_len = len(order)\n",
    "    for rule in rules:\n",
    "        if not canonical:\n",
    "            res =  re.findall(RE_NONTERMINAL, rule)\n",
    "        else:\n",
    "            res = rule\n",
    "        for token in res:\n",
    "            if token.startswith('<') and token.endswith('>'):\n",
    "                if token not in order:\n",
    "                    order.append(token)\n",
    "    new = order[old_len:]\n",
    "    for ckey in new:\n",
    "        recurse_grammar(grammar, ckey, order, canonical)"
   ]
  },
  {
   "cell_type": "code",
   "execution_count": 237,
   "metadata": {
    "ExecuteTime": {
     "end_time": "2021-01-23T11:37:11.986345Z",
     "start_time": "2021-01-23T11:37:11.982044Z"
    }
   },
   "outputs": [],
   "source": [
    "def show_grammar(grammar, start_symbol='<START>', canonical=True):\n",
    "    order = [start_symbol]\n",
    "    recurse_grammar(grammar, start_symbol, order, canonical)\n",
    "    if len(order) != len(grammar.keys()):\n",
    "        assert len(order) < len(grammar.keys())\n",
    "    return {k: sorted(grammar[k]) for k in order}"
   ]
  },
  {
   "cell_type": "markdown",
   "metadata": {},
   "source": [
    "### Trees to grammar"
   ]
  },
  {
   "cell_type": "code",
   "execution_count": 238,
   "metadata": {
    "ExecuteTime": {
     "end_time": "2021-01-23T11:37:22.163602Z",
     "start_time": "2021-01-23T11:37:22.155550Z"
    }
   },
   "outputs": [],
   "source": [
    "def to_grammar(tree, grammar):\n",
    "    node, children, _, _ = tree\n",
    "    if not children: return grammar\n",
    "    tokens = []\n",
    "    if node not in grammar:\n",
    "        grammar[node] = list()\n",
    "    for c in children:\n",
    "        tokens.append(c[0])\n",
    "        to_grammar(c, grammar)\n",
    "    grammar[node].append(tuple(tokens))\n",
    "    return grammar"
   ]
  },
  {
   "cell_type": "code",
   "execution_count": 44,
   "metadata": {
    "ExecuteTime": {
     "end_time": "2021-01-03T01:14:19.638538Z",
     "start_time": "2021-01-03T01:14:19.632679Z"
    }
   },
   "outputs": [],
   "source": [
    "def merge_grammar(g1, g2):\n",
    "    all_keys = set(list(g1.keys()) + list(g2.keys()))\n",
    "    merged = {}\n",
    "    for k in all_keys:\n",
    "        alts = set(g1.get(k, []) + g2.get(k, []))\n",
    "        merged[k] = alts\n",
    "    return {k:[l for l in merged[k]] for k in merged}"
   ]
  },
  {
   "cell_type": "code",
   "execution_count": 45,
   "metadata": {
    "ExecuteTime": {
     "end_time": "2021-01-03T01:14:19.648578Z",
     "start_time": "2021-01-03T01:14:19.641399Z"
    }
   },
   "outputs": [],
   "source": [
    "def convert_to_grammar(my_trees):\n",
    "    grammar = {}\n",
    "    ret = []\n",
    "    for my_tree in my_trees:\n",
    "        tree = my_tree['tree']\n",
    "        start = tree[0]\n",
    "        src_file = my_tree['original']\n",
    "        arg_file = my_tree['arg']\n",
    "        ret.append((start, src_file, arg_file))\n",
    "        g = to_grammar(tree, grammar)\n",
    "        grammar = merge_grammar(grammar, g)\n",
    "    return grammar"
   ]
  },
  {
   "cell_type": "markdown",
   "metadata": {},
   "source": [
    "### Inserting Empty Alternatives for IF and Loops"
   ]
  },
  {
   "cell_type": "markdown",
   "metadata": {},
   "source": [
    "Next, we want to insert empty rules for those loops and conditionals that can be skipped. For loops, the entire sequence has to contain the empty marker."
   ]
  },
  {
   "cell_type": "code",
   "execution_count": 46,
   "metadata": {
    "ExecuteTime": {
     "end_time": "2021-01-03T01:14:20.742485Z",
     "start_time": "2021-01-03T01:14:20.735692Z"
    }
   },
   "outputs": [],
   "source": [
    "def check_empty_rules(grammar):\n",
    "    new_grammar = {}\n",
    "    for k in grammar:\n",
    "        if k in ':if_':\n",
    "            name, marker = k.split('#')\n",
    "            if name.endswith(' *'):\n",
    "                new_grammar[k] = grammar[k].add(('',))\n",
    "            else:\n",
    "                new_grammar[k] = grammar[k]\n",
    "        elif k in ':while_':\n",
    "            # TODO -- we have to check the rules for sequences of whiles.\n",
    "            # for now, ignore.\n",
    "            new_grammar[k] = grammar[k]\n",
    "        else:\n",
    "            new_grammar[k] = grammar[k]\n",
    "    return new_grammar"
   ]
  },
  {
   "cell_type": "markdown",
   "metadata": {},
   "source": [
    "### Learning Regular Expressions"
   ]
  },
  {
   "cell_type": "markdown",
   "metadata": {},
   "source": [
    "We now need to generalize the loops. The idea is to look for patterns exclusively in the similarly named while loops using any of the regular expression learners. For the prototype, we replaced the modified Sequitur with the modified Fernau which gave us better regular expressions than before. The main constraint we have is that we want to avoid repeated execution of program if possible. Fernau algorithm can recover a reasonably approximate regular exression based only on positive data."
   ]
  },
  {
   "cell_type": "markdown",
   "metadata": {},
   "source": [
    "#### The modified Fernau algorithm\n",
    "\n",
    "The Fernau algorithm is from _Algorithms for learning regular expressions from positive data_ by _HenningFernau_. Our algorithm uses a modified form of the Prefix-Tree-Acceptor from Fernau. First we define an LRF buffer of a given size."
   ]
  },
  {
   "cell_type": "code",
   "execution_count": 47,
   "metadata": {
    "ExecuteTime": {
     "end_time": "2021-01-03T01:14:22.451566Z",
     "start_time": "2021-01-03T01:14:22.447724Z"
    }
   },
   "outputs": [],
   "source": [
    "class Buf:\n",
    "    def __init__(self, size):\n",
    "        self.size = size\n",
    "        self.items = [None] * self.size"
   ]
  },
  {
   "cell_type": "markdown",
   "metadata": {},
   "source": [
    "The `add1()` takes in an array, and transfers the first element of the array into the end of current buffer, and simultaneously drops the first element of the buffer."
   ]
  },
  {
   "cell_type": "code",
   "execution_count": 48,
   "metadata": {
    "ExecuteTime": {
     "end_time": "2021-01-03T01:14:22.988812Z",
     "start_time": "2021-01-03T01:14:22.984715Z"
    }
   },
   "outputs": [],
   "source": [
    "class Buf(Buf):\n",
    "    def add1(self, items):\n",
    "        self.items.append(items.pop(0))\n",
    "        return self.items.pop(0)"
   ]
  },
  {
   "cell_type": "markdown",
   "metadata": {},
   "source": [
    "For equality between the buffer and an array, we only compare when both the array and the items are actually elements and not chunked arrays."
   ]
  },
  {
   "cell_type": "code",
   "execution_count": 49,
   "metadata": {
    "ExecuteTime": {
     "end_time": "2021-01-03T01:14:23.534192Z",
     "start_time": "2021-01-03T01:14:23.529966Z"
    }
   },
   "outputs": [],
   "source": [
    "class Buf(Buf):\n",
    "    def __eq__(self, items):\n",
    "        if any(isinstance(i, dict) for i in self.items): return False\n",
    "        if any(isinstance(i, dict) for i in items): return False\n",
    "        return items == self.items"
   ]
  },
  {
   "cell_type": "markdown",
   "metadata": {},
   "source": [
    "The `detect_chunks()` detects any repeating portions of a list of `n` size."
   ]
  },
  {
   "cell_type": "code",
   "execution_count": 50,
   "metadata": {
    "ExecuteTime": {
     "end_time": "2021-01-03T01:14:24.296465Z",
     "start_time": "2021-01-03T01:14:24.292255Z"
    }
   },
   "outputs": [],
   "source": [
    "def detect_chunks(n, lst_):\n",
    "    lst = list(lst_)\n",
    "    chunks = set()\n",
    "    last = Buf(n)\n",
    "    # check if the next_n elements are repeated.\n",
    "    for _ in range(len(lst) - n):\n",
    "        lnext_n = lst[0:n]\n",
    "        if last == lnext_n:\n",
    "            # found a repetition.\n",
    "            chunks.add(tuple(last.items))\n",
    "        else:\n",
    "            pass\n",
    "        last.add1(lst)\n",
    "    return chunks"
   ]
  },
  {
   "cell_type": "markdown",
   "metadata": {},
   "source": [
    "Once we have detected plausible repeating sequences, we gather all similar sequences into arrays."
   ]
  },
  {
   "cell_type": "code",
   "execution_count": 51,
   "metadata": {
    "ExecuteTime": {
     "end_time": "2021-01-03T01:14:25.272556Z",
     "start_time": "2021-01-03T01:14:25.265636Z"
    }
   },
   "outputs": [],
   "source": [
    "def chunkify(lst_,n , chunks):\n",
    "    lst = list(lst_)\n",
    "    chunked_lst = []\n",
    "    while len(lst) >= n:\n",
    "        lnext_n = lst[0:n]\n",
    "        if (not any(isinstance(i, dict) for i in lnext_n)) and tuple(lnext_n) in chunks:\n",
    "            chunked_lst.append({'_':lnext_n})\n",
    "            lst = lst[n:]\n",
    "        else:\n",
    "            chunked_lst.append(lst.pop(0))\n",
    "    chunked_lst.extend(lst)\n",
    "    return chunked_lst"
   ]
  },
  {
   "cell_type": "markdown",
   "metadata": {},
   "source": [
    "The `identify_chunks()` simply calls the `detect_chunks()` on all given lists, and then converts all chunks identified into arrays."
   ]
  },
  {
   "cell_type": "code",
   "execution_count": 52,
   "metadata": {
    "ExecuteTime": {
     "end_time": "2021-01-03T01:14:26.047187Z",
     "start_time": "2021-01-03T01:14:26.041231Z"
    }
   },
   "outputs": [],
   "source": [
    "def identify_chunks(my_lsts):\n",
    "    # initialize\n",
    "    all_chunks = {}\n",
    "    maximum = max(len(lst) for lst in my_lsts)\n",
    "    for i in range(1, maximum//2+1):\n",
    "        all_chunks[i] = set()\n",
    "\n",
    "    # First, identify chunks in each list.\n",
    "    for lst in my_lsts:\n",
    "        for i in range(1,maximum//2+1):\n",
    "            chunks = detect_chunks(i, lst)\n",
    "            all_chunks[i] |= chunks\n",
    "\n",
    "    # Then, chunkify\n",
    "    new_lsts = []\n",
    "    for lst in my_lsts:\n",
    "        for i in range(1,maximum//2+1):\n",
    "            chunks = all_chunks[i]\n",
    "            lst = chunkify(lst, i, chunks)\n",
    "        new_lsts.append(lst)\n",
    "    return new_lsts"
   ]
  },
  {
   "cell_type": "markdown",
   "metadata": {},
   "source": [
    "##### Prefix tree acceptor\n",
    "\n",
    "The prefix tree acceptor is a way to represent positive data. The `Node` class holds a single node in the prefix tree acceptor."
   ]
  },
  {
   "cell_type": "code",
   "execution_count": 53,
   "metadata": {
    "ExecuteTime": {
     "end_time": "2021-01-03T01:14:26.764291Z",
     "start_time": "2021-01-03T01:14:26.754841Z"
    }
   },
   "outputs": [],
   "source": [
    "class Node:\n",
    "    # Each tree node gets its unique id.\n",
    "    _uid = 0\n",
    "    def __init__(self, item):\n",
    "        # self.repeats = False\n",
    "        self.count = 1 # how many repetitions.\n",
    "        self.counters = set()\n",
    "        self.last = False\n",
    "        self.children = []\n",
    "        self.item = item\n",
    "        self.uid = Node._uid\n",
    "        Node._uid += 1\n",
    "\n",
    "    def update_counters(self):\n",
    "        self.counters.add(self.count)\n",
    "        self.count = 0\n",
    "        for c in self.children:\n",
    "            c.update_counters()\n",
    "\n",
    "    def __repr__(self):\n",
    "        return str(self.to_json())\n",
    "\n",
    "    def __str__(self):\n",
    "        return str(\"(%s, [%s])\", (self.item, ' '.join([str(i) for i in self.children])))\n",
    "\n",
    "    def to_json(self):\n",
    "        s = (\"(%s)\" % ' '.join(self.item['_'])) if isinstance(self.item, dict) else str(self.item)\n",
    "        return (s, tuple(self.counters), [i.to_json() for i in self.children])\n",
    "\n",
    "    def inc_count(self):\n",
    "        self.count += 1\n",
    "\n",
    "    def add_ref(self):\n",
    "        self.count = 1\n",
    "\n",
    "    def get_child(self, c):\n",
    "        for i in self.children:\n",
    "            if i.item == c: return i\n",
    "        return None\n",
    "\n",
    "    def add_child(self, c):\n",
    "        # first check if it is the current node. If it is, increment\n",
    "        # count, and return ourselves.\n",
    "        if c == self.item:\n",
    "            self.inc_count()\n",
    "            return self\n",
    "        else:\n",
    "            # check if it is one of the children. If it is a child, then\n",
    "            # preserve its original count.\n",
    "            nc = self.get_child(c)\n",
    "            if nc is None:\n",
    "                nc = Node(c)\n",
    "                self.children.append(nc)\n",
    "            else:\n",
    "                nc.add_ref()\n",
    "            return nc"
   ]
  },
  {
   "cell_type": "markdown",
   "metadata": {},
   "source": [
    "The `update_tree()` essentially transforms a list of nodes to a chain of nodes starting at `root` if the `root` is an empty tree. If the `root` already contains a tree, the `update_tree()` traverses the path represented by `lst_` and makes a new child branch where the path specified doesn't exist in the tree."
   ]
  },
  {
   "cell_type": "code",
   "execution_count": 54,
   "metadata": {
    "ExecuteTime": {
     "end_time": "2021-01-03T01:14:27.393278Z",
     "start_time": "2021-01-03T01:14:27.388174Z"
    }
   },
   "outputs": [],
   "source": [
    "def update_tree(lst_, root):\n",
    "    lst = list(lst_)\n",
    "    branch = root\n",
    "    while lst:\n",
    "        first, *lst = lst\n",
    "        branch = branch.add_child(first)\n",
    "    branch.last = True\n",
    "    return root"
   ]
  },
  {
   "cell_type": "markdown",
   "metadata": {},
   "source": [
    "Given a number of lists, the `create_tree_with_lists()` creates an actual tree out of these lists."
   ]
  },
  {
   "cell_type": "code",
   "execution_count": 55,
   "metadata": {
    "ExecuteTime": {
     "end_time": "2021-01-03T01:14:28.096893Z",
     "start_time": "2021-01-03T01:14:28.092015Z"
    }
   },
   "outputs": [],
   "source": [
    "def create_tree_with_lsts(lsts):\n",
    "    Node._uid = 0\n",
    "    root =  Node(None)\n",
    "    for lst in lsts:\n",
    "        root.count = 1 # there is at least one element.\n",
    "        update_tree(lst, root)\n",
    "        root.update_counters()\n",
    "    return root"
   ]
  },
  {
   "cell_type": "markdown",
   "metadata": {},
   "source": [
    "Given a node, and a key, return the key and alts as a dict."
   ]
  },
  {
   "cell_type": "code",
   "execution_count": 56,
   "metadata": {
    "ExecuteTime": {
     "end_time": "2021-01-03T01:14:28.910661Z",
     "start_time": "2021-01-03T01:14:28.901538Z"
    }
   },
   "outputs": [],
   "source": [
    "def get_star(node, key):\n",
    "    if node.item is None:\n",
    "        return [], {}\n",
    "    if isinstance(node.item, dict):\n",
    "        # take care of counters\n",
    "        elements = node.item['_']\n",
    "        my_key = \"<%s-%d-s>\" % (key, node.uid)\n",
    "        alts = [elements]\n",
    "        if len(node.counters) > 1: # repetition\n",
    "            alts.append(elements + [my_key])\n",
    "        return [my_key], {my_key:alts}\n",
    "    else:\n",
    "        return [str(node.item)], {}"
   ]
  },
  {
   "cell_type": "code",
   "execution_count": 57,
   "metadata": {
    "ExecuteTime": {
     "end_time": "2021-01-03T01:14:28.929525Z",
     "start_time": "2021-01-03T01:14:28.917825Z"
    }
   },
   "outputs": [],
   "source": [
    "def node_to_grammar(node, grammar, key):\n",
    "    rule = []\n",
    "    alts = [rule]\n",
    "    if node.uid == 0:\n",
    "        my_key = \"<%s>\" % key\n",
    "    else:\n",
    "        my_key = \"<%s-%d>\" % (key, node.uid)\n",
    "    grammar[my_key] = alts\n",
    "    if node.item is not None:\n",
    "        mk, g = get_star(node, key)\n",
    "        rule.extend(mk)\n",
    "        grammar.update(g)\n",
    "    # is the node last?\n",
    "    if node.last:\n",
    "        assert node.item is not None\n",
    "        # add a duplicate rule that ends here.\n",
    "        ending_rule = list(rule)\n",
    "        # if there are no children, the current rule is\n",
    "        # any way ending.\n",
    "        if node.children:\n",
    "            alts.append(ending_rule)\n",
    "\n",
    "    if node.children:\n",
    "        if len(node.children) > 1:\n",
    "            my_ckey = \"<%s-%d-c>\" % (key, node.uid)\n",
    "            rule.append(my_ckey)\n",
    "            grammar[my_ckey] = [ [\"<%s-%d>\" % (key, c.uid)] for c in node.children]\n",
    "        else:\n",
    "            my_ckey = \"<%s-%d>\" % (key, node.children[0].uid)\n",
    "            rule.append(my_ckey)\n",
    "    else:\n",
    "        pass\n",
    "    for c in node.children:\n",
    "        node_to_grammar(c, grammar, key)\n",
    "    return grammar\n",
    "\n",
    "def generate_grammar(lists, key):\n",
    "    lsts = identify_chunks(lists)\n",
    "    tree = create_tree_with_lsts(lsts)\n",
    "    grammar = {}\n",
    "    node_to_grammar(tree, grammar, key)\n",
    "    return grammar"
   ]
  },
  {
   "cell_type": "markdown",
   "metadata": {
    "ExecuteTime": {
     "end_time": "2020-11-14T13:14:08.527784Z",
     "start_time": "2020-11-14T13:14:08.519166Z"
    }
   },
   "source": [
    "Given a rule, determine the abstraction for it."
   ]
  },
  {
   "cell_type": "code",
   "execution_count": 58,
   "metadata": {
    "ExecuteTime": {
     "end_time": "2021-01-03T01:14:29.673972Z",
     "start_time": "2021-01-03T01:14:29.670705Z"
    }
   },
   "outputs": [],
   "source": [
    "def collapse_alts(rules, k):\n",
    "    ss = [[str(r) for r in rule] for rule in rules]\n",
    "    x = generate_grammar(ss, k[1:-1])\n",
    "    return x"
   ]
  },
  {
   "cell_type": "code",
   "execution_count": 59,
   "metadata": {
    "ExecuteTime": {
     "end_time": "2021-01-03T01:14:29.686071Z",
     "start_time": "2021-01-03T01:14:29.678794Z"
    }
   },
   "outputs": [],
   "source": [
    "def collapse_rules(grammar):\n",
    "    r_grammar = {}\n",
    "    for k in grammar:\n",
    "        new_grammar = collapse_alts(grammar[k], k)\n",
    "        # merge the new_grammar with r_grammar\n",
    "        # we know none of the keys exist in r_grammar because\n",
    "        # new keys are k prefixed.\n",
    "        for k_ in new_grammar:\n",
    "            r_grammar[k_] = new_grammar[k_]\n",
    "    return r_grammar"
   ]
  },
  {
   "cell_type": "code",
   "execution_count": 60,
   "metadata": {
    "ExecuteTime": {
     "end_time": "2021-01-03T01:14:29.694294Z",
     "start_time": "2021-01-03T01:14:29.688642Z"
    }
   },
   "outputs": [],
   "source": [
    "def convert_spaces_in_keys(grammar):\n",
    "    keys = {key: key.replace(' ', '_') for key in grammar}\n",
    "    new_grammar = {}\n",
    "    for key in grammar:\n",
    "        new_alt = []\n",
    "        for rule in grammar[key]:\n",
    "            new_rule = []\n",
    "            for t in rule:\n",
    "                for k in keys:\n",
    "                    t = t.replace(k, keys[k])\n",
    "                new_rule.append(t)\n",
    "            new_alt.append(new_rule)\n",
    "        new_grammar[keys[key]] = new_alt\n",
    "    return new_grammar"
   ]
  },
  {
   "cell_type": "markdown",
   "metadata": {},
   "source": [
    "### Remove duplicate and redundant entries"
   ]
  },
  {
   "cell_type": "markdown",
   "metadata": {},
   "source": [
    "**IMPORTANT** we indicate things that operate on canonical by _c, and those that operate on fuzzable by _f, and both by _cf"
   ]
  },
  {
   "cell_type": "code",
   "execution_count": 61,
   "metadata": {
    "ExecuteTime": {
     "end_time": "2021-01-03T01:14:31.048338Z",
     "start_time": "2021-01-03T01:14:31.045092Z"
    }
   },
   "outputs": [],
   "source": [
    "def first_in_chain(token, chain):\n",
    "    while True:\n",
    "        if token in chain:\n",
    "            token = chain[token]\n",
    "            assert isinstance(token, str)\n",
    "        else:\n",
    "            break\n",
    "    return token"
   ]
  },
  {
   "cell_type": "markdown",
   "metadata": {},
   "source": [
    "Return a new symbol for `grammar` based on `symbol_name`."
   ]
  },
  {
   "cell_type": "code",
   "execution_count": 62,
   "metadata": {
    "ExecuteTime": {
     "end_time": "2021-01-03T01:14:31.632510Z",
     "start_time": "2021-01-03T01:14:31.628209Z"
    }
   },
   "outputs": [],
   "source": [
    "def new_symbol(grammar, symbol_name=\"<symbol>\"):\n",
    "    if symbol_name not in grammar:\n",
    "        return symbol_name\n",
    "\n",
    "    count = 1\n",
    "    while True:\n",
    "        tentative_symbol_name = symbol_name[:-1] + \"-\" + repr(count) + \">\"\n",
    "        if tentative_symbol_name not in grammar:\n",
    "            return tentative_symbol_name\n",
    "        count += 1"
   ]
  },
  {
   "cell_type": "markdown",
   "metadata": {},
   "source": [
    "Replace keys that have a single token definition with the token in the defition."
   ]
  },
  {
   "cell_type": "code",
   "execution_count": 63,
   "metadata": {
    "ExecuteTime": {
     "end_time": "2021-01-03T01:14:32.213334Z",
     "start_time": "2021-01-03T01:14:32.207013Z"
    }
   },
   "outputs": [],
   "source": [
    "def replacement_candidate_chains(grammar, ignores):\n",
    "    to_replace = {}\n",
    "    for k in grammar:\n",
    "        if k in ignores: continue\n",
    "        if len(grammar[k]) != 1: continue\n",
    "        rule = grammar[k][0]\n",
    "        if len(rule) != 1: continue\n",
    "        if is_nt(rule[0]):\n",
    "            to_replace[k] = rule[0]\n",
    "        else:\n",
    "            pass\n",
    "    return to_replace"
   ]
  },
  {
   "cell_type": "code",
   "execution_count": 64,
   "metadata": {
    "ExecuteTime": {
     "end_time": "2021-01-03T01:14:32.222867Z",
     "start_time": "2021-01-03T01:14:32.217583Z"
    }
   },
   "outputs": [],
   "source": [
    "def replace_key_by_new_key(grammar, keys_to_replace):\n",
    "    new_grammar = {}\n",
    "    for key in grammar:\n",
    "        new_rules = []\n",
    "        for rule in grammar[key]:\n",
    "            new_rule = [keys_to_replace.get(token, token)\n",
    "                        for token in rule]\n",
    "            new_rules.append(new_rule)\n",
    "        new_grammar[keys_to_replace.get(key, key)] = new_rules\n",
    "    assert len(grammar) == len(new_grammar)\n",
    "    return new_grammar"
   ]
  },
  {
   "cell_type": "code",
   "execution_count": 65,
   "metadata": {
    "ExecuteTime": {
     "end_time": "2021-01-03T01:14:32.232846Z",
     "start_time": "2021-01-03T01:14:32.224886Z"
    }
   },
   "outputs": [],
   "source": [
    "def replace_key_by_key(grammar, keys_to_replace):\n",
    "    new_grammar = {}\n",
    "    for key in grammar:\n",
    "        if key in keys_to_replace: continue\n",
    "        new_rules = []\n",
    "        for rule in grammar[key]:\n",
    "            for t in rule:\n",
    "                assert isinstance(t, str)\n",
    "            new_rule = [first_in_chain(token, keys_to_replace) for token in rule]\n",
    "            new_rules.append(new_rule)\n",
    "        new_grammar[key] = new_rules\n",
    "    return new_grammar"
   ]
  },
  {
   "cell_type": "code",
   "execution_count": 66,
   "metadata": {
    "ExecuteTime": {
     "end_time": "2021-01-03T01:14:32.239019Z",
     "start_time": "2021-01-03T01:14:32.234959Z"
    }
   },
   "outputs": [],
   "source": [
    "def remove_single_entries(grammar):\n",
    "    keys_to_replace = replacement_candidate_chains(grammar, {start_symbol, '<main>'})\n",
    "    return replace_key_by_key(grammar, keys_to_replace)"
   ]
  },
  {
   "cell_type": "markdown",
   "metadata": {
    "ExecuteTime": {
     "end_time": "2020-11-14T13:40:41.420007Z",
     "start_time": "2020-11-14T13:40:41.407390Z"
    }
   },
   "source": [
    "Remove keys that have similar rules."
   ]
  },
  {
   "cell_type": "code",
   "execution_count": 67,
   "metadata": {
    "ExecuteTime": {
     "end_time": "2021-01-03T01:14:33.088035Z",
     "start_time": "2021-01-03T01:14:33.082813Z"
    }
   },
   "outputs": [],
   "source": [
    "def collect_duplicate_rule_keys(grammar):\n",
    "    collect = {}\n",
    "    for k in grammar:\n",
    "        salt = str(sorted(grammar[k]))\n",
    "        if salt not in collect:\n",
    "            collect[salt] = (k, set())\n",
    "        else:\n",
    "            collect[salt][1].add(k)\n",
    "    return collect"
   ]
  },
  {
   "cell_type": "code",
   "execution_count": 68,
   "metadata": {
    "ExecuteTime": {
     "end_time": "2021-01-03T01:14:33.102450Z",
     "start_time": "2021-01-03T01:14:33.097185Z"
    }
   },
   "outputs": [],
   "source": [
    "def remove_duplicate_rule_keys(grammar):\n",
    "    g = grammar\n",
    "    while True:\n",
    "        collect = collect_duplicate_rule_keys(g)\n",
    "        keys_to_replace = {}\n",
    "        for salt in collect:\n",
    "            k, st = collect[salt]\n",
    "            for s in st:\n",
    "                keys_to_replace[s] = k\n",
    "        if not keys_to_replace:\n",
    "            break\n",
    "        g = replace_key_by_key(g, keys_to_replace)\n",
    "    return g"
   ]
  },
  {
   "cell_type": "markdown",
   "metadata": {},
   "source": [
    "Remove all the control flow vestiges from names, and simply name them sequentially."
   ]
  },
  {
   "cell_type": "code",
   "execution_count": 69,
   "metadata": {
    "ExecuteTime": {
     "end_time": "2021-01-03T01:14:33.898007Z",
     "start_time": "2021-01-03T01:14:33.893408Z"
    }
   },
   "outputs": [],
   "source": [
    "def deep_copy(t): # Python deepcopy is a bit buggy\n",
    "    v = json.dumps(t)\n",
    "    return json.loads(v)"
   ]
  },
  {
   "cell_type": "code",
   "execution_count": 70,
   "metadata": {
    "ExecuteTime": {
     "end_time": "2021-01-03T01:14:33.913278Z",
     "start_time": "2021-01-03T01:14:33.909023Z"
    }
   },
   "outputs": [],
   "source": [
    "def collect_replacement_keys(grammar):\n",
    "    g = deep_copy(grammar)\n",
    "    to_replace = {}\n",
    "    for k in grammar:\n",
    "        if ':' in k:\n",
    "            first, rest = k.split(':')\n",
    "            sym = new_symbol(g, symbol_name=first + '>')\n",
    "            assert sym not in g\n",
    "            g[sym] = None\n",
    "            to_replace[k] = sym\n",
    "        else:\n",
    "            continue\n",
    "    return to_replace"
   ]
  },
  {
   "cell_type": "markdown",
   "metadata": {},
   "source": [
    "Remove keys that are referred to only from a single rule, and which have a single alternative.\n",
    "Import. This can't work on canonical representation. First, given a key, we figure out its distance to `<START>`.\n",
    "\n",
    "This is different from `remove_single_entries()` in that, there we do not care if the key is being used multiple times. Here, we only replace keys that are referred to only once."
   ]
  },
  {
   "cell_type": "code",
   "execution_count": 71,
   "metadata": {
    "ExecuteTime": {
     "end_time": "2021-01-03T01:14:34.689206Z",
     "start_time": "2021-01-03T01:14:34.685758Z"
    }
   },
   "outputs": [],
   "source": [
    "import math"
   ]
  },
  {
   "cell_type": "code",
   "execution_count": 72,
   "metadata": {
    "ExecuteTime": {
     "end_time": "2021-01-03T01:14:34.709159Z",
     "start_time": "2021-01-03T01:14:34.702392Z"
    }
   },
   "outputs": [],
   "source": [
    "def len_to_start(item, parents, start_symbol, seen=None):\n",
    "    if seen is None: seen = set()\n",
    "    if item in seen: return math.inf\n",
    "    seen.add(item)\n",
    "    if item == start_symbol: return 0\n",
    "    else: return 1 + min(len_to_start(p, parents, start_symbol, seen)\n",
    "                         for p in parents[item])"
   ]
  },
  {
   "cell_type": "code",
   "execution_count": 73,
   "metadata": {
    "ExecuteTime": {
     "end_time": "2021-01-03T01:14:34.717607Z",
     "start_time": "2021-01-03T01:14:34.711726Z"
    }
   },
   "outputs": [],
   "source": [
    "def order_by_length_to_start(items, parent_map, start_symbol):\n",
    "    return sorted(items, key=lambda i: len_to_start(i, parent_map, start_symbol))"
   ]
  },
  {
   "cell_type": "markdown",
   "metadata": {
    "ExecuteTime": {
     "end_time": "2020-11-14T13:43:26.343274Z",
     "start_time": "2020-11-14T13:43:26.337394Z"
    }
   },
   "source": [
    "Next, we generate a map of `child -> [parents]`."
   ]
  },
  {
   "cell_type": "code",
   "execution_count": 74,
   "metadata": {
    "ExecuteTime": {
     "end_time": "2021-01-03T01:14:35.659633Z",
     "start_time": "2021-01-03T01:14:35.648805Z"
    }
   },
   "outputs": [],
   "source": [
    "def get_parents_of_tokens(grammar, key, seen=None, parents=None):\n",
    "    if parents is None: parents, seen = {}, set()\n",
    "    if key in seen: return parents\n",
    "    seen.add(key)\n",
    "    for res in grammar[key]:\n",
    "        for token in res:\n",
    "            if not is_nt(token): continue\n",
    "            parents.setdefault(token, []).append(key)\n",
    "    for ckey in {i for i in  grammar if i not in seen}:\n",
    "        get_parents_of_tokens(grammar, ckey, seen, parents)\n",
    "    return parents"
   ]
  },
  {
   "cell_type": "code",
   "execution_count": 75,
   "metadata": {
    "ExecuteTime": {
     "end_time": "2021-01-03T01:14:35.676773Z",
     "start_time": "2021-01-03T01:14:35.667651Z"
    }
   },
   "outputs": [],
   "source": [
    "def remove_references(keys_to_replace):\n",
    "    to_process = list(keys_to_replace.keys())\n",
    "    updated_dict = {}\n",
    "    references = {}\n",
    "    order = []\n",
    "    while to_process:\n",
    "        key, *to_process = to_process\n",
    "        rule = keys_to_replace[key]\n",
    "        new_rule = []\n",
    "        skip = False\n",
    "        for token in rule:\n",
    "            if token not in updated_dict:\n",
    "                if token in to_process:\n",
    "                    # so this token will get defined later. We simply postpone\n",
    "                    # the processing of this key until that key is defined.\n",
    "                    # TODO: check for cycles.\n",
    "                    to_process.append(key)\n",
    "                    references.setdefault(token, set()).add(key)\n",
    "                    skip = True\n",
    "                    break\n",
    "                else:\n",
    "                    new_rule.append(token)\n",
    "            else:\n",
    "                new_rule.extend(updated_dict[token])\n",
    "        if not skip:\n",
    "            order.append(key)\n",
    "            updated_dict[key] = new_rule\n",
    "    return updated_dict"
   ]
  },
  {
   "cell_type": "code",
   "execution_count": 76,
   "metadata": {
    "ExecuteTime": {
     "end_time": "2021-01-03T01:14:35.689225Z",
     "start_time": "2021-01-03T01:14:35.679066Z"
    }
   },
   "outputs": [],
   "source": [
    "def replace_keys_by_rule(grammar, keys_to_replace):\n",
    "    # we now need to verify that none of the keys are part of the sequences.\n",
    "    keys_to_replace = remove_references(keys_to_replace)\n",
    "\n",
    "    new_grammar = {}\n",
    "    for key in grammar:\n",
    "        if key in keys_to_replace: continue\n",
    "\n",
    "        new_rules = []\n",
    "        for rule in grammar[key]:\n",
    "            new_rule = []\n",
    "            for token in rule:\n",
    "                if token in keys_to_replace:\n",
    "                    new_rule.extend(keys_to_replace[token])\n",
    "                else:\n",
    "                    new_rule.append(token)\n",
    "            new_rules.append(new_rule)\n",
    "        new_grammar[key] = new_rules\n",
    "    return new_grammar"
   ]
  },
  {
   "cell_type": "markdown",
   "metadata": {},
   "source": [
    "Now, all together."
   ]
  },
  {
   "cell_type": "code",
   "execution_count": 77,
   "metadata": {
    "ExecuteTime": {
     "end_time": "2021-01-03T01:14:36.433249Z",
     "start_time": "2021-01-03T01:14:36.426939Z"
    }
   },
   "outputs": [],
   "source": [
    "def remove_single_alts(grammar, start_symbol):\n",
    "    single_alts = {p for p in grammar if len(grammar[p]) == 1 and p != start_symbol}\n",
    "\n",
    "    child_parent_map = get_parents_of_tokens(grammar, start_symbol)\n",
    "    assert len(child_parent_map) < len(grammar)\n",
    "\n",
    "    single_refs = {p:child_parent_map[p] for p in single_alts if len(child_parent_map[p]) <= 1}\n",
    "\n",
    "    ordered = order_by_length_to_start(single_refs, child_parent_map, start_symbol)\n",
    "\n",
    "    for p in ordered:\n",
    "        assert len(grammar[p]) == 1\n",
    "        if not isinstance(grammar[p][0], str):\n",
    "            print(p, grammar[p][0])\n",
    "\n",
    "    keys_to_replace = {p:grammar[p][0] for p in ordered}\n",
    "    g =  replace_keys_by_rule(grammar, keys_to_replace)\n",
    "    return g"
   ]
  },
  {
   "cell_type": "markdown",
   "metadata": {},
   "source": [
    "remove similar rules from under a single key"
   ]
  },
  {
   "cell_type": "code",
   "execution_count": 78,
   "metadata": {
    "ExecuteTime": {
     "end_time": "2021-01-03T01:14:37.262524Z",
     "start_time": "2021-01-03T01:14:37.254894Z"
    }
   },
   "outputs": [],
   "source": [
    "def len_rule(r): return len(r)\n",
    "def len_definition(d): return sum([len_rule(r) for r in d])\n",
    "def len_grammar(g): return sum([len_definition(g[k]) for k in g])"
   ]
  },
  {
   "cell_type": "code",
   "execution_count": 79,
   "metadata": {
    "ExecuteTime": {
     "end_time": "2021-01-03T01:14:37.274556Z",
     "start_time": "2021-01-03T01:14:37.270617Z"
    }
   },
   "outputs": [],
   "source": [
    "def remove_duplicate_rules_in_a_key(g):\n",
    "    g_ = {}\n",
    "    for k in g:\n",
    "        s = {str(r):r for r in g[k]}\n",
    "        g_[k] = list(sorted(list(s.values())))\n",
    "    return g_"
   ]
  },
  {
   "cell_type": "code",
   "execution_count": 80,
   "metadata": {
    "ExecuteTime": {
     "end_time": "2021-01-03T01:14:37.288146Z",
     "start_time": "2021-01-03T01:14:37.277055Z"
    }
   },
   "outputs": [],
   "source": [
    "def grammar_gc(grammar, start_symbol):\n",
    "    def strip_key(grammar, key, order):\n",
    "        rules = sorted(grammar[key])\n",
    "        old_len = len(order)\n",
    "        for rule in rules:\n",
    "            for token in rule:\n",
    "                if is_nt(token):\n",
    "                    if token not in order:\n",
    "                        order.append(token)\n",
    "        new = order[old_len:]\n",
    "        for ckey in new:\n",
    "            strip_key(grammar, ckey, order)\n",
    "\n",
    "    order = [start_symbol]\n",
    "    strip_key(grammar, start_symbol, order)\n",
    "    assert len(order) == len(grammar.keys())\n",
    "    g = {k: sorted(grammar[k]) for k in order}\n",
    "    for k in g:\n",
    "        for r in g[k]:\n",
    "            for t in r:\n",
    "                assert isinstance(t, str)\n",
    "    return g"
   ]
  },
  {
   "cell_type": "code",
   "execution_count": 81,
   "metadata": {
    "ExecuteTime": {
     "end_time": "2021-01-03T01:14:37.294843Z",
     "start_time": "2021-01-03T01:14:37.290459Z"
    }
   },
   "outputs": [],
   "source": [
    "def cleanup_grammar(g, start_symbol):\n",
    "    g = grammar_gc(g, start_symbol)\n",
    "    g1 = check_empty_rules(g) # add optional rules\n",
    "    g1 = grammar_gc(g1, start_symbol)\n",
    " \n",
    "    g2 = collapse_rules(g1) # learn regex\n",
    "    g2 = grammar_gc(g2, start_symbol)\n",
    "\n",
    "    g3 = convert_spaces_in_keys(g2) # fuzzable grammar\n",
    "    g3 = grammar_gc(g3, start_symbol)\n",
    "    return g3"
   ]
  },
  {
   "cell_type": "code",
   "execution_count": 82,
   "metadata": {
    "ExecuteTime": {
     "end_time": "2021-01-03T01:14:37.307066Z",
     "start_time": "2021-01-03T01:14:37.301232Z"
    }
   },
   "outputs": [],
   "source": [
    "def remove_single_entry_chains(grammar, start_symbol):\n",
    "    keys_to_replace = replacement_candidate_chains(grammar, {start_symbol, '<main>'})\n",
    "    return replace_key_by_key(grammar, keys_to_replace)"
   ]
  },
  {
   "cell_type": "code",
   "execution_count": 83,
   "metadata": {
    "ExecuteTime": {
     "end_time": "2021-01-03T01:14:37.317773Z",
     "start_time": "2021-01-03T01:14:37.311786Z"
    }
   },
   "outputs": [],
   "source": [
    "def cleanup_token_names(grammar):\n",
    "    keys_to_replace = collect_replacement_keys(grammar)\n",
    "    g = replace_key_by_new_key(grammar, keys_to_replace)\n",
    "    return g"
   ]
  },
  {
   "cell_type": "code",
   "execution_count": 84,
   "metadata": {
    "ExecuteTime": {
     "end_time": "2021-01-03T01:14:37.325348Z",
     "start_time": "2021-01-03T01:14:37.320561Z"
    }
   },
   "outputs": [],
   "source": [
    "def remove_self_definitions(g):\n",
    "    g_ = {}\n",
    "    for k in g:\n",
    "        rs_ = []\n",
    "        for r in g[k]:\n",
    "            assert not isinstance(r, str)\n",
    "            if len(r) == 1 and r[0] == k: continue\n",
    "            rs_.append(r)\n",
    "        g_[k] = rs_\n",
    "    return g_"
   ]
  },
  {
   "cell_type": "code",
   "execution_count": 85,
   "metadata": {
    "ExecuteTime": {
     "end_time": "2021-01-03T01:14:37.342813Z",
     "start_time": "2021-01-03T01:14:37.336542Z"
    }
   },
   "outputs": [],
   "source": [
    "def compact_grammar(e, start_symbol):\n",
    "    assert start_symbol in e\n",
    "    l = len_grammar(e)\n",
    "    diff = 1\n",
    "    while diff > 0:\n",
    "        assert start_symbol in e\n",
    "        e = remove_single_entry_chains(e, start_symbol)\n",
    "        e = grammar_gc(e, start_symbol) # garbage collect\n",
    "\n",
    "        e = remove_duplicate_rule_keys(e)\n",
    "        e = grammar_gc(e, start_symbol) # garbage collect\n",
    "\n",
    "        e = cleanup_token_names(e)\n",
    "        e = grammar_gc(e, start_symbol) # garbage collect\n",
    "\n",
    "        e = remove_single_alts(e, start_symbol)\n",
    "        e = grammar_gc(e, start_symbol) # garbage collect\n",
    "\n",
    "        e = remove_duplicate_rules_in_a_key(e)\n",
    "        e = grammar_gc(e, start_symbol) # garbage collect\n",
    "\n",
    "        e = remove_self_definitions(e)\n",
    "        e = grammar_gc(e, start_symbol) # garbage collect\n",
    "\n",
    "        l_ = len_grammar(e)\n",
    "        diff = l - l_\n",
    "        l = l_\n",
    "    e = grammar_gc(e, start_symbol)\n",
    "    return e"
   ]
  },
  {
   "cell_type": "markdown",
   "metadata": {},
   "source": [
    "### The Complete Miner\n",
    "\n",
    "We now put everything together. The `miner()` takes the traces, produces trees out of them, and verifies that the trees actually correspond to the input."
   ]
  },
  {
   "cell_type": "code",
   "execution_count": 88,
   "metadata": {
    "ExecuteTime": {
     "end_time": "2021-01-03T01:14:38.346137Z",
     "start_time": "2021-01-03T01:14:38.340437Z"
    }
   },
   "outputs": [],
   "source": [
    "def miner(call_traces):\n",
    "    my_trees = []\n",
    "    for call_trace in call_traces:\n",
    "        method_map = call_trace['method_map']\n",
    "\n",
    "        first, method_tree = reconstruct_method_tree(method_map)\n",
    "        comparisons = call_trace['comparisons']\n",
    "        attach_comparisons(method_tree, last_comparisons(comparisons))\n",
    "\n",
    "        my_str = call_trace['inputstr']\n",
    "\n",
    "        tree = to_tree(method_tree[first], my_str)\n",
    "        my_tree = {'tree': tree, 'original': call_trace['original'], 'arg': call_trace['arg']}\n",
    "        print(tree_to_str(tree))\n",
    "        assert tree_to_str(tree) == my_str\n",
    "        my_trees.append(my_tree)\n",
    "    return my_trees"
   ]
  },
  {
   "cell_type": "code",
   "execution_count": 107,
   "metadata": {
    "ExecuteTime": {
     "end_time": "2021-01-03T16:40:24.091489Z",
     "start_time": "2021-01-03T16:40:24.087849Z"
    }
   },
   "outputs": [],
   "source": [
    "import jsonpickle\n",
    "from fuzzingbook.Parser import non_canonical, canonical"
   ]
  },
  {
   "cell_type": "code",
   "execution_count": 109,
   "metadata": {
    "ExecuteTime": {
     "end_time": "2021-01-03T16:41:42.769891Z",
     "start_time": "2021-01-03T16:41:42.755560Z"
    },
    "scrolled": true
   },
   "outputs": [],
   "source": [
    "def binary_miner(seeds, executable, flag=None):\n",
    "    call_trace = []\n",
    "    for inp in seeds:\n",
    "        arg0 = '\\'py arg0=\"%s\"\\'' % inp\n",
    "        arg1 = '\\'py arg1=\"%s\"\\'' % executable\n",
    "        \n",
    "        with open(f'inp.0.txt', 'w+') as f:\n",
    "            print(inp, file=f)\n",
    "        \n",
    "        if flag:\n",
    "            !gcc -g {executable} {flag}\n",
    "        else: \n",
    "            !gcc -g {executable}\n",
    "            \n",
    "        !gdb --batch-silent -ex {arg1} -x bminer.py\n",
    "        with open(f'tree', 'rb') as f:\n",
    "            call_trace.append((jsonpickle.decode(f.read())))\n",
    "            \n",
    "    mined_tree = miner(call_trace)\n",
    "    g0 = convert_to_grammar(mined_tree)\n",
    "    g = cleanup_grammar(g0, start_symbol='<START>')\n",
    "    g = compact_grammar(g, start_symbol='<START>')\n",
    "    return show_grammar(non_canonical(g), canonical=False)"
   ]
  },
  {
   "cell_type": "markdown",
   "metadata": {},
   "source": [
    "# Evaluation"
   ]
  },
  {
   "cell_type": "code",
   "execution_count": 194,
   "metadata": {
    "ExecuteTime": {
     "end_time": "2021-01-03T20:30:18.581947Z",
     "start_time": "2021-01-03T20:30:18.578137Z"
    }
   },
   "outputs": [],
   "source": [
    "Max_Precision = 1000\n",
    "Max_Recall = 1000\n",
    "BMiner = {}\n",
    "BMinerFuzz = {}\n",
    "BMinerGrammar = {}\n",
    "MaxTimeout = 60*60*24 # 2 day\n",
    "MaxParseTimeout = 60*5\n",
    "CHECK = {'calculator', 'parson', 'tinyc', 'csv', 'mjs', 'lisp', 'yxml', 'duktape'}"
   ]
  },
  {
   "cell_type": "markdown",
   "metadata": {},
   "source": [
    "### Check Recall\n",
    "\n",
    "How many of the *valid* inputs from the golden grammar can be recognized by a parser using our grammar?"
   ]
  },
  {
   "cell_type": "code",
   "execution_count": 91,
   "metadata": {
    "ExecuteTime": {
     "end_time": "2021-01-03T01:14:39.922726Z",
     "start_time": "2021-01-03T01:14:39.920111Z"
    }
   },
   "outputs": [],
   "source": [
    "from fuzzingbook.Parser import IterativeEarleyParser"
   ]
  },
  {
   "cell_type": "code",
   "execution_count": 92,
   "metadata": {
    "ExecuteTime": {
     "end_time": "2021-01-03T01:14:39.941577Z",
     "start_time": "2021-01-03T01:14:39.929870Z"
    }
   },
   "outputs": [],
   "source": [
    "def check_recall(golden_grammar, my_grammar, maximum=Max_Recall, start_symbol='<START>', log=False):\n",
    "    my_count = maximum\n",
    "    ie = IterativeEarleyParser(my_grammar, start_symbol=start_symbol)\n",
    "    golden = GrammarFuzzer(golden_grammar, start_symbol=start_symbol)\n",
    "    success = 0\n",
    "    while my_count != 0:\n",
    "        src = golden.fuzz()\n",
    "        try:\n",
    "            my_count -= 1\n",
    "            try:\n",
    "                # print('?', repr(src), file=sys.stderr)\n",
    "                for tree in ie.parse(src):\n",
    "                    success += 1\n",
    "                    break\n",
    "                if log: print(maximum - my_count, '+', repr(src), success, file=sys.stderr)\n",
    "            except:\n",
    "                #print(\"Error:\", sys.exc_info()[0], file=sys.stderr)\n",
    "                if log: print(maximum - my_count, '-', repr(src), file=sys.stderr)\n",
    "                pass\n",
    "        except:\n",
    "            pass\n",
    "    return (success, maximum)"
   ]
  },
  {
   "cell_type": "markdown",
   "metadata": {},
   "source": [
    "### Check Precision\n",
    "How many of the inputs produced using our grammar are valid? (Accepted by the program)."
   ]
  },
  {
   "cell_type": "code",
   "execution_count": 93,
   "metadata": {
    "ExecuteTime": {
     "end_time": "2021-01-03T01:14:40.755549Z",
     "start_time": "2021-01-03T01:14:40.750692Z"
    }
   },
   "outputs": [],
   "source": [
    "def check_precision(name, grammar, maximum=Max_Precision, start_symbol='<START>', log=False):\n",
    "    success = 0\n",
    "    with ExpectError():\n",
    "        fuzzer = GrammarFuzzer(grammar, start_symbol)\n",
    "        for i in range(maximum):\n",
    "            v = fuzzer.fuzz(key=start_symbol)\n",
    "            c = check_it(v, name)\n",
    "            success += (1 if c else 0)\n",
    "            if log: print(i, repr(v), c)\n",
    "    return (success, maximum)"
   ]
  },
  {
   "cell_type": "code",
   "execution_count": 94,
   "metadata": {
    "ExecuteTime": {
     "end_time": "2021-01-03T01:14:40.763686Z",
     "start_time": "2021-01-03T01:14:40.759481Z"
    }
   },
   "outputs": [],
   "source": [
    "class timeit():\n",
    "    def __enter__(self):\n",
    "        self.tic = datetime.now()\n",
    "        return self\n",
    "    def __exit__(self, *args, **kwargs):\n",
    "        self.delta = datetime.now() - self.tic\n",
    "        self.runtime = (self.delta.microseconds, self.delta)"
   ]
  },
  {
   "cell_type": "markdown",
   "metadata": {},
   "source": [
    "### Timer"
   ]
  },
  {
   "cell_type": "code",
   "execution_count": 95,
   "metadata": {
    "ExecuteTime": {
     "end_time": "2021-01-03T01:14:41.678370Z",
     "start_time": "2021-01-03T01:14:41.675620Z"
    }
   },
   "outputs": [],
   "source": [
    "from datetime import datetime\n",
    "from fuzzingbook.GrammarFuzzer import GrammarFuzzer"
   ]
  },
  {
   "cell_type": "markdown",
   "metadata": {},
   "source": [
    "## Subjects"
   ]
  },
  {
   "cell_type": "code",
   "execution_count": 96,
   "metadata": {
    "ExecuteTime": {
     "end_time": "2021-01-03T01:14:42.692993Z",
     "start_time": "2021-01-03T01:14:42.690114Z"
    }
   },
   "outputs": [],
   "source": [
    "BMiner_p = {}\n",
    "BMiner_r = {}\n",
    "\n",
    "BMiner_t ={}"
   ]
  },
  {
   "cell_type": "markdown",
   "metadata": {},
   "source": [
    "### Calculator"
   ]
  },
  {
   "cell_type": "markdown",
   "metadata": {},
   "source": [
    "####  Golden Grammar"
   ]
  },
  {
   "cell_type": "code",
   "execution_count": 97,
   "metadata": {
    "ExecuteTime": {
     "end_time": "2021-01-03T01:15:08.419363Z",
     "start_time": "2021-01-03T01:15:08.411217Z"
    }
   },
   "outputs": [],
   "source": [
    "calc_golden = {\n",
    "  \"<START>\": [\n",
    "    \"<expr>\"\n",
    "  ],\n",
    "  \"<expr>\": [\n",
    "    \"<term>+<expr>\",\n",
    "    \"<term>-<expr>\",\n",
    "    \"<term>\"\n",
    "  ],\n",
    "  \"<term>\": [\n",
    "    \"<factor>*<term>\",\n",
    "    \"<factor>/<term>\",\n",
    "    \"<factor>\"\n",
    "  ],\n",
    "  \"<factor>\": [\n",
    "    \"(<expr>)\",\n",
    "    \"<number>\"\n",
    "  ],\n",
    "  \"<number>\": [\n",
    "    \"<integer>.<integer>\",\n",
    "    \"<integer>\"\n",
    "  ],\n",
    "  \"<integer>\": [\n",
    "    \"<digit><integer>\",\n",
    "    \"<digit>\"\n",
    "  ],\n",
    "  \"<digit>\": [ \"0\", \"1\", \"2\", \"3\", \"4\", \"5\", \"6\", \"7\", \"8\", \"9\" ]\n",
    "}"
   ]
  },
  {
   "cell_type": "markdown",
   "metadata": {},
   "source": [
    "#### Samples"
   ]
  },
  {
   "cell_type": "code",
   "execution_count": 251,
   "metadata": {
    "ExecuteTime": {
     "end_time": "2021-01-04T02:27:23.016746Z",
     "start_time": "2021-01-04T02:27:23.013580Z"
    }
   },
   "outputs": [],
   "source": [
    "calc_samples=[i.strip() for i in '''\\\n",
    "(1+2)*3/(423-334+9983)-5-((6)-(701))\n",
    "(123+133*(12-3)/9+8)+33\n",
    "(100)\n",
    "21*3\n",
    "33/44+2\n",
    "100\n",
    "23*234*22*4\n",
    "1+2\n",
    "31/20-2\n",
    "555+(234-445)\n",
    "1-(41/2)\n",
    "443-334+33-222\n",
    "'''.split('\\n') if i.strip()]"
   ]
  },
  {
   "cell_type": "code",
   "execution_count": 368,
   "metadata": {
    "ExecuteTime": {
     "end_time": "2021-01-05T01:44:25.236649Z",
     "start_time": "2021-01-05T01:43:54.683069Z"
    },
    "scrolled": true
   },
   "outputs": [
    {
     "name": "stdout",
     "output_type": "stream",
     "text": [
      "(123+133*(12-3)/9+8)+33\n",
      "<main> ['<parse_expr-0-c>']\n",
      "<parse_expr-5> ['<__ctype_b_loc-0-c>', '<parse_expr-6>']\n",
      "<parse_expr-2> ['<parse_expr-2-s>', '<parse_expr-3>']\n",
      "<parse_expr-6> ['<strlen-0-c>', '<parse_expr-7>']\n",
      "<__GI__dl_addr-1> ['<_dl_find_dso_for_object-1>', '<__tunable_get_val-0-c>']\n",
      "<parse_expr-3> ['<parse_expr-3-s>', '<parse_expr-4-s>']\n",
      "<parse_expr-7> ['<parse_expr-0-c>', '<parse_expr-8>']\n",
      "<_int_malloc-1> ['1']\n",
      "<parse_expr-8> ['<strlen-0-c>', '<parse_expr-9>']\n",
      "<parse_expr-9> ['<__ctype_b_loc-0-c>', '<__tunable_get_val-3>']\n",
      "<__tunable_get_val-2> ['<parse_expr-0-c>', '<__tunable_get_val-3>']\n",
      "<__ctype_b_loc-7> ['123+']\n",
      "<__ctype_b_loc-3> ['-']\n",
      "<__ctype_b_loc-1> [')']\n",
      "<__ctype_b_loc-8> ['2']\n",
      "<__ctype_b_loc-4> ['1', '<__ctype_b_loc-5>']\n",
      "<strlen-6> ['9']\n",
      "<strlen-3> ['/']\n",
      "<strlen-5> ['8']\n",
      "<__ctype_b_loc-5> ['33', '<__ctype_b_loc-6>']\n",
      "<__ctype_b_loc-6> ['*']\n",
      "<__tunable_get_val-0-c> ['<parse_expr-0-c>', '<__tunable_get_val-3>']\n"
     ]
    },
    {
     "data": {
      "text/plain": [
       "{'<START>': ['<parse_expr-0-c>'],\n",
       " '<parse_expr-0-c>': ['<__ctype_b_loc-0-c><strlen-0-c><parse_expr-0-c><strlen-0-c><__ctype_b_loc-0-c><__tunable_get_val-3>',\n",
       "  '<parse_expr-1>'],\n",
       " '<__ctype_b_loc-0-c>': [')',\n",
       "  '-',\n",
       "  '123+',\n",
       "  '133*',\n",
       "  '2',\n",
       "  '<strlen-2>',\n",
       "  '<strlen-4>'],\n",
       " '<strlen-0-c>': ['/',\n",
       "  '8',\n",
       "  '9',\n",
       "  '<_dl_find_dso_for_object-1>',\n",
       "  '<strlen-2>',\n",
       "  '<strlen-4>'],\n",
       " '<__tunable_get_val-3>': ['<strlen-0-c><__ctype_b_loc-0-c>'],\n",
       " '<parse_expr-1>': ['<malloc-0-c>',\n",
       "  '<malloc-0-c><parse_expr-2-s><parse_expr-3-s><parse_expr-4-s>'],\n",
       " '<strlen-2>': ['+'],\n",
       " '<strlen-4>': ['3'],\n",
       " '<_dl_find_dso_for_object-1>': ['('],\n",
       " '<malloc-0-c>': ['1',\n",
       "  '<_dl_find_dso_for_object-1><parse_expr-0-c><__tunable_get_val-3>'],\n",
       " '<parse_expr-2-s>': ['<__ctype_b_loc-0-c>',\n",
       "  '<__ctype_b_loc-0-c><parse_expr-2-s>'],\n",
       " '<parse_expr-3-s>': ['<strlen-0-c>', '<strlen-0-c><parse_expr-3-s>'],\n",
       " '<parse_expr-4-s>': ['<__ctype_b_loc-0-c>',\n",
       "  '<__ctype_b_loc-0-c><parse_expr-4-s>']}"
      ]
     },
     "execution_count": 368,
     "metadata": {},
     "output_type": "execute_result"
    }
   ],
   "source": [
    "calc_grammar = binary_miner([calc_samples[1]], 'subject/calc/calc_parse.c')\n",
    "calc_grammar"
   ]
  },
  {
   "cell_type": "code",
   "execution_count": 253,
   "metadata": {
    "ExecuteTime": {
     "end_time": "2021-01-04T03:18:03.582537Z",
     "start_time": "2021-01-04T02:33:35.537335Z"
    }
   },
   "outputs": [
    {
     "name": "stdout",
     "output_type": "stream",
     "text": [
      "(396, 1000)\n"
     ]
    }
   ],
   "source": [
    "if 'calculator' in CHECK:\n",
    "    result = check_recall(calc_golden, calc_grammar, start_symbol='<START>')\n",
    "    BMiner_r['calculator.py'] = result\n",
    "    print(result)"
   ]
  },
  {
   "cell_type": "markdown",
   "metadata": {
    "ExecuteTime": {
     "end_time": "2020-10-28T14:22:21.496167Z",
     "start_time": "2020-10-28T14:22:21.473384Z"
    }
   },
   "source": [
    "### cJSON\n",
    "\n",
    "Parson is a lightweight json library written in C."
   ]
  },
  {
   "cell_type": "markdown",
   "metadata": {},
   "source": [
    "#### Samples"
   ]
  },
  {
   "cell_type": "code",
   "execution_count": 1532,
   "metadata": {
    "ExecuteTime": {
     "end_time": "2021-01-14T00:47:02.662942Z",
     "start_time": "2021-01-14T00:47:02.660709Z"
    }
   },
   "outputs": [],
   "source": [
    "#json_samples = [i.strip() for i in '''\\\n",
    "#{\"emptya\":[],\"emptyh\":{},\"emptystr\":\"\",\"null\":\"null\"}\n",
    "#{\"color\":\"blue\",\"category\":\"hue\",\"type\":\"primary\",\"code\":{\"rgba\":[0,0,255,1],\"hex\":\"#00F\"}}\n",
    "#{\"color\":\"yellow\",\"category\":\"hue\",\"wetype\":\"primary\",\"code\":{\"rgba\":[255,255,0,1],\"hex\":\"#FF0\"}}\n",
    "#{\"color\":\"green\",\"category\":\"hue\",\"type\":\"secondary\",\"code\":{\"rgba\":[0,255,0,1],\"hex\":\"#0F0\"}\n",
    "#'''.split('\\n') if i.strip()]"
   ]
  },
  {
   "cell_type": "code",
   "execution_count": 1534,
   "metadata": {
    "ExecuteTime": {
     "end_time": "2021-01-14T00:47:39.040733Z",
     "start_time": "2021-01-14T00:47:39.037764Z"
    },
    "scrolled": true
   },
   "outputs": [],
   "source": [
    "#parson_grammar = binary_miner([json_samples[0]], 'subject/json/cJSON.c')\n",
    "#parson_grammar"
   ]
  },
  {
   "cell_type": "code",
   "execution_count": null,
   "metadata": {
    "ExecuteTime": {
     "end_time": "2021-01-01T11:31:53.698380Z",
     "start_time": "2021-01-01T11:31:52.881523Z"
    },
    "scrolled": true
   },
   "outputs": [],
   "source": []
  },
  {
   "cell_type": "markdown",
   "metadata": {},
   "source": [
    "### MJS"
   ]
  },
  {
   "cell_type": "markdown",
   "metadata": {},
   "source": [
    "#### Golden Grammar"
   ]
  },
  {
   "cell_type": "code",
   "execution_count": 219,
   "metadata": {
    "ExecuteTime": {
     "end_time": "2021-01-03T21:49:39.119694Z",
     "start_time": "2021-01-03T21:49:39.114042Z"
    }
   },
   "outputs": [],
   "source": [
    "import string\n",
    "mjs_golden = {\n",
    "    '<START>': ['<program>'],\n",
    "    '<program>': ['<statement>'],\n",
    "    '<statement>': ['if <paren_expr> <statement>', 'if <paren_expr> <statement> else <statement>',\n",
    "                   'while <paren_expr> <statement>', 'do <statement> while <paren_expr>;',\n",
    "                   '{ <statement> }', '<expr> ;', ';'],\n",
    "    '<paren_expr>': ['(<expr>)'],\n",
    "    '<expr>': ['<test>', '<id>=<expr>'],\n",
    "    '<test>': ['<sum>', '<sum><<sum>'],\n",
    "    '<sum>': ['<term>', '<sum>+<term>', '<sum>-<term>'],\n",
    "    '<term>': ['<id>', '<int>', '<paren_expr>'],\n",
    "    '<id>': list(string.ascii_lowercase),\n",
    "    '<int>': list(string.digits)\n",
    "}"
   ]
  },
  {
   "cell_type": "markdown",
   "metadata": {},
   "source": [
    "#### Samples"
   ]
  },
  {
   "cell_type": "code",
   "execution_count": 321,
   "metadata": {
    "ExecuteTime": {
     "end_time": "2021-01-04T19:58:15.136648Z",
     "start_time": "2021-01-04T19:58:15.131458Z"
    }
   },
   "outputs": [],
   "source": [
    "mjs_samples=[i.strip() for i in '''\\\n",
    "{ i=7; if (i<5) x=1; if (i<10) y=2; }\n",
    "{ i=1; while (i<100) i=i+i; }\n",
    "a=b=c=2<3;\n",
    "{ i=1; while ((i=i+10)<50) ; }\n",
    "'''.split('\\n') if i.strip()]"
   ]
  },
  {
   "cell_type": "code",
   "execution_count": 367,
   "metadata": {
    "ExecuteTime": {
     "end_time": "2021-01-05T01:39:40.785332Z",
     "start_time": "2021-01-05T01:38:19.915674Z"
    },
    "scrolled": true
   },
   "outputs": [
    {
     "name": "stdout",
     "output_type": "stream",
     "text": [
      "{ i=7; if (i<5) x=1; if (i<10) y=2; }\n",
      "<main> ['<parse_statement_list-1>']\n",
      "<parse_if-1> ['<pnext-1>', '<parse_if-2>']\n",
      "<parse_if-2> ['<parse_assignment-0-c>', '<parse_if-3>']\n",
      "<parse_if-3> ['<pnext-1>', '<parse_statement-0-c>']\n",
      "<skip_spaces_and_comments-4> ['7']\n",
      "<skip_spaces_and_comments-1> ['1']\n",
      "<skip_spaces_and_comments-3> ['5']\n",
      "<skip_spaces_and_comments-2> ['2']\n",
      "<skip_spaces_and_comments-7> ['{']\n",
      "<*ABS*+0xa27b0-3> [';']\n",
      "<mjs_is_space-4> ['x']\n",
      "<mjs_is_space-2> ['(']\n",
      "<*ABS*+0xa27b0-1> [')']\n",
      "<*ABS*+0xa27b0-2> ['0)']\n",
      "<mjs_is_space-6> ['}']\n",
      "<mjs_is_space-5> ['y']\n",
      "<mjs_is_alpha-1> ['<']\n",
      "<mjs_is_alpha-2> ['=']\n",
      "<mjs_is_alpha-3> ['f']\n"
     ]
    },
    {
     "data": {
      "text/plain": [
       "{'<START>': ['<parse_statement_list-1>'],\n",
       " '<parse_statement_list-1>': ['<parse_statement_list-1-s>',\n",
       "  '<parse_statement_list-1-s><pnext-1>'],\n",
       " '<parse_statement_list-1-s>': ['<pnext-1><parse_statement-0-c>',\n",
       "  '<pnext-1><parse_statement-0-c><parse_statement_list-1-s>'],\n",
       " '<pnext-1>': ['<skip_spaces_and_comments-0-c>',\n",
       "  '<skip_spaces_and_comments-0-c><pnext-1-c>'],\n",
       " '<parse_statement-0-c>': ['<parse_statement_list-1>',\n",
       "  '<pnext-1>',\n",
       "  '<pnext-1><pnext-1><pnext-1><parse_statement-0-c>'],\n",
       " '<skip_spaces_and_comments-0-c>': ['1',\n",
       "  '2',\n",
       "  '5',\n",
       "  '7',\n",
       "  '<mjs_is_space-0-c>',\n",
       "  '<skip_spaces_and_comments-6>',\n",
       "  '{'],\n",
       " '<pnext-1-c>': ['<*ABS*+0xa27b0-0-c>', '<mjs_is_ident-0-c>'],\n",
       " '<mjs_is_space-0-c>': ['(',\n",
       "  '<mjs_is_space-1>',\n",
       "  '<skip_spaces_and_comments-6>',\n",
       "  'x',\n",
       "  'y',\n",
       "  '}'],\n",
       " '<skip_spaces_and_comments-6>': ['i'],\n",
       " '<mjs_is_space-1>': [' '],\n",
       " '<*ABS*+0xa27b0-0-c>': [')', '0)', ';'],\n",
       " '<mjs_is_ident-0-c>': ['<mjs_is_alpha-0-c>', '<mjs_is_space-1>'],\n",
       " '<mjs_is_alpha-0-c>': ['<', '=', 'f']}"
      ]
     },
     "execution_count": 367,
     "metadata": {},
     "output_type": "execute_result"
    }
   ],
   "source": [
    "mjs_grammar = binary_miner([mjs_samples[0]], 'subject/mjs/mjs.c')\n",
    "mjs_grammar"
   ]
  },
  {
   "cell_type": "code",
   "execution_count": 222,
   "metadata": {
    "ExecuteTime": {
     "end_time": "2021-01-03T21:59:39.670383Z",
     "start_time": "2021-01-03T21:58:28.064279Z"
    }
   },
   "outputs": [
    {
     "name": "stdout",
     "output_type": "stream",
     "text": [
      "(34, 1000)\n"
     ]
    }
   ],
   "source": [
    "if 'mjs' in CHECK:\n",
    "    result = check_recall(mjs_golden, mjs_grammar, start_symbol='<START>')\n",
    "    BMiner_r['mjs.c'] = result\n",
    "    print(result)"
   ]
  },
  {
   "cell_type": "markdown",
   "metadata": {},
   "source": [
    "### Duktape\n",
    "Duktape is an embeddable Javascript engine, with a focus on portability and compact footprint."
   ]
  },
  {
   "cell_type": "markdown",
   "metadata": {},
   "source": [
    "#### Golden Grammar"
   ]
  },
  {
   "cell_type": "code",
   "execution_count": 140,
   "metadata": {
    "ExecuteTime": {
     "end_time": "2021-01-03T18:59:47.115764Z",
     "start_time": "2021-01-03T18:59:47.110809Z"
    }
   },
   "outputs": [],
   "source": [
    "import string\n",
    "duktape_golden = {\n",
    "    '<START>': ['<program>'],\n",
    "    '<program>': ['<statement>'],\n",
    "    '<statement>': ['if <paren_expr> <statement>', 'if <paren_expr> <statement> else <statement>',\n",
    "                   'while <paren_expr> <statement>', 'do <statement> while <paren_expr>;',\n",
    "                   '{ <statement> }', '<expr> ;', ';'],\n",
    "    '<paren_expr>': ['(<expr>)'],\n",
    "    '<expr>': ['<test>', '<id>=<expr>'],\n",
    "    '<test>': ['<sum>', '<sum><<sum>'],\n",
    "    '<sum>': ['<term>', '<sum>+<term>', '<sum>-<term>'],\n",
    "    '<term>': ['<id>', '<int>', '<paren_expr>'],\n",
    "    '<id>': list(string.ascii_lowercase),\n",
    "    '<int>': list(string.digits)\n",
    "}"
   ]
  },
  {
   "cell_type": "markdown",
   "metadata": {},
   "source": [
    "#### Samples"
   ]
  },
  {
   "cell_type": "code",
   "execution_count": 141,
   "metadata": {
    "ExecuteTime": {
     "end_time": "2021-01-03T19:00:38.840241Z",
     "start_time": "2021-01-03T19:00:38.833415Z"
    }
   },
   "outputs": [],
   "source": [
    "duktape_samples=[i.strip() for i in '''\\\n",
    "{ i=1; while (i<100) i=i+i; }\n",
    "'''.split('\\n') if i.strip()]"
   ]
  },
  {
   "cell_type": "code",
   "execution_count": 104,
   "metadata": {
    "ExecuteTime": {
     "end_time": "2021-01-03T16:37:26.344214Z",
     "start_time": "2021-01-03T16:37:26.340231Z"
    }
   },
   "outputs": [],
   "source": [
    "import sys\n",
    "#print(sys.getrecursionlimit())\n",
    "sys.setrecursionlimit(40000)"
   ]
  },
  {
   "cell_type": "code",
   "execution_count": 110,
   "metadata": {
    "ExecuteTime": {
     "end_time": "2021-01-03T18:54:31.171662Z",
     "start_time": "2021-01-03T16:42:21.678978Z"
    },
    "scrolled": true
   },
   "outputs": [
    {
     "name": "stdout",
     "output_type": "stream",
     "text": [
      "{ i=1; while (i<100) i=i+i; }\n",
      "<main> ['<duk_default_alloc_function-0-c>']\n",
      "<duk__heap_suppress_debuglog-1> [' ']\n",
      "<duk_heap_hashstring-6> ['}']\n",
      "<duk_heap_hashstring-2> ['1']\n",
      "<duk_heap_hashstring-5> ['w']\n",
      "<duk__strtable_alloc_hstring-9> ['<duk_heap_mem_alloc-0-c>', '<duk__strtable_alloc_hstring-9-c>']\n",
      "<duk__strtable_alloc_hstring-1> [')', '<duk__strtable_alloc_hstring-2>']\n",
      "<duk__strtable_alloc_hstring-4> ['+', '<duk__strtable_alloc_hstring-2>']\n",
      "<duk_bd_decode-9> ['l']\n",
      "<duk_bd_decode-1> ['(']\n",
      "<duk_bd_decode-7> ['h']\n",
      "<duk_bd_decode-3> [';']\n",
      "<duk_bd_decode-6> ['e']\n",
      "<duk_bd_decode-4> ['<']\n",
      "<duk_bd_decode-10> ['{']\n"
     ]
    },
    {
     "data": {
      "text/plain": [
       "{'<START>': ['<duk_default_alloc_function-0-c>'],\n",
       " '<duk_default_alloc_function-0-c>': [' ', '<memset-0-c>'],\n",
       " '<memset-0-c>': ['<duk_default_alloc_function-0-c>',\n",
       "  '<duk_heap_strtable_intern-0-c>',\n",
       "  '<duk_js_to_arrayindex_string-1>'],\n",
       " '<duk_heap_strtable_intern-0-c>': ['<duk__strtable_do_intern-0-c>',\n",
       "  '<duk_heap_strtable_intern-2>'],\n",
       " '<duk_js_to_arrayindex_string-1>': ['i'],\n",
       " '<duk__strtable_do_intern-0-c>': ['<duk__strtable_alloc_hstring-0-c>',\n",
       "  '<duk_heap_mem_alloc-0-c>'],\n",
       " '<duk_heap_strtable_intern-2>': ['<duk_heap_hashstring-0-c>',\n",
       "  '<duk_heap_hashstring-0-c><duk__strtable_do_intern-0-c>'],\n",
       " '<duk__strtable_alloc_hstring-0-c>': [')<duk__strtable_alloc_hstring-2>',\n",
       "  '+<duk__strtable_alloc_hstring-2>',\n",
       "  '<duk__strtable_alloc_hstring-7>',\n",
       "  '<duk_heap_mem_alloc-0-c><duk__strtable_alloc_hstring-9-c>',\n",
       "  '<duk_heap_strtable_intern-0-c>'],\n",
       " '<duk_heap_mem_alloc-0-c>': ['<duk_default_alloc_function-0-c>',\n",
       "  '<memset-0-c>'],\n",
       " '<duk__strtable_alloc_hstring-2>': ['<duk_heap_mem_alloc-0-c><duk_heap_strtable_intern-0-c>'],\n",
       " '<duk__strtable_alloc_hstring-7>': ['<duk_bd_decode-0-c><duk_heap_strtable_intern-0-c>'],\n",
       " '<duk__strtable_alloc_hstring-9-c>': ['<duk__strtable_alloc_hstring-7>',\n",
       "  '<duk_heap_strtable_intern-0-c>'],\n",
       " '<duk_bd_decode-0-c>': ['(',\n",
       "  ';',\n",
       "  '<',\n",
       "  '<duk_bd_decode-2>',\n",
       "  '<duk_bd_decode-5>',\n",
       "  '<duk_js_to_arrayindex_string-1>',\n",
       "  'e',\n",
       "  'h',\n",
       "  'l',\n",
       "  '{'],\n",
       " '<duk_bd_decode-2>': ['0'],\n",
       " '<duk_bd_decode-5>': ['='],\n",
       " '<duk_heap_hashstring-0-c>': ['1',\n",
       "  '<duk_bd_decode-2>',\n",
       "  '<duk_bd_decode-5>',\n",
       "  '<duk_js_to_arrayindex_string-1>',\n",
       "  'w',\n",
       "  '}']}"
      ]
     },
     "execution_count": 110,
     "metadata": {},
     "output_type": "execute_result"
    }
   ],
   "source": [
    "duktape_grammar = binary_miner(duktape_samples, 'subject/duktape/duktape.c', '-lm')\n",
    "duktape_grammar"
   ]
  },
  {
   "cell_type": "code",
   "execution_count": 144,
   "metadata": {
    "ExecuteTime": {
     "end_time": "2021-01-03T19:05:08.309308Z",
     "start_time": "2021-01-03T19:04:31.047980Z"
    }
   },
   "outputs": [
    {
     "name": "stdout",
     "output_type": "stream",
     "text": [
      "(20, 1000)\n"
     ]
    }
   ],
   "source": [
    "if 'duktape' in CHECK:\n",
    "    result = check_recall(duktape_golden, duktape_grammar, start_symbol='<START>')\n",
    "    BMiner_r['duktape.c'] = result\n",
    "    print(result)"
   ]
  },
  {
   "cell_type": "markdown",
   "metadata": {},
   "source": [
    "### CSV "
   ]
  },
  {
   "cell_type": "markdown",
   "metadata": {},
   "source": [
    "#### The Golden Grammar"
   ]
  },
  {
   "cell_type": "code",
   "execution_count": 210,
   "metadata": {
    "ExecuteTime": {
     "end_time": "2021-01-03T21:48:17.771804Z",
     "start_time": "2021-01-03T21:48:17.767232Z"
    }
   },
   "outputs": [],
   "source": [
    "import string\n",
    "\n",
    "CSV_GRAMMAR = {\n",
    "    '<START>': ['<csvline>'],\n",
    "    '<csvline>': ['<items>'],\n",
    "    '<items>': ['<item>,<items>', '<item>'],\n",
    "    '<item>': ['<letters>'],\n",
    "    '<letters>': ['<letter><letters>', '<letter>'],\n",
    "    '<letter>': list(string.ascii_letters + string.digits + string.punctuation + ' \\t\\n')\n",
    "}"
   ]
  },
  {
   "cell_type": "markdown",
   "metadata": {},
   "source": [
    "#### Samples"
   ]
  },
  {
   "cell_type": "code",
   "execution_count": 358,
   "metadata": {
    "ExecuteTime": {
     "end_time": "2021-01-05T01:11:13.462252Z",
     "start_time": "2021-01-05T01:11:13.457225Z"
    }
   },
   "outputs": [],
   "source": [
    "from fuzzingbook.GrammarMiner import VEHICLES"
   ]
  },
  {
   "cell_type": "code",
   "execution_count": 359,
   "metadata": {
    "ExecuteTime": {
     "end_time": "2021-01-05T01:12:50.604582Z",
     "start_time": "2021-01-05T01:11:16.134268Z"
    },
    "scrolled": true
   },
   "outputs": [
    {
     "name": "stdout",
     "output_type": "stream",
     "text": [
      "1997,van,Ford,E350\n",
      "2000,car,Mercury,Cougar\n",
      "1999,car,Chevy,Venture\n",
      "<main> ['<__tunable_get_val-0-c>']\n",
      "<csv_load-2> ['<getc-1>', '<csv_load-3-s>']\n",
      "<_int_realloc-9> ['Venture']\n",
      "<_int_realloc-3> ['2000']\n",
      "<_int_realloc-1> ['1997']\n",
      "<_int_realloc-10> ['car']\n",
      "<_int_realloc-11> ['van']\n",
      "<_int_realloc-8> ['Mercury']\n",
      "<_int_realloc-4> ['Chevy']\n",
      "<_int_realloc-7> ['Ford']\n",
      "<_int_realloc-2> ['1999']\n",
      "<_int_realloc-5> ['Cougar']\n",
      "<_int_realloc-6> ['E350']\n"
     ]
    },
    {
     "data": {
      "text/plain": [
       "{'<START>': ['<csv_load-1>'],\n",
       " '<csv_load-1>': ['<csv_load-1-s>', '<csv_load-1-s><getc-1><csv_load-3-s>'],\n",
       " '<csv_load-1-s>': ['<read_next_field-1>',\n",
       "  '<read_next_field-1><csv_load-1-s>'],\n",
       " '<getc-1>': [','],\n",
       " '<csv_load-3-s>': ['<read_next_field-1>',\n",
       "  '<read_next_field-1><csv_load-3-s>'],\n",
       " '<read_next_field-1>': ['<_int_realloc-0-c>', '<_int_realloc-0-c><getc-1>'],\n",
       " '<_int_realloc-0-c>': ['1997',\n",
       "  '1999',\n",
       "  '2000',\n",
       "  'Chevy',\n",
       "  'Cougar',\n",
       "  'E350',\n",
       "  'Ford',\n",
       "  'Mercury',\n",
       "  'Venture',\n",
       "  'car',\n",
       "  'van']}"
      ]
     },
     "execution_count": 359,
     "metadata": {},
     "output_type": "execute_result"
    }
   ],
   "source": [
    "csv_grammar = binary_miner(VEHICLES, 'subject/csv/csv.c')\n",
    "csv_grammar"
   ]
  },
  {
   "cell_type": "code",
   "execution_count": 360,
   "metadata": {
    "ExecuteTime": {
     "end_time": "2021-01-05T01:13:01.117793Z",
     "start_time": "2021-01-05T01:13:00.925929Z"
    }
   },
   "outputs": [
    {
     "name": "stdout",
     "output_type": "stream",
     "text": [
      "CougarChevyFordCougar,car,Chevy,Mercury,van,1999,FordVenture,1997\n",
      "E350,car,\n",
      "Ford,E350,Cougar,Mercury,\n",
      "Cougar,Cougar\n",
      "1997,,Mercury\n",
      "1999,,Venture,\n",
      "E350,Chevy,,1997,\n",
      "Mercurycar,\n",
      "Chevy,1999,2000,E350,\n",
      "2000Ford,\n",
      "Mercury1999,Chevy,20002000,car,ChevyMercury,Venture\n",
      "van\n",
      "Chevy,,Cougar2000,2000\n",
      "Venture,1999Cougar,1999\n",
      "1999MercuryCougarMercury,\n",
      "1999,1997,vanChevy,E350Cougar,2000\n",
      "Ford,,car\n",
      "Chevycar,Mercury\n",
      "Chevy,carMercury,\n",
      "E350van1999,E350E350,\n",
      "2000,,1999vanCougar\n",
      "Chevy,,1999\n",
      "Venture1997,Chevy,2000\n",
      "car,Cougarvan,Venture\n",
      "Cougar,,2000,\n",
      "Ford,,Chevy1997\n",
      "Chevy1999,car,VentureE350,,E350\n",
      "2000,,Ford,\n",
      "Cougar\n",
      "car,,Venture,19971997E3502000,Chevy,2000,\n",
      "E350,\n",
      "1997,\n",
      "VentureCougarvan,1997,,Cougar\n",
      "Ford,Ford,2000,car,ChevyCougar,Mercury,\n",
      "Ford,\n",
      "Venture\n",
      "Mercury,FordChevy,1999E350car,car1997van,\n",
      "1997,E350,,E350,Mercury\n",
      "2000,\n",
      "2000,2000,Mercury,E350,carE350,\n",
      "car\n",
      "1999\n",
      "van,\n",
      "E350MercuryE350van2000,car,1999\n",
      "car\n",
      "Cougar\n",
      "car,1997\n",
      "van,2000,van\n",
      "Cougar,\n",
      "car\n",
      "Cougar,\n",
      "carChevy,\n",
      "Venture2000E350,1999Cougar,Mercury\n",
      "2000,car,,car,\n",
      "2000,,Venture,\n",
      "Venture\n",
      "van,1999,car,\n",
      "2000,,Mercury\n",
      "E350,,Cougar,Mercury\n",
      "E350,2000,van2000,1999,\n",
      "car,E350Cougar2000,van,Cougar,\n",
      "carMercury,\n",
      "car\n",
      "Chevy,Ford,car\n",
      "E350Venture,Ford1999,\n",
      "E350,\n",
      "Chevy,2000,,FordFordE350\n",
      "Mercury,\n",
      "E350,,19971999Venture,\n",
      "Ford,E350,\n",
      "1999\n",
      "Venture,1997\n",
      "Mercury,,van,\n",
      "FordChevy,\n",
      "1999,ChevyFord,FordMercury,Venture,,van,\n",
      "car,E3501999CougarCougar,ChevyVentureFord,2000,\n",
      "van,1997,2000,\n",
      "2000,Ford,van,car,\n",
      "Ford,\n",
      "1999,,car,van1999,\n",
      "1999\n",
      "Mercury,,E350,1997,carcar,\n",
      "2000,Mercury,\n",
      "Chevycar,\n",
      "Mercury,Venture2000,\n",
      "1997,Cougar\n",
      "1999,Cougar,Ford,Cougar\n",
      "E350,Chevy1999car,,van\n",
      "Chevy,,E350\n",
      "car2000Ford\n",
      "FordChevy,Ford\n",
      "car,Cougar,car\n",
      "2000car,\n",
      "Venture,1997\n",
      "Chevy,van,van,vanChevy,Venture,Venture\n",
      "van,,van,1999\n",
      "CougarCougar,1997,Chevy,\n",
      "van\n",
      "van,,19971999,1999\n",
      "2000MercuryVentureE350Ford,Chevy,1999,\n",
      "Mercury,2000,\n",
      "ChevyMercury,1999,,CougarVenture,VentureVenture,car,E350\n",
      "2000\n",
      "Cougar,E350,,Cougar\n",
      "van,\n",
      "E350,\n",
      "car,\n",
      "Cougar,Ford,Mercury,2000\n",
      "van,19971997,\n",
      "1999,Ford,\n",
      "van,car,Cougar,Cougar\n",
      "Mercury,\n",
      "1997,,1997\n",
      "Cougar,1997,E350,E350\n",
      "Mercury,,Chevy,\n",
      "Ford,Chevy,van,Chevy\n",
      "1997,\n",
      "car\n",
      "ChevyMercury,,car\n",
      "Venturevan,MercuryMercury,2000,\n",
      "1999Venture,,1997,\n",
      "1999\n",
      "car,,Chevy\n",
      "car,,1997\n",
      "2000,1997,\n",
      "car,E350\n",
      "Mercury,\n",
      "car,\n",
      "van,Cougar,\n",
      "2000,2000,Mercury,Ford,\n",
      "1999,\n",
      "van1997\n",
      "1999,,Mercury2000\n",
      "E350Venture,\n",
      "Ford,Cougar\n",
      "1997,VentureE350\n",
      "van\n",
      "Venture,Venture,Cougar,Chevy,\n",
      "1999,\n",
      "Mercury,\n",
      "Ford,\n",
      "van,,Venturevan,\n",
      "2000\n",
      "2000\n",
      "Ford1999,\n",
      "Chevy,E350Ford,20001997,2000,van,\n",
      "1997,\n",
      "E3502000,1997,20001997,1997,2000,Mercury,car\n",
      "Mercury,2000Venture,Mercury,car,Mercury\n",
      "Mercury1997,,car\n",
      "van,ChevyVenture,,car,\n",
      "1999\n",
      "1999,carcar,carMercury,Venture\n",
      "Venture\n",
      "MercuryVenture,\n",
      "Cougar,Cougarvan,Cougar,E350\n",
      "Cougar\n",
      "car,\n",
      "Chevy\n",
      "VentureCougar\n",
      "19971999,Venture,\n",
      "2000Ford,Venture,1999,\n",
      "van,\n",
      "van\n",
      "Mercury,\n",
      "2000ChevyMercuryChevy,Mercury\n",
      "Mercury1999,1997,car,2000,1997,\n",
      "Venture,Mercury,Chevy\n",
      "van,\n",
      "Chevy\n",
      "Mercury2000ChevyCougar,FordCougar,\n",
      "car,van\n",
      "van,,Venture,\n",
      "ChevyChevy,\n",
      "E350,1997,\n",
      "2000,,van\n",
      "Chevy,Mercury,\n",
      "Cougar,Cougar2000,E350,Mercury,\n",
      "Mercury\n",
      "2000,carcar\n",
      "car,\n",
      "1999,CougarMercury\n",
      "Mercurycar,CougarCougar,1997,Chevy\n",
      "van\n",
      "E350,\n",
      "1997van,Venture,car,E350,,Cougar,1999Cougar\n",
      "car1999,Cougar,\n",
      "1997Mercury,\n",
      "Cougar,1999,\n",
      "Mercury\n",
      "1999,Chevy,1999,E350,\n",
      "1997\n",
      "car,1997vancar\n",
      "Chevycar,\n",
      "E350Venture,Ford\n",
      "2000,E350,van\n",
      "1997\n",
      "2000,,car,\n",
      "Ford,\n",
      "Cougar,Cougar,\n"
     ]
    }
   ],
   "source": [
    "f = GrammarFuzzer(csv_grammar, start_symbol='<START>')\n",
    "for i in range(200):\n",
    "    print(f.fuzz())"
   ]
  },
  {
   "cell_type": "code",
   "execution_count": 314,
   "metadata": {
    "ExecuteTime": {
     "end_time": "2021-01-04T19:51:53.091028Z",
     "start_time": "2021-01-04T19:51:50.864332Z"
    }
   },
   "outputs": [
    {
     "name": "stdout",
     "output_type": "stream",
     "text": [
      "(4, 1000)\n"
     ]
    }
   ],
   "source": [
    "if 'csv' in CHECK:\n",
    "    result = check_recall(CSV_GRAMMAR, csv_grammar, start_symbol='<START>')\n",
    "    BMiner_r['csv.c'] = result\n",
    "    print(result)"
   ]
  },
  {
   "cell_type": "markdown",
   "metadata": {},
   "source": [
    "### TinyC"
   ]
  },
  {
   "cell_type": "markdown",
   "metadata": {},
   "source": [
    "#### Golden Grammar"
   ]
  },
  {
   "cell_type": "code",
   "execution_count": 316,
   "metadata": {
    "ExecuteTime": {
     "end_time": "2021-01-04T19:53:54.223357Z",
     "start_time": "2021-01-04T19:53:54.219137Z"
    }
   },
   "outputs": [],
   "source": [
    "import string\n",
    "tinyc_golden = {\n",
    "    '<START>': ['<program>'],\n",
    "    '<program>': ['<statement>'],\n",
    "    '<statement>': ['if <paren_expr> <statement>', 'if <paren_expr> <statement> else <statement>',\n",
    "                   'while <paren_expr> <statement>', 'do <statement> while <paren_expr>;',\n",
    "                   '{ <statement> }', '<expr> ;', ';'],\n",
    "    '<paren_expr>': ['(<expr>)'],\n",
    "    '<expr>': ['<test>', '<id>=<expr>'],\n",
    "    '<test>': ['<sum>', '<sum><<sum>'],\n",
    "    '<sum>': ['<term>', '<sum>+<term>', '<sum>-<term>'],\n",
    "    '<term>': ['<id>', '<int>', '<paren_expr>'],\n",
    "    '<id>': list(string.ascii_lowercase),\n",
    "    '<int>': list(string.digits)\n",
    "}"
   ]
  },
  {
   "cell_type": "markdown",
   "metadata": {},
   "source": [
    "#### Samples"
   ]
  },
  {
   "cell_type": "code",
   "execution_count": 361,
   "metadata": {
    "ExecuteTime": {
     "end_time": "2021-01-05T01:13:31.453729Z",
     "start_time": "2021-01-05T01:13:31.450491Z"
    }
   },
   "outputs": [],
   "source": [
    "tiny_samples=[i.strip() for i in '''\\\n",
    "{ i=1; while (i<100) i=i+i; }\n",
    "a=b=c=2<3;\n",
    "{ i=125; j=100; while (i-j) if (i<j) j=j-i; else i=i-j; }\n",
    "{ i=1; do i=i+10; while (i<50); }\n",
    "{ i=1; while ((i=i+10)<50) ; }\n",
    "{ i=7; if (i<5) x=1; if (i<10) y=2; }\n",
    "'''.split('\\n') if i.strip()]"
   ]
  },
  {
   "cell_type": "code",
   "execution_count": 362,
   "metadata": {
    "ExecuteTime": {
     "end_time": "2021-01-05T01:17:11.783117Z",
     "start_time": "2021-01-05T01:13:35.689003Z"
    },
    "scrolled": true
   },
   "outputs": [
    {
     "name": "stdout",
     "output_type": "stream",
     "text": [
      "{ i=1; while (i<100) i=i+i; }\n",
      "a=b=c=2<3;\n",
      "{ i=125; j=100; while (i-j) if (i<j) j=j-i; else i=i-j; }\n",
      "{ i=1; do i=i+10; while (i<50); }\n",
      "{ i=1; while ((i=i+10)<50) ; }\n",
      "{ i=7; if (i<5) x=1; if (i<10) y=2; }\n",
      "<main> ['<main-0-c>']\n",
      "<main-2> ['<strcpy-1>', '<new_node-0-c>']\n",
      "<strcpy-1> ['a']\n",
      "<__GI__dl_addr-1> ['<_dl_find_dso_for_object-0-c>', '<__tunable_get_val-0-c>']\n",
      "<_int_malloc-2> ['1']\n",
      "<_dl_find_dso_for_object-2> ['{']\n",
      "<statement-3> ['<new_node-0-c>', '<statement-3-c>']\n",
      "<statement-6> ['<next_sym-0-c>', '<statement-7>']\n",
      "<statement-16> ['<statement-16-s>', '<statement-0-c>']\n",
      "<statement-18> ['<statement-0-c>', '<statement-19>']\n",
      "<statement-7> ['<paren_expr-1>', '<statement-8>']\n",
      "<statement-19> ['<next_sym-0-c>', '<statement-20>']\n",
      "<statement-8> ['<statement-0-c>', '<__tunable_get_val-2>']\n",
      "<statement-20> ['<paren_expr-1>', '<next_sym-0-c>']\n",
      "<test-2> ['<new_node-0-c>', '<test-3>']\n",
      "<test-3> ['<next_sym-0-c>', '<sum-0-c>']\n",
      "<sum-4> ['<new_node-0-c>', '<sum-1>']\n",
      "<next_sym-1> ['2', '<next_sym-2-s>']\n",
      "<next_ch-24> ['s']\n",
      "<next_ch-15> ['c']\n",
      "<next_ch-19> ['h']\n",
      "<next_ch-17> ['e']\n",
      "<next_ch-26> ['x']\n",
      "<next_ch-5> ['-']\n",
      "<next_ch-27> ['y']\n",
      "<next_ch-3> [')']\n",
      "<next_ch-12> ['<']\n",
      "<next_ch-16> ['d']\n",
      "<next_ch-11> [';']\n",
      "<next_ch-23> ['o']\n",
      "<next_ch-7> ['2']\n",
      "<next_ch-8> ['3']\n",
      "<next_ch-28> ['}']\n",
      "<next_ch-25> ['w']\n",
      "<next_ch-18> ['f']\n",
      "<next_ch-1> [' ']\n",
      "<next_ch-9> ['5']\n",
      "<next_ch-14> ['b']\n",
      "<next_ch-4> ['+']\n",
      "<next_ch-10> ['7']\n",
      "<next_ch-22> ['l']\n"
     ]
    },
    {
     "data": {
      "text/plain": [
       "{'<START>': ['<main-0-c>'],\n",
       " '<main-0-c>': ['<new_node-0-c>', 'a<new_node-0-c>'],\n",
       " '<new_node-0-c>': ['<malloc-0-c>', '<new_node-1>'],\n",
       " '<malloc-0-c>': ['<_dl_find_dso_for_object-0-c><__tunable_get_val-0-c>',\n",
       "  '<_int_malloc-0-c>',\n",
       "  '<malloc-1>'],\n",
       " '<new_node-1>': ['(', '(<malloc-0-c>'],\n",
       " '<_dl_find_dso_for_object-0-c>': ['<_dl_find_dso_for_object-1>', '{'],\n",
       " '<__tunable_get_val-0-c>': ['<__tunable_get_val-2>', '<statement-0-c>'],\n",
       " '<_int_malloc-0-c>': ['1', '<next_ch-6>'],\n",
       " '<malloc-1>': ['('],\n",
       " '<_dl_find_dso_for_object-1>': ['='],\n",
       " '<__tunable_get_val-2>': ['<next_sym-0-c><statement-0-c>'],\n",
       " '<statement-0-c>': ['<new_node-0-c><statement-3-c>',\n",
       "  '<statement-11>',\n",
       "  '<statement-1>',\n",
       "  '<statement-22>'],\n",
       " '<next_sym-0-c>': ['2<next_sym-2-s>', '<next_sym-3>'],\n",
       " '<next_sym-2-s>': ['<next_ch-0-c>', '<next_ch-0-c><next_sym-2-s>'],\n",
       " '<next_sym-3>': ['<next_sym-3-s>', '<next_sym-3-s><strcmp-0-c>'],\n",
       " '<next_ch-0-c>': [' ',\n",
       "  ')',\n",
       "  '+',\n",
       "  '-',\n",
       "  '2',\n",
       "  '3',\n",
       "  '5',\n",
       "  '7',\n",
       "  ';',\n",
       "  '<',\n",
       "  '<_dl_find_dso_for_object-1>',\n",
       "  '<malloc-1>',\n",
       "  '<next_ch-20>',\n",
       "  '<next_ch-21>',\n",
       "  '<next_ch-6>',\n",
       "  'b',\n",
       "  'c',\n",
       "  'd',\n",
       "  'e',\n",
       "  'f',\n",
       "  'h',\n",
       "  'l',\n",
       "  'o',\n",
       "  's',\n",
       "  'w',\n",
       "  'x',\n",
       "  'y',\n",
       "  '}'],\n",
       " '<next_ch-20>': ['i'],\n",
       " '<next_ch-21>': ['j'],\n",
       " '<next_ch-6>': ['0'],\n",
       " '<next_sym-3-s>': ['<next_ch-0-c>', '<next_ch-0-c><next_sym-3-s>'],\n",
       " '<strcmp-0-c>': ['<next_ch-20>', '<next_ch-21>'],\n",
       " '<statement-3-c>': ['<next_sym-0-c><paren_expr-1><statement-0-c><__tunable_get_val-2>',\n",
       "  '<paren_expr-2>'],\n",
       " '<statement-11>': ['<next_sym-0-c>', '<next_sym-0-c><statement-11-c>'],\n",
       " '<statement-1>': ['<expr-0-c>', '<expr-0-c><next_sym-0-c>'],\n",
       " '<statement-22>': ['<paren_expr-1><statement-0-c>'],\n",
       " '<paren_expr-1>': ['<next_sym-0-c><paren_expr-2>'],\n",
       " '<paren_expr-2>': ['<expr-0-c><next_sym-0-c>'],\n",
       " '<expr-0-c>': ['<expr-1>', '<expr-3>'],\n",
       " '<expr-1>': ['<next_sym-0-c><expr-0-c>'],\n",
       " '<expr-3>': ['<test-1>', '<test-1><expr-1>'],\n",
       " '<test-1>': ['<sum-0-c>', '<sum-0-c><test-1-c>'],\n",
       " '<sum-0-c>': ['<sum-1>', '<sum-3>'],\n",
       " '<test-1-c>': ['<new_node-0-c><next_sym-0-c><sum-0-c>', '<test-5>'],\n",
       " '<sum-1>': ['<next_sym-0-c><term-0-c>'],\n",
       " '<sum-3>': ['<term-0-c>', '<term-0-c><sum-3-c>'],\n",
       " '<term-0-c>': ['<new_node-0-c>', '<next_sym-0-c>', '<paren_expr-1>'],\n",
       " '<sum-3-c>': ['<new_node-0-c><sum-1>', '<sum-1>'],\n",
       " '<test-5>': ['<next_sym-0-c>', '<next_sym-0-c><sum-0-c>'],\n",
       " '<statement-11-c>': ['<statement-0-c><next_sym-0-c><paren_expr-1><next_sym-0-c>',\n",
       "  '<statement-12>',\n",
       "  '<statement-16-s><statement-0-c>',\n",
       "  '<statement-22>'],\n",
       " '<statement-12>': ['<statement-12-s>', '<statement-12-s><statement-0-c>'],\n",
       " '<statement-16-s>': ['<statement-0-c><new_node-0-c>',\n",
       "  '<statement-0-c><new_node-0-c><statement-16-s>'],\n",
       " '<statement-12-s>': ['<new_node-0-c><statement-0-c>',\n",
       "  '<new_node-0-c><statement-0-c><statement-12-s>']}"
      ]
     },
     "execution_count": 362,
     "metadata": {},
     "output_type": "execute_result"
    }
   ],
   "source": [
    "tiny_grammar = binary_miner(tiny_samples, 'subject/tinyC/tiny.c')\n",
    "tiny_grammar"
   ]
  },
  {
   "cell_type": "code",
   "execution_count": 206,
   "metadata": {
    "ExecuteTime": {
     "end_time": "2021-01-03T21:45:50.522802Z",
     "start_time": "2021-01-03T21:45:38.520870Z"
    }
   },
   "outputs": [
    {
     "name": "stdout",
     "output_type": "stream",
     "text": [
      "(2, 1000)\n"
     ]
    }
   ],
   "source": [
    "if 'tinyc' in CHECK:\n",
    "    result = check_recall(calc_golden, tiny_grammar, start_symbol='<START>')\n",
    "    BMiner_r['tiny.c'] = result\n",
    "    print(result)"
   ]
  },
  {
   "cell_type": "code",
   "execution_count": 363,
   "metadata": {
    "ExecuteTime": {
     "end_time": "2021-01-05T01:21:04.971558Z",
     "start_time": "2021-01-05T01:17:29.613256Z"
    },
    "scrolled": true
   },
   "outputs": [
    {
     "name": "stdout",
     "output_type": "stream",
     "text": [
      "(\n",
      "a1\n",
      "{hi;d<+fi2wb(-2h\n",
      "(\n",
      "a(0\n",
      "a{{ej2;2e(2f252x23\n",
      "1\n",
      "1\n",
      "a({0y;j{2h(2-{2h2w2c(2<2h2o2w(2y(2e2e\n",
      "a=+jw(2}dj2d(e1(2;\n",
      "(\n",
      "a{2=02d2-dl(2b<2}fe(22(0\n",
      "((\n",
      "a(\n",
      "a(\n",
      "0\n",
      "(\n",
      "{25<3({2e yi27(2o222x2c\n",
      "({2 o(;2 (2x27ch(2}(\n",
      "a(\n",
      "a(\n",
      "a(\n",
      "a(\n",
      "a({l7-li2s(3j2h2o(2w0fw((27(\n",
      "a(\n",
      "(\n",
      "a(\n",
      "a{2i )=xy0j)j02y(2727(w2bec(2;(<-(i\n",
      "0\n",
      "(\n",
      "a(\n",
      "{2w2f2)3wsi27<({2 2x2<2e((2d(2+(2-(-2s\n",
      "a=2f((2c2y(2h2x2 2o(2l2)(2-23232f\n",
      "a(\n",
      "(1\n",
      "a=x\n",
      "{e<i32}2i\n",
      "({2;(}i2x(2f222x2-2;(2}2y2d23\n",
      "(\n",
      "(\n",
      "1\n",
      "({ x2wi02e(bwy7c; bj2o(2dy<(02x3+2c2+22+2;=\n",
      "((\n",
      "{{2s22(2h(w(2w(2+(xl;\n",
      "a0\n",
      "a(\n",
      "(\n",
      "(\n",
      "(\n",
      "a(\n",
      "=2wyw)+i(2y(252l2x(2s\n",
      "a(\n",
      "(=2-( yj5((22(2o(\n",
      "(0\n",
      "a(\n",
      "a(\n",
      "((\n",
      "1\n",
      "1\n",
      "a0\n",
      "a(\n",
      "a(=<ccjbi(2y(2b(2;<\n",
      "((\n",
      "a(\n",
      "(\n",
      "a0\n",
      "a(0\n",
      "a(\n",
      "a{hj2o2 2+loh 2}w(2)(2w(2l(2oo-5)2}y<200h-<js-}0w}j27\n",
      "(\n",
      "a1\n",
      "(\n",
      "(\n",
      "a{2x5sl(2x2}(23()\n",
      "a{i2;y3;(2)25s(2 (23(2y+7(\n",
      "(\n",
      "{2f}f \n",
      "a(\n",
      "a{2=((2=sb=i22h2e2ys((2s2x({250+2 (2h2x(2h2l2y(2xejyf(2b155si\n",
      "=-(2 )2y2-i(2i((22(2f(2s\n",
      "a0\n",
      "a=23(i\n",
      "a(\n",
      "a(\n",
      "a(\n",
      "= 2 <jwi2<\n",
      "1\n",
      "a(\n",
      "0\n",
      "(0\n",
      "(1\n",
      "a(\n",
      "a1\n",
      "a(\n",
      "(\n",
      "a(0\n",
      "(\n",
      "(\n",
      "a0\n",
      "a(\n",
      "((\n",
      "a=2+de2b (2c(o2+;(2l\n",
      "a(\n",
      "(1\n",
      "(=2l{2c2+2}2w((2x2y(2x2-2e2d12w(2e25\n",
      "a(\n",
      "a{-(xi7(22(2 (23\n",
      "(\n",
      "a(=(02fd2+2 x2y(52wd-y20((2}\n",
      "((\n",
      "1\n",
      "=7j12b-2f(2w23(2b222ff2e\n",
      "(\n",
      "({2s((5j253i((2-(2jw5\n",
      "a(1\n",
      "(1\n",
      "(=)ci(25((2d2e(2<(2e2}\n",
      "a(=y(l2 y2hw2=l}22;3 2h(2l;o-iiwj2w}2j\n",
      "a{252hb2i-23(2)(2o2 2b(2)l2}\n",
      "a1\n",
      "a(\n",
      "a(\n",
      "a(\n",
      "(\n",
      "a0\n",
      "a(\n",
      "{s2o e=\n",
      "a=27wy(2--2;7h(2l(2;h2( o22(2s(\n",
      "a(0\n",
      "(\n",
      "(\n",
      "({i\n",
      "(1\n",
      "(\n",
      "a((\n",
      "(\n",
      "(\n",
      "=7i2)(25(2l2)(2}2 2-2x\n",
      "(\n",
      "{2wld(2s2h(27(2h2)(232+252d\n",
      "a(0\n",
      "0\n",
      "(=5j(2-02;2e(2s((2c2e2;\n",
      "((\n",
      "1\n",
      "a(\n",
      "(\n",
      "a{2)12xlhj+fi002b1 j\n",
      "a(\n",
      "a(1\n",
      "{ej(25db2y(2yb2<(2h2;(2222\n",
      "(\n",
      "(\n",
      "(=fi2(+f(2d(}-j2c(2y(2h(\n",
      "a(1\n",
      "(\n",
      "(\n",
      "(=2j-27 ((dili ;j27 (222bs2}(22(2)(e3j\n",
      "0\n",
      "a(\n",
      "(==i2;<cj25(2 2j(2c2-(2w\n",
      "a(\n",
      "a(\n",
      "a(\n",
      "a1\n",
      "(\n",
      "{2l2(i=f\n",
      "(1\n",
      "1\n",
      "a(\n",
      "a({j2h2)oe(5j(-2yw12e\n",
      "a((\n",
      "(\n",
      "a{2o5+({2+2 (2)2o(2h25(1b<i(({2-(2<(((2w\n",
      "(\n",
      "a(\n",
      "a((\n",
      "a(\n",
      "(\n",
      "a({y(0272b(232)222 fo)7(22be\n",
      "(\n",
      "a(\n",
      "a(\n",
      "(\n",
      "a(\n",
      "a0\n",
      "a(\n",
      "a{+i2<(2y(2+7xib2f5j(2o(s+ij\n",
      "(=2f20 i(2x(2i2-2}(2}hi(2x\n",
      "(\n",
      "a=2i(2d-2b2y(2 32o2-c(2 (\n",
      "(1\n",
      "0\n",
      "a(\n",
      "(\n",
      "a{+\n",
      "(\n",
      "a((\n",
      "a(\n",
      "a(\n",
      "(\n",
      "a1\n",
      "1\n",
      "(\n",
      "(\n",
      "a=(2s<(2o2oy2w(222s(2w2x\n",
      "(\n",
      "a((\n"
     ]
    },
    {
     "ename": "KeyboardInterrupt",
     "evalue": "",
     "output_type": "error",
     "traceback": [
      "\u001b[0;31m---------------------------------------------------------------------------\u001b[0m",
      "\u001b[0;31mKeyError\u001b[0m                                  Traceback (most recent call last)",
      "\u001b[0;32m~/anaconda3/lib/python3.7/re.py\u001b[0m in \u001b[0;36m_compile\u001b[0;34m(pattern, flags)\u001b[0m\n\u001b[1;32m    275\u001b[0m     \u001b[0;32mtry\u001b[0m\u001b[0;34m:\u001b[0m\u001b[0;34m\u001b[0m\u001b[0;34m\u001b[0m\u001b[0m\n\u001b[0;32m--> 276\u001b[0;31m         \u001b[0;32mreturn\u001b[0m \u001b[0m_cache\u001b[0m\u001b[0;34m[\u001b[0m\u001b[0mtype\u001b[0m\u001b[0;34m(\u001b[0m\u001b[0mpattern\u001b[0m\u001b[0;34m)\u001b[0m\u001b[0;34m,\u001b[0m \u001b[0mpattern\u001b[0m\u001b[0;34m,\u001b[0m \u001b[0mflags\u001b[0m\u001b[0;34m]\u001b[0m\u001b[0;34m\u001b[0m\u001b[0;34m\u001b[0m\u001b[0m\n\u001b[0m\u001b[1;32m    277\u001b[0m     \u001b[0;32mexcept\u001b[0m \u001b[0mKeyError\u001b[0m\u001b[0;34m:\u001b[0m\u001b[0;34m\u001b[0m\u001b[0;34m\u001b[0m\u001b[0m\n",
      "\u001b[0;31mKeyError\u001b[0m: (<class 're.Pattern'>, re.compile('(<[^<> ]*>)'), 0)",
      "\nDuring handling of the above exception, another exception occurred:\n",
      "\u001b[0;31mKeyboardInterrupt\u001b[0m                         Traceback (most recent call last)",
      "\u001b[0;32m<ipython-input-363-2092f4a78560>\u001b[0m in \u001b[0;36m<module>\u001b[0;34m\u001b[0m\n\u001b[1;32m      1\u001b[0m \u001b[0mf\u001b[0m \u001b[0;34m=\u001b[0m \u001b[0mGrammarFuzzer\u001b[0m\u001b[0;34m(\u001b[0m\u001b[0mtiny_grammar\u001b[0m\u001b[0;34m,\u001b[0m \u001b[0mstart_symbol\u001b[0m\u001b[0;34m=\u001b[0m\u001b[0;34m'<START>'\u001b[0m\u001b[0;34m)\u001b[0m\u001b[0;34m\u001b[0m\u001b[0;34m\u001b[0m\u001b[0m\n\u001b[1;32m      2\u001b[0m \u001b[0;32mfor\u001b[0m \u001b[0mi\u001b[0m \u001b[0;32min\u001b[0m \u001b[0mrange\u001b[0m\u001b[0;34m(\u001b[0m\u001b[0;36m2000\u001b[0m\u001b[0;34m)\u001b[0m\u001b[0;34m:\u001b[0m\u001b[0;34m\u001b[0m\u001b[0;34m\u001b[0m\u001b[0m\n\u001b[0;32m----> 3\u001b[0;31m     \u001b[0mprint\u001b[0m\u001b[0;34m(\u001b[0m\u001b[0mf\u001b[0m\u001b[0;34m.\u001b[0m\u001b[0mfuzz\u001b[0m\u001b[0;34m(\u001b[0m\u001b[0;34m)\u001b[0m\u001b[0;34m)\u001b[0m\u001b[0;34m\u001b[0m\u001b[0;34m\u001b[0m\u001b[0m\n\u001b[0m",
      "\u001b[0;32m~/anaconda3/lib/python3.7/site-packages/fuzzingbook/GrammarFuzzer.py\u001b[0m in \u001b[0;36mfuzz\u001b[0;34m(self)\u001b[0m\n\u001b[1;32m    808\u001b[0m \u001b[0;34m\u001b[0m\u001b[0m\n\u001b[1;32m    809\u001b[0m     \u001b[0;32mdef\u001b[0m \u001b[0mfuzz\u001b[0m\u001b[0;34m(\u001b[0m\u001b[0mself\u001b[0m\u001b[0;34m)\u001b[0m\u001b[0;34m:\u001b[0m\u001b[0;34m\u001b[0m\u001b[0;34m\u001b[0m\u001b[0m\n\u001b[0;32m--> 810\u001b[0;31m         \u001b[0mself\u001b[0m\u001b[0;34m.\u001b[0m\u001b[0mderivation_tree\u001b[0m \u001b[0;34m=\u001b[0m \u001b[0mself\u001b[0m\u001b[0;34m.\u001b[0m\u001b[0mfuzz_tree\u001b[0m\u001b[0;34m(\u001b[0m\u001b[0;34m)\u001b[0m\u001b[0;34m\u001b[0m\u001b[0;34m\u001b[0m\u001b[0m\n\u001b[0m\u001b[1;32m    811\u001b[0m         \u001b[0;32mreturn\u001b[0m \u001b[0mall_terminals\u001b[0m\u001b[0;34m(\u001b[0m\u001b[0mself\u001b[0m\u001b[0;34m.\u001b[0m\u001b[0mderivation_tree\u001b[0m\u001b[0;34m)\u001b[0m\u001b[0;34m\u001b[0m\u001b[0;34m\u001b[0m\u001b[0m\n\u001b[1;32m    812\u001b[0m \u001b[0;34m\u001b[0m\u001b[0m\n",
      "\u001b[0;32m~/anaconda3/lib/python3.7/site-packages/fuzzingbook/GrammarFuzzer.py\u001b[0m in \u001b[0;36mfuzz_tree\u001b[0;34m(self)\u001b[0m\n\u001b[1;32m    800\u001b[0m \u001b[0;34m\u001b[0m\u001b[0m\n\u001b[1;32m    801\u001b[0m         \u001b[0;31m# Expand all nonterminals\u001b[0m\u001b[0;34m\u001b[0m\u001b[0;34m\u001b[0m\u001b[0;34m\u001b[0m\u001b[0m\n\u001b[0;32m--> 802\u001b[0;31m         \u001b[0mtree\u001b[0m \u001b[0;34m=\u001b[0m \u001b[0mself\u001b[0m\u001b[0;34m.\u001b[0m\u001b[0mexpand_tree\u001b[0m\u001b[0;34m(\u001b[0m\u001b[0mtree\u001b[0m\u001b[0;34m)\u001b[0m\u001b[0;34m\u001b[0m\u001b[0;34m\u001b[0m\u001b[0m\n\u001b[0m\u001b[1;32m    803\u001b[0m         \u001b[0;32mif\u001b[0m \u001b[0mself\u001b[0m\u001b[0;34m.\u001b[0m\u001b[0mlog\u001b[0m\u001b[0;34m:\u001b[0m\u001b[0;34m\u001b[0m\u001b[0;34m\u001b[0m\u001b[0m\n\u001b[1;32m    804\u001b[0m             \u001b[0mprint\u001b[0m\u001b[0;34m(\u001b[0m\u001b[0mrepr\u001b[0m\u001b[0;34m(\u001b[0m\u001b[0mall_terminals\u001b[0m\u001b[0;34m(\u001b[0m\u001b[0mtree\u001b[0m\u001b[0;34m)\u001b[0m\u001b[0;34m)\u001b[0m\u001b[0;34m)\u001b[0m\u001b[0;34m\u001b[0m\u001b[0;34m\u001b[0m\u001b[0m\n",
      "\u001b[0;32m~/anaconda3/lib/python3.7/site-packages/fuzzingbook/GrammarFuzzer.py\u001b[0m in \u001b[0;36mexpand_tree\u001b[0;34m(self, tree)\u001b[0m\n\u001b[1;32m    755\u001b[0m             tree, self.expand_node_randomly, self.max_nonterminals)\n\u001b[1;32m    756\u001b[0m         tree = self.expand_tree_with_strategy(\n\u001b[0;32m--> 757\u001b[0;31m             tree, self.expand_node_min_cost)\n\u001b[0m\u001b[1;32m    758\u001b[0m \u001b[0;34m\u001b[0m\u001b[0m\n\u001b[1;32m    759\u001b[0m         \u001b[0;32massert\u001b[0m \u001b[0mself\u001b[0m\u001b[0;34m.\u001b[0m\u001b[0mpossible_expansions\u001b[0m\u001b[0;34m(\u001b[0m\u001b[0mtree\u001b[0m\u001b[0;34m)\u001b[0m \u001b[0;34m==\u001b[0m \u001b[0;36m0\u001b[0m\u001b[0;34m\u001b[0m\u001b[0;34m\u001b[0m\u001b[0m\n",
      "\u001b[0;32m~/anaconda3/lib/python3.7/site-packages/fuzzingbook/GrammarFuzzer.py\u001b[0m in \u001b[0;36mexpand_tree_with_strategy\u001b[0;34m(self, tree, expand_node_method, limit)\u001b[0m\n\u001b[1;32m    743\u001b[0m                 or self.possible_expansions(tree) < limit)\n\u001b[1;32m    744\u001b[0m                and self.any_possible_expansions(tree)):\n\u001b[0;32m--> 745\u001b[0;31m             \u001b[0mtree\u001b[0m \u001b[0;34m=\u001b[0m \u001b[0mself\u001b[0m\u001b[0;34m.\u001b[0m\u001b[0mexpand_tree_once\u001b[0m\u001b[0;34m(\u001b[0m\u001b[0mtree\u001b[0m\u001b[0;34m)\u001b[0m\u001b[0;34m\u001b[0m\u001b[0;34m\u001b[0m\u001b[0m\n\u001b[0m\u001b[1;32m    746\u001b[0m             \u001b[0mself\u001b[0m\u001b[0;34m.\u001b[0m\u001b[0mlog_tree\u001b[0m\u001b[0;34m(\u001b[0m\u001b[0mtree\u001b[0m\u001b[0;34m)\u001b[0m\u001b[0;34m\u001b[0m\u001b[0;34m\u001b[0m\u001b[0m\n\u001b[1;32m    747\u001b[0m         \u001b[0;32mreturn\u001b[0m \u001b[0mtree\u001b[0m\u001b[0;34m\u001b[0m\u001b[0;34m\u001b[0m\u001b[0m\n",
      "\u001b[0;32m~/anaconda3/lib/python3.7/site-packages/fuzzingbook/GrammarFuzzer.py\u001b[0m in \u001b[0;36mexpand_tree_once\u001b[0;34m(self, tree)\u001b[0m\n\u001b[1;32m    534\u001b[0m         \u001b[0;31m# Expand in place\u001b[0m\u001b[0;34m\u001b[0m\u001b[0;34m\u001b[0m\u001b[0;34m\u001b[0m\u001b[0m\n\u001b[1;32m    535\u001b[0m         \u001b[0mchildren\u001b[0m\u001b[0;34m[\u001b[0m\u001b[0mindex_map\u001b[0m\u001b[0;34m[\u001b[0m\u001b[0mchild_to_be_expanded\u001b[0m\u001b[0;34m]\u001b[0m\u001b[0;34m]\u001b[0m \u001b[0;34m=\u001b[0m\u001b[0;31m \u001b[0m\u001b[0;31m\\\u001b[0m\u001b[0;34m\u001b[0m\u001b[0;34m\u001b[0m\u001b[0m\n\u001b[0;32m--> 536\u001b[0;31m             \u001b[0mself\u001b[0m\u001b[0;34m.\u001b[0m\u001b[0mexpand_tree_once\u001b[0m\u001b[0;34m(\u001b[0m\u001b[0mexpandable_children\u001b[0m\u001b[0;34m[\u001b[0m\u001b[0mchild_to_be_expanded\u001b[0m\u001b[0;34m]\u001b[0m\u001b[0;34m)\u001b[0m\u001b[0;34m\u001b[0m\u001b[0;34m\u001b[0m\u001b[0m\n\u001b[0m\u001b[1;32m    537\u001b[0m \u001b[0;34m\u001b[0m\u001b[0m\n\u001b[1;32m    538\u001b[0m         \u001b[0;32mreturn\u001b[0m \u001b[0mtree\u001b[0m\u001b[0;34m\u001b[0m\u001b[0;34m\u001b[0m\u001b[0m\n",
      "\u001b[0;32m~/anaconda3/lib/python3.7/site-packages/fuzzingbook/GrammarFuzzer.py\u001b[0m in \u001b[0;36mexpand_tree_once\u001b[0;34m(self, tree)\u001b[0m\n\u001b[1;32m    534\u001b[0m         \u001b[0;31m# Expand in place\u001b[0m\u001b[0;34m\u001b[0m\u001b[0;34m\u001b[0m\u001b[0;34m\u001b[0m\u001b[0m\n\u001b[1;32m    535\u001b[0m         \u001b[0mchildren\u001b[0m\u001b[0;34m[\u001b[0m\u001b[0mindex_map\u001b[0m\u001b[0;34m[\u001b[0m\u001b[0mchild_to_be_expanded\u001b[0m\u001b[0;34m]\u001b[0m\u001b[0;34m]\u001b[0m \u001b[0;34m=\u001b[0m\u001b[0;31m \u001b[0m\u001b[0;31m\\\u001b[0m\u001b[0;34m\u001b[0m\u001b[0;34m\u001b[0m\u001b[0m\n\u001b[0;32m--> 536\u001b[0;31m             \u001b[0mself\u001b[0m\u001b[0;34m.\u001b[0m\u001b[0mexpand_tree_once\u001b[0m\u001b[0;34m(\u001b[0m\u001b[0mexpandable_children\u001b[0m\u001b[0;34m[\u001b[0m\u001b[0mchild_to_be_expanded\u001b[0m\u001b[0;34m]\u001b[0m\u001b[0;34m)\u001b[0m\u001b[0;34m\u001b[0m\u001b[0;34m\u001b[0m\u001b[0m\n\u001b[0m\u001b[1;32m    537\u001b[0m \u001b[0;34m\u001b[0m\u001b[0m\n\u001b[1;32m    538\u001b[0m         \u001b[0;32mreturn\u001b[0m \u001b[0mtree\u001b[0m\u001b[0;34m\u001b[0m\u001b[0;34m\u001b[0m\u001b[0m\n",
      "\u001b[0;32m~/anaconda3/lib/python3.7/site-packages/fuzzingbook/GrammarFuzzer.py\u001b[0m in \u001b[0;36mexpand_tree_once\u001b[0;34m(self, tree)\u001b[0m\n\u001b[1;32m    534\u001b[0m         \u001b[0;31m# Expand in place\u001b[0m\u001b[0;34m\u001b[0m\u001b[0;34m\u001b[0m\u001b[0;34m\u001b[0m\u001b[0m\n\u001b[1;32m    535\u001b[0m         \u001b[0mchildren\u001b[0m\u001b[0;34m[\u001b[0m\u001b[0mindex_map\u001b[0m\u001b[0;34m[\u001b[0m\u001b[0mchild_to_be_expanded\u001b[0m\u001b[0;34m]\u001b[0m\u001b[0;34m]\u001b[0m \u001b[0;34m=\u001b[0m\u001b[0;31m \u001b[0m\u001b[0;31m\\\u001b[0m\u001b[0;34m\u001b[0m\u001b[0;34m\u001b[0m\u001b[0m\n\u001b[0;32m--> 536\u001b[0;31m             \u001b[0mself\u001b[0m\u001b[0;34m.\u001b[0m\u001b[0mexpand_tree_once\u001b[0m\u001b[0;34m(\u001b[0m\u001b[0mexpandable_children\u001b[0m\u001b[0;34m[\u001b[0m\u001b[0mchild_to_be_expanded\u001b[0m\u001b[0;34m]\u001b[0m\u001b[0;34m)\u001b[0m\u001b[0;34m\u001b[0m\u001b[0;34m\u001b[0m\u001b[0m\n\u001b[0m\u001b[1;32m    537\u001b[0m \u001b[0;34m\u001b[0m\u001b[0m\n\u001b[1;32m    538\u001b[0m         \u001b[0;32mreturn\u001b[0m \u001b[0mtree\u001b[0m\u001b[0;34m\u001b[0m\u001b[0;34m\u001b[0m\u001b[0m\n",
      "\u001b[0;32m~/anaconda3/lib/python3.7/site-packages/fuzzingbook/GrammarFuzzer.py\u001b[0m in \u001b[0;36mexpand_tree_once\u001b[0;34m(self, tree)\u001b[0m\n\u001b[1;32m    534\u001b[0m         \u001b[0;31m# Expand in place\u001b[0m\u001b[0;34m\u001b[0m\u001b[0;34m\u001b[0m\u001b[0;34m\u001b[0m\u001b[0m\n\u001b[1;32m    535\u001b[0m         \u001b[0mchildren\u001b[0m\u001b[0;34m[\u001b[0m\u001b[0mindex_map\u001b[0m\u001b[0;34m[\u001b[0m\u001b[0mchild_to_be_expanded\u001b[0m\u001b[0;34m]\u001b[0m\u001b[0;34m]\u001b[0m \u001b[0;34m=\u001b[0m\u001b[0;31m \u001b[0m\u001b[0;31m\\\u001b[0m\u001b[0;34m\u001b[0m\u001b[0;34m\u001b[0m\u001b[0m\n\u001b[0;32m--> 536\u001b[0;31m             \u001b[0mself\u001b[0m\u001b[0;34m.\u001b[0m\u001b[0mexpand_tree_once\u001b[0m\u001b[0;34m(\u001b[0m\u001b[0mexpandable_children\u001b[0m\u001b[0;34m[\u001b[0m\u001b[0mchild_to_be_expanded\u001b[0m\u001b[0;34m]\u001b[0m\u001b[0;34m)\u001b[0m\u001b[0;34m\u001b[0m\u001b[0;34m\u001b[0m\u001b[0m\n\u001b[0m\u001b[1;32m    537\u001b[0m \u001b[0;34m\u001b[0m\u001b[0m\n\u001b[1;32m    538\u001b[0m         \u001b[0;32mreturn\u001b[0m \u001b[0mtree\u001b[0m\u001b[0;34m\u001b[0m\u001b[0;34m\u001b[0m\u001b[0m\n",
      "\u001b[0;32m~/anaconda3/lib/python3.7/site-packages/fuzzingbook/GrammarFuzzer.py\u001b[0m in \u001b[0;36mexpand_tree_once\u001b[0;34m(self, tree)\u001b[0m\n\u001b[1;32m    534\u001b[0m         \u001b[0;31m# Expand in place\u001b[0m\u001b[0;34m\u001b[0m\u001b[0;34m\u001b[0m\u001b[0;34m\u001b[0m\u001b[0m\n\u001b[1;32m    535\u001b[0m         \u001b[0mchildren\u001b[0m\u001b[0;34m[\u001b[0m\u001b[0mindex_map\u001b[0m\u001b[0;34m[\u001b[0m\u001b[0mchild_to_be_expanded\u001b[0m\u001b[0;34m]\u001b[0m\u001b[0;34m]\u001b[0m \u001b[0;34m=\u001b[0m\u001b[0;31m \u001b[0m\u001b[0;31m\\\u001b[0m\u001b[0;34m\u001b[0m\u001b[0;34m\u001b[0m\u001b[0m\n\u001b[0;32m--> 536\u001b[0;31m             \u001b[0mself\u001b[0m\u001b[0;34m.\u001b[0m\u001b[0mexpand_tree_once\u001b[0m\u001b[0;34m(\u001b[0m\u001b[0mexpandable_children\u001b[0m\u001b[0;34m[\u001b[0m\u001b[0mchild_to_be_expanded\u001b[0m\u001b[0;34m]\u001b[0m\u001b[0;34m)\u001b[0m\u001b[0;34m\u001b[0m\u001b[0;34m\u001b[0m\u001b[0m\n\u001b[0m\u001b[1;32m    537\u001b[0m \u001b[0;34m\u001b[0m\u001b[0m\n\u001b[1;32m    538\u001b[0m         \u001b[0;32mreturn\u001b[0m \u001b[0mtree\u001b[0m\u001b[0;34m\u001b[0m\u001b[0;34m\u001b[0m\u001b[0m\n",
      "\u001b[0;32m~/anaconda3/lib/python3.7/site-packages/fuzzingbook/GrammarFuzzer.py\u001b[0m in \u001b[0;36mexpand_tree_once\u001b[0;34m(self, tree)\u001b[0m\n\u001b[1;32m    534\u001b[0m         \u001b[0;31m# Expand in place\u001b[0m\u001b[0;34m\u001b[0m\u001b[0;34m\u001b[0m\u001b[0;34m\u001b[0m\u001b[0m\n\u001b[1;32m    535\u001b[0m         \u001b[0mchildren\u001b[0m\u001b[0;34m[\u001b[0m\u001b[0mindex_map\u001b[0m\u001b[0;34m[\u001b[0m\u001b[0mchild_to_be_expanded\u001b[0m\u001b[0;34m]\u001b[0m\u001b[0;34m]\u001b[0m \u001b[0;34m=\u001b[0m\u001b[0;31m \u001b[0m\u001b[0;31m\\\u001b[0m\u001b[0;34m\u001b[0m\u001b[0;34m\u001b[0m\u001b[0m\n\u001b[0;32m--> 536\u001b[0;31m             \u001b[0mself\u001b[0m\u001b[0;34m.\u001b[0m\u001b[0mexpand_tree_once\u001b[0m\u001b[0;34m(\u001b[0m\u001b[0mexpandable_children\u001b[0m\u001b[0;34m[\u001b[0m\u001b[0mchild_to_be_expanded\u001b[0m\u001b[0;34m]\u001b[0m\u001b[0;34m)\u001b[0m\u001b[0;34m\u001b[0m\u001b[0;34m\u001b[0m\u001b[0m\n\u001b[0m\u001b[1;32m    537\u001b[0m \u001b[0;34m\u001b[0m\u001b[0m\n\u001b[1;32m    538\u001b[0m         \u001b[0;32mreturn\u001b[0m \u001b[0mtree\u001b[0m\u001b[0;34m\u001b[0m\u001b[0;34m\u001b[0m\u001b[0m\n",
      "\u001b[0;32m~/anaconda3/lib/python3.7/site-packages/fuzzingbook/GrammarFuzzer.py\u001b[0m in \u001b[0;36mexpand_tree_once\u001b[0;34m(self, tree)\u001b[0m\n\u001b[1;32m    534\u001b[0m         \u001b[0;31m# Expand in place\u001b[0m\u001b[0;34m\u001b[0m\u001b[0;34m\u001b[0m\u001b[0;34m\u001b[0m\u001b[0m\n\u001b[1;32m    535\u001b[0m         \u001b[0mchildren\u001b[0m\u001b[0;34m[\u001b[0m\u001b[0mindex_map\u001b[0m\u001b[0;34m[\u001b[0m\u001b[0mchild_to_be_expanded\u001b[0m\u001b[0;34m]\u001b[0m\u001b[0;34m]\u001b[0m \u001b[0;34m=\u001b[0m\u001b[0;31m \u001b[0m\u001b[0;31m\\\u001b[0m\u001b[0;34m\u001b[0m\u001b[0;34m\u001b[0m\u001b[0m\n\u001b[0;32m--> 536\u001b[0;31m             \u001b[0mself\u001b[0m\u001b[0;34m.\u001b[0m\u001b[0mexpand_tree_once\u001b[0m\u001b[0;34m(\u001b[0m\u001b[0mexpandable_children\u001b[0m\u001b[0;34m[\u001b[0m\u001b[0mchild_to_be_expanded\u001b[0m\u001b[0;34m]\u001b[0m\u001b[0;34m)\u001b[0m\u001b[0;34m\u001b[0m\u001b[0;34m\u001b[0m\u001b[0m\n\u001b[0m\u001b[1;32m    537\u001b[0m \u001b[0;34m\u001b[0m\u001b[0m\n\u001b[1;32m    538\u001b[0m         \u001b[0;32mreturn\u001b[0m \u001b[0mtree\u001b[0m\u001b[0;34m\u001b[0m\u001b[0;34m\u001b[0m\u001b[0m\n",
      "\u001b[0;32m~/anaconda3/lib/python3.7/site-packages/fuzzingbook/GrammarFuzzer.py\u001b[0m in \u001b[0;36mexpand_tree_once\u001b[0;34m(self, tree)\u001b[0m\n\u001b[1;32m    534\u001b[0m         \u001b[0;31m# Expand in place\u001b[0m\u001b[0;34m\u001b[0m\u001b[0;34m\u001b[0m\u001b[0;34m\u001b[0m\u001b[0m\n\u001b[1;32m    535\u001b[0m         \u001b[0mchildren\u001b[0m\u001b[0;34m[\u001b[0m\u001b[0mindex_map\u001b[0m\u001b[0;34m[\u001b[0m\u001b[0mchild_to_be_expanded\u001b[0m\u001b[0;34m]\u001b[0m\u001b[0;34m]\u001b[0m \u001b[0;34m=\u001b[0m\u001b[0;31m \u001b[0m\u001b[0;31m\\\u001b[0m\u001b[0;34m\u001b[0m\u001b[0;34m\u001b[0m\u001b[0m\n\u001b[0;32m--> 536\u001b[0;31m             \u001b[0mself\u001b[0m\u001b[0;34m.\u001b[0m\u001b[0mexpand_tree_once\u001b[0m\u001b[0;34m(\u001b[0m\u001b[0mexpandable_children\u001b[0m\u001b[0;34m[\u001b[0m\u001b[0mchild_to_be_expanded\u001b[0m\u001b[0;34m]\u001b[0m\u001b[0;34m)\u001b[0m\u001b[0;34m\u001b[0m\u001b[0;34m\u001b[0m\u001b[0m\n\u001b[0m\u001b[1;32m    537\u001b[0m \u001b[0;34m\u001b[0m\u001b[0m\n\u001b[1;32m    538\u001b[0m         \u001b[0;32mreturn\u001b[0m \u001b[0mtree\u001b[0m\u001b[0;34m\u001b[0m\u001b[0;34m\u001b[0m\u001b[0m\n",
      "\u001b[0;32m~/anaconda3/lib/python3.7/site-packages/fuzzingbook/GrammarFuzzer.py\u001b[0m in \u001b[0;36mexpand_tree_once\u001b[0;34m(self, tree)\u001b[0m\n\u001b[1;32m    534\u001b[0m         \u001b[0;31m# Expand in place\u001b[0m\u001b[0;34m\u001b[0m\u001b[0;34m\u001b[0m\u001b[0;34m\u001b[0m\u001b[0m\n\u001b[1;32m    535\u001b[0m         \u001b[0mchildren\u001b[0m\u001b[0;34m[\u001b[0m\u001b[0mindex_map\u001b[0m\u001b[0;34m[\u001b[0m\u001b[0mchild_to_be_expanded\u001b[0m\u001b[0;34m]\u001b[0m\u001b[0;34m]\u001b[0m \u001b[0;34m=\u001b[0m\u001b[0;31m \u001b[0m\u001b[0;31m\\\u001b[0m\u001b[0;34m\u001b[0m\u001b[0;34m\u001b[0m\u001b[0m\n\u001b[0;32m--> 536\u001b[0;31m             \u001b[0mself\u001b[0m\u001b[0;34m.\u001b[0m\u001b[0mexpand_tree_once\u001b[0m\u001b[0;34m(\u001b[0m\u001b[0mexpandable_children\u001b[0m\u001b[0;34m[\u001b[0m\u001b[0mchild_to_be_expanded\u001b[0m\u001b[0;34m]\u001b[0m\u001b[0;34m)\u001b[0m\u001b[0;34m\u001b[0m\u001b[0;34m\u001b[0m\u001b[0m\n\u001b[0m\u001b[1;32m    537\u001b[0m \u001b[0;34m\u001b[0m\u001b[0m\n\u001b[1;32m    538\u001b[0m         \u001b[0;32mreturn\u001b[0m \u001b[0mtree\u001b[0m\u001b[0;34m\u001b[0m\u001b[0;34m\u001b[0m\u001b[0m\n",
      "\u001b[0;32m~/anaconda3/lib/python3.7/site-packages/fuzzingbook/GrammarFuzzer.py\u001b[0m in \u001b[0;36mexpand_tree_once\u001b[0;34m(self, tree)\u001b[0m\n\u001b[1;32m    534\u001b[0m         \u001b[0;31m# Expand in place\u001b[0m\u001b[0;34m\u001b[0m\u001b[0;34m\u001b[0m\u001b[0;34m\u001b[0m\u001b[0m\n\u001b[1;32m    535\u001b[0m         \u001b[0mchildren\u001b[0m\u001b[0;34m[\u001b[0m\u001b[0mindex_map\u001b[0m\u001b[0;34m[\u001b[0m\u001b[0mchild_to_be_expanded\u001b[0m\u001b[0;34m]\u001b[0m\u001b[0;34m]\u001b[0m \u001b[0;34m=\u001b[0m\u001b[0;31m \u001b[0m\u001b[0;31m\\\u001b[0m\u001b[0;34m\u001b[0m\u001b[0;34m\u001b[0m\u001b[0m\n\u001b[0;32m--> 536\u001b[0;31m             \u001b[0mself\u001b[0m\u001b[0;34m.\u001b[0m\u001b[0mexpand_tree_once\u001b[0m\u001b[0;34m(\u001b[0m\u001b[0mexpandable_children\u001b[0m\u001b[0;34m[\u001b[0m\u001b[0mchild_to_be_expanded\u001b[0m\u001b[0;34m]\u001b[0m\u001b[0;34m)\u001b[0m\u001b[0;34m\u001b[0m\u001b[0;34m\u001b[0m\u001b[0m\n\u001b[0m\u001b[1;32m    537\u001b[0m \u001b[0;34m\u001b[0m\u001b[0m\n\u001b[1;32m    538\u001b[0m         \u001b[0;32mreturn\u001b[0m \u001b[0mtree\u001b[0m\u001b[0;34m\u001b[0m\u001b[0;34m\u001b[0m\u001b[0m\n",
      "\u001b[0;32m~/anaconda3/lib/python3.7/site-packages/fuzzingbook/GrammarFuzzer.py\u001b[0m in \u001b[0;36mexpand_tree_once\u001b[0;34m(self, tree)\u001b[0m\n\u001b[1;32m    534\u001b[0m         \u001b[0;31m# Expand in place\u001b[0m\u001b[0;34m\u001b[0m\u001b[0;34m\u001b[0m\u001b[0;34m\u001b[0m\u001b[0m\n\u001b[1;32m    535\u001b[0m         \u001b[0mchildren\u001b[0m\u001b[0;34m[\u001b[0m\u001b[0mindex_map\u001b[0m\u001b[0;34m[\u001b[0m\u001b[0mchild_to_be_expanded\u001b[0m\u001b[0;34m]\u001b[0m\u001b[0;34m]\u001b[0m \u001b[0;34m=\u001b[0m\u001b[0;31m \u001b[0m\u001b[0;31m\\\u001b[0m\u001b[0;34m\u001b[0m\u001b[0;34m\u001b[0m\u001b[0m\n\u001b[0;32m--> 536\u001b[0;31m             \u001b[0mself\u001b[0m\u001b[0;34m.\u001b[0m\u001b[0mexpand_tree_once\u001b[0m\u001b[0;34m(\u001b[0m\u001b[0mexpandable_children\u001b[0m\u001b[0;34m[\u001b[0m\u001b[0mchild_to_be_expanded\u001b[0m\u001b[0;34m]\u001b[0m\u001b[0;34m)\u001b[0m\u001b[0;34m\u001b[0m\u001b[0;34m\u001b[0m\u001b[0m\n\u001b[0m\u001b[1;32m    537\u001b[0m \u001b[0;34m\u001b[0m\u001b[0m\n\u001b[1;32m    538\u001b[0m         \u001b[0;32mreturn\u001b[0m \u001b[0mtree\u001b[0m\u001b[0;34m\u001b[0m\u001b[0;34m\u001b[0m\u001b[0m\n",
      "\u001b[0;32m~/anaconda3/lib/python3.7/site-packages/fuzzingbook/GrammarFuzzer.py\u001b[0m in \u001b[0;36mexpand_tree_once\u001b[0;34m(self, tree)\u001b[0m\n\u001b[1;32m    534\u001b[0m         \u001b[0;31m# Expand in place\u001b[0m\u001b[0;34m\u001b[0m\u001b[0;34m\u001b[0m\u001b[0;34m\u001b[0m\u001b[0m\n\u001b[1;32m    535\u001b[0m         \u001b[0mchildren\u001b[0m\u001b[0;34m[\u001b[0m\u001b[0mindex_map\u001b[0m\u001b[0;34m[\u001b[0m\u001b[0mchild_to_be_expanded\u001b[0m\u001b[0;34m]\u001b[0m\u001b[0;34m]\u001b[0m \u001b[0;34m=\u001b[0m\u001b[0;31m \u001b[0m\u001b[0;31m\\\u001b[0m\u001b[0;34m\u001b[0m\u001b[0;34m\u001b[0m\u001b[0m\n\u001b[0;32m--> 536\u001b[0;31m             \u001b[0mself\u001b[0m\u001b[0;34m.\u001b[0m\u001b[0mexpand_tree_once\u001b[0m\u001b[0;34m(\u001b[0m\u001b[0mexpandable_children\u001b[0m\u001b[0;34m[\u001b[0m\u001b[0mchild_to_be_expanded\u001b[0m\u001b[0;34m]\u001b[0m\u001b[0;34m)\u001b[0m\u001b[0;34m\u001b[0m\u001b[0;34m\u001b[0m\u001b[0m\n\u001b[0m\u001b[1;32m    537\u001b[0m \u001b[0;34m\u001b[0m\u001b[0m\n\u001b[1;32m    538\u001b[0m         \u001b[0;32mreturn\u001b[0m \u001b[0mtree\u001b[0m\u001b[0;34m\u001b[0m\u001b[0;34m\u001b[0m\u001b[0m\n",
      "\u001b[0;32m~/anaconda3/lib/python3.7/site-packages/fuzzingbook/GrammarFuzzer.py\u001b[0m in \u001b[0;36mexpand_tree_once\u001b[0;34m(self, tree)\u001b[0m\n\u001b[1;32m    534\u001b[0m         \u001b[0;31m# Expand in place\u001b[0m\u001b[0;34m\u001b[0m\u001b[0;34m\u001b[0m\u001b[0;34m\u001b[0m\u001b[0m\n\u001b[1;32m    535\u001b[0m         \u001b[0mchildren\u001b[0m\u001b[0;34m[\u001b[0m\u001b[0mindex_map\u001b[0m\u001b[0;34m[\u001b[0m\u001b[0mchild_to_be_expanded\u001b[0m\u001b[0;34m]\u001b[0m\u001b[0;34m]\u001b[0m \u001b[0;34m=\u001b[0m\u001b[0;31m \u001b[0m\u001b[0;31m\\\u001b[0m\u001b[0;34m\u001b[0m\u001b[0;34m\u001b[0m\u001b[0m\n\u001b[0;32m--> 536\u001b[0;31m             \u001b[0mself\u001b[0m\u001b[0;34m.\u001b[0m\u001b[0mexpand_tree_once\u001b[0m\u001b[0;34m(\u001b[0m\u001b[0mexpandable_children\u001b[0m\u001b[0;34m[\u001b[0m\u001b[0mchild_to_be_expanded\u001b[0m\u001b[0;34m]\u001b[0m\u001b[0;34m)\u001b[0m\u001b[0;34m\u001b[0m\u001b[0;34m\u001b[0m\u001b[0m\n\u001b[0m\u001b[1;32m    537\u001b[0m \u001b[0;34m\u001b[0m\u001b[0m\n\u001b[1;32m    538\u001b[0m         \u001b[0;32mreturn\u001b[0m \u001b[0mtree\u001b[0m\u001b[0;34m\u001b[0m\u001b[0;34m\u001b[0m\u001b[0m\n",
      "\u001b[0;32m~/anaconda3/lib/python3.7/site-packages/fuzzingbook/GrammarFuzzer.py\u001b[0m in \u001b[0;36mexpand_tree_once\u001b[0;34m(self, tree)\u001b[0m\n\u001b[1;32m    534\u001b[0m         \u001b[0;31m# Expand in place\u001b[0m\u001b[0;34m\u001b[0m\u001b[0;34m\u001b[0m\u001b[0;34m\u001b[0m\u001b[0m\n\u001b[1;32m    535\u001b[0m         \u001b[0mchildren\u001b[0m\u001b[0;34m[\u001b[0m\u001b[0mindex_map\u001b[0m\u001b[0;34m[\u001b[0m\u001b[0mchild_to_be_expanded\u001b[0m\u001b[0;34m]\u001b[0m\u001b[0;34m]\u001b[0m \u001b[0;34m=\u001b[0m\u001b[0;31m \u001b[0m\u001b[0;31m\\\u001b[0m\u001b[0;34m\u001b[0m\u001b[0;34m\u001b[0m\u001b[0m\n\u001b[0;32m--> 536\u001b[0;31m             \u001b[0mself\u001b[0m\u001b[0;34m.\u001b[0m\u001b[0mexpand_tree_once\u001b[0m\u001b[0;34m(\u001b[0m\u001b[0mexpandable_children\u001b[0m\u001b[0;34m[\u001b[0m\u001b[0mchild_to_be_expanded\u001b[0m\u001b[0;34m]\u001b[0m\u001b[0;34m)\u001b[0m\u001b[0;34m\u001b[0m\u001b[0;34m\u001b[0m\u001b[0m\n\u001b[0m\u001b[1;32m    537\u001b[0m \u001b[0;34m\u001b[0m\u001b[0m\n\u001b[1;32m    538\u001b[0m         \u001b[0;32mreturn\u001b[0m \u001b[0mtree\u001b[0m\u001b[0;34m\u001b[0m\u001b[0;34m\u001b[0m\u001b[0m\n",
      "\u001b[0;32m~/anaconda3/lib/python3.7/site-packages/fuzzingbook/GrammarFuzzer.py\u001b[0m in \u001b[0;36mexpand_tree_once\u001b[0;34m(self, tree)\u001b[0m\n\u001b[1;32m    534\u001b[0m         \u001b[0;31m# Expand in place\u001b[0m\u001b[0;34m\u001b[0m\u001b[0;34m\u001b[0m\u001b[0;34m\u001b[0m\u001b[0m\n\u001b[1;32m    535\u001b[0m         \u001b[0mchildren\u001b[0m\u001b[0;34m[\u001b[0m\u001b[0mindex_map\u001b[0m\u001b[0;34m[\u001b[0m\u001b[0mchild_to_be_expanded\u001b[0m\u001b[0;34m]\u001b[0m\u001b[0;34m]\u001b[0m \u001b[0;34m=\u001b[0m\u001b[0;31m \u001b[0m\u001b[0;31m\\\u001b[0m\u001b[0;34m\u001b[0m\u001b[0;34m\u001b[0m\u001b[0m\n\u001b[0;32m--> 536\u001b[0;31m             \u001b[0mself\u001b[0m\u001b[0;34m.\u001b[0m\u001b[0mexpand_tree_once\u001b[0m\u001b[0;34m(\u001b[0m\u001b[0mexpandable_children\u001b[0m\u001b[0;34m[\u001b[0m\u001b[0mchild_to_be_expanded\u001b[0m\u001b[0;34m]\u001b[0m\u001b[0;34m)\u001b[0m\u001b[0;34m\u001b[0m\u001b[0;34m\u001b[0m\u001b[0m\n\u001b[0m\u001b[1;32m    537\u001b[0m \u001b[0;34m\u001b[0m\u001b[0m\n\u001b[1;32m    538\u001b[0m         \u001b[0;32mreturn\u001b[0m \u001b[0mtree\u001b[0m\u001b[0;34m\u001b[0m\u001b[0;34m\u001b[0m\u001b[0m\n",
      "\u001b[0;32m~/anaconda3/lib/python3.7/site-packages/fuzzingbook/GrammarFuzzer.py\u001b[0m in \u001b[0;36mexpand_tree_once\u001b[0;34m(self, tree)\u001b[0m\n\u001b[1;32m    534\u001b[0m         \u001b[0;31m# Expand in place\u001b[0m\u001b[0;34m\u001b[0m\u001b[0;34m\u001b[0m\u001b[0;34m\u001b[0m\u001b[0m\n\u001b[1;32m    535\u001b[0m         \u001b[0mchildren\u001b[0m\u001b[0;34m[\u001b[0m\u001b[0mindex_map\u001b[0m\u001b[0;34m[\u001b[0m\u001b[0mchild_to_be_expanded\u001b[0m\u001b[0;34m]\u001b[0m\u001b[0;34m]\u001b[0m \u001b[0;34m=\u001b[0m\u001b[0;31m \u001b[0m\u001b[0;31m\\\u001b[0m\u001b[0;34m\u001b[0m\u001b[0;34m\u001b[0m\u001b[0m\n\u001b[0;32m--> 536\u001b[0;31m             \u001b[0mself\u001b[0m\u001b[0;34m.\u001b[0m\u001b[0mexpand_tree_once\u001b[0m\u001b[0;34m(\u001b[0m\u001b[0mexpandable_children\u001b[0m\u001b[0;34m[\u001b[0m\u001b[0mchild_to_be_expanded\u001b[0m\u001b[0;34m]\u001b[0m\u001b[0;34m)\u001b[0m\u001b[0;34m\u001b[0m\u001b[0;34m\u001b[0m\u001b[0m\n\u001b[0m\u001b[1;32m    537\u001b[0m \u001b[0;34m\u001b[0m\u001b[0m\n\u001b[1;32m    538\u001b[0m         \u001b[0;32mreturn\u001b[0m \u001b[0mtree\u001b[0m\u001b[0;34m\u001b[0m\u001b[0;34m\u001b[0m\u001b[0m\n",
      "\u001b[0;32m~/anaconda3/lib/python3.7/site-packages/fuzzingbook/GrammarFuzzer.py\u001b[0m in \u001b[0;36mexpand_tree_once\u001b[0;34m(self, tree)\u001b[0m\n\u001b[1;32m    534\u001b[0m         \u001b[0;31m# Expand in place\u001b[0m\u001b[0;34m\u001b[0m\u001b[0;34m\u001b[0m\u001b[0;34m\u001b[0m\u001b[0m\n\u001b[1;32m    535\u001b[0m         \u001b[0mchildren\u001b[0m\u001b[0;34m[\u001b[0m\u001b[0mindex_map\u001b[0m\u001b[0;34m[\u001b[0m\u001b[0mchild_to_be_expanded\u001b[0m\u001b[0;34m]\u001b[0m\u001b[0;34m]\u001b[0m \u001b[0;34m=\u001b[0m\u001b[0;31m \u001b[0m\u001b[0;31m\\\u001b[0m\u001b[0;34m\u001b[0m\u001b[0;34m\u001b[0m\u001b[0m\n\u001b[0;32m--> 536\u001b[0;31m             \u001b[0mself\u001b[0m\u001b[0;34m.\u001b[0m\u001b[0mexpand_tree_once\u001b[0m\u001b[0;34m(\u001b[0m\u001b[0mexpandable_children\u001b[0m\u001b[0;34m[\u001b[0m\u001b[0mchild_to_be_expanded\u001b[0m\u001b[0;34m]\u001b[0m\u001b[0;34m)\u001b[0m\u001b[0;34m\u001b[0m\u001b[0;34m\u001b[0m\u001b[0m\n\u001b[0m\u001b[1;32m    537\u001b[0m \u001b[0;34m\u001b[0m\u001b[0m\n\u001b[1;32m    538\u001b[0m         \u001b[0;32mreturn\u001b[0m \u001b[0mtree\u001b[0m\u001b[0;34m\u001b[0m\u001b[0;34m\u001b[0m\u001b[0m\n",
      "\u001b[0;32m~/anaconda3/lib/python3.7/site-packages/fuzzingbook/GrammarFuzzer.py\u001b[0m in \u001b[0;36mexpand_tree_once\u001b[0;34m(self, tree)\u001b[0m\n\u001b[1;32m    534\u001b[0m         \u001b[0;31m# Expand in place\u001b[0m\u001b[0;34m\u001b[0m\u001b[0;34m\u001b[0m\u001b[0;34m\u001b[0m\u001b[0m\n\u001b[1;32m    535\u001b[0m         \u001b[0mchildren\u001b[0m\u001b[0;34m[\u001b[0m\u001b[0mindex_map\u001b[0m\u001b[0;34m[\u001b[0m\u001b[0mchild_to_be_expanded\u001b[0m\u001b[0;34m]\u001b[0m\u001b[0;34m]\u001b[0m \u001b[0;34m=\u001b[0m\u001b[0;31m \u001b[0m\u001b[0;31m\\\u001b[0m\u001b[0;34m\u001b[0m\u001b[0;34m\u001b[0m\u001b[0m\n\u001b[0;32m--> 536\u001b[0;31m             \u001b[0mself\u001b[0m\u001b[0;34m.\u001b[0m\u001b[0mexpand_tree_once\u001b[0m\u001b[0;34m(\u001b[0m\u001b[0mexpandable_children\u001b[0m\u001b[0;34m[\u001b[0m\u001b[0mchild_to_be_expanded\u001b[0m\u001b[0;34m]\u001b[0m\u001b[0;34m)\u001b[0m\u001b[0;34m\u001b[0m\u001b[0;34m\u001b[0m\u001b[0m\n\u001b[0m\u001b[1;32m    537\u001b[0m \u001b[0;34m\u001b[0m\u001b[0m\n\u001b[1;32m    538\u001b[0m         \u001b[0;32mreturn\u001b[0m \u001b[0mtree\u001b[0m\u001b[0;34m\u001b[0m\u001b[0;34m\u001b[0m\u001b[0m\n",
      "\u001b[0;32m~/anaconda3/lib/python3.7/site-packages/fuzzingbook/GrammarFuzzer.py\u001b[0m in \u001b[0;36mexpand_tree_once\u001b[0;34m(self, tree)\u001b[0m\n\u001b[1;32m    534\u001b[0m         \u001b[0;31m# Expand in place\u001b[0m\u001b[0;34m\u001b[0m\u001b[0;34m\u001b[0m\u001b[0;34m\u001b[0m\u001b[0m\n\u001b[1;32m    535\u001b[0m         \u001b[0mchildren\u001b[0m\u001b[0;34m[\u001b[0m\u001b[0mindex_map\u001b[0m\u001b[0;34m[\u001b[0m\u001b[0mchild_to_be_expanded\u001b[0m\u001b[0;34m]\u001b[0m\u001b[0;34m]\u001b[0m \u001b[0;34m=\u001b[0m\u001b[0;31m \u001b[0m\u001b[0;31m\\\u001b[0m\u001b[0;34m\u001b[0m\u001b[0;34m\u001b[0m\u001b[0m\n\u001b[0;32m--> 536\u001b[0;31m             \u001b[0mself\u001b[0m\u001b[0;34m.\u001b[0m\u001b[0mexpand_tree_once\u001b[0m\u001b[0;34m(\u001b[0m\u001b[0mexpandable_children\u001b[0m\u001b[0;34m[\u001b[0m\u001b[0mchild_to_be_expanded\u001b[0m\u001b[0;34m]\u001b[0m\u001b[0;34m)\u001b[0m\u001b[0;34m\u001b[0m\u001b[0;34m\u001b[0m\u001b[0m\n\u001b[0m\u001b[1;32m    537\u001b[0m \u001b[0;34m\u001b[0m\u001b[0m\n\u001b[1;32m    538\u001b[0m         \u001b[0;32mreturn\u001b[0m \u001b[0mtree\u001b[0m\u001b[0;34m\u001b[0m\u001b[0;34m\u001b[0m\u001b[0m\n",
      "\u001b[0;32m~/anaconda3/lib/python3.7/site-packages/fuzzingbook/GrammarFuzzer.py\u001b[0m in \u001b[0;36mexpand_tree_once\u001b[0;34m(self, tree)\u001b[0m\n\u001b[1;32m    534\u001b[0m         \u001b[0;31m# Expand in place\u001b[0m\u001b[0;34m\u001b[0m\u001b[0;34m\u001b[0m\u001b[0;34m\u001b[0m\u001b[0m\n\u001b[1;32m    535\u001b[0m         \u001b[0mchildren\u001b[0m\u001b[0;34m[\u001b[0m\u001b[0mindex_map\u001b[0m\u001b[0;34m[\u001b[0m\u001b[0mchild_to_be_expanded\u001b[0m\u001b[0;34m]\u001b[0m\u001b[0;34m]\u001b[0m \u001b[0;34m=\u001b[0m\u001b[0;31m \u001b[0m\u001b[0;31m\\\u001b[0m\u001b[0;34m\u001b[0m\u001b[0;34m\u001b[0m\u001b[0m\n\u001b[0;32m--> 536\u001b[0;31m             \u001b[0mself\u001b[0m\u001b[0;34m.\u001b[0m\u001b[0mexpand_tree_once\u001b[0m\u001b[0;34m(\u001b[0m\u001b[0mexpandable_children\u001b[0m\u001b[0;34m[\u001b[0m\u001b[0mchild_to_be_expanded\u001b[0m\u001b[0;34m]\u001b[0m\u001b[0;34m)\u001b[0m\u001b[0;34m\u001b[0m\u001b[0;34m\u001b[0m\u001b[0m\n\u001b[0m\u001b[1;32m    537\u001b[0m \u001b[0;34m\u001b[0m\u001b[0m\n\u001b[1;32m    538\u001b[0m         \u001b[0;32mreturn\u001b[0m \u001b[0mtree\u001b[0m\u001b[0;34m\u001b[0m\u001b[0;34m\u001b[0m\u001b[0m\n",
      "\u001b[0;32m~/anaconda3/lib/python3.7/site-packages/fuzzingbook/GrammarFuzzer.py\u001b[0m in \u001b[0;36mexpand_tree_once\u001b[0;34m(self, tree)\u001b[0m\n\u001b[1;32m    534\u001b[0m         \u001b[0;31m# Expand in place\u001b[0m\u001b[0;34m\u001b[0m\u001b[0;34m\u001b[0m\u001b[0;34m\u001b[0m\u001b[0m\n\u001b[1;32m    535\u001b[0m         \u001b[0mchildren\u001b[0m\u001b[0;34m[\u001b[0m\u001b[0mindex_map\u001b[0m\u001b[0;34m[\u001b[0m\u001b[0mchild_to_be_expanded\u001b[0m\u001b[0;34m]\u001b[0m\u001b[0;34m]\u001b[0m \u001b[0;34m=\u001b[0m\u001b[0;31m \u001b[0m\u001b[0;31m\\\u001b[0m\u001b[0;34m\u001b[0m\u001b[0;34m\u001b[0m\u001b[0m\n\u001b[0;32m--> 536\u001b[0;31m             \u001b[0mself\u001b[0m\u001b[0;34m.\u001b[0m\u001b[0mexpand_tree_once\u001b[0m\u001b[0;34m(\u001b[0m\u001b[0mexpandable_children\u001b[0m\u001b[0;34m[\u001b[0m\u001b[0mchild_to_be_expanded\u001b[0m\u001b[0;34m]\u001b[0m\u001b[0;34m)\u001b[0m\u001b[0;34m\u001b[0m\u001b[0;34m\u001b[0m\u001b[0m\n\u001b[0m\u001b[1;32m    537\u001b[0m \u001b[0;34m\u001b[0m\u001b[0m\n\u001b[1;32m    538\u001b[0m         \u001b[0;32mreturn\u001b[0m \u001b[0mtree\u001b[0m\u001b[0;34m\u001b[0m\u001b[0;34m\u001b[0m\u001b[0m\n",
      "\u001b[0;32m~/anaconda3/lib/python3.7/site-packages/fuzzingbook/GrammarFuzzer.py\u001b[0m in \u001b[0;36mexpand_tree_once\u001b[0;34m(self, tree)\u001b[0m\n\u001b[1;32m    534\u001b[0m         \u001b[0;31m# Expand in place\u001b[0m\u001b[0;34m\u001b[0m\u001b[0;34m\u001b[0m\u001b[0;34m\u001b[0m\u001b[0m\n\u001b[1;32m    535\u001b[0m         \u001b[0mchildren\u001b[0m\u001b[0;34m[\u001b[0m\u001b[0mindex_map\u001b[0m\u001b[0;34m[\u001b[0m\u001b[0mchild_to_be_expanded\u001b[0m\u001b[0;34m]\u001b[0m\u001b[0;34m]\u001b[0m \u001b[0;34m=\u001b[0m\u001b[0;31m \u001b[0m\u001b[0;31m\\\u001b[0m\u001b[0;34m\u001b[0m\u001b[0;34m\u001b[0m\u001b[0m\n\u001b[0;32m--> 536\u001b[0;31m             \u001b[0mself\u001b[0m\u001b[0;34m.\u001b[0m\u001b[0mexpand_tree_once\u001b[0m\u001b[0;34m(\u001b[0m\u001b[0mexpandable_children\u001b[0m\u001b[0;34m[\u001b[0m\u001b[0mchild_to_be_expanded\u001b[0m\u001b[0;34m]\u001b[0m\u001b[0;34m)\u001b[0m\u001b[0;34m\u001b[0m\u001b[0;34m\u001b[0m\u001b[0m\n\u001b[0m\u001b[1;32m    537\u001b[0m \u001b[0;34m\u001b[0m\u001b[0m\n\u001b[1;32m    538\u001b[0m         \u001b[0;32mreturn\u001b[0m \u001b[0mtree\u001b[0m\u001b[0;34m\u001b[0m\u001b[0;34m\u001b[0m\u001b[0m\n",
      "\u001b[0;32m~/anaconda3/lib/python3.7/site-packages/fuzzingbook/GrammarFuzzer.py\u001b[0m in \u001b[0;36mexpand_tree_once\u001b[0;34m(self, tree)\u001b[0m\n\u001b[1;32m    534\u001b[0m         \u001b[0;31m# Expand in place\u001b[0m\u001b[0;34m\u001b[0m\u001b[0;34m\u001b[0m\u001b[0;34m\u001b[0m\u001b[0m\n\u001b[1;32m    535\u001b[0m         \u001b[0mchildren\u001b[0m\u001b[0;34m[\u001b[0m\u001b[0mindex_map\u001b[0m\u001b[0;34m[\u001b[0m\u001b[0mchild_to_be_expanded\u001b[0m\u001b[0;34m]\u001b[0m\u001b[0;34m]\u001b[0m \u001b[0;34m=\u001b[0m\u001b[0;31m \u001b[0m\u001b[0;31m\\\u001b[0m\u001b[0;34m\u001b[0m\u001b[0;34m\u001b[0m\u001b[0m\n\u001b[0;32m--> 536\u001b[0;31m             \u001b[0mself\u001b[0m\u001b[0;34m.\u001b[0m\u001b[0mexpand_tree_once\u001b[0m\u001b[0;34m(\u001b[0m\u001b[0mexpandable_children\u001b[0m\u001b[0;34m[\u001b[0m\u001b[0mchild_to_be_expanded\u001b[0m\u001b[0;34m]\u001b[0m\u001b[0;34m)\u001b[0m\u001b[0;34m\u001b[0m\u001b[0;34m\u001b[0m\u001b[0m\n\u001b[0m\u001b[1;32m    537\u001b[0m \u001b[0;34m\u001b[0m\u001b[0m\n\u001b[1;32m    538\u001b[0m         \u001b[0;32mreturn\u001b[0m \u001b[0mtree\u001b[0m\u001b[0;34m\u001b[0m\u001b[0;34m\u001b[0m\u001b[0m\n",
      "\u001b[0;32m~/anaconda3/lib/python3.7/site-packages/fuzzingbook/GrammarFuzzer.py\u001b[0m in \u001b[0;36mexpand_tree_once\u001b[0;34m(self, tree)\u001b[0m\n\u001b[1;32m    534\u001b[0m         \u001b[0;31m# Expand in place\u001b[0m\u001b[0;34m\u001b[0m\u001b[0;34m\u001b[0m\u001b[0;34m\u001b[0m\u001b[0m\n\u001b[1;32m    535\u001b[0m         \u001b[0mchildren\u001b[0m\u001b[0;34m[\u001b[0m\u001b[0mindex_map\u001b[0m\u001b[0;34m[\u001b[0m\u001b[0mchild_to_be_expanded\u001b[0m\u001b[0;34m]\u001b[0m\u001b[0;34m]\u001b[0m \u001b[0;34m=\u001b[0m\u001b[0;31m \u001b[0m\u001b[0;31m\\\u001b[0m\u001b[0;34m\u001b[0m\u001b[0;34m\u001b[0m\u001b[0m\n\u001b[0;32m--> 536\u001b[0;31m             \u001b[0mself\u001b[0m\u001b[0;34m.\u001b[0m\u001b[0mexpand_tree_once\u001b[0m\u001b[0;34m(\u001b[0m\u001b[0mexpandable_children\u001b[0m\u001b[0;34m[\u001b[0m\u001b[0mchild_to_be_expanded\u001b[0m\u001b[0;34m]\u001b[0m\u001b[0;34m)\u001b[0m\u001b[0;34m\u001b[0m\u001b[0;34m\u001b[0m\u001b[0m\n\u001b[0m\u001b[1;32m    537\u001b[0m \u001b[0;34m\u001b[0m\u001b[0m\n\u001b[1;32m    538\u001b[0m         \u001b[0;32mreturn\u001b[0m \u001b[0mtree\u001b[0m\u001b[0;34m\u001b[0m\u001b[0;34m\u001b[0m\u001b[0m\n",
      "\u001b[0;32m~/anaconda3/lib/python3.7/site-packages/fuzzingbook/GrammarFuzzer.py\u001b[0m in \u001b[0;36mexpand_tree_once\u001b[0;34m(self, tree)\u001b[0m\n\u001b[1;32m    517\u001b[0m         \u001b[0;32mif\u001b[0m \u001b[0mchildren\u001b[0m \u001b[0;32mis\u001b[0m \u001b[0;32mNone\u001b[0m\u001b[0;34m:\u001b[0m\u001b[0;34m\u001b[0m\u001b[0;34m\u001b[0m\u001b[0m\n\u001b[1;32m    518\u001b[0m             \u001b[0;31m# Expand this node\u001b[0m\u001b[0;34m\u001b[0m\u001b[0;34m\u001b[0m\u001b[0;34m\u001b[0m\u001b[0m\n\u001b[0;32m--> 519\u001b[0;31m             \u001b[0;32mreturn\u001b[0m \u001b[0mself\u001b[0m\u001b[0;34m.\u001b[0m\u001b[0mexpand_node\u001b[0m\u001b[0;34m(\u001b[0m\u001b[0mtree\u001b[0m\u001b[0;34m)\u001b[0m\u001b[0;34m\u001b[0m\u001b[0;34m\u001b[0m\u001b[0m\n\u001b[0m\u001b[1;32m    520\u001b[0m \u001b[0;34m\u001b[0m\u001b[0m\n\u001b[1;32m    521\u001b[0m         \u001b[0;31m# Find all children with possible expansions\u001b[0m\u001b[0;34m\u001b[0m\u001b[0;34m\u001b[0m\u001b[0;34m\u001b[0m\u001b[0m\n",
      "\u001b[0;32m~/anaconda3/lib/python3.7/site-packages/fuzzingbook/GrammarFuzzer.py\u001b[0m in \u001b[0;36mexpand_node_min_cost\u001b[0;34m(self, node)\u001b[0m\n\u001b[1;32m    630\u001b[0m             \u001b[0mprint\u001b[0m\u001b[0;34m(\u001b[0m\u001b[0;34m\"Expanding\"\u001b[0m\u001b[0;34m,\u001b[0m \u001b[0mall_terminals\u001b[0m\u001b[0;34m(\u001b[0m\u001b[0mnode\u001b[0m\u001b[0;34m)\u001b[0m\u001b[0;34m,\u001b[0m \u001b[0;34m\"at minimum cost\"\u001b[0m\u001b[0;34m)\u001b[0m\u001b[0;34m\u001b[0m\u001b[0;34m\u001b[0m\u001b[0m\n\u001b[1;32m    631\u001b[0m \u001b[0;34m\u001b[0m\u001b[0m\n\u001b[0;32m--> 632\u001b[0;31m         \u001b[0;32mreturn\u001b[0m \u001b[0mself\u001b[0m\u001b[0;34m.\u001b[0m\u001b[0mexpand_node_by_cost\u001b[0m\u001b[0;34m(\u001b[0m\u001b[0mnode\u001b[0m\u001b[0;34m,\u001b[0m \u001b[0mmin\u001b[0m\u001b[0;34m)\u001b[0m\u001b[0;34m\u001b[0m\u001b[0;34m\u001b[0m\u001b[0m\n\u001b[0m\u001b[1;32m    633\u001b[0m \u001b[0;34m\u001b[0m\u001b[0m\n\u001b[1;32m    634\u001b[0m \u001b[0;32mclass\u001b[0m \u001b[0mGrammarFuzzer\u001b[0m\u001b[0;34m(\u001b[0m\u001b[0mGrammarFuzzer\u001b[0m\u001b[0;34m)\u001b[0m\u001b[0;34m:\u001b[0m\u001b[0;34m\u001b[0m\u001b[0;34m\u001b[0m\u001b[0m\n",
      "\u001b[0;32m~/anaconda3/lib/python3.7/site-packages/fuzzingbook/GrammarFuzzer.py\u001b[0m in \u001b[0;36mexpand_node_by_cost\u001b[0;34m(self, node, choose)\u001b[0m\n\u001b[1;32m    605\u001b[0m                                             expansion, {symbol}),\n\u001b[1;32m    606\u001b[0m                                         expansion)\n\u001b[0;32m--> 607\u001b[0;31m                                        for expansion in expansions]\n\u001b[0m\u001b[1;32m    608\u001b[0m \u001b[0;34m\u001b[0m\u001b[0m\n\u001b[1;32m    609\u001b[0m         costs = [cost for (child, cost, expansion)\n",
      "\u001b[0;32m~/anaconda3/lib/python3.7/site-packages/fuzzingbook/GrammarFuzzer.py\u001b[0m in \u001b[0;36m<listcomp>\u001b[0;34m(.0)\u001b[0m\n\u001b[1;32m    605\u001b[0m                                             expansion, {symbol}),\n\u001b[1;32m    606\u001b[0m                                         expansion)\n\u001b[0;32m--> 607\u001b[0;31m                                        for expansion in expansions]\n\u001b[0m\u001b[1;32m    608\u001b[0m \u001b[0;34m\u001b[0m\u001b[0m\n\u001b[1;32m    609\u001b[0m         costs = [cost for (child, cost, expansion)\n",
      "\u001b[0;32m~/anaconda3/lib/python3.7/site-packages/fuzzingbook/GrammarFuzzer.py\u001b[0m in \u001b[0;36mexpansion_cost\u001b[0;34m(self, expansion, seen)\u001b[0m\n\u001b[1;32m    582\u001b[0m         \u001b[0;31m# the value of a expansion is the sum of all expandable variables\u001b[0m\u001b[0;34m\u001b[0m\u001b[0;34m\u001b[0m\u001b[0;34m\u001b[0m\u001b[0m\n\u001b[1;32m    583\u001b[0m         \u001b[0;31m# inside + 1\u001b[0m\u001b[0;34m\u001b[0m\u001b[0;34m\u001b[0m\u001b[0;34m\u001b[0m\u001b[0m\n\u001b[0;32m--> 584\u001b[0;31m         \u001b[0;32mreturn\u001b[0m \u001b[0msum\u001b[0m\u001b[0;34m(\u001b[0m\u001b[0mself\u001b[0m\u001b[0;34m.\u001b[0m\u001b[0msymbol_cost\u001b[0m\u001b[0;34m(\u001b[0m\u001b[0ms\u001b[0m\u001b[0;34m,\u001b[0m \u001b[0mseen\u001b[0m\u001b[0;34m)\u001b[0m \u001b[0;32mfor\u001b[0m \u001b[0ms\u001b[0m \u001b[0;32min\u001b[0m \u001b[0msymbols\u001b[0m\u001b[0;34m)\u001b[0m \u001b[0;34m+\u001b[0m \u001b[0;36m1\u001b[0m\u001b[0;34m\u001b[0m\u001b[0;34m\u001b[0m\u001b[0m\n\u001b[0m\u001b[1;32m    585\u001b[0m \u001b[0;34m\u001b[0m\u001b[0m\n\u001b[1;32m    586\u001b[0m \u001b[0;32mif\u001b[0m \u001b[0m__name__\u001b[0m \u001b[0;34m==\u001b[0m \u001b[0;34m\"__main__\"\u001b[0m\u001b[0;34m:\u001b[0m\u001b[0;34m\u001b[0m\u001b[0;34m\u001b[0m\u001b[0m\n",
      "\u001b[0;32m~/anaconda3/lib/python3.7/site-packages/fuzzingbook/GrammarFuzzer.py\u001b[0m in \u001b[0;36m<genexpr>\u001b[0;34m(.0)\u001b[0m\n\u001b[1;32m    582\u001b[0m         \u001b[0;31m# the value of a expansion is the sum of all expandable variables\u001b[0m\u001b[0;34m\u001b[0m\u001b[0;34m\u001b[0m\u001b[0;34m\u001b[0m\u001b[0m\n\u001b[1;32m    583\u001b[0m         \u001b[0;31m# inside + 1\u001b[0m\u001b[0;34m\u001b[0m\u001b[0;34m\u001b[0m\u001b[0;34m\u001b[0m\u001b[0m\n\u001b[0;32m--> 584\u001b[0;31m         \u001b[0;32mreturn\u001b[0m \u001b[0msum\u001b[0m\u001b[0;34m(\u001b[0m\u001b[0mself\u001b[0m\u001b[0;34m.\u001b[0m\u001b[0msymbol_cost\u001b[0m\u001b[0;34m(\u001b[0m\u001b[0ms\u001b[0m\u001b[0;34m,\u001b[0m \u001b[0mseen\u001b[0m\u001b[0;34m)\u001b[0m \u001b[0;32mfor\u001b[0m \u001b[0ms\u001b[0m \u001b[0;32min\u001b[0m \u001b[0msymbols\u001b[0m\u001b[0;34m)\u001b[0m \u001b[0;34m+\u001b[0m \u001b[0;36m1\u001b[0m\u001b[0;34m\u001b[0m\u001b[0;34m\u001b[0m\u001b[0m\n\u001b[0m\u001b[1;32m    585\u001b[0m \u001b[0;34m\u001b[0m\u001b[0m\n\u001b[1;32m    586\u001b[0m \u001b[0;32mif\u001b[0m \u001b[0m__name__\u001b[0m \u001b[0;34m==\u001b[0m \u001b[0;34m\"__main__\"\u001b[0m\u001b[0;34m:\u001b[0m\u001b[0;34m\u001b[0m\u001b[0;34m\u001b[0m\u001b[0m\n",
      "\u001b[0;32m~/anaconda3/lib/python3.7/site-packages/fuzzingbook/GrammarFuzzer.py\u001b[0m in \u001b[0;36msymbol_cost\u001b[0;34m(self, symbol, seen)\u001b[0m\n\u001b[1;32m    570\u001b[0m     \u001b[0;32mdef\u001b[0m \u001b[0msymbol_cost\u001b[0m\u001b[0;34m(\u001b[0m\u001b[0mself\u001b[0m\u001b[0;34m,\u001b[0m \u001b[0msymbol\u001b[0m\u001b[0;34m,\u001b[0m \u001b[0mseen\u001b[0m\u001b[0;34m=\u001b[0m\u001b[0mset\u001b[0m\u001b[0;34m(\u001b[0m\u001b[0;34m)\u001b[0m\u001b[0;34m)\u001b[0m\u001b[0;34m:\u001b[0m\u001b[0;34m\u001b[0m\u001b[0;34m\u001b[0m\u001b[0m\n\u001b[1;32m    571\u001b[0m         \u001b[0mexpansions\u001b[0m \u001b[0;34m=\u001b[0m \u001b[0mself\u001b[0m\u001b[0;34m.\u001b[0m\u001b[0mgrammar\u001b[0m\u001b[0;34m[\u001b[0m\u001b[0msymbol\u001b[0m\u001b[0;34m]\u001b[0m\u001b[0;34m\u001b[0m\u001b[0;34m\u001b[0m\u001b[0m\n\u001b[0;32m--> 572\u001b[0;31m         \u001b[0;32mreturn\u001b[0m \u001b[0mmin\u001b[0m\u001b[0;34m(\u001b[0m\u001b[0mself\u001b[0m\u001b[0;34m.\u001b[0m\u001b[0mexpansion_cost\u001b[0m\u001b[0;34m(\u001b[0m\u001b[0me\u001b[0m\u001b[0;34m,\u001b[0m \u001b[0mseen\u001b[0m \u001b[0;34m|\u001b[0m \u001b[0;34m{\u001b[0m\u001b[0msymbol\u001b[0m\u001b[0;34m}\u001b[0m\u001b[0;34m)\u001b[0m \u001b[0;32mfor\u001b[0m \u001b[0me\u001b[0m \u001b[0;32min\u001b[0m \u001b[0mexpansions\u001b[0m\u001b[0;34m)\u001b[0m\u001b[0;34m\u001b[0m\u001b[0;34m\u001b[0m\u001b[0m\n\u001b[0m\u001b[1;32m    573\u001b[0m \u001b[0;34m\u001b[0m\u001b[0m\n\u001b[1;32m    574\u001b[0m     \u001b[0;32mdef\u001b[0m \u001b[0mexpansion_cost\u001b[0m\u001b[0;34m(\u001b[0m\u001b[0mself\u001b[0m\u001b[0;34m,\u001b[0m \u001b[0mexpansion\u001b[0m\u001b[0;34m,\u001b[0m \u001b[0mseen\u001b[0m\u001b[0;34m=\u001b[0m\u001b[0mset\u001b[0m\u001b[0;34m(\u001b[0m\u001b[0;34m)\u001b[0m\u001b[0;34m)\u001b[0m\u001b[0;34m:\u001b[0m\u001b[0;34m\u001b[0m\u001b[0;34m\u001b[0m\u001b[0m\n",
      "\u001b[0;32m~/anaconda3/lib/python3.7/site-packages/fuzzingbook/GrammarFuzzer.py\u001b[0m in \u001b[0;36m<genexpr>\u001b[0;34m(.0)\u001b[0m\n\u001b[1;32m    570\u001b[0m     \u001b[0;32mdef\u001b[0m \u001b[0msymbol_cost\u001b[0m\u001b[0;34m(\u001b[0m\u001b[0mself\u001b[0m\u001b[0;34m,\u001b[0m \u001b[0msymbol\u001b[0m\u001b[0;34m,\u001b[0m \u001b[0mseen\u001b[0m\u001b[0;34m=\u001b[0m\u001b[0mset\u001b[0m\u001b[0;34m(\u001b[0m\u001b[0;34m)\u001b[0m\u001b[0;34m)\u001b[0m\u001b[0;34m:\u001b[0m\u001b[0;34m\u001b[0m\u001b[0;34m\u001b[0m\u001b[0m\n\u001b[1;32m    571\u001b[0m         \u001b[0mexpansions\u001b[0m \u001b[0;34m=\u001b[0m \u001b[0mself\u001b[0m\u001b[0;34m.\u001b[0m\u001b[0mgrammar\u001b[0m\u001b[0;34m[\u001b[0m\u001b[0msymbol\u001b[0m\u001b[0;34m]\u001b[0m\u001b[0;34m\u001b[0m\u001b[0;34m\u001b[0m\u001b[0m\n\u001b[0;32m--> 572\u001b[0;31m         \u001b[0;32mreturn\u001b[0m \u001b[0mmin\u001b[0m\u001b[0;34m(\u001b[0m\u001b[0mself\u001b[0m\u001b[0;34m.\u001b[0m\u001b[0mexpansion_cost\u001b[0m\u001b[0;34m(\u001b[0m\u001b[0me\u001b[0m\u001b[0;34m,\u001b[0m \u001b[0mseen\u001b[0m \u001b[0;34m|\u001b[0m \u001b[0;34m{\u001b[0m\u001b[0msymbol\u001b[0m\u001b[0;34m}\u001b[0m\u001b[0;34m)\u001b[0m \u001b[0;32mfor\u001b[0m \u001b[0me\u001b[0m \u001b[0;32min\u001b[0m \u001b[0mexpansions\u001b[0m\u001b[0;34m)\u001b[0m\u001b[0;34m\u001b[0m\u001b[0;34m\u001b[0m\u001b[0m\n\u001b[0m\u001b[1;32m    573\u001b[0m \u001b[0;34m\u001b[0m\u001b[0m\n\u001b[1;32m    574\u001b[0m     \u001b[0;32mdef\u001b[0m \u001b[0mexpansion_cost\u001b[0m\u001b[0;34m(\u001b[0m\u001b[0mself\u001b[0m\u001b[0;34m,\u001b[0m \u001b[0mexpansion\u001b[0m\u001b[0;34m,\u001b[0m \u001b[0mseen\u001b[0m\u001b[0;34m=\u001b[0m\u001b[0mset\u001b[0m\u001b[0;34m(\u001b[0m\u001b[0;34m)\u001b[0m\u001b[0;34m)\u001b[0m\u001b[0;34m:\u001b[0m\u001b[0;34m\u001b[0m\u001b[0;34m\u001b[0m\u001b[0m\n",
      "\u001b[0;32m~/anaconda3/lib/python3.7/site-packages/fuzzingbook/GrammarFuzzer.py\u001b[0m in \u001b[0;36mexpansion_cost\u001b[0;34m(self, expansion, seen)\u001b[0m\n\u001b[1;32m    582\u001b[0m         \u001b[0;31m# the value of a expansion is the sum of all expandable variables\u001b[0m\u001b[0;34m\u001b[0m\u001b[0;34m\u001b[0m\u001b[0;34m\u001b[0m\u001b[0m\n\u001b[1;32m    583\u001b[0m         \u001b[0;31m# inside + 1\u001b[0m\u001b[0;34m\u001b[0m\u001b[0;34m\u001b[0m\u001b[0;34m\u001b[0m\u001b[0m\n\u001b[0;32m--> 584\u001b[0;31m         \u001b[0;32mreturn\u001b[0m \u001b[0msum\u001b[0m\u001b[0;34m(\u001b[0m\u001b[0mself\u001b[0m\u001b[0;34m.\u001b[0m\u001b[0msymbol_cost\u001b[0m\u001b[0;34m(\u001b[0m\u001b[0ms\u001b[0m\u001b[0;34m,\u001b[0m \u001b[0mseen\u001b[0m\u001b[0;34m)\u001b[0m \u001b[0;32mfor\u001b[0m \u001b[0ms\u001b[0m \u001b[0;32min\u001b[0m \u001b[0msymbols\u001b[0m\u001b[0;34m)\u001b[0m \u001b[0;34m+\u001b[0m \u001b[0;36m1\u001b[0m\u001b[0;34m\u001b[0m\u001b[0;34m\u001b[0m\u001b[0m\n\u001b[0m\u001b[1;32m    585\u001b[0m \u001b[0;34m\u001b[0m\u001b[0m\n\u001b[1;32m    586\u001b[0m \u001b[0;32mif\u001b[0m \u001b[0m__name__\u001b[0m \u001b[0;34m==\u001b[0m \u001b[0;34m\"__main__\"\u001b[0m\u001b[0;34m:\u001b[0m\u001b[0;34m\u001b[0m\u001b[0;34m\u001b[0m\u001b[0m\n",
      "\u001b[0;32m~/anaconda3/lib/python3.7/site-packages/fuzzingbook/GrammarFuzzer.py\u001b[0m in \u001b[0;36m<genexpr>\u001b[0;34m(.0)\u001b[0m\n\u001b[1;32m    582\u001b[0m         \u001b[0;31m# the value of a expansion is the sum of all expandable variables\u001b[0m\u001b[0;34m\u001b[0m\u001b[0;34m\u001b[0m\u001b[0;34m\u001b[0m\u001b[0m\n\u001b[1;32m    583\u001b[0m         \u001b[0;31m# inside + 1\u001b[0m\u001b[0;34m\u001b[0m\u001b[0;34m\u001b[0m\u001b[0;34m\u001b[0m\u001b[0m\n\u001b[0;32m--> 584\u001b[0;31m         \u001b[0;32mreturn\u001b[0m \u001b[0msum\u001b[0m\u001b[0;34m(\u001b[0m\u001b[0mself\u001b[0m\u001b[0;34m.\u001b[0m\u001b[0msymbol_cost\u001b[0m\u001b[0;34m(\u001b[0m\u001b[0ms\u001b[0m\u001b[0;34m,\u001b[0m \u001b[0mseen\u001b[0m\u001b[0;34m)\u001b[0m \u001b[0;32mfor\u001b[0m \u001b[0ms\u001b[0m \u001b[0;32min\u001b[0m \u001b[0msymbols\u001b[0m\u001b[0;34m)\u001b[0m \u001b[0;34m+\u001b[0m \u001b[0;36m1\u001b[0m\u001b[0;34m\u001b[0m\u001b[0;34m\u001b[0m\u001b[0m\n\u001b[0m\u001b[1;32m    585\u001b[0m \u001b[0;34m\u001b[0m\u001b[0m\n\u001b[1;32m    586\u001b[0m \u001b[0;32mif\u001b[0m \u001b[0m__name__\u001b[0m \u001b[0;34m==\u001b[0m \u001b[0;34m\"__main__\"\u001b[0m\u001b[0;34m:\u001b[0m\u001b[0;34m\u001b[0m\u001b[0;34m\u001b[0m\u001b[0m\n",
      "\u001b[0;32m~/anaconda3/lib/python3.7/site-packages/fuzzingbook/GrammarFuzzer.py\u001b[0m in \u001b[0;36msymbol_cost\u001b[0;34m(self, symbol, seen)\u001b[0m\n\u001b[1;32m    570\u001b[0m     \u001b[0;32mdef\u001b[0m \u001b[0msymbol_cost\u001b[0m\u001b[0;34m(\u001b[0m\u001b[0mself\u001b[0m\u001b[0;34m,\u001b[0m \u001b[0msymbol\u001b[0m\u001b[0;34m,\u001b[0m \u001b[0mseen\u001b[0m\u001b[0;34m=\u001b[0m\u001b[0mset\u001b[0m\u001b[0;34m(\u001b[0m\u001b[0;34m)\u001b[0m\u001b[0;34m)\u001b[0m\u001b[0;34m:\u001b[0m\u001b[0;34m\u001b[0m\u001b[0;34m\u001b[0m\u001b[0m\n\u001b[1;32m    571\u001b[0m         \u001b[0mexpansions\u001b[0m \u001b[0;34m=\u001b[0m \u001b[0mself\u001b[0m\u001b[0;34m.\u001b[0m\u001b[0mgrammar\u001b[0m\u001b[0;34m[\u001b[0m\u001b[0msymbol\u001b[0m\u001b[0;34m]\u001b[0m\u001b[0;34m\u001b[0m\u001b[0;34m\u001b[0m\u001b[0m\n\u001b[0;32m--> 572\u001b[0;31m         \u001b[0;32mreturn\u001b[0m \u001b[0mmin\u001b[0m\u001b[0;34m(\u001b[0m\u001b[0mself\u001b[0m\u001b[0;34m.\u001b[0m\u001b[0mexpansion_cost\u001b[0m\u001b[0;34m(\u001b[0m\u001b[0me\u001b[0m\u001b[0;34m,\u001b[0m \u001b[0mseen\u001b[0m \u001b[0;34m|\u001b[0m \u001b[0;34m{\u001b[0m\u001b[0msymbol\u001b[0m\u001b[0;34m}\u001b[0m\u001b[0;34m)\u001b[0m \u001b[0;32mfor\u001b[0m \u001b[0me\u001b[0m \u001b[0;32min\u001b[0m \u001b[0mexpansions\u001b[0m\u001b[0;34m)\u001b[0m\u001b[0;34m\u001b[0m\u001b[0;34m\u001b[0m\u001b[0m\n\u001b[0m\u001b[1;32m    573\u001b[0m \u001b[0;34m\u001b[0m\u001b[0m\n\u001b[1;32m    574\u001b[0m     \u001b[0;32mdef\u001b[0m \u001b[0mexpansion_cost\u001b[0m\u001b[0;34m(\u001b[0m\u001b[0mself\u001b[0m\u001b[0;34m,\u001b[0m \u001b[0mexpansion\u001b[0m\u001b[0;34m,\u001b[0m \u001b[0mseen\u001b[0m\u001b[0;34m=\u001b[0m\u001b[0mset\u001b[0m\u001b[0;34m(\u001b[0m\u001b[0;34m)\u001b[0m\u001b[0;34m)\u001b[0m\u001b[0;34m:\u001b[0m\u001b[0;34m\u001b[0m\u001b[0;34m\u001b[0m\u001b[0m\n",
      "\u001b[0;32m~/anaconda3/lib/python3.7/site-packages/fuzzingbook/GrammarFuzzer.py\u001b[0m in \u001b[0;36m<genexpr>\u001b[0;34m(.0)\u001b[0m\n\u001b[1;32m    570\u001b[0m     \u001b[0;32mdef\u001b[0m \u001b[0msymbol_cost\u001b[0m\u001b[0;34m(\u001b[0m\u001b[0mself\u001b[0m\u001b[0;34m,\u001b[0m \u001b[0msymbol\u001b[0m\u001b[0;34m,\u001b[0m \u001b[0mseen\u001b[0m\u001b[0;34m=\u001b[0m\u001b[0mset\u001b[0m\u001b[0;34m(\u001b[0m\u001b[0;34m)\u001b[0m\u001b[0;34m)\u001b[0m\u001b[0;34m:\u001b[0m\u001b[0;34m\u001b[0m\u001b[0;34m\u001b[0m\u001b[0m\n\u001b[1;32m    571\u001b[0m         \u001b[0mexpansions\u001b[0m \u001b[0;34m=\u001b[0m \u001b[0mself\u001b[0m\u001b[0;34m.\u001b[0m\u001b[0mgrammar\u001b[0m\u001b[0;34m[\u001b[0m\u001b[0msymbol\u001b[0m\u001b[0;34m]\u001b[0m\u001b[0;34m\u001b[0m\u001b[0;34m\u001b[0m\u001b[0m\n\u001b[0;32m--> 572\u001b[0;31m         \u001b[0;32mreturn\u001b[0m \u001b[0mmin\u001b[0m\u001b[0;34m(\u001b[0m\u001b[0mself\u001b[0m\u001b[0;34m.\u001b[0m\u001b[0mexpansion_cost\u001b[0m\u001b[0;34m(\u001b[0m\u001b[0me\u001b[0m\u001b[0;34m,\u001b[0m \u001b[0mseen\u001b[0m \u001b[0;34m|\u001b[0m \u001b[0;34m{\u001b[0m\u001b[0msymbol\u001b[0m\u001b[0;34m}\u001b[0m\u001b[0;34m)\u001b[0m \u001b[0;32mfor\u001b[0m \u001b[0me\u001b[0m \u001b[0;32min\u001b[0m \u001b[0mexpansions\u001b[0m\u001b[0;34m)\u001b[0m\u001b[0;34m\u001b[0m\u001b[0;34m\u001b[0m\u001b[0m\n\u001b[0m\u001b[1;32m    573\u001b[0m \u001b[0;34m\u001b[0m\u001b[0m\n\u001b[1;32m    574\u001b[0m     \u001b[0;32mdef\u001b[0m \u001b[0mexpansion_cost\u001b[0m\u001b[0;34m(\u001b[0m\u001b[0mself\u001b[0m\u001b[0;34m,\u001b[0m \u001b[0mexpansion\u001b[0m\u001b[0;34m,\u001b[0m \u001b[0mseen\u001b[0m\u001b[0;34m=\u001b[0m\u001b[0mset\u001b[0m\u001b[0;34m(\u001b[0m\u001b[0;34m)\u001b[0m\u001b[0;34m)\u001b[0m\u001b[0;34m:\u001b[0m\u001b[0;34m\u001b[0m\u001b[0;34m\u001b[0m\u001b[0m\n",
      "\u001b[0;32m~/anaconda3/lib/python3.7/site-packages/fuzzingbook/GrammarFuzzer.py\u001b[0m in \u001b[0;36mexpansion_cost\u001b[0;34m(self, expansion, seen)\u001b[0m\n\u001b[1;32m    582\u001b[0m         \u001b[0;31m# the value of a expansion is the sum of all expandable variables\u001b[0m\u001b[0;34m\u001b[0m\u001b[0;34m\u001b[0m\u001b[0;34m\u001b[0m\u001b[0m\n\u001b[1;32m    583\u001b[0m         \u001b[0;31m# inside + 1\u001b[0m\u001b[0;34m\u001b[0m\u001b[0;34m\u001b[0m\u001b[0;34m\u001b[0m\u001b[0m\n\u001b[0;32m--> 584\u001b[0;31m         \u001b[0;32mreturn\u001b[0m \u001b[0msum\u001b[0m\u001b[0;34m(\u001b[0m\u001b[0mself\u001b[0m\u001b[0;34m.\u001b[0m\u001b[0msymbol_cost\u001b[0m\u001b[0;34m(\u001b[0m\u001b[0ms\u001b[0m\u001b[0;34m,\u001b[0m \u001b[0mseen\u001b[0m\u001b[0;34m)\u001b[0m \u001b[0;32mfor\u001b[0m \u001b[0ms\u001b[0m \u001b[0;32min\u001b[0m \u001b[0msymbols\u001b[0m\u001b[0;34m)\u001b[0m \u001b[0;34m+\u001b[0m \u001b[0;36m1\u001b[0m\u001b[0;34m\u001b[0m\u001b[0;34m\u001b[0m\u001b[0m\n\u001b[0m\u001b[1;32m    585\u001b[0m \u001b[0;34m\u001b[0m\u001b[0m\n\u001b[1;32m    586\u001b[0m \u001b[0;32mif\u001b[0m \u001b[0m__name__\u001b[0m \u001b[0;34m==\u001b[0m \u001b[0;34m\"__main__\"\u001b[0m\u001b[0;34m:\u001b[0m\u001b[0;34m\u001b[0m\u001b[0;34m\u001b[0m\u001b[0m\n",
      "\u001b[0;32m~/anaconda3/lib/python3.7/site-packages/fuzzingbook/GrammarFuzzer.py\u001b[0m in \u001b[0;36m<genexpr>\u001b[0;34m(.0)\u001b[0m\n\u001b[1;32m    582\u001b[0m         \u001b[0;31m# the value of a expansion is the sum of all expandable variables\u001b[0m\u001b[0;34m\u001b[0m\u001b[0;34m\u001b[0m\u001b[0;34m\u001b[0m\u001b[0m\n\u001b[1;32m    583\u001b[0m         \u001b[0;31m# inside + 1\u001b[0m\u001b[0;34m\u001b[0m\u001b[0;34m\u001b[0m\u001b[0;34m\u001b[0m\u001b[0m\n\u001b[0;32m--> 584\u001b[0;31m         \u001b[0;32mreturn\u001b[0m \u001b[0msum\u001b[0m\u001b[0;34m(\u001b[0m\u001b[0mself\u001b[0m\u001b[0;34m.\u001b[0m\u001b[0msymbol_cost\u001b[0m\u001b[0;34m(\u001b[0m\u001b[0ms\u001b[0m\u001b[0;34m,\u001b[0m \u001b[0mseen\u001b[0m\u001b[0;34m)\u001b[0m \u001b[0;32mfor\u001b[0m \u001b[0ms\u001b[0m \u001b[0;32min\u001b[0m \u001b[0msymbols\u001b[0m\u001b[0;34m)\u001b[0m \u001b[0;34m+\u001b[0m \u001b[0;36m1\u001b[0m\u001b[0;34m\u001b[0m\u001b[0;34m\u001b[0m\u001b[0m\n\u001b[0m\u001b[1;32m    585\u001b[0m \u001b[0;34m\u001b[0m\u001b[0m\n\u001b[1;32m    586\u001b[0m \u001b[0;32mif\u001b[0m \u001b[0m__name__\u001b[0m \u001b[0;34m==\u001b[0m \u001b[0;34m\"__main__\"\u001b[0m\u001b[0;34m:\u001b[0m\u001b[0;34m\u001b[0m\u001b[0;34m\u001b[0m\u001b[0m\n",
      "\u001b[0;32m~/anaconda3/lib/python3.7/site-packages/fuzzingbook/GrammarFuzzer.py\u001b[0m in \u001b[0;36msymbol_cost\u001b[0;34m(self, symbol, seen)\u001b[0m\n\u001b[1;32m    570\u001b[0m     \u001b[0;32mdef\u001b[0m \u001b[0msymbol_cost\u001b[0m\u001b[0;34m(\u001b[0m\u001b[0mself\u001b[0m\u001b[0;34m,\u001b[0m \u001b[0msymbol\u001b[0m\u001b[0;34m,\u001b[0m \u001b[0mseen\u001b[0m\u001b[0;34m=\u001b[0m\u001b[0mset\u001b[0m\u001b[0;34m(\u001b[0m\u001b[0;34m)\u001b[0m\u001b[0;34m)\u001b[0m\u001b[0;34m:\u001b[0m\u001b[0;34m\u001b[0m\u001b[0;34m\u001b[0m\u001b[0m\n\u001b[1;32m    571\u001b[0m         \u001b[0mexpansions\u001b[0m \u001b[0;34m=\u001b[0m \u001b[0mself\u001b[0m\u001b[0;34m.\u001b[0m\u001b[0mgrammar\u001b[0m\u001b[0;34m[\u001b[0m\u001b[0msymbol\u001b[0m\u001b[0;34m]\u001b[0m\u001b[0;34m\u001b[0m\u001b[0;34m\u001b[0m\u001b[0m\n\u001b[0;32m--> 572\u001b[0;31m         \u001b[0;32mreturn\u001b[0m \u001b[0mmin\u001b[0m\u001b[0;34m(\u001b[0m\u001b[0mself\u001b[0m\u001b[0;34m.\u001b[0m\u001b[0mexpansion_cost\u001b[0m\u001b[0;34m(\u001b[0m\u001b[0me\u001b[0m\u001b[0;34m,\u001b[0m \u001b[0mseen\u001b[0m \u001b[0;34m|\u001b[0m \u001b[0;34m{\u001b[0m\u001b[0msymbol\u001b[0m\u001b[0;34m}\u001b[0m\u001b[0;34m)\u001b[0m \u001b[0;32mfor\u001b[0m \u001b[0me\u001b[0m \u001b[0;32min\u001b[0m \u001b[0mexpansions\u001b[0m\u001b[0;34m)\u001b[0m\u001b[0;34m\u001b[0m\u001b[0;34m\u001b[0m\u001b[0m\n\u001b[0m\u001b[1;32m    573\u001b[0m \u001b[0;34m\u001b[0m\u001b[0m\n\u001b[1;32m    574\u001b[0m     \u001b[0;32mdef\u001b[0m \u001b[0mexpansion_cost\u001b[0m\u001b[0;34m(\u001b[0m\u001b[0mself\u001b[0m\u001b[0;34m,\u001b[0m \u001b[0mexpansion\u001b[0m\u001b[0;34m,\u001b[0m \u001b[0mseen\u001b[0m\u001b[0;34m=\u001b[0m\u001b[0mset\u001b[0m\u001b[0;34m(\u001b[0m\u001b[0;34m)\u001b[0m\u001b[0;34m)\u001b[0m\u001b[0;34m:\u001b[0m\u001b[0;34m\u001b[0m\u001b[0;34m\u001b[0m\u001b[0m\n",
      "\u001b[0;32m~/anaconda3/lib/python3.7/site-packages/fuzzingbook/GrammarFuzzer.py\u001b[0m in \u001b[0;36m<genexpr>\u001b[0;34m(.0)\u001b[0m\n\u001b[1;32m    570\u001b[0m     \u001b[0;32mdef\u001b[0m \u001b[0msymbol_cost\u001b[0m\u001b[0;34m(\u001b[0m\u001b[0mself\u001b[0m\u001b[0;34m,\u001b[0m \u001b[0msymbol\u001b[0m\u001b[0;34m,\u001b[0m \u001b[0mseen\u001b[0m\u001b[0;34m=\u001b[0m\u001b[0mset\u001b[0m\u001b[0;34m(\u001b[0m\u001b[0;34m)\u001b[0m\u001b[0;34m)\u001b[0m\u001b[0;34m:\u001b[0m\u001b[0;34m\u001b[0m\u001b[0;34m\u001b[0m\u001b[0m\n\u001b[1;32m    571\u001b[0m         \u001b[0mexpansions\u001b[0m \u001b[0;34m=\u001b[0m \u001b[0mself\u001b[0m\u001b[0;34m.\u001b[0m\u001b[0mgrammar\u001b[0m\u001b[0;34m[\u001b[0m\u001b[0msymbol\u001b[0m\u001b[0;34m]\u001b[0m\u001b[0;34m\u001b[0m\u001b[0;34m\u001b[0m\u001b[0m\n\u001b[0;32m--> 572\u001b[0;31m         \u001b[0;32mreturn\u001b[0m \u001b[0mmin\u001b[0m\u001b[0;34m(\u001b[0m\u001b[0mself\u001b[0m\u001b[0;34m.\u001b[0m\u001b[0mexpansion_cost\u001b[0m\u001b[0;34m(\u001b[0m\u001b[0me\u001b[0m\u001b[0;34m,\u001b[0m \u001b[0mseen\u001b[0m \u001b[0;34m|\u001b[0m \u001b[0;34m{\u001b[0m\u001b[0msymbol\u001b[0m\u001b[0;34m}\u001b[0m\u001b[0;34m)\u001b[0m \u001b[0;32mfor\u001b[0m \u001b[0me\u001b[0m \u001b[0;32min\u001b[0m \u001b[0mexpansions\u001b[0m\u001b[0;34m)\u001b[0m\u001b[0;34m\u001b[0m\u001b[0;34m\u001b[0m\u001b[0m\n\u001b[0m\u001b[1;32m    573\u001b[0m \u001b[0;34m\u001b[0m\u001b[0m\n\u001b[1;32m    574\u001b[0m     \u001b[0;32mdef\u001b[0m \u001b[0mexpansion_cost\u001b[0m\u001b[0;34m(\u001b[0m\u001b[0mself\u001b[0m\u001b[0;34m,\u001b[0m \u001b[0mexpansion\u001b[0m\u001b[0;34m,\u001b[0m \u001b[0mseen\u001b[0m\u001b[0;34m=\u001b[0m\u001b[0mset\u001b[0m\u001b[0;34m(\u001b[0m\u001b[0;34m)\u001b[0m\u001b[0;34m)\u001b[0m\u001b[0;34m:\u001b[0m\u001b[0;34m\u001b[0m\u001b[0;34m\u001b[0m\u001b[0m\n",
      "\u001b[0;32m~/anaconda3/lib/python3.7/site-packages/fuzzingbook/GrammarFuzzer.py\u001b[0m in \u001b[0;36mexpansion_cost\u001b[0;34m(self, expansion, seen)\u001b[0m\n\u001b[1;32m    582\u001b[0m         \u001b[0;31m# the value of a expansion is the sum of all expandable variables\u001b[0m\u001b[0;34m\u001b[0m\u001b[0;34m\u001b[0m\u001b[0;34m\u001b[0m\u001b[0m\n\u001b[1;32m    583\u001b[0m         \u001b[0;31m# inside + 1\u001b[0m\u001b[0;34m\u001b[0m\u001b[0;34m\u001b[0m\u001b[0;34m\u001b[0m\u001b[0m\n\u001b[0;32m--> 584\u001b[0;31m         \u001b[0;32mreturn\u001b[0m \u001b[0msum\u001b[0m\u001b[0;34m(\u001b[0m\u001b[0mself\u001b[0m\u001b[0;34m.\u001b[0m\u001b[0msymbol_cost\u001b[0m\u001b[0;34m(\u001b[0m\u001b[0ms\u001b[0m\u001b[0;34m,\u001b[0m \u001b[0mseen\u001b[0m\u001b[0;34m)\u001b[0m \u001b[0;32mfor\u001b[0m \u001b[0ms\u001b[0m \u001b[0;32min\u001b[0m \u001b[0msymbols\u001b[0m\u001b[0;34m)\u001b[0m \u001b[0;34m+\u001b[0m \u001b[0;36m1\u001b[0m\u001b[0;34m\u001b[0m\u001b[0;34m\u001b[0m\u001b[0m\n\u001b[0m\u001b[1;32m    585\u001b[0m \u001b[0;34m\u001b[0m\u001b[0m\n\u001b[1;32m    586\u001b[0m \u001b[0;32mif\u001b[0m \u001b[0m__name__\u001b[0m \u001b[0;34m==\u001b[0m \u001b[0;34m\"__main__\"\u001b[0m\u001b[0;34m:\u001b[0m\u001b[0;34m\u001b[0m\u001b[0;34m\u001b[0m\u001b[0m\n",
      "\u001b[0;32m~/anaconda3/lib/python3.7/site-packages/fuzzingbook/GrammarFuzzer.py\u001b[0m in \u001b[0;36m<genexpr>\u001b[0;34m(.0)\u001b[0m\n\u001b[1;32m    582\u001b[0m         \u001b[0;31m# the value of a expansion is the sum of all expandable variables\u001b[0m\u001b[0;34m\u001b[0m\u001b[0;34m\u001b[0m\u001b[0;34m\u001b[0m\u001b[0m\n\u001b[1;32m    583\u001b[0m         \u001b[0;31m# inside + 1\u001b[0m\u001b[0;34m\u001b[0m\u001b[0;34m\u001b[0m\u001b[0;34m\u001b[0m\u001b[0m\n\u001b[0;32m--> 584\u001b[0;31m         \u001b[0;32mreturn\u001b[0m \u001b[0msum\u001b[0m\u001b[0;34m(\u001b[0m\u001b[0mself\u001b[0m\u001b[0;34m.\u001b[0m\u001b[0msymbol_cost\u001b[0m\u001b[0;34m(\u001b[0m\u001b[0ms\u001b[0m\u001b[0;34m,\u001b[0m \u001b[0mseen\u001b[0m\u001b[0;34m)\u001b[0m \u001b[0;32mfor\u001b[0m \u001b[0ms\u001b[0m \u001b[0;32min\u001b[0m \u001b[0msymbols\u001b[0m\u001b[0;34m)\u001b[0m \u001b[0;34m+\u001b[0m \u001b[0;36m1\u001b[0m\u001b[0;34m\u001b[0m\u001b[0;34m\u001b[0m\u001b[0m\n\u001b[0m\u001b[1;32m    585\u001b[0m \u001b[0;34m\u001b[0m\u001b[0m\n\u001b[1;32m    586\u001b[0m \u001b[0;32mif\u001b[0m \u001b[0m__name__\u001b[0m \u001b[0;34m==\u001b[0m \u001b[0;34m\"__main__\"\u001b[0m\u001b[0;34m:\u001b[0m\u001b[0;34m\u001b[0m\u001b[0;34m\u001b[0m\u001b[0m\n",
      "\u001b[0;32m~/anaconda3/lib/python3.7/site-packages/fuzzingbook/GrammarFuzzer.py\u001b[0m in \u001b[0;36msymbol_cost\u001b[0;34m(self, symbol, seen)\u001b[0m\n\u001b[1;32m    570\u001b[0m     \u001b[0;32mdef\u001b[0m \u001b[0msymbol_cost\u001b[0m\u001b[0;34m(\u001b[0m\u001b[0mself\u001b[0m\u001b[0;34m,\u001b[0m \u001b[0msymbol\u001b[0m\u001b[0;34m,\u001b[0m \u001b[0mseen\u001b[0m\u001b[0;34m=\u001b[0m\u001b[0mset\u001b[0m\u001b[0;34m(\u001b[0m\u001b[0;34m)\u001b[0m\u001b[0;34m)\u001b[0m\u001b[0;34m:\u001b[0m\u001b[0;34m\u001b[0m\u001b[0;34m\u001b[0m\u001b[0m\n\u001b[1;32m    571\u001b[0m         \u001b[0mexpansions\u001b[0m \u001b[0;34m=\u001b[0m \u001b[0mself\u001b[0m\u001b[0;34m.\u001b[0m\u001b[0mgrammar\u001b[0m\u001b[0;34m[\u001b[0m\u001b[0msymbol\u001b[0m\u001b[0;34m]\u001b[0m\u001b[0;34m\u001b[0m\u001b[0;34m\u001b[0m\u001b[0m\n\u001b[0;32m--> 572\u001b[0;31m         \u001b[0;32mreturn\u001b[0m \u001b[0mmin\u001b[0m\u001b[0;34m(\u001b[0m\u001b[0mself\u001b[0m\u001b[0;34m.\u001b[0m\u001b[0mexpansion_cost\u001b[0m\u001b[0;34m(\u001b[0m\u001b[0me\u001b[0m\u001b[0;34m,\u001b[0m \u001b[0mseen\u001b[0m \u001b[0;34m|\u001b[0m \u001b[0;34m{\u001b[0m\u001b[0msymbol\u001b[0m\u001b[0;34m}\u001b[0m\u001b[0;34m)\u001b[0m \u001b[0;32mfor\u001b[0m \u001b[0me\u001b[0m \u001b[0;32min\u001b[0m \u001b[0mexpansions\u001b[0m\u001b[0;34m)\u001b[0m\u001b[0;34m\u001b[0m\u001b[0;34m\u001b[0m\u001b[0m\n\u001b[0m\u001b[1;32m    573\u001b[0m \u001b[0;34m\u001b[0m\u001b[0m\n\u001b[1;32m    574\u001b[0m     \u001b[0;32mdef\u001b[0m \u001b[0mexpansion_cost\u001b[0m\u001b[0;34m(\u001b[0m\u001b[0mself\u001b[0m\u001b[0;34m,\u001b[0m \u001b[0mexpansion\u001b[0m\u001b[0;34m,\u001b[0m \u001b[0mseen\u001b[0m\u001b[0;34m=\u001b[0m\u001b[0mset\u001b[0m\u001b[0;34m(\u001b[0m\u001b[0;34m)\u001b[0m\u001b[0;34m)\u001b[0m\u001b[0;34m:\u001b[0m\u001b[0;34m\u001b[0m\u001b[0;34m\u001b[0m\u001b[0m\n",
      "\u001b[0;32m~/anaconda3/lib/python3.7/site-packages/fuzzingbook/GrammarFuzzer.py\u001b[0m in \u001b[0;36m<genexpr>\u001b[0;34m(.0)\u001b[0m\n\u001b[1;32m    570\u001b[0m     \u001b[0;32mdef\u001b[0m \u001b[0msymbol_cost\u001b[0m\u001b[0;34m(\u001b[0m\u001b[0mself\u001b[0m\u001b[0;34m,\u001b[0m \u001b[0msymbol\u001b[0m\u001b[0;34m,\u001b[0m \u001b[0mseen\u001b[0m\u001b[0;34m=\u001b[0m\u001b[0mset\u001b[0m\u001b[0;34m(\u001b[0m\u001b[0;34m)\u001b[0m\u001b[0;34m)\u001b[0m\u001b[0;34m:\u001b[0m\u001b[0;34m\u001b[0m\u001b[0;34m\u001b[0m\u001b[0m\n\u001b[1;32m    571\u001b[0m         \u001b[0mexpansions\u001b[0m \u001b[0;34m=\u001b[0m \u001b[0mself\u001b[0m\u001b[0;34m.\u001b[0m\u001b[0mgrammar\u001b[0m\u001b[0;34m[\u001b[0m\u001b[0msymbol\u001b[0m\u001b[0;34m]\u001b[0m\u001b[0;34m\u001b[0m\u001b[0;34m\u001b[0m\u001b[0m\n\u001b[0;32m--> 572\u001b[0;31m         \u001b[0;32mreturn\u001b[0m \u001b[0mmin\u001b[0m\u001b[0;34m(\u001b[0m\u001b[0mself\u001b[0m\u001b[0;34m.\u001b[0m\u001b[0mexpansion_cost\u001b[0m\u001b[0;34m(\u001b[0m\u001b[0me\u001b[0m\u001b[0;34m,\u001b[0m \u001b[0mseen\u001b[0m \u001b[0;34m|\u001b[0m \u001b[0;34m{\u001b[0m\u001b[0msymbol\u001b[0m\u001b[0;34m}\u001b[0m\u001b[0;34m)\u001b[0m \u001b[0;32mfor\u001b[0m \u001b[0me\u001b[0m \u001b[0;32min\u001b[0m \u001b[0mexpansions\u001b[0m\u001b[0;34m)\u001b[0m\u001b[0;34m\u001b[0m\u001b[0;34m\u001b[0m\u001b[0m\n\u001b[0m\u001b[1;32m    573\u001b[0m \u001b[0;34m\u001b[0m\u001b[0m\n\u001b[1;32m    574\u001b[0m     \u001b[0;32mdef\u001b[0m \u001b[0mexpansion_cost\u001b[0m\u001b[0;34m(\u001b[0m\u001b[0mself\u001b[0m\u001b[0;34m,\u001b[0m \u001b[0mexpansion\u001b[0m\u001b[0;34m,\u001b[0m \u001b[0mseen\u001b[0m\u001b[0;34m=\u001b[0m\u001b[0mset\u001b[0m\u001b[0;34m(\u001b[0m\u001b[0;34m)\u001b[0m\u001b[0;34m)\u001b[0m\u001b[0;34m:\u001b[0m\u001b[0;34m\u001b[0m\u001b[0;34m\u001b[0m\u001b[0m\n",
      "\u001b[0;32m~/anaconda3/lib/python3.7/site-packages/fuzzingbook/GrammarFuzzer.py\u001b[0m in \u001b[0;36mexpansion_cost\u001b[0;34m(self, expansion, seen)\u001b[0m\n\u001b[1;32m    582\u001b[0m         \u001b[0;31m# the value of a expansion is the sum of all expandable variables\u001b[0m\u001b[0;34m\u001b[0m\u001b[0;34m\u001b[0m\u001b[0;34m\u001b[0m\u001b[0m\n\u001b[1;32m    583\u001b[0m         \u001b[0;31m# inside + 1\u001b[0m\u001b[0;34m\u001b[0m\u001b[0;34m\u001b[0m\u001b[0;34m\u001b[0m\u001b[0m\n\u001b[0;32m--> 584\u001b[0;31m         \u001b[0;32mreturn\u001b[0m \u001b[0msum\u001b[0m\u001b[0;34m(\u001b[0m\u001b[0mself\u001b[0m\u001b[0;34m.\u001b[0m\u001b[0msymbol_cost\u001b[0m\u001b[0;34m(\u001b[0m\u001b[0ms\u001b[0m\u001b[0;34m,\u001b[0m \u001b[0mseen\u001b[0m\u001b[0;34m)\u001b[0m \u001b[0;32mfor\u001b[0m \u001b[0ms\u001b[0m \u001b[0;32min\u001b[0m \u001b[0msymbols\u001b[0m\u001b[0;34m)\u001b[0m \u001b[0;34m+\u001b[0m \u001b[0;36m1\u001b[0m\u001b[0;34m\u001b[0m\u001b[0;34m\u001b[0m\u001b[0m\n\u001b[0m\u001b[1;32m    585\u001b[0m \u001b[0;34m\u001b[0m\u001b[0m\n\u001b[1;32m    586\u001b[0m \u001b[0;32mif\u001b[0m \u001b[0m__name__\u001b[0m \u001b[0;34m==\u001b[0m \u001b[0;34m\"__main__\"\u001b[0m\u001b[0;34m:\u001b[0m\u001b[0;34m\u001b[0m\u001b[0;34m\u001b[0m\u001b[0m\n",
      "\u001b[0;32m~/anaconda3/lib/python3.7/site-packages/fuzzingbook/GrammarFuzzer.py\u001b[0m in \u001b[0;36m<genexpr>\u001b[0;34m(.0)\u001b[0m\n\u001b[1;32m    582\u001b[0m         \u001b[0;31m# the value of a expansion is the sum of all expandable variables\u001b[0m\u001b[0;34m\u001b[0m\u001b[0;34m\u001b[0m\u001b[0;34m\u001b[0m\u001b[0m\n\u001b[1;32m    583\u001b[0m         \u001b[0;31m# inside + 1\u001b[0m\u001b[0;34m\u001b[0m\u001b[0;34m\u001b[0m\u001b[0;34m\u001b[0m\u001b[0m\n\u001b[0;32m--> 584\u001b[0;31m         \u001b[0;32mreturn\u001b[0m \u001b[0msum\u001b[0m\u001b[0;34m(\u001b[0m\u001b[0mself\u001b[0m\u001b[0;34m.\u001b[0m\u001b[0msymbol_cost\u001b[0m\u001b[0;34m(\u001b[0m\u001b[0ms\u001b[0m\u001b[0;34m,\u001b[0m \u001b[0mseen\u001b[0m\u001b[0;34m)\u001b[0m \u001b[0;32mfor\u001b[0m \u001b[0ms\u001b[0m \u001b[0;32min\u001b[0m \u001b[0msymbols\u001b[0m\u001b[0;34m)\u001b[0m \u001b[0;34m+\u001b[0m \u001b[0;36m1\u001b[0m\u001b[0;34m\u001b[0m\u001b[0;34m\u001b[0m\u001b[0m\n\u001b[0m\u001b[1;32m    585\u001b[0m \u001b[0;34m\u001b[0m\u001b[0m\n\u001b[1;32m    586\u001b[0m \u001b[0;32mif\u001b[0m \u001b[0m__name__\u001b[0m \u001b[0;34m==\u001b[0m \u001b[0;34m\"__main__\"\u001b[0m\u001b[0;34m:\u001b[0m\u001b[0;34m\u001b[0m\u001b[0;34m\u001b[0m\u001b[0m\n",
      "\u001b[0;32m~/anaconda3/lib/python3.7/site-packages/fuzzingbook/GrammarFuzzer.py\u001b[0m in \u001b[0;36msymbol_cost\u001b[0;34m(self, symbol, seen)\u001b[0m\n\u001b[1;32m    570\u001b[0m     \u001b[0;32mdef\u001b[0m \u001b[0msymbol_cost\u001b[0m\u001b[0;34m(\u001b[0m\u001b[0mself\u001b[0m\u001b[0;34m,\u001b[0m \u001b[0msymbol\u001b[0m\u001b[0;34m,\u001b[0m \u001b[0mseen\u001b[0m\u001b[0;34m=\u001b[0m\u001b[0mset\u001b[0m\u001b[0;34m(\u001b[0m\u001b[0;34m)\u001b[0m\u001b[0;34m)\u001b[0m\u001b[0;34m:\u001b[0m\u001b[0;34m\u001b[0m\u001b[0;34m\u001b[0m\u001b[0m\n\u001b[1;32m    571\u001b[0m         \u001b[0mexpansions\u001b[0m \u001b[0;34m=\u001b[0m \u001b[0mself\u001b[0m\u001b[0;34m.\u001b[0m\u001b[0mgrammar\u001b[0m\u001b[0;34m[\u001b[0m\u001b[0msymbol\u001b[0m\u001b[0;34m]\u001b[0m\u001b[0;34m\u001b[0m\u001b[0;34m\u001b[0m\u001b[0m\n\u001b[0;32m--> 572\u001b[0;31m         \u001b[0;32mreturn\u001b[0m \u001b[0mmin\u001b[0m\u001b[0;34m(\u001b[0m\u001b[0mself\u001b[0m\u001b[0;34m.\u001b[0m\u001b[0mexpansion_cost\u001b[0m\u001b[0;34m(\u001b[0m\u001b[0me\u001b[0m\u001b[0;34m,\u001b[0m \u001b[0mseen\u001b[0m \u001b[0;34m|\u001b[0m \u001b[0;34m{\u001b[0m\u001b[0msymbol\u001b[0m\u001b[0;34m}\u001b[0m\u001b[0;34m)\u001b[0m \u001b[0;32mfor\u001b[0m \u001b[0me\u001b[0m \u001b[0;32min\u001b[0m \u001b[0mexpansions\u001b[0m\u001b[0;34m)\u001b[0m\u001b[0;34m\u001b[0m\u001b[0;34m\u001b[0m\u001b[0m\n\u001b[0m\u001b[1;32m    573\u001b[0m \u001b[0;34m\u001b[0m\u001b[0m\n\u001b[1;32m    574\u001b[0m     \u001b[0;32mdef\u001b[0m \u001b[0mexpansion_cost\u001b[0m\u001b[0;34m(\u001b[0m\u001b[0mself\u001b[0m\u001b[0;34m,\u001b[0m \u001b[0mexpansion\u001b[0m\u001b[0;34m,\u001b[0m \u001b[0mseen\u001b[0m\u001b[0;34m=\u001b[0m\u001b[0mset\u001b[0m\u001b[0;34m(\u001b[0m\u001b[0;34m)\u001b[0m\u001b[0;34m)\u001b[0m\u001b[0;34m:\u001b[0m\u001b[0;34m\u001b[0m\u001b[0;34m\u001b[0m\u001b[0m\n",
      "\u001b[0;32m~/anaconda3/lib/python3.7/site-packages/fuzzingbook/GrammarFuzzer.py\u001b[0m in \u001b[0;36m<genexpr>\u001b[0;34m(.0)\u001b[0m\n\u001b[1;32m    570\u001b[0m     \u001b[0;32mdef\u001b[0m \u001b[0msymbol_cost\u001b[0m\u001b[0;34m(\u001b[0m\u001b[0mself\u001b[0m\u001b[0;34m,\u001b[0m \u001b[0msymbol\u001b[0m\u001b[0;34m,\u001b[0m \u001b[0mseen\u001b[0m\u001b[0;34m=\u001b[0m\u001b[0mset\u001b[0m\u001b[0;34m(\u001b[0m\u001b[0;34m)\u001b[0m\u001b[0;34m)\u001b[0m\u001b[0;34m:\u001b[0m\u001b[0;34m\u001b[0m\u001b[0;34m\u001b[0m\u001b[0m\n\u001b[1;32m    571\u001b[0m         \u001b[0mexpansions\u001b[0m \u001b[0;34m=\u001b[0m \u001b[0mself\u001b[0m\u001b[0;34m.\u001b[0m\u001b[0mgrammar\u001b[0m\u001b[0;34m[\u001b[0m\u001b[0msymbol\u001b[0m\u001b[0;34m]\u001b[0m\u001b[0;34m\u001b[0m\u001b[0;34m\u001b[0m\u001b[0m\n\u001b[0;32m--> 572\u001b[0;31m         \u001b[0;32mreturn\u001b[0m \u001b[0mmin\u001b[0m\u001b[0;34m(\u001b[0m\u001b[0mself\u001b[0m\u001b[0;34m.\u001b[0m\u001b[0mexpansion_cost\u001b[0m\u001b[0;34m(\u001b[0m\u001b[0me\u001b[0m\u001b[0;34m,\u001b[0m \u001b[0mseen\u001b[0m \u001b[0;34m|\u001b[0m \u001b[0;34m{\u001b[0m\u001b[0msymbol\u001b[0m\u001b[0;34m}\u001b[0m\u001b[0;34m)\u001b[0m \u001b[0;32mfor\u001b[0m \u001b[0me\u001b[0m \u001b[0;32min\u001b[0m \u001b[0mexpansions\u001b[0m\u001b[0;34m)\u001b[0m\u001b[0;34m\u001b[0m\u001b[0;34m\u001b[0m\u001b[0m\n\u001b[0m\u001b[1;32m    573\u001b[0m \u001b[0;34m\u001b[0m\u001b[0m\n\u001b[1;32m    574\u001b[0m     \u001b[0;32mdef\u001b[0m \u001b[0mexpansion_cost\u001b[0m\u001b[0;34m(\u001b[0m\u001b[0mself\u001b[0m\u001b[0;34m,\u001b[0m \u001b[0mexpansion\u001b[0m\u001b[0;34m,\u001b[0m \u001b[0mseen\u001b[0m\u001b[0;34m=\u001b[0m\u001b[0mset\u001b[0m\u001b[0;34m(\u001b[0m\u001b[0;34m)\u001b[0m\u001b[0;34m)\u001b[0m\u001b[0;34m:\u001b[0m\u001b[0;34m\u001b[0m\u001b[0;34m\u001b[0m\u001b[0m\n",
      "\u001b[0;32m~/anaconda3/lib/python3.7/site-packages/fuzzingbook/GrammarFuzzer.py\u001b[0m in \u001b[0;36mexpansion_cost\u001b[0;34m(self, expansion, seen)\u001b[0m\n\u001b[1;32m    582\u001b[0m         \u001b[0;31m# the value of a expansion is the sum of all expandable variables\u001b[0m\u001b[0;34m\u001b[0m\u001b[0;34m\u001b[0m\u001b[0;34m\u001b[0m\u001b[0m\n\u001b[1;32m    583\u001b[0m         \u001b[0;31m# inside + 1\u001b[0m\u001b[0;34m\u001b[0m\u001b[0;34m\u001b[0m\u001b[0;34m\u001b[0m\u001b[0m\n\u001b[0;32m--> 584\u001b[0;31m         \u001b[0;32mreturn\u001b[0m \u001b[0msum\u001b[0m\u001b[0;34m(\u001b[0m\u001b[0mself\u001b[0m\u001b[0;34m.\u001b[0m\u001b[0msymbol_cost\u001b[0m\u001b[0;34m(\u001b[0m\u001b[0ms\u001b[0m\u001b[0;34m,\u001b[0m \u001b[0mseen\u001b[0m\u001b[0;34m)\u001b[0m \u001b[0;32mfor\u001b[0m \u001b[0ms\u001b[0m \u001b[0;32min\u001b[0m \u001b[0msymbols\u001b[0m\u001b[0;34m)\u001b[0m \u001b[0;34m+\u001b[0m \u001b[0;36m1\u001b[0m\u001b[0;34m\u001b[0m\u001b[0;34m\u001b[0m\u001b[0m\n\u001b[0m\u001b[1;32m    585\u001b[0m \u001b[0;34m\u001b[0m\u001b[0m\n\u001b[1;32m    586\u001b[0m \u001b[0;32mif\u001b[0m \u001b[0m__name__\u001b[0m \u001b[0;34m==\u001b[0m \u001b[0;34m\"__main__\"\u001b[0m\u001b[0;34m:\u001b[0m\u001b[0;34m\u001b[0m\u001b[0;34m\u001b[0m\u001b[0m\n",
      "\u001b[0;32m~/anaconda3/lib/python3.7/site-packages/fuzzingbook/GrammarFuzzer.py\u001b[0m in \u001b[0;36m<genexpr>\u001b[0;34m(.0)\u001b[0m\n\u001b[1;32m    582\u001b[0m         \u001b[0;31m# the value of a expansion is the sum of all expandable variables\u001b[0m\u001b[0;34m\u001b[0m\u001b[0;34m\u001b[0m\u001b[0;34m\u001b[0m\u001b[0m\n\u001b[1;32m    583\u001b[0m         \u001b[0;31m# inside + 1\u001b[0m\u001b[0;34m\u001b[0m\u001b[0;34m\u001b[0m\u001b[0;34m\u001b[0m\u001b[0m\n\u001b[0;32m--> 584\u001b[0;31m         \u001b[0;32mreturn\u001b[0m \u001b[0msum\u001b[0m\u001b[0;34m(\u001b[0m\u001b[0mself\u001b[0m\u001b[0;34m.\u001b[0m\u001b[0msymbol_cost\u001b[0m\u001b[0;34m(\u001b[0m\u001b[0ms\u001b[0m\u001b[0;34m,\u001b[0m \u001b[0mseen\u001b[0m\u001b[0;34m)\u001b[0m \u001b[0;32mfor\u001b[0m \u001b[0ms\u001b[0m \u001b[0;32min\u001b[0m \u001b[0msymbols\u001b[0m\u001b[0;34m)\u001b[0m \u001b[0;34m+\u001b[0m \u001b[0;36m1\u001b[0m\u001b[0;34m\u001b[0m\u001b[0;34m\u001b[0m\u001b[0m\n\u001b[0m\u001b[1;32m    585\u001b[0m \u001b[0;34m\u001b[0m\u001b[0m\n\u001b[1;32m    586\u001b[0m \u001b[0;32mif\u001b[0m \u001b[0m__name__\u001b[0m \u001b[0;34m==\u001b[0m \u001b[0;34m\"__main__\"\u001b[0m\u001b[0;34m:\u001b[0m\u001b[0;34m\u001b[0m\u001b[0;34m\u001b[0m\u001b[0m\n",
      "\u001b[0;32m~/anaconda3/lib/python3.7/site-packages/fuzzingbook/GrammarFuzzer.py\u001b[0m in \u001b[0;36msymbol_cost\u001b[0;34m(self, symbol, seen)\u001b[0m\n\u001b[1;32m    570\u001b[0m     \u001b[0;32mdef\u001b[0m \u001b[0msymbol_cost\u001b[0m\u001b[0;34m(\u001b[0m\u001b[0mself\u001b[0m\u001b[0;34m,\u001b[0m \u001b[0msymbol\u001b[0m\u001b[0;34m,\u001b[0m \u001b[0mseen\u001b[0m\u001b[0;34m=\u001b[0m\u001b[0mset\u001b[0m\u001b[0;34m(\u001b[0m\u001b[0;34m)\u001b[0m\u001b[0;34m)\u001b[0m\u001b[0;34m:\u001b[0m\u001b[0;34m\u001b[0m\u001b[0;34m\u001b[0m\u001b[0m\n\u001b[1;32m    571\u001b[0m         \u001b[0mexpansions\u001b[0m \u001b[0;34m=\u001b[0m \u001b[0mself\u001b[0m\u001b[0;34m.\u001b[0m\u001b[0mgrammar\u001b[0m\u001b[0;34m[\u001b[0m\u001b[0msymbol\u001b[0m\u001b[0;34m]\u001b[0m\u001b[0;34m\u001b[0m\u001b[0;34m\u001b[0m\u001b[0m\n\u001b[0;32m--> 572\u001b[0;31m         \u001b[0;32mreturn\u001b[0m \u001b[0mmin\u001b[0m\u001b[0;34m(\u001b[0m\u001b[0mself\u001b[0m\u001b[0;34m.\u001b[0m\u001b[0mexpansion_cost\u001b[0m\u001b[0;34m(\u001b[0m\u001b[0me\u001b[0m\u001b[0;34m,\u001b[0m \u001b[0mseen\u001b[0m \u001b[0;34m|\u001b[0m \u001b[0;34m{\u001b[0m\u001b[0msymbol\u001b[0m\u001b[0;34m}\u001b[0m\u001b[0;34m)\u001b[0m \u001b[0;32mfor\u001b[0m \u001b[0me\u001b[0m \u001b[0;32min\u001b[0m \u001b[0mexpansions\u001b[0m\u001b[0;34m)\u001b[0m\u001b[0;34m\u001b[0m\u001b[0;34m\u001b[0m\u001b[0m\n\u001b[0m\u001b[1;32m    573\u001b[0m \u001b[0;34m\u001b[0m\u001b[0m\n\u001b[1;32m    574\u001b[0m     \u001b[0;32mdef\u001b[0m \u001b[0mexpansion_cost\u001b[0m\u001b[0;34m(\u001b[0m\u001b[0mself\u001b[0m\u001b[0;34m,\u001b[0m \u001b[0mexpansion\u001b[0m\u001b[0;34m,\u001b[0m \u001b[0mseen\u001b[0m\u001b[0;34m=\u001b[0m\u001b[0mset\u001b[0m\u001b[0;34m(\u001b[0m\u001b[0;34m)\u001b[0m\u001b[0;34m)\u001b[0m\u001b[0;34m:\u001b[0m\u001b[0;34m\u001b[0m\u001b[0;34m\u001b[0m\u001b[0m\n",
      "\u001b[0;32m~/anaconda3/lib/python3.7/site-packages/fuzzingbook/GrammarFuzzer.py\u001b[0m in \u001b[0;36m<genexpr>\u001b[0;34m(.0)\u001b[0m\n\u001b[1;32m    570\u001b[0m     \u001b[0;32mdef\u001b[0m \u001b[0msymbol_cost\u001b[0m\u001b[0;34m(\u001b[0m\u001b[0mself\u001b[0m\u001b[0;34m,\u001b[0m \u001b[0msymbol\u001b[0m\u001b[0;34m,\u001b[0m \u001b[0mseen\u001b[0m\u001b[0;34m=\u001b[0m\u001b[0mset\u001b[0m\u001b[0;34m(\u001b[0m\u001b[0;34m)\u001b[0m\u001b[0;34m)\u001b[0m\u001b[0;34m:\u001b[0m\u001b[0;34m\u001b[0m\u001b[0;34m\u001b[0m\u001b[0m\n\u001b[1;32m    571\u001b[0m         \u001b[0mexpansions\u001b[0m \u001b[0;34m=\u001b[0m \u001b[0mself\u001b[0m\u001b[0;34m.\u001b[0m\u001b[0mgrammar\u001b[0m\u001b[0;34m[\u001b[0m\u001b[0msymbol\u001b[0m\u001b[0;34m]\u001b[0m\u001b[0;34m\u001b[0m\u001b[0;34m\u001b[0m\u001b[0m\n\u001b[0;32m--> 572\u001b[0;31m         \u001b[0;32mreturn\u001b[0m \u001b[0mmin\u001b[0m\u001b[0;34m(\u001b[0m\u001b[0mself\u001b[0m\u001b[0;34m.\u001b[0m\u001b[0mexpansion_cost\u001b[0m\u001b[0;34m(\u001b[0m\u001b[0me\u001b[0m\u001b[0;34m,\u001b[0m \u001b[0mseen\u001b[0m \u001b[0;34m|\u001b[0m \u001b[0;34m{\u001b[0m\u001b[0msymbol\u001b[0m\u001b[0;34m}\u001b[0m\u001b[0;34m)\u001b[0m \u001b[0;32mfor\u001b[0m \u001b[0me\u001b[0m \u001b[0;32min\u001b[0m \u001b[0mexpansions\u001b[0m\u001b[0;34m)\u001b[0m\u001b[0;34m\u001b[0m\u001b[0;34m\u001b[0m\u001b[0m\n\u001b[0m\u001b[1;32m    573\u001b[0m \u001b[0;34m\u001b[0m\u001b[0m\n\u001b[1;32m    574\u001b[0m     \u001b[0;32mdef\u001b[0m \u001b[0mexpansion_cost\u001b[0m\u001b[0;34m(\u001b[0m\u001b[0mself\u001b[0m\u001b[0;34m,\u001b[0m \u001b[0mexpansion\u001b[0m\u001b[0;34m,\u001b[0m \u001b[0mseen\u001b[0m\u001b[0;34m=\u001b[0m\u001b[0mset\u001b[0m\u001b[0;34m(\u001b[0m\u001b[0;34m)\u001b[0m\u001b[0;34m)\u001b[0m\u001b[0;34m:\u001b[0m\u001b[0;34m\u001b[0m\u001b[0;34m\u001b[0m\u001b[0m\n",
      "\u001b[0;32m~/anaconda3/lib/python3.7/site-packages/fuzzingbook/GrammarFuzzer.py\u001b[0m in \u001b[0;36mexpansion_cost\u001b[0;34m(self, expansion, seen)\u001b[0m\n\u001b[1;32m    582\u001b[0m         \u001b[0;31m# the value of a expansion is the sum of all expandable variables\u001b[0m\u001b[0;34m\u001b[0m\u001b[0;34m\u001b[0m\u001b[0;34m\u001b[0m\u001b[0m\n\u001b[1;32m    583\u001b[0m         \u001b[0;31m# inside + 1\u001b[0m\u001b[0;34m\u001b[0m\u001b[0;34m\u001b[0m\u001b[0;34m\u001b[0m\u001b[0m\n\u001b[0;32m--> 584\u001b[0;31m         \u001b[0;32mreturn\u001b[0m \u001b[0msum\u001b[0m\u001b[0;34m(\u001b[0m\u001b[0mself\u001b[0m\u001b[0;34m.\u001b[0m\u001b[0msymbol_cost\u001b[0m\u001b[0;34m(\u001b[0m\u001b[0ms\u001b[0m\u001b[0;34m,\u001b[0m \u001b[0mseen\u001b[0m\u001b[0;34m)\u001b[0m \u001b[0;32mfor\u001b[0m \u001b[0ms\u001b[0m \u001b[0;32min\u001b[0m \u001b[0msymbols\u001b[0m\u001b[0;34m)\u001b[0m \u001b[0;34m+\u001b[0m \u001b[0;36m1\u001b[0m\u001b[0;34m\u001b[0m\u001b[0;34m\u001b[0m\u001b[0m\n\u001b[0m\u001b[1;32m    585\u001b[0m \u001b[0;34m\u001b[0m\u001b[0m\n\u001b[1;32m    586\u001b[0m \u001b[0;32mif\u001b[0m \u001b[0m__name__\u001b[0m \u001b[0;34m==\u001b[0m \u001b[0;34m\"__main__\"\u001b[0m\u001b[0;34m:\u001b[0m\u001b[0;34m\u001b[0m\u001b[0;34m\u001b[0m\u001b[0m\n",
      "\u001b[0;32m~/anaconda3/lib/python3.7/site-packages/fuzzingbook/GrammarFuzzer.py\u001b[0m in \u001b[0;36m<genexpr>\u001b[0;34m(.0)\u001b[0m\n\u001b[1;32m    582\u001b[0m         \u001b[0;31m# the value of a expansion is the sum of all expandable variables\u001b[0m\u001b[0;34m\u001b[0m\u001b[0;34m\u001b[0m\u001b[0;34m\u001b[0m\u001b[0m\n\u001b[1;32m    583\u001b[0m         \u001b[0;31m# inside + 1\u001b[0m\u001b[0;34m\u001b[0m\u001b[0;34m\u001b[0m\u001b[0;34m\u001b[0m\u001b[0m\n\u001b[0;32m--> 584\u001b[0;31m         \u001b[0;32mreturn\u001b[0m \u001b[0msum\u001b[0m\u001b[0;34m(\u001b[0m\u001b[0mself\u001b[0m\u001b[0;34m.\u001b[0m\u001b[0msymbol_cost\u001b[0m\u001b[0;34m(\u001b[0m\u001b[0ms\u001b[0m\u001b[0;34m,\u001b[0m \u001b[0mseen\u001b[0m\u001b[0;34m)\u001b[0m \u001b[0;32mfor\u001b[0m \u001b[0ms\u001b[0m \u001b[0;32min\u001b[0m \u001b[0msymbols\u001b[0m\u001b[0;34m)\u001b[0m \u001b[0;34m+\u001b[0m \u001b[0;36m1\u001b[0m\u001b[0;34m\u001b[0m\u001b[0;34m\u001b[0m\u001b[0m\n\u001b[0m\u001b[1;32m    585\u001b[0m \u001b[0;34m\u001b[0m\u001b[0m\n\u001b[1;32m    586\u001b[0m \u001b[0;32mif\u001b[0m \u001b[0m__name__\u001b[0m \u001b[0;34m==\u001b[0m \u001b[0;34m\"__main__\"\u001b[0m\u001b[0;34m:\u001b[0m\u001b[0;34m\u001b[0m\u001b[0;34m\u001b[0m\u001b[0m\n",
      "\u001b[0;32m~/anaconda3/lib/python3.7/site-packages/fuzzingbook/GrammarFuzzer.py\u001b[0m in \u001b[0;36msymbol_cost\u001b[0;34m(self, symbol, seen)\u001b[0m\n\u001b[1;32m    570\u001b[0m     \u001b[0;32mdef\u001b[0m \u001b[0msymbol_cost\u001b[0m\u001b[0;34m(\u001b[0m\u001b[0mself\u001b[0m\u001b[0;34m,\u001b[0m \u001b[0msymbol\u001b[0m\u001b[0;34m,\u001b[0m \u001b[0mseen\u001b[0m\u001b[0;34m=\u001b[0m\u001b[0mset\u001b[0m\u001b[0;34m(\u001b[0m\u001b[0;34m)\u001b[0m\u001b[0;34m)\u001b[0m\u001b[0;34m:\u001b[0m\u001b[0;34m\u001b[0m\u001b[0;34m\u001b[0m\u001b[0m\n\u001b[1;32m    571\u001b[0m         \u001b[0mexpansions\u001b[0m \u001b[0;34m=\u001b[0m \u001b[0mself\u001b[0m\u001b[0;34m.\u001b[0m\u001b[0mgrammar\u001b[0m\u001b[0;34m[\u001b[0m\u001b[0msymbol\u001b[0m\u001b[0;34m]\u001b[0m\u001b[0;34m\u001b[0m\u001b[0;34m\u001b[0m\u001b[0m\n\u001b[0;32m--> 572\u001b[0;31m         \u001b[0;32mreturn\u001b[0m \u001b[0mmin\u001b[0m\u001b[0;34m(\u001b[0m\u001b[0mself\u001b[0m\u001b[0;34m.\u001b[0m\u001b[0mexpansion_cost\u001b[0m\u001b[0;34m(\u001b[0m\u001b[0me\u001b[0m\u001b[0;34m,\u001b[0m \u001b[0mseen\u001b[0m \u001b[0;34m|\u001b[0m \u001b[0;34m{\u001b[0m\u001b[0msymbol\u001b[0m\u001b[0;34m}\u001b[0m\u001b[0;34m)\u001b[0m \u001b[0;32mfor\u001b[0m \u001b[0me\u001b[0m \u001b[0;32min\u001b[0m \u001b[0mexpansions\u001b[0m\u001b[0;34m)\u001b[0m\u001b[0;34m\u001b[0m\u001b[0;34m\u001b[0m\u001b[0m\n\u001b[0m\u001b[1;32m    573\u001b[0m \u001b[0;34m\u001b[0m\u001b[0m\n\u001b[1;32m    574\u001b[0m     \u001b[0;32mdef\u001b[0m \u001b[0mexpansion_cost\u001b[0m\u001b[0;34m(\u001b[0m\u001b[0mself\u001b[0m\u001b[0;34m,\u001b[0m \u001b[0mexpansion\u001b[0m\u001b[0;34m,\u001b[0m \u001b[0mseen\u001b[0m\u001b[0;34m=\u001b[0m\u001b[0mset\u001b[0m\u001b[0;34m(\u001b[0m\u001b[0;34m)\u001b[0m\u001b[0;34m)\u001b[0m\u001b[0;34m:\u001b[0m\u001b[0;34m\u001b[0m\u001b[0;34m\u001b[0m\u001b[0m\n",
      "\u001b[0;32m~/anaconda3/lib/python3.7/site-packages/fuzzingbook/GrammarFuzzer.py\u001b[0m in \u001b[0;36m<genexpr>\u001b[0;34m(.0)\u001b[0m\n\u001b[1;32m    570\u001b[0m     \u001b[0;32mdef\u001b[0m \u001b[0msymbol_cost\u001b[0m\u001b[0;34m(\u001b[0m\u001b[0mself\u001b[0m\u001b[0;34m,\u001b[0m \u001b[0msymbol\u001b[0m\u001b[0;34m,\u001b[0m \u001b[0mseen\u001b[0m\u001b[0;34m=\u001b[0m\u001b[0mset\u001b[0m\u001b[0;34m(\u001b[0m\u001b[0;34m)\u001b[0m\u001b[0;34m)\u001b[0m\u001b[0;34m:\u001b[0m\u001b[0;34m\u001b[0m\u001b[0;34m\u001b[0m\u001b[0m\n\u001b[1;32m    571\u001b[0m         \u001b[0mexpansions\u001b[0m \u001b[0;34m=\u001b[0m \u001b[0mself\u001b[0m\u001b[0;34m.\u001b[0m\u001b[0mgrammar\u001b[0m\u001b[0;34m[\u001b[0m\u001b[0msymbol\u001b[0m\u001b[0;34m]\u001b[0m\u001b[0;34m\u001b[0m\u001b[0;34m\u001b[0m\u001b[0m\n\u001b[0;32m--> 572\u001b[0;31m         \u001b[0;32mreturn\u001b[0m \u001b[0mmin\u001b[0m\u001b[0;34m(\u001b[0m\u001b[0mself\u001b[0m\u001b[0;34m.\u001b[0m\u001b[0mexpansion_cost\u001b[0m\u001b[0;34m(\u001b[0m\u001b[0me\u001b[0m\u001b[0;34m,\u001b[0m \u001b[0mseen\u001b[0m \u001b[0;34m|\u001b[0m \u001b[0;34m{\u001b[0m\u001b[0msymbol\u001b[0m\u001b[0;34m}\u001b[0m\u001b[0;34m)\u001b[0m \u001b[0;32mfor\u001b[0m \u001b[0me\u001b[0m \u001b[0;32min\u001b[0m \u001b[0mexpansions\u001b[0m\u001b[0;34m)\u001b[0m\u001b[0;34m\u001b[0m\u001b[0;34m\u001b[0m\u001b[0m\n\u001b[0m\u001b[1;32m    573\u001b[0m \u001b[0;34m\u001b[0m\u001b[0m\n\u001b[1;32m    574\u001b[0m     \u001b[0;32mdef\u001b[0m \u001b[0mexpansion_cost\u001b[0m\u001b[0;34m(\u001b[0m\u001b[0mself\u001b[0m\u001b[0;34m,\u001b[0m \u001b[0mexpansion\u001b[0m\u001b[0;34m,\u001b[0m \u001b[0mseen\u001b[0m\u001b[0;34m=\u001b[0m\u001b[0mset\u001b[0m\u001b[0;34m(\u001b[0m\u001b[0;34m)\u001b[0m\u001b[0;34m)\u001b[0m\u001b[0;34m:\u001b[0m\u001b[0;34m\u001b[0m\u001b[0;34m\u001b[0m\u001b[0m\n",
      "\u001b[0;32m~/anaconda3/lib/python3.7/site-packages/fuzzingbook/GrammarFuzzer.py\u001b[0m in \u001b[0;36mexpansion_cost\u001b[0;34m(self, expansion, seen)\u001b[0m\n\u001b[1;32m    582\u001b[0m         \u001b[0;31m# the value of a expansion is the sum of all expandable variables\u001b[0m\u001b[0;34m\u001b[0m\u001b[0;34m\u001b[0m\u001b[0;34m\u001b[0m\u001b[0m\n\u001b[1;32m    583\u001b[0m         \u001b[0;31m# inside + 1\u001b[0m\u001b[0;34m\u001b[0m\u001b[0;34m\u001b[0m\u001b[0;34m\u001b[0m\u001b[0m\n\u001b[0;32m--> 584\u001b[0;31m         \u001b[0;32mreturn\u001b[0m \u001b[0msum\u001b[0m\u001b[0;34m(\u001b[0m\u001b[0mself\u001b[0m\u001b[0;34m.\u001b[0m\u001b[0msymbol_cost\u001b[0m\u001b[0;34m(\u001b[0m\u001b[0ms\u001b[0m\u001b[0;34m,\u001b[0m \u001b[0mseen\u001b[0m\u001b[0;34m)\u001b[0m \u001b[0;32mfor\u001b[0m \u001b[0ms\u001b[0m \u001b[0;32min\u001b[0m \u001b[0msymbols\u001b[0m\u001b[0;34m)\u001b[0m \u001b[0;34m+\u001b[0m \u001b[0;36m1\u001b[0m\u001b[0;34m\u001b[0m\u001b[0;34m\u001b[0m\u001b[0m\n\u001b[0m\u001b[1;32m    585\u001b[0m \u001b[0;34m\u001b[0m\u001b[0m\n\u001b[1;32m    586\u001b[0m \u001b[0;32mif\u001b[0m \u001b[0m__name__\u001b[0m \u001b[0;34m==\u001b[0m \u001b[0;34m\"__main__\"\u001b[0m\u001b[0;34m:\u001b[0m\u001b[0;34m\u001b[0m\u001b[0;34m\u001b[0m\u001b[0m\n",
      "\u001b[0;32m~/anaconda3/lib/python3.7/site-packages/fuzzingbook/GrammarFuzzer.py\u001b[0m in \u001b[0;36m<genexpr>\u001b[0;34m(.0)\u001b[0m\n\u001b[1;32m    582\u001b[0m         \u001b[0;31m# the value of a expansion is the sum of all expandable variables\u001b[0m\u001b[0;34m\u001b[0m\u001b[0;34m\u001b[0m\u001b[0;34m\u001b[0m\u001b[0m\n\u001b[1;32m    583\u001b[0m         \u001b[0;31m# inside + 1\u001b[0m\u001b[0;34m\u001b[0m\u001b[0;34m\u001b[0m\u001b[0;34m\u001b[0m\u001b[0m\n\u001b[0;32m--> 584\u001b[0;31m         \u001b[0;32mreturn\u001b[0m \u001b[0msum\u001b[0m\u001b[0;34m(\u001b[0m\u001b[0mself\u001b[0m\u001b[0;34m.\u001b[0m\u001b[0msymbol_cost\u001b[0m\u001b[0;34m(\u001b[0m\u001b[0ms\u001b[0m\u001b[0;34m,\u001b[0m \u001b[0mseen\u001b[0m\u001b[0;34m)\u001b[0m \u001b[0;32mfor\u001b[0m \u001b[0ms\u001b[0m \u001b[0;32min\u001b[0m \u001b[0msymbols\u001b[0m\u001b[0;34m)\u001b[0m \u001b[0;34m+\u001b[0m \u001b[0;36m1\u001b[0m\u001b[0;34m\u001b[0m\u001b[0;34m\u001b[0m\u001b[0m\n\u001b[0m\u001b[1;32m    585\u001b[0m \u001b[0;34m\u001b[0m\u001b[0m\n\u001b[1;32m    586\u001b[0m \u001b[0;32mif\u001b[0m \u001b[0m__name__\u001b[0m \u001b[0;34m==\u001b[0m \u001b[0;34m\"__main__\"\u001b[0m\u001b[0;34m:\u001b[0m\u001b[0;34m\u001b[0m\u001b[0;34m\u001b[0m\u001b[0m\n",
      "\u001b[0;32m~/anaconda3/lib/python3.7/site-packages/fuzzingbook/GrammarFuzzer.py\u001b[0m in \u001b[0;36msymbol_cost\u001b[0;34m(self, symbol, seen)\u001b[0m\n\u001b[1;32m    570\u001b[0m     \u001b[0;32mdef\u001b[0m \u001b[0msymbol_cost\u001b[0m\u001b[0;34m(\u001b[0m\u001b[0mself\u001b[0m\u001b[0;34m,\u001b[0m \u001b[0msymbol\u001b[0m\u001b[0;34m,\u001b[0m \u001b[0mseen\u001b[0m\u001b[0;34m=\u001b[0m\u001b[0mset\u001b[0m\u001b[0;34m(\u001b[0m\u001b[0;34m)\u001b[0m\u001b[0;34m)\u001b[0m\u001b[0;34m:\u001b[0m\u001b[0;34m\u001b[0m\u001b[0;34m\u001b[0m\u001b[0m\n\u001b[1;32m    571\u001b[0m         \u001b[0mexpansions\u001b[0m \u001b[0;34m=\u001b[0m \u001b[0mself\u001b[0m\u001b[0;34m.\u001b[0m\u001b[0mgrammar\u001b[0m\u001b[0;34m[\u001b[0m\u001b[0msymbol\u001b[0m\u001b[0;34m]\u001b[0m\u001b[0;34m\u001b[0m\u001b[0;34m\u001b[0m\u001b[0m\n\u001b[0;32m--> 572\u001b[0;31m         \u001b[0;32mreturn\u001b[0m \u001b[0mmin\u001b[0m\u001b[0;34m(\u001b[0m\u001b[0mself\u001b[0m\u001b[0;34m.\u001b[0m\u001b[0mexpansion_cost\u001b[0m\u001b[0;34m(\u001b[0m\u001b[0me\u001b[0m\u001b[0;34m,\u001b[0m \u001b[0mseen\u001b[0m \u001b[0;34m|\u001b[0m \u001b[0;34m{\u001b[0m\u001b[0msymbol\u001b[0m\u001b[0;34m}\u001b[0m\u001b[0;34m)\u001b[0m \u001b[0;32mfor\u001b[0m \u001b[0me\u001b[0m \u001b[0;32min\u001b[0m \u001b[0mexpansions\u001b[0m\u001b[0;34m)\u001b[0m\u001b[0;34m\u001b[0m\u001b[0;34m\u001b[0m\u001b[0m\n\u001b[0m\u001b[1;32m    573\u001b[0m \u001b[0;34m\u001b[0m\u001b[0m\n\u001b[1;32m    574\u001b[0m     \u001b[0;32mdef\u001b[0m \u001b[0mexpansion_cost\u001b[0m\u001b[0;34m(\u001b[0m\u001b[0mself\u001b[0m\u001b[0;34m,\u001b[0m \u001b[0mexpansion\u001b[0m\u001b[0;34m,\u001b[0m \u001b[0mseen\u001b[0m\u001b[0;34m=\u001b[0m\u001b[0mset\u001b[0m\u001b[0;34m(\u001b[0m\u001b[0;34m)\u001b[0m\u001b[0;34m)\u001b[0m\u001b[0;34m:\u001b[0m\u001b[0;34m\u001b[0m\u001b[0;34m\u001b[0m\u001b[0m\n",
      "\u001b[0;32m~/anaconda3/lib/python3.7/site-packages/fuzzingbook/GrammarFuzzer.py\u001b[0m in \u001b[0;36m<genexpr>\u001b[0;34m(.0)\u001b[0m\n\u001b[1;32m    570\u001b[0m     \u001b[0;32mdef\u001b[0m \u001b[0msymbol_cost\u001b[0m\u001b[0;34m(\u001b[0m\u001b[0mself\u001b[0m\u001b[0;34m,\u001b[0m \u001b[0msymbol\u001b[0m\u001b[0;34m,\u001b[0m \u001b[0mseen\u001b[0m\u001b[0;34m=\u001b[0m\u001b[0mset\u001b[0m\u001b[0;34m(\u001b[0m\u001b[0;34m)\u001b[0m\u001b[0;34m)\u001b[0m\u001b[0;34m:\u001b[0m\u001b[0;34m\u001b[0m\u001b[0;34m\u001b[0m\u001b[0m\n\u001b[1;32m    571\u001b[0m         \u001b[0mexpansions\u001b[0m \u001b[0;34m=\u001b[0m \u001b[0mself\u001b[0m\u001b[0;34m.\u001b[0m\u001b[0mgrammar\u001b[0m\u001b[0;34m[\u001b[0m\u001b[0msymbol\u001b[0m\u001b[0;34m]\u001b[0m\u001b[0;34m\u001b[0m\u001b[0;34m\u001b[0m\u001b[0m\n\u001b[0;32m--> 572\u001b[0;31m         \u001b[0;32mreturn\u001b[0m \u001b[0mmin\u001b[0m\u001b[0;34m(\u001b[0m\u001b[0mself\u001b[0m\u001b[0;34m.\u001b[0m\u001b[0mexpansion_cost\u001b[0m\u001b[0;34m(\u001b[0m\u001b[0me\u001b[0m\u001b[0;34m,\u001b[0m \u001b[0mseen\u001b[0m \u001b[0;34m|\u001b[0m \u001b[0;34m{\u001b[0m\u001b[0msymbol\u001b[0m\u001b[0;34m}\u001b[0m\u001b[0;34m)\u001b[0m \u001b[0;32mfor\u001b[0m \u001b[0me\u001b[0m \u001b[0;32min\u001b[0m \u001b[0mexpansions\u001b[0m\u001b[0;34m)\u001b[0m\u001b[0;34m\u001b[0m\u001b[0;34m\u001b[0m\u001b[0m\n\u001b[0m\u001b[1;32m    573\u001b[0m \u001b[0;34m\u001b[0m\u001b[0m\n\u001b[1;32m    574\u001b[0m     \u001b[0;32mdef\u001b[0m \u001b[0mexpansion_cost\u001b[0m\u001b[0;34m(\u001b[0m\u001b[0mself\u001b[0m\u001b[0;34m,\u001b[0m \u001b[0mexpansion\u001b[0m\u001b[0;34m,\u001b[0m \u001b[0mseen\u001b[0m\u001b[0;34m=\u001b[0m\u001b[0mset\u001b[0m\u001b[0;34m(\u001b[0m\u001b[0;34m)\u001b[0m\u001b[0;34m)\u001b[0m\u001b[0;34m:\u001b[0m\u001b[0;34m\u001b[0m\u001b[0;34m\u001b[0m\u001b[0m\n",
      "\u001b[0;32m~/anaconda3/lib/python3.7/site-packages/fuzzingbook/GrammarFuzzer.py\u001b[0m in \u001b[0;36mexpansion_cost\u001b[0;34m(self, expansion, seen)\u001b[0m\n\u001b[1;32m    582\u001b[0m         \u001b[0;31m# the value of a expansion is the sum of all expandable variables\u001b[0m\u001b[0;34m\u001b[0m\u001b[0;34m\u001b[0m\u001b[0;34m\u001b[0m\u001b[0m\n\u001b[1;32m    583\u001b[0m         \u001b[0;31m# inside + 1\u001b[0m\u001b[0;34m\u001b[0m\u001b[0;34m\u001b[0m\u001b[0;34m\u001b[0m\u001b[0m\n\u001b[0;32m--> 584\u001b[0;31m         \u001b[0;32mreturn\u001b[0m \u001b[0msum\u001b[0m\u001b[0;34m(\u001b[0m\u001b[0mself\u001b[0m\u001b[0;34m.\u001b[0m\u001b[0msymbol_cost\u001b[0m\u001b[0;34m(\u001b[0m\u001b[0ms\u001b[0m\u001b[0;34m,\u001b[0m \u001b[0mseen\u001b[0m\u001b[0;34m)\u001b[0m \u001b[0;32mfor\u001b[0m \u001b[0ms\u001b[0m \u001b[0;32min\u001b[0m \u001b[0msymbols\u001b[0m\u001b[0;34m)\u001b[0m \u001b[0;34m+\u001b[0m \u001b[0;36m1\u001b[0m\u001b[0;34m\u001b[0m\u001b[0;34m\u001b[0m\u001b[0m\n\u001b[0m\u001b[1;32m    585\u001b[0m \u001b[0;34m\u001b[0m\u001b[0m\n\u001b[1;32m    586\u001b[0m \u001b[0;32mif\u001b[0m \u001b[0m__name__\u001b[0m \u001b[0;34m==\u001b[0m \u001b[0;34m\"__main__\"\u001b[0m\u001b[0;34m:\u001b[0m\u001b[0;34m\u001b[0m\u001b[0;34m\u001b[0m\u001b[0m\n",
      "\u001b[0;32m~/anaconda3/lib/python3.7/site-packages/fuzzingbook/GrammarFuzzer.py\u001b[0m in \u001b[0;36m<genexpr>\u001b[0;34m(.0)\u001b[0m\n\u001b[1;32m    582\u001b[0m         \u001b[0;31m# the value of a expansion is the sum of all expandable variables\u001b[0m\u001b[0;34m\u001b[0m\u001b[0;34m\u001b[0m\u001b[0;34m\u001b[0m\u001b[0m\n\u001b[1;32m    583\u001b[0m         \u001b[0;31m# inside + 1\u001b[0m\u001b[0;34m\u001b[0m\u001b[0;34m\u001b[0m\u001b[0;34m\u001b[0m\u001b[0m\n\u001b[0;32m--> 584\u001b[0;31m         \u001b[0;32mreturn\u001b[0m \u001b[0msum\u001b[0m\u001b[0;34m(\u001b[0m\u001b[0mself\u001b[0m\u001b[0;34m.\u001b[0m\u001b[0msymbol_cost\u001b[0m\u001b[0;34m(\u001b[0m\u001b[0ms\u001b[0m\u001b[0;34m,\u001b[0m \u001b[0mseen\u001b[0m\u001b[0;34m)\u001b[0m \u001b[0;32mfor\u001b[0m \u001b[0ms\u001b[0m \u001b[0;32min\u001b[0m \u001b[0msymbols\u001b[0m\u001b[0;34m)\u001b[0m \u001b[0;34m+\u001b[0m \u001b[0;36m1\u001b[0m\u001b[0;34m\u001b[0m\u001b[0;34m\u001b[0m\u001b[0m\n\u001b[0m\u001b[1;32m    585\u001b[0m \u001b[0;34m\u001b[0m\u001b[0m\n\u001b[1;32m    586\u001b[0m \u001b[0;32mif\u001b[0m \u001b[0m__name__\u001b[0m \u001b[0;34m==\u001b[0m \u001b[0;34m\"__main__\"\u001b[0m\u001b[0;34m:\u001b[0m\u001b[0;34m\u001b[0m\u001b[0;34m\u001b[0m\u001b[0m\n",
      "\u001b[0;32m~/anaconda3/lib/python3.7/site-packages/fuzzingbook/GrammarFuzzer.py\u001b[0m in \u001b[0;36msymbol_cost\u001b[0;34m(self, symbol, seen)\u001b[0m\n\u001b[1;32m    570\u001b[0m     \u001b[0;32mdef\u001b[0m \u001b[0msymbol_cost\u001b[0m\u001b[0;34m(\u001b[0m\u001b[0mself\u001b[0m\u001b[0;34m,\u001b[0m \u001b[0msymbol\u001b[0m\u001b[0;34m,\u001b[0m \u001b[0mseen\u001b[0m\u001b[0;34m=\u001b[0m\u001b[0mset\u001b[0m\u001b[0;34m(\u001b[0m\u001b[0;34m)\u001b[0m\u001b[0;34m)\u001b[0m\u001b[0;34m:\u001b[0m\u001b[0;34m\u001b[0m\u001b[0;34m\u001b[0m\u001b[0m\n\u001b[1;32m    571\u001b[0m         \u001b[0mexpansions\u001b[0m \u001b[0;34m=\u001b[0m \u001b[0mself\u001b[0m\u001b[0;34m.\u001b[0m\u001b[0mgrammar\u001b[0m\u001b[0;34m[\u001b[0m\u001b[0msymbol\u001b[0m\u001b[0;34m]\u001b[0m\u001b[0;34m\u001b[0m\u001b[0;34m\u001b[0m\u001b[0m\n\u001b[0;32m--> 572\u001b[0;31m         \u001b[0;32mreturn\u001b[0m \u001b[0mmin\u001b[0m\u001b[0;34m(\u001b[0m\u001b[0mself\u001b[0m\u001b[0;34m.\u001b[0m\u001b[0mexpansion_cost\u001b[0m\u001b[0;34m(\u001b[0m\u001b[0me\u001b[0m\u001b[0;34m,\u001b[0m \u001b[0mseen\u001b[0m \u001b[0;34m|\u001b[0m \u001b[0;34m{\u001b[0m\u001b[0msymbol\u001b[0m\u001b[0;34m}\u001b[0m\u001b[0;34m)\u001b[0m \u001b[0;32mfor\u001b[0m \u001b[0me\u001b[0m \u001b[0;32min\u001b[0m \u001b[0mexpansions\u001b[0m\u001b[0;34m)\u001b[0m\u001b[0;34m\u001b[0m\u001b[0;34m\u001b[0m\u001b[0m\n\u001b[0m\u001b[1;32m    573\u001b[0m \u001b[0;34m\u001b[0m\u001b[0m\n\u001b[1;32m    574\u001b[0m     \u001b[0;32mdef\u001b[0m \u001b[0mexpansion_cost\u001b[0m\u001b[0;34m(\u001b[0m\u001b[0mself\u001b[0m\u001b[0;34m,\u001b[0m \u001b[0mexpansion\u001b[0m\u001b[0;34m,\u001b[0m \u001b[0mseen\u001b[0m\u001b[0;34m=\u001b[0m\u001b[0mset\u001b[0m\u001b[0;34m(\u001b[0m\u001b[0;34m)\u001b[0m\u001b[0;34m)\u001b[0m\u001b[0;34m:\u001b[0m\u001b[0;34m\u001b[0m\u001b[0;34m\u001b[0m\u001b[0m\n",
      "\u001b[0;32m~/anaconda3/lib/python3.7/site-packages/fuzzingbook/GrammarFuzzer.py\u001b[0m in \u001b[0;36m<genexpr>\u001b[0;34m(.0)\u001b[0m\n\u001b[1;32m    570\u001b[0m     \u001b[0;32mdef\u001b[0m \u001b[0msymbol_cost\u001b[0m\u001b[0;34m(\u001b[0m\u001b[0mself\u001b[0m\u001b[0;34m,\u001b[0m \u001b[0msymbol\u001b[0m\u001b[0;34m,\u001b[0m \u001b[0mseen\u001b[0m\u001b[0;34m=\u001b[0m\u001b[0mset\u001b[0m\u001b[0;34m(\u001b[0m\u001b[0;34m)\u001b[0m\u001b[0;34m)\u001b[0m\u001b[0;34m:\u001b[0m\u001b[0;34m\u001b[0m\u001b[0;34m\u001b[0m\u001b[0m\n\u001b[1;32m    571\u001b[0m         \u001b[0mexpansions\u001b[0m \u001b[0;34m=\u001b[0m \u001b[0mself\u001b[0m\u001b[0;34m.\u001b[0m\u001b[0mgrammar\u001b[0m\u001b[0;34m[\u001b[0m\u001b[0msymbol\u001b[0m\u001b[0;34m]\u001b[0m\u001b[0;34m\u001b[0m\u001b[0;34m\u001b[0m\u001b[0m\n\u001b[0;32m--> 572\u001b[0;31m         \u001b[0;32mreturn\u001b[0m \u001b[0mmin\u001b[0m\u001b[0;34m(\u001b[0m\u001b[0mself\u001b[0m\u001b[0;34m.\u001b[0m\u001b[0mexpansion_cost\u001b[0m\u001b[0;34m(\u001b[0m\u001b[0me\u001b[0m\u001b[0;34m,\u001b[0m \u001b[0mseen\u001b[0m \u001b[0;34m|\u001b[0m \u001b[0;34m{\u001b[0m\u001b[0msymbol\u001b[0m\u001b[0;34m}\u001b[0m\u001b[0;34m)\u001b[0m \u001b[0;32mfor\u001b[0m \u001b[0me\u001b[0m \u001b[0;32min\u001b[0m \u001b[0mexpansions\u001b[0m\u001b[0;34m)\u001b[0m\u001b[0;34m\u001b[0m\u001b[0;34m\u001b[0m\u001b[0m\n\u001b[0m\u001b[1;32m    573\u001b[0m \u001b[0;34m\u001b[0m\u001b[0m\n\u001b[1;32m    574\u001b[0m     \u001b[0;32mdef\u001b[0m \u001b[0mexpansion_cost\u001b[0m\u001b[0;34m(\u001b[0m\u001b[0mself\u001b[0m\u001b[0;34m,\u001b[0m \u001b[0mexpansion\u001b[0m\u001b[0;34m,\u001b[0m \u001b[0mseen\u001b[0m\u001b[0;34m=\u001b[0m\u001b[0mset\u001b[0m\u001b[0;34m(\u001b[0m\u001b[0;34m)\u001b[0m\u001b[0;34m)\u001b[0m\u001b[0;34m:\u001b[0m\u001b[0;34m\u001b[0m\u001b[0;34m\u001b[0m\u001b[0m\n",
      "\u001b[0;32m~/anaconda3/lib/python3.7/site-packages/fuzzingbook/GrammarFuzzer.py\u001b[0m in \u001b[0;36mexpansion_cost\u001b[0;34m(self, expansion, seen)\u001b[0m\n\u001b[1;32m    582\u001b[0m         \u001b[0;31m# the value of a expansion is the sum of all expandable variables\u001b[0m\u001b[0;34m\u001b[0m\u001b[0;34m\u001b[0m\u001b[0;34m\u001b[0m\u001b[0m\n\u001b[1;32m    583\u001b[0m         \u001b[0;31m# inside + 1\u001b[0m\u001b[0;34m\u001b[0m\u001b[0;34m\u001b[0m\u001b[0;34m\u001b[0m\u001b[0m\n\u001b[0;32m--> 584\u001b[0;31m         \u001b[0;32mreturn\u001b[0m \u001b[0msum\u001b[0m\u001b[0;34m(\u001b[0m\u001b[0mself\u001b[0m\u001b[0;34m.\u001b[0m\u001b[0msymbol_cost\u001b[0m\u001b[0;34m(\u001b[0m\u001b[0ms\u001b[0m\u001b[0;34m,\u001b[0m \u001b[0mseen\u001b[0m\u001b[0;34m)\u001b[0m \u001b[0;32mfor\u001b[0m \u001b[0ms\u001b[0m \u001b[0;32min\u001b[0m \u001b[0msymbols\u001b[0m\u001b[0;34m)\u001b[0m \u001b[0;34m+\u001b[0m \u001b[0;36m1\u001b[0m\u001b[0;34m\u001b[0m\u001b[0;34m\u001b[0m\u001b[0m\n\u001b[0m\u001b[1;32m    585\u001b[0m \u001b[0;34m\u001b[0m\u001b[0m\n\u001b[1;32m    586\u001b[0m \u001b[0;32mif\u001b[0m \u001b[0m__name__\u001b[0m \u001b[0;34m==\u001b[0m \u001b[0;34m\"__main__\"\u001b[0m\u001b[0;34m:\u001b[0m\u001b[0;34m\u001b[0m\u001b[0;34m\u001b[0m\u001b[0m\n",
      "\u001b[0;32m~/anaconda3/lib/python3.7/site-packages/fuzzingbook/GrammarFuzzer.py\u001b[0m in \u001b[0;36m<genexpr>\u001b[0;34m(.0)\u001b[0m\n\u001b[1;32m    582\u001b[0m         \u001b[0;31m# the value of a expansion is the sum of all expandable variables\u001b[0m\u001b[0;34m\u001b[0m\u001b[0;34m\u001b[0m\u001b[0;34m\u001b[0m\u001b[0m\n\u001b[1;32m    583\u001b[0m         \u001b[0;31m# inside + 1\u001b[0m\u001b[0;34m\u001b[0m\u001b[0;34m\u001b[0m\u001b[0;34m\u001b[0m\u001b[0m\n\u001b[0;32m--> 584\u001b[0;31m         \u001b[0;32mreturn\u001b[0m \u001b[0msum\u001b[0m\u001b[0;34m(\u001b[0m\u001b[0mself\u001b[0m\u001b[0;34m.\u001b[0m\u001b[0msymbol_cost\u001b[0m\u001b[0;34m(\u001b[0m\u001b[0ms\u001b[0m\u001b[0;34m,\u001b[0m \u001b[0mseen\u001b[0m\u001b[0;34m)\u001b[0m \u001b[0;32mfor\u001b[0m \u001b[0ms\u001b[0m \u001b[0;32min\u001b[0m \u001b[0msymbols\u001b[0m\u001b[0;34m)\u001b[0m \u001b[0;34m+\u001b[0m \u001b[0;36m1\u001b[0m\u001b[0;34m\u001b[0m\u001b[0;34m\u001b[0m\u001b[0m\n\u001b[0m\u001b[1;32m    585\u001b[0m \u001b[0;34m\u001b[0m\u001b[0m\n\u001b[1;32m    586\u001b[0m \u001b[0;32mif\u001b[0m \u001b[0m__name__\u001b[0m \u001b[0;34m==\u001b[0m \u001b[0;34m\"__main__\"\u001b[0m\u001b[0;34m:\u001b[0m\u001b[0;34m\u001b[0m\u001b[0;34m\u001b[0m\u001b[0m\n",
      "\u001b[0;32m~/anaconda3/lib/python3.7/site-packages/fuzzingbook/GrammarFuzzer.py\u001b[0m in \u001b[0;36msymbol_cost\u001b[0;34m(self, symbol, seen)\u001b[0m\n\u001b[1;32m    570\u001b[0m     \u001b[0;32mdef\u001b[0m \u001b[0msymbol_cost\u001b[0m\u001b[0;34m(\u001b[0m\u001b[0mself\u001b[0m\u001b[0;34m,\u001b[0m \u001b[0msymbol\u001b[0m\u001b[0;34m,\u001b[0m \u001b[0mseen\u001b[0m\u001b[0;34m=\u001b[0m\u001b[0mset\u001b[0m\u001b[0;34m(\u001b[0m\u001b[0;34m)\u001b[0m\u001b[0;34m)\u001b[0m\u001b[0;34m:\u001b[0m\u001b[0;34m\u001b[0m\u001b[0;34m\u001b[0m\u001b[0m\n\u001b[1;32m    571\u001b[0m         \u001b[0mexpansions\u001b[0m \u001b[0;34m=\u001b[0m \u001b[0mself\u001b[0m\u001b[0;34m.\u001b[0m\u001b[0mgrammar\u001b[0m\u001b[0;34m[\u001b[0m\u001b[0msymbol\u001b[0m\u001b[0;34m]\u001b[0m\u001b[0;34m\u001b[0m\u001b[0;34m\u001b[0m\u001b[0m\n\u001b[0;32m--> 572\u001b[0;31m         \u001b[0;32mreturn\u001b[0m \u001b[0mmin\u001b[0m\u001b[0;34m(\u001b[0m\u001b[0mself\u001b[0m\u001b[0;34m.\u001b[0m\u001b[0mexpansion_cost\u001b[0m\u001b[0;34m(\u001b[0m\u001b[0me\u001b[0m\u001b[0;34m,\u001b[0m \u001b[0mseen\u001b[0m \u001b[0;34m|\u001b[0m \u001b[0;34m{\u001b[0m\u001b[0msymbol\u001b[0m\u001b[0;34m}\u001b[0m\u001b[0;34m)\u001b[0m \u001b[0;32mfor\u001b[0m \u001b[0me\u001b[0m \u001b[0;32min\u001b[0m \u001b[0mexpansions\u001b[0m\u001b[0;34m)\u001b[0m\u001b[0;34m\u001b[0m\u001b[0;34m\u001b[0m\u001b[0m\n\u001b[0m\u001b[1;32m    573\u001b[0m \u001b[0;34m\u001b[0m\u001b[0m\n\u001b[1;32m    574\u001b[0m     \u001b[0;32mdef\u001b[0m \u001b[0mexpansion_cost\u001b[0m\u001b[0;34m(\u001b[0m\u001b[0mself\u001b[0m\u001b[0;34m,\u001b[0m \u001b[0mexpansion\u001b[0m\u001b[0;34m,\u001b[0m \u001b[0mseen\u001b[0m\u001b[0;34m=\u001b[0m\u001b[0mset\u001b[0m\u001b[0;34m(\u001b[0m\u001b[0;34m)\u001b[0m\u001b[0;34m)\u001b[0m\u001b[0;34m:\u001b[0m\u001b[0;34m\u001b[0m\u001b[0;34m\u001b[0m\u001b[0m\n",
      "\u001b[0;32m~/anaconda3/lib/python3.7/site-packages/fuzzingbook/GrammarFuzzer.py\u001b[0m in \u001b[0;36m<genexpr>\u001b[0;34m(.0)\u001b[0m\n\u001b[1;32m    570\u001b[0m     \u001b[0;32mdef\u001b[0m \u001b[0msymbol_cost\u001b[0m\u001b[0;34m(\u001b[0m\u001b[0mself\u001b[0m\u001b[0;34m,\u001b[0m \u001b[0msymbol\u001b[0m\u001b[0;34m,\u001b[0m \u001b[0mseen\u001b[0m\u001b[0;34m=\u001b[0m\u001b[0mset\u001b[0m\u001b[0;34m(\u001b[0m\u001b[0;34m)\u001b[0m\u001b[0;34m)\u001b[0m\u001b[0;34m:\u001b[0m\u001b[0;34m\u001b[0m\u001b[0;34m\u001b[0m\u001b[0m\n\u001b[1;32m    571\u001b[0m         \u001b[0mexpansions\u001b[0m \u001b[0;34m=\u001b[0m \u001b[0mself\u001b[0m\u001b[0;34m.\u001b[0m\u001b[0mgrammar\u001b[0m\u001b[0;34m[\u001b[0m\u001b[0msymbol\u001b[0m\u001b[0;34m]\u001b[0m\u001b[0;34m\u001b[0m\u001b[0;34m\u001b[0m\u001b[0m\n\u001b[0;32m--> 572\u001b[0;31m         \u001b[0;32mreturn\u001b[0m \u001b[0mmin\u001b[0m\u001b[0;34m(\u001b[0m\u001b[0mself\u001b[0m\u001b[0;34m.\u001b[0m\u001b[0mexpansion_cost\u001b[0m\u001b[0;34m(\u001b[0m\u001b[0me\u001b[0m\u001b[0;34m,\u001b[0m \u001b[0mseen\u001b[0m \u001b[0;34m|\u001b[0m \u001b[0;34m{\u001b[0m\u001b[0msymbol\u001b[0m\u001b[0;34m}\u001b[0m\u001b[0;34m)\u001b[0m \u001b[0;32mfor\u001b[0m \u001b[0me\u001b[0m \u001b[0;32min\u001b[0m \u001b[0mexpansions\u001b[0m\u001b[0;34m)\u001b[0m\u001b[0;34m\u001b[0m\u001b[0;34m\u001b[0m\u001b[0m\n\u001b[0m\u001b[1;32m    573\u001b[0m \u001b[0;34m\u001b[0m\u001b[0m\n\u001b[1;32m    574\u001b[0m     \u001b[0;32mdef\u001b[0m \u001b[0mexpansion_cost\u001b[0m\u001b[0;34m(\u001b[0m\u001b[0mself\u001b[0m\u001b[0;34m,\u001b[0m \u001b[0mexpansion\u001b[0m\u001b[0;34m,\u001b[0m \u001b[0mseen\u001b[0m\u001b[0;34m=\u001b[0m\u001b[0mset\u001b[0m\u001b[0;34m(\u001b[0m\u001b[0;34m)\u001b[0m\u001b[0;34m)\u001b[0m\u001b[0;34m:\u001b[0m\u001b[0;34m\u001b[0m\u001b[0;34m\u001b[0m\u001b[0m\n",
      "\u001b[0;32m~/anaconda3/lib/python3.7/site-packages/fuzzingbook/GrammarFuzzer.py\u001b[0m in \u001b[0;36mexpansion_cost\u001b[0;34m(self, expansion, seen)\u001b[0m\n\u001b[1;32m    582\u001b[0m         \u001b[0;31m# the value of a expansion is the sum of all expandable variables\u001b[0m\u001b[0;34m\u001b[0m\u001b[0;34m\u001b[0m\u001b[0;34m\u001b[0m\u001b[0m\n\u001b[1;32m    583\u001b[0m         \u001b[0;31m# inside + 1\u001b[0m\u001b[0;34m\u001b[0m\u001b[0;34m\u001b[0m\u001b[0;34m\u001b[0m\u001b[0m\n\u001b[0;32m--> 584\u001b[0;31m         \u001b[0;32mreturn\u001b[0m \u001b[0msum\u001b[0m\u001b[0;34m(\u001b[0m\u001b[0mself\u001b[0m\u001b[0;34m.\u001b[0m\u001b[0msymbol_cost\u001b[0m\u001b[0;34m(\u001b[0m\u001b[0ms\u001b[0m\u001b[0;34m,\u001b[0m \u001b[0mseen\u001b[0m\u001b[0;34m)\u001b[0m \u001b[0;32mfor\u001b[0m \u001b[0ms\u001b[0m \u001b[0;32min\u001b[0m \u001b[0msymbols\u001b[0m\u001b[0;34m)\u001b[0m \u001b[0;34m+\u001b[0m \u001b[0;36m1\u001b[0m\u001b[0;34m\u001b[0m\u001b[0;34m\u001b[0m\u001b[0m\n\u001b[0m\u001b[1;32m    585\u001b[0m \u001b[0;34m\u001b[0m\u001b[0m\n\u001b[1;32m    586\u001b[0m \u001b[0;32mif\u001b[0m \u001b[0m__name__\u001b[0m \u001b[0;34m==\u001b[0m \u001b[0;34m\"__main__\"\u001b[0m\u001b[0;34m:\u001b[0m\u001b[0;34m\u001b[0m\u001b[0;34m\u001b[0m\u001b[0m\n",
      "\u001b[0;32m~/anaconda3/lib/python3.7/site-packages/fuzzingbook/GrammarFuzzer.py\u001b[0m in \u001b[0;36m<genexpr>\u001b[0;34m(.0)\u001b[0m\n\u001b[1;32m    582\u001b[0m         \u001b[0;31m# the value of a expansion is the sum of all expandable variables\u001b[0m\u001b[0;34m\u001b[0m\u001b[0;34m\u001b[0m\u001b[0;34m\u001b[0m\u001b[0m\n\u001b[1;32m    583\u001b[0m         \u001b[0;31m# inside + 1\u001b[0m\u001b[0;34m\u001b[0m\u001b[0;34m\u001b[0m\u001b[0;34m\u001b[0m\u001b[0m\n\u001b[0;32m--> 584\u001b[0;31m         \u001b[0;32mreturn\u001b[0m \u001b[0msum\u001b[0m\u001b[0;34m(\u001b[0m\u001b[0mself\u001b[0m\u001b[0;34m.\u001b[0m\u001b[0msymbol_cost\u001b[0m\u001b[0;34m(\u001b[0m\u001b[0ms\u001b[0m\u001b[0;34m,\u001b[0m \u001b[0mseen\u001b[0m\u001b[0;34m)\u001b[0m \u001b[0;32mfor\u001b[0m \u001b[0ms\u001b[0m \u001b[0;32min\u001b[0m \u001b[0msymbols\u001b[0m\u001b[0;34m)\u001b[0m \u001b[0;34m+\u001b[0m \u001b[0;36m1\u001b[0m\u001b[0;34m\u001b[0m\u001b[0;34m\u001b[0m\u001b[0m\n\u001b[0m\u001b[1;32m    585\u001b[0m \u001b[0;34m\u001b[0m\u001b[0m\n\u001b[1;32m    586\u001b[0m \u001b[0;32mif\u001b[0m \u001b[0m__name__\u001b[0m \u001b[0;34m==\u001b[0m \u001b[0;34m\"__main__\"\u001b[0m\u001b[0;34m:\u001b[0m\u001b[0;34m\u001b[0m\u001b[0;34m\u001b[0m\u001b[0m\n",
      "\u001b[0;32m~/anaconda3/lib/python3.7/site-packages/fuzzingbook/GrammarFuzzer.py\u001b[0m in \u001b[0;36msymbol_cost\u001b[0;34m(self, symbol, seen)\u001b[0m\n\u001b[1;32m    570\u001b[0m     \u001b[0;32mdef\u001b[0m \u001b[0msymbol_cost\u001b[0m\u001b[0;34m(\u001b[0m\u001b[0mself\u001b[0m\u001b[0;34m,\u001b[0m \u001b[0msymbol\u001b[0m\u001b[0;34m,\u001b[0m \u001b[0mseen\u001b[0m\u001b[0;34m=\u001b[0m\u001b[0mset\u001b[0m\u001b[0;34m(\u001b[0m\u001b[0;34m)\u001b[0m\u001b[0;34m)\u001b[0m\u001b[0;34m:\u001b[0m\u001b[0;34m\u001b[0m\u001b[0;34m\u001b[0m\u001b[0m\n\u001b[1;32m    571\u001b[0m         \u001b[0mexpansions\u001b[0m \u001b[0;34m=\u001b[0m \u001b[0mself\u001b[0m\u001b[0;34m.\u001b[0m\u001b[0mgrammar\u001b[0m\u001b[0;34m[\u001b[0m\u001b[0msymbol\u001b[0m\u001b[0;34m]\u001b[0m\u001b[0;34m\u001b[0m\u001b[0;34m\u001b[0m\u001b[0m\n\u001b[0;32m--> 572\u001b[0;31m         \u001b[0;32mreturn\u001b[0m \u001b[0mmin\u001b[0m\u001b[0;34m(\u001b[0m\u001b[0mself\u001b[0m\u001b[0;34m.\u001b[0m\u001b[0mexpansion_cost\u001b[0m\u001b[0;34m(\u001b[0m\u001b[0me\u001b[0m\u001b[0;34m,\u001b[0m \u001b[0mseen\u001b[0m \u001b[0;34m|\u001b[0m \u001b[0;34m{\u001b[0m\u001b[0msymbol\u001b[0m\u001b[0;34m}\u001b[0m\u001b[0;34m)\u001b[0m \u001b[0;32mfor\u001b[0m \u001b[0me\u001b[0m \u001b[0;32min\u001b[0m \u001b[0mexpansions\u001b[0m\u001b[0;34m)\u001b[0m\u001b[0;34m\u001b[0m\u001b[0;34m\u001b[0m\u001b[0m\n\u001b[0m\u001b[1;32m    573\u001b[0m \u001b[0;34m\u001b[0m\u001b[0m\n\u001b[1;32m    574\u001b[0m     \u001b[0;32mdef\u001b[0m \u001b[0mexpansion_cost\u001b[0m\u001b[0;34m(\u001b[0m\u001b[0mself\u001b[0m\u001b[0;34m,\u001b[0m \u001b[0mexpansion\u001b[0m\u001b[0;34m,\u001b[0m \u001b[0mseen\u001b[0m\u001b[0;34m=\u001b[0m\u001b[0mset\u001b[0m\u001b[0;34m(\u001b[0m\u001b[0;34m)\u001b[0m\u001b[0;34m)\u001b[0m\u001b[0;34m:\u001b[0m\u001b[0;34m\u001b[0m\u001b[0;34m\u001b[0m\u001b[0m\n",
      "\u001b[0;32m~/anaconda3/lib/python3.7/site-packages/fuzzingbook/GrammarFuzzer.py\u001b[0m in \u001b[0;36m<genexpr>\u001b[0;34m(.0)\u001b[0m\n\u001b[1;32m    570\u001b[0m     \u001b[0;32mdef\u001b[0m \u001b[0msymbol_cost\u001b[0m\u001b[0;34m(\u001b[0m\u001b[0mself\u001b[0m\u001b[0;34m,\u001b[0m \u001b[0msymbol\u001b[0m\u001b[0;34m,\u001b[0m \u001b[0mseen\u001b[0m\u001b[0;34m=\u001b[0m\u001b[0mset\u001b[0m\u001b[0;34m(\u001b[0m\u001b[0;34m)\u001b[0m\u001b[0;34m)\u001b[0m\u001b[0;34m:\u001b[0m\u001b[0;34m\u001b[0m\u001b[0;34m\u001b[0m\u001b[0m\n\u001b[1;32m    571\u001b[0m         \u001b[0mexpansions\u001b[0m \u001b[0;34m=\u001b[0m \u001b[0mself\u001b[0m\u001b[0;34m.\u001b[0m\u001b[0mgrammar\u001b[0m\u001b[0;34m[\u001b[0m\u001b[0msymbol\u001b[0m\u001b[0;34m]\u001b[0m\u001b[0;34m\u001b[0m\u001b[0;34m\u001b[0m\u001b[0m\n\u001b[0;32m--> 572\u001b[0;31m         \u001b[0;32mreturn\u001b[0m \u001b[0mmin\u001b[0m\u001b[0;34m(\u001b[0m\u001b[0mself\u001b[0m\u001b[0;34m.\u001b[0m\u001b[0mexpansion_cost\u001b[0m\u001b[0;34m(\u001b[0m\u001b[0me\u001b[0m\u001b[0;34m,\u001b[0m \u001b[0mseen\u001b[0m \u001b[0;34m|\u001b[0m \u001b[0;34m{\u001b[0m\u001b[0msymbol\u001b[0m\u001b[0;34m}\u001b[0m\u001b[0;34m)\u001b[0m \u001b[0;32mfor\u001b[0m \u001b[0me\u001b[0m \u001b[0;32min\u001b[0m \u001b[0mexpansions\u001b[0m\u001b[0;34m)\u001b[0m\u001b[0;34m\u001b[0m\u001b[0;34m\u001b[0m\u001b[0m\n\u001b[0m\u001b[1;32m    573\u001b[0m \u001b[0;34m\u001b[0m\u001b[0m\n\u001b[1;32m    574\u001b[0m     \u001b[0;32mdef\u001b[0m \u001b[0mexpansion_cost\u001b[0m\u001b[0;34m(\u001b[0m\u001b[0mself\u001b[0m\u001b[0;34m,\u001b[0m \u001b[0mexpansion\u001b[0m\u001b[0;34m,\u001b[0m \u001b[0mseen\u001b[0m\u001b[0;34m=\u001b[0m\u001b[0mset\u001b[0m\u001b[0;34m(\u001b[0m\u001b[0;34m)\u001b[0m\u001b[0;34m)\u001b[0m\u001b[0;34m:\u001b[0m\u001b[0;34m\u001b[0m\u001b[0;34m\u001b[0m\u001b[0m\n",
      "\u001b[0;32m~/anaconda3/lib/python3.7/site-packages/fuzzingbook/GrammarFuzzer.py\u001b[0m in \u001b[0;36mexpansion_cost\u001b[0;34m(self, expansion, seen)\u001b[0m\n\u001b[1;32m    582\u001b[0m         \u001b[0;31m# the value of a expansion is the sum of all expandable variables\u001b[0m\u001b[0;34m\u001b[0m\u001b[0;34m\u001b[0m\u001b[0;34m\u001b[0m\u001b[0m\n\u001b[1;32m    583\u001b[0m         \u001b[0;31m# inside + 1\u001b[0m\u001b[0;34m\u001b[0m\u001b[0;34m\u001b[0m\u001b[0;34m\u001b[0m\u001b[0m\n\u001b[0;32m--> 584\u001b[0;31m         \u001b[0;32mreturn\u001b[0m \u001b[0msum\u001b[0m\u001b[0;34m(\u001b[0m\u001b[0mself\u001b[0m\u001b[0;34m.\u001b[0m\u001b[0msymbol_cost\u001b[0m\u001b[0;34m(\u001b[0m\u001b[0ms\u001b[0m\u001b[0;34m,\u001b[0m \u001b[0mseen\u001b[0m\u001b[0;34m)\u001b[0m \u001b[0;32mfor\u001b[0m \u001b[0ms\u001b[0m \u001b[0;32min\u001b[0m \u001b[0msymbols\u001b[0m\u001b[0;34m)\u001b[0m \u001b[0;34m+\u001b[0m \u001b[0;36m1\u001b[0m\u001b[0;34m\u001b[0m\u001b[0;34m\u001b[0m\u001b[0m\n\u001b[0m\u001b[1;32m    585\u001b[0m \u001b[0;34m\u001b[0m\u001b[0m\n\u001b[1;32m    586\u001b[0m \u001b[0;32mif\u001b[0m \u001b[0m__name__\u001b[0m \u001b[0;34m==\u001b[0m \u001b[0;34m\"__main__\"\u001b[0m\u001b[0;34m:\u001b[0m\u001b[0;34m\u001b[0m\u001b[0;34m\u001b[0m\u001b[0m\n",
      "\u001b[0;32m~/anaconda3/lib/python3.7/site-packages/fuzzingbook/GrammarFuzzer.py\u001b[0m in \u001b[0;36m<genexpr>\u001b[0;34m(.0)\u001b[0m\n\u001b[1;32m    582\u001b[0m         \u001b[0;31m# the value of a expansion is the sum of all expandable variables\u001b[0m\u001b[0;34m\u001b[0m\u001b[0;34m\u001b[0m\u001b[0;34m\u001b[0m\u001b[0m\n\u001b[1;32m    583\u001b[0m         \u001b[0;31m# inside + 1\u001b[0m\u001b[0;34m\u001b[0m\u001b[0;34m\u001b[0m\u001b[0;34m\u001b[0m\u001b[0m\n\u001b[0;32m--> 584\u001b[0;31m         \u001b[0;32mreturn\u001b[0m \u001b[0msum\u001b[0m\u001b[0;34m(\u001b[0m\u001b[0mself\u001b[0m\u001b[0;34m.\u001b[0m\u001b[0msymbol_cost\u001b[0m\u001b[0;34m(\u001b[0m\u001b[0ms\u001b[0m\u001b[0;34m,\u001b[0m \u001b[0mseen\u001b[0m\u001b[0;34m)\u001b[0m \u001b[0;32mfor\u001b[0m \u001b[0ms\u001b[0m \u001b[0;32min\u001b[0m \u001b[0msymbols\u001b[0m\u001b[0;34m)\u001b[0m \u001b[0;34m+\u001b[0m \u001b[0;36m1\u001b[0m\u001b[0;34m\u001b[0m\u001b[0;34m\u001b[0m\u001b[0m\n\u001b[0m\u001b[1;32m    585\u001b[0m \u001b[0;34m\u001b[0m\u001b[0m\n\u001b[1;32m    586\u001b[0m \u001b[0;32mif\u001b[0m \u001b[0m__name__\u001b[0m \u001b[0;34m==\u001b[0m \u001b[0;34m\"__main__\"\u001b[0m\u001b[0;34m:\u001b[0m\u001b[0;34m\u001b[0m\u001b[0;34m\u001b[0m\u001b[0m\n",
      "\u001b[0;32m~/anaconda3/lib/python3.7/site-packages/fuzzingbook/GrammarFuzzer.py\u001b[0m in \u001b[0;36msymbol_cost\u001b[0;34m(self, symbol, seen)\u001b[0m\n\u001b[1;32m    570\u001b[0m     \u001b[0;32mdef\u001b[0m \u001b[0msymbol_cost\u001b[0m\u001b[0;34m(\u001b[0m\u001b[0mself\u001b[0m\u001b[0;34m,\u001b[0m \u001b[0msymbol\u001b[0m\u001b[0;34m,\u001b[0m \u001b[0mseen\u001b[0m\u001b[0;34m=\u001b[0m\u001b[0mset\u001b[0m\u001b[0;34m(\u001b[0m\u001b[0;34m)\u001b[0m\u001b[0;34m)\u001b[0m\u001b[0;34m:\u001b[0m\u001b[0;34m\u001b[0m\u001b[0;34m\u001b[0m\u001b[0m\n\u001b[1;32m    571\u001b[0m         \u001b[0mexpansions\u001b[0m \u001b[0;34m=\u001b[0m \u001b[0mself\u001b[0m\u001b[0;34m.\u001b[0m\u001b[0mgrammar\u001b[0m\u001b[0;34m[\u001b[0m\u001b[0msymbol\u001b[0m\u001b[0;34m]\u001b[0m\u001b[0;34m\u001b[0m\u001b[0;34m\u001b[0m\u001b[0m\n\u001b[0;32m--> 572\u001b[0;31m         \u001b[0;32mreturn\u001b[0m \u001b[0mmin\u001b[0m\u001b[0;34m(\u001b[0m\u001b[0mself\u001b[0m\u001b[0;34m.\u001b[0m\u001b[0mexpansion_cost\u001b[0m\u001b[0;34m(\u001b[0m\u001b[0me\u001b[0m\u001b[0;34m,\u001b[0m \u001b[0mseen\u001b[0m \u001b[0;34m|\u001b[0m \u001b[0;34m{\u001b[0m\u001b[0msymbol\u001b[0m\u001b[0;34m}\u001b[0m\u001b[0;34m)\u001b[0m \u001b[0;32mfor\u001b[0m \u001b[0me\u001b[0m \u001b[0;32min\u001b[0m \u001b[0mexpansions\u001b[0m\u001b[0;34m)\u001b[0m\u001b[0;34m\u001b[0m\u001b[0;34m\u001b[0m\u001b[0m\n\u001b[0m\u001b[1;32m    573\u001b[0m \u001b[0;34m\u001b[0m\u001b[0m\n\u001b[1;32m    574\u001b[0m     \u001b[0;32mdef\u001b[0m \u001b[0mexpansion_cost\u001b[0m\u001b[0;34m(\u001b[0m\u001b[0mself\u001b[0m\u001b[0;34m,\u001b[0m \u001b[0mexpansion\u001b[0m\u001b[0;34m,\u001b[0m \u001b[0mseen\u001b[0m\u001b[0;34m=\u001b[0m\u001b[0mset\u001b[0m\u001b[0;34m(\u001b[0m\u001b[0;34m)\u001b[0m\u001b[0;34m)\u001b[0m\u001b[0;34m:\u001b[0m\u001b[0;34m\u001b[0m\u001b[0;34m\u001b[0m\u001b[0m\n",
      "\u001b[0;32m~/anaconda3/lib/python3.7/site-packages/fuzzingbook/GrammarFuzzer.py\u001b[0m in \u001b[0;36m<genexpr>\u001b[0;34m(.0)\u001b[0m\n\u001b[1;32m    570\u001b[0m     \u001b[0;32mdef\u001b[0m \u001b[0msymbol_cost\u001b[0m\u001b[0;34m(\u001b[0m\u001b[0mself\u001b[0m\u001b[0;34m,\u001b[0m \u001b[0msymbol\u001b[0m\u001b[0;34m,\u001b[0m \u001b[0mseen\u001b[0m\u001b[0;34m=\u001b[0m\u001b[0mset\u001b[0m\u001b[0;34m(\u001b[0m\u001b[0;34m)\u001b[0m\u001b[0;34m)\u001b[0m\u001b[0;34m:\u001b[0m\u001b[0;34m\u001b[0m\u001b[0;34m\u001b[0m\u001b[0m\n\u001b[1;32m    571\u001b[0m         \u001b[0mexpansions\u001b[0m \u001b[0;34m=\u001b[0m \u001b[0mself\u001b[0m\u001b[0;34m.\u001b[0m\u001b[0mgrammar\u001b[0m\u001b[0;34m[\u001b[0m\u001b[0msymbol\u001b[0m\u001b[0;34m]\u001b[0m\u001b[0;34m\u001b[0m\u001b[0;34m\u001b[0m\u001b[0m\n\u001b[0;32m--> 572\u001b[0;31m         \u001b[0;32mreturn\u001b[0m \u001b[0mmin\u001b[0m\u001b[0;34m(\u001b[0m\u001b[0mself\u001b[0m\u001b[0;34m.\u001b[0m\u001b[0mexpansion_cost\u001b[0m\u001b[0;34m(\u001b[0m\u001b[0me\u001b[0m\u001b[0;34m,\u001b[0m \u001b[0mseen\u001b[0m \u001b[0;34m|\u001b[0m \u001b[0;34m{\u001b[0m\u001b[0msymbol\u001b[0m\u001b[0;34m}\u001b[0m\u001b[0;34m)\u001b[0m \u001b[0;32mfor\u001b[0m \u001b[0me\u001b[0m \u001b[0;32min\u001b[0m \u001b[0mexpansions\u001b[0m\u001b[0;34m)\u001b[0m\u001b[0;34m\u001b[0m\u001b[0;34m\u001b[0m\u001b[0m\n\u001b[0m\u001b[1;32m    573\u001b[0m \u001b[0;34m\u001b[0m\u001b[0m\n\u001b[1;32m    574\u001b[0m     \u001b[0;32mdef\u001b[0m \u001b[0mexpansion_cost\u001b[0m\u001b[0;34m(\u001b[0m\u001b[0mself\u001b[0m\u001b[0;34m,\u001b[0m \u001b[0mexpansion\u001b[0m\u001b[0;34m,\u001b[0m \u001b[0mseen\u001b[0m\u001b[0;34m=\u001b[0m\u001b[0mset\u001b[0m\u001b[0;34m(\u001b[0m\u001b[0;34m)\u001b[0m\u001b[0;34m)\u001b[0m\u001b[0;34m:\u001b[0m\u001b[0;34m\u001b[0m\u001b[0;34m\u001b[0m\u001b[0m\n",
      "\u001b[0;32m~/anaconda3/lib/python3.7/site-packages/fuzzingbook/GrammarFuzzer.py\u001b[0m in \u001b[0;36mexpansion_cost\u001b[0;34m(self, expansion, seen)\u001b[0m\n\u001b[1;32m    582\u001b[0m         \u001b[0;31m# the value of a expansion is the sum of all expandable variables\u001b[0m\u001b[0;34m\u001b[0m\u001b[0;34m\u001b[0m\u001b[0;34m\u001b[0m\u001b[0m\n\u001b[1;32m    583\u001b[0m         \u001b[0;31m# inside + 1\u001b[0m\u001b[0;34m\u001b[0m\u001b[0;34m\u001b[0m\u001b[0;34m\u001b[0m\u001b[0m\n\u001b[0;32m--> 584\u001b[0;31m         \u001b[0;32mreturn\u001b[0m \u001b[0msum\u001b[0m\u001b[0;34m(\u001b[0m\u001b[0mself\u001b[0m\u001b[0;34m.\u001b[0m\u001b[0msymbol_cost\u001b[0m\u001b[0;34m(\u001b[0m\u001b[0ms\u001b[0m\u001b[0;34m,\u001b[0m \u001b[0mseen\u001b[0m\u001b[0;34m)\u001b[0m \u001b[0;32mfor\u001b[0m \u001b[0ms\u001b[0m \u001b[0;32min\u001b[0m \u001b[0msymbols\u001b[0m\u001b[0;34m)\u001b[0m \u001b[0;34m+\u001b[0m \u001b[0;36m1\u001b[0m\u001b[0;34m\u001b[0m\u001b[0;34m\u001b[0m\u001b[0m\n\u001b[0m\u001b[1;32m    585\u001b[0m \u001b[0;34m\u001b[0m\u001b[0m\n\u001b[1;32m    586\u001b[0m \u001b[0;32mif\u001b[0m \u001b[0m__name__\u001b[0m \u001b[0;34m==\u001b[0m \u001b[0;34m\"__main__\"\u001b[0m\u001b[0;34m:\u001b[0m\u001b[0;34m\u001b[0m\u001b[0;34m\u001b[0m\u001b[0m\n",
      "\u001b[0;32m~/anaconda3/lib/python3.7/site-packages/fuzzingbook/GrammarFuzzer.py\u001b[0m in \u001b[0;36m<genexpr>\u001b[0;34m(.0)\u001b[0m\n\u001b[1;32m    582\u001b[0m         \u001b[0;31m# the value of a expansion is the sum of all expandable variables\u001b[0m\u001b[0;34m\u001b[0m\u001b[0;34m\u001b[0m\u001b[0;34m\u001b[0m\u001b[0m\n\u001b[1;32m    583\u001b[0m         \u001b[0;31m# inside + 1\u001b[0m\u001b[0;34m\u001b[0m\u001b[0;34m\u001b[0m\u001b[0;34m\u001b[0m\u001b[0m\n\u001b[0;32m--> 584\u001b[0;31m         \u001b[0;32mreturn\u001b[0m \u001b[0msum\u001b[0m\u001b[0;34m(\u001b[0m\u001b[0mself\u001b[0m\u001b[0;34m.\u001b[0m\u001b[0msymbol_cost\u001b[0m\u001b[0;34m(\u001b[0m\u001b[0ms\u001b[0m\u001b[0;34m,\u001b[0m \u001b[0mseen\u001b[0m\u001b[0;34m)\u001b[0m \u001b[0;32mfor\u001b[0m \u001b[0ms\u001b[0m \u001b[0;32min\u001b[0m \u001b[0msymbols\u001b[0m\u001b[0;34m)\u001b[0m \u001b[0;34m+\u001b[0m \u001b[0;36m1\u001b[0m\u001b[0;34m\u001b[0m\u001b[0;34m\u001b[0m\u001b[0m\n\u001b[0m\u001b[1;32m    585\u001b[0m \u001b[0;34m\u001b[0m\u001b[0m\n\u001b[1;32m    586\u001b[0m \u001b[0;32mif\u001b[0m \u001b[0m__name__\u001b[0m \u001b[0;34m==\u001b[0m \u001b[0;34m\"__main__\"\u001b[0m\u001b[0;34m:\u001b[0m\u001b[0;34m\u001b[0m\u001b[0;34m\u001b[0m\u001b[0m\n",
      "\u001b[0;32m~/anaconda3/lib/python3.7/site-packages/fuzzingbook/GrammarFuzzer.py\u001b[0m in \u001b[0;36msymbol_cost\u001b[0;34m(self, symbol, seen)\u001b[0m\n\u001b[1;32m    570\u001b[0m     \u001b[0;32mdef\u001b[0m \u001b[0msymbol_cost\u001b[0m\u001b[0;34m(\u001b[0m\u001b[0mself\u001b[0m\u001b[0;34m,\u001b[0m \u001b[0msymbol\u001b[0m\u001b[0;34m,\u001b[0m \u001b[0mseen\u001b[0m\u001b[0;34m=\u001b[0m\u001b[0mset\u001b[0m\u001b[0;34m(\u001b[0m\u001b[0;34m)\u001b[0m\u001b[0;34m)\u001b[0m\u001b[0;34m:\u001b[0m\u001b[0;34m\u001b[0m\u001b[0;34m\u001b[0m\u001b[0m\n\u001b[1;32m    571\u001b[0m         \u001b[0mexpansions\u001b[0m \u001b[0;34m=\u001b[0m \u001b[0mself\u001b[0m\u001b[0;34m.\u001b[0m\u001b[0mgrammar\u001b[0m\u001b[0;34m[\u001b[0m\u001b[0msymbol\u001b[0m\u001b[0;34m]\u001b[0m\u001b[0;34m\u001b[0m\u001b[0;34m\u001b[0m\u001b[0m\n\u001b[0;32m--> 572\u001b[0;31m         \u001b[0;32mreturn\u001b[0m \u001b[0mmin\u001b[0m\u001b[0;34m(\u001b[0m\u001b[0mself\u001b[0m\u001b[0;34m.\u001b[0m\u001b[0mexpansion_cost\u001b[0m\u001b[0;34m(\u001b[0m\u001b[0me\u001b[0m\u001b[0;34m,\u001b[0m \u001b[0mseen\u001b[0m \u001b[0;34m|\u001b[0m \u001b[0;34m{\u001b[0m\u001b[0msymbol\u001b[0m\u001b[0;34m}\u001b[0m\u001b[0;34m)\u001b[0m \u001b[0;32mfor\u001b[0m \u001b[0me\u001b[0m \u001b[0;32min\u001b[0m \u001b[0mexpansions\u001b[0m\u001b[0;34m)\u001b[0m\u001b[0;34m\u001b[0m\u001b[0;34m\u001b[0m\u001b[0m\n\u001b[0m\u001b[1;32m    573\u001b[0m \u001b[0;34m\u001b[0m\u001b[0m\n\u001b[1;32m    574\u001b[0m     \u001b[0;32mdef\u001b[0m \u001b[0mexpansion_cost\u001b[0m\u001b[0;34m(\u001b[0m\u001b[0mself\u001b[0m\u001b[0;34m,\u001b[0m \u001b[0mexpansion\u001b[0m\u001b[0;34m,\u001b[0m \u001b[0mseen\u001b[0m\u001b[0;34m=\u001b[0m\u001b[0mset\u001b[0m\u001b[0;34m(\u001b[0m\u001b[0;34m)\u001b[0m\u001b[0;34m)\u001b[0m\u001b[0;34m:\u001b[0m\u001b[0;34m\u001b[0m\u001b[0;34m\u001b[0m\u001b[0m\n",
      "\u001b[0;32m~/anaconda3/lib/python3.7/site-packages/fuzzingbook/GrammarFuzzer.py\u001b[0m in \u001b[0;36m<genexpr>\u001b[0;34m(.0)\u001b[0m\n\u001b[1;32m    570\u001b[0m     \u001b[0;32mdef\u001b[0m \u001b[0msymbol_cost\u001b[0m\u001b[0;34m(\u001b[0m\u001b[0mself\u001b[0m\u001b[0;34m,\u001b[0m \u001b[0msymbol\u001b[0m\u001b[0;34m,\u001b[0m \u001b[0mseen\u001b[0m\u001b[0;34m=\u001b[0m\u001b[0mset\u001b[0m\u001b[0;34m(\u001b[0m\u001b[0;34m)\u001b[0m\u001b[0;34m)\u001b[0m\u001b[0;34m:\u001b[0m\u001b[0;34m\u001b[0m\u001b[0;34m\u001b[0m\u001b[0m\n\u001b[1;32m    571\u001b[0m         \u001b[0mexpansions\u001b[0m \u001b[0;34m=\u001b[0m \u001b[0mself\u001b[0m\u001b[0;34m.\u001b[0m\u001b[0mgrammar\u001b[0m\u001b[0;34m[\u001b[0m\u001b[0msymbol\u001b[0m\u001b[0;34m]\u001b[0m\u001b[0;34m\u001b[0m\u001b[0;34m\u001b[0m\u001b[0m\n\u001b[0;32m--> 572\u001b[0;31m         \u001b[0;32mreturn\u001b[0m \u001b[0mmin\u001b[0m\u001b[0;34m(\u001b[0m\u001b[0mself\u001b[0m\u001b[0;34m.\u001b[0m\u001b[0mexpansion_cost\u001b[0m\u001b[0;34m(\u001b[0m\u001b[0me\u001b[0m\u001b[0;34m,\u001b[0m \u001b[0mseen\u001b[0m \u001b[0;34m|\u001b[0m \u001b[0;34m{\u001b[0m\u001b[0msymbol\u001b[0m\u001b[0;34m}\u001b[0m\u001b[0;34m)\u001b[0m \u001b[0;32mfor\u001b[0m \u001b[0me\u001b[0m \u001b[0;32min\u001b[0m \u001b[0mexpansions\u001b[0m\u001b[0;34m)\u001b[0m\u001b[0;34m\u001b[0m\u001b[0;34m\u001b[0m\u001b[0m\n\u001b[0m\u001b[1;32m    573\u001b[0m \u001b[0;34m\u001b[0m\u001b[0m\n\u001b[1;32m    574\u001b[0m     \u001b[0;32mdef\u001b[0m \u001b[0mexpansion_cost\u001b[0m\u001b[0;34m(\u001b[0m\u001b[0mself\u001b[0m\u001b[0;34m,\u001b[0m \u001b[0mexpansion\u001b[0m\u001b[0;34m,\u001b[0m \u001b[0mseen\u001b[0m\u001b[0;34m=\u001b[0m\u001b[0mset\u001b[0m\u001b[0;34m(\u001b[0m\u001b[0;34m)\u001b[0m\u001b[0;34m)\u001b[0m\u001b[0;34m:\u001b[0m\u001b[0;34m\u001b[0m\u001b[0;34m\u001b[0m\u001b[0m\n",
      "\u001b[0;32m~/anaconda3/lib/python3.7/site-packages/fuzzingbook/GrammarFuzzer.py\u001b[0m in \u001b[0;36mexpansion_cost\u001b[0;34m(self, expansion, seen)\u001b[0m\n\u001b[1;32m    582\u001b[0m         \u001b[0;31m# the value of a expansion is the sum of all expandable variables\u001b[0m\u001b[0;34m\u001b[0m\u001b[0;34m\u001b[0m\u001b[0;34m\u001b[0m\u001b[0m\n\u001b[1;32m    583\u001b[0m         \u001b[0;31m# inside + 1\u001b[0m\u001b[0;34m\u001b[0m\u001b[0;34m\u001b[0m\u001b[0;34m\u001b[0m\u001b[0m\n\u001b[0;32m--> 584\u001b[0;31m         \u001b[0;32mreturn\u001b[0m \u001b[0msum\u001b[0m\u001b[0;34m(\u001b[0m\u001b[0mself\u001b[0m\u001b[0;34m.\u001b[0m\u001b[0msymbol_cost\u001b[0m\u001b[0;34m(\u001b[0m\u001b[0ms\u001b[0m\u001b[0;34m,\u001b[0m \u001b[0mseen\u001b[0m\u001b[0;34m)\u001b[0m \u001b[0;32mfor\u001b[0m \u001b[0ms\u001b[0m \u001b[0;32min\u001b[0m \u001b[0msymbols\u001b[0m\u001b[0;34m)\u001b[0m \u001b[0;34m+\u001b[0m \u001b[0;36m1\u001b[0m\u001b[0;34m\u001b[0m\u001b[0;34m\u001b[0m\u001b[0m\n\u001b[0m\u001b[1;32m    585\u001b[0m \u001b[0;34m\u001b[0m\u001b[0m\n\u001b[1;32m    586\u001b[0m \u001b[0;32mif\u001b[0m \u001b[0m__name__\u001b[0m \u001b[0;34m==\u001b[0m \u001b[0;34m\"__main__\"\u001b[0m\u001b[0;34m:\u001b[0m\u001b[0;34m\u001b[0m\u001b[0;34m\u001b[0m\u001b[0m\n",
      "\u001b[0;32m~/anaconda3/lib/python3.7/site-packages/fuzzingbook/GrammarFuzzer.py\u001b[0m in \u001b[0;36m<genexpr>\u001b[0;34m(.0)\u001b[0m\n\u001b[1;32m    582\u001b[0m         \u001b[0;31m# the value of a expansion is the sum of all expandable variables\u001b[0m\u001b[0;34m\u001b[0m\u001b[0;34m\u001b[0m\u001b[0;34m\u001b[0m\u001b[0m\n\u001b[1;32m    583\u001b[0m         \u001b[0;31m# inside + 1\u001b[0m\u001b[0;34m\u001b[0m\u001b[0;34m\u001b[0m\u001b[0;34m\u001b[0m\u001b[0m\n\u001b[0;32m--> 584\u001b[0;31m         \u001b[0;32mreturn\u001b[0m \u001b[0msum\u001b[0m\u001b[0;34m(\u001b[0m\u001b[0mself\u001b[0m\u001b[0;34m.\u001b[0m\u001b[0msymbol_cost\u001b[0m\u001b[0;34m(\u001b[0m\u001b[0ms\u001b[0m\u001b[0;34m,\u001b[0m \u001b[0mseen\u001b[0m\u001b[0;34m)\u001b[0m \u001b[0;32mfor\u001b[0m \u001b[0ms\u001b[0m \u001b[0;32min\u001b[0m \u001b[0msymbols\u001b[0m\u001b[0;34m)\u001b[0m \u001b[0;34m+\u001b[0m \u001b[0;36m1\u001b[0m\u001b[0;34m\u001b[0m\u001b[0;34m\u001b[0m\u001b[0m\n\u001b[0m\u001b[1;32m    585\u001b[0m \u001b[0;34m\u001b[0m\u001b[0m\n\u001b[1;32m    586\u001b[0m \u001b[0;32mif\u001b[0m \u001b[0m__name__\u001b[0m \u001b[0;34m==\u001b[0m \u001b[0;34m\"__main__\"\u001b[0m\u001b[0;34m:\u001b[0m\u001b[0;34m\u001b[0m\u001b[0;34m\u001b[0m\u001b[0m\n",
      "\u001b[0;32m~/anaconda3/lib/python3.7/site-packages/fuzzingbook/GrammarFuzzer.py\u001b[0m in \u001b[0;36msymbol_cost\u001b[0;34m(self, symbol, seen)\u001b[0m\n\u001b[1;32m    570\u001b[0m     \u001b[0;32mdef\u001b[0m \u001b[0msymbol_cost\u001b[0m\u001b[0;34m(\u001b[0m\u001b[0mself\u001b[0m\u001b[0;34m,\u001b[0m \u001b[0msymbol\u001b[0m\u001b[0;34m,\u001b[0m \u001b[0mseen\u001b[0m\u001b[0;34m=\u001b[0m\u001b[0mset\u001b[0m\u001b[0;34m(\u001b[0m\u001b[0;34m)\u001b[0m\u001b[0;34m)\u001b[0m\u001b[0;34m:\u001b[0m\u001b[0;34m\u001b[0m\u001b[0;34m\u001b[0m\u001b[0m\n\u001b[1;32m    571\u001b[0m         \u001b[0mexpansions\u001b[0m \u001b[0;34m=\u001b[0m \u001b[0mself\u001b[0m\u001b[0;34m.\u001b[0m\u001b[0mgrammar\u001b[0m\u001b[0;34m[\u001b[0m\u001b[0msymbol\u001b[0m\u001b[0;34m]\u001b[0m\u001b[0;34m\u001b[0m\u001b[0;34m\u001b[0m\u001b[0m\n\u001b[0;32m--> 572\u001b[0;31m         \u001b[0;32mreturn\u001b[0m \u001b[0mmin\u001b[0m\u001b[0;34m(\u001b[0m\u001b[0mself\u001b[0m\u001b[0;34m.\u001b[0m\u001b[0mexpansion_cost\u001b[0m\u001b[0;34m(\u001b[0m\u001b[0me\u001b[0m\u001b[0;34m,\u001b[0m \u001b[0mseen\u001b[0m \u001b[0;34m|\u001b[0m \u001b[0;34m{\u001b[0m\u001b[0msymbol\u001b[0m\u001b[0;34m}\u001b[0m\u001b[0;34m)\u001b[0m \u001b[0;32mfor\u001b[0m \u001b[0me\u001b[0m \u001b[0;32min\u001b[0m \u001b[0mexpansions\u001b[0m\u001b[0;34m)\u001b[0m\u001b[0;34m\u001b[0m\u001b[0;34m\u001b[0m\u001b[0m\n\u001b[0m\u001b[1;32m    573\u001b[0m \u001b[0;34m\u001b[0m\u001b[0m\n\u001b[1;32m    574\u001b[0m     \u001b[0;32mdef\u001b[0m \u001b[0mexpansion_cost\u001b[0m\u001b[0;34m(\u001b[0m\u001b[0mself\u001b[0m\u001b[0;34m,\u001b[0m \u001b[0mexpansion\u001b[0m\u001b[0;34m,\u001b[0m \u001b[0mseen\u001b[0m\u001b[0;34m=\u001b[0m\u001b[0mset\u001b[0m\u001b[0;34m(\u001b[0m\u001b[0;34m)\u001b[0m\u001b[0;34m)\u001b[0m\u001b[0;34m:\u001b[0m\u001b[0;34m\u001b[0m\u001b[0;34m\u001b[0m\u001b[0m\n",
      "\u001b[0;32m~/anaconda3/lib/python3.7/site-packages/fuzzingbook/GrammarFuzzer.py\u001b[0m in \u001b[0;36m<genexpr>\u001b[0;34m(.0)\u001b[0m\n\u001b[1;32m    570\u001b[0m     \u001b[0;32mdef\u001b[0m \u001b[0msymbol_cost\u001b[0m\u001b[0;34m(\u001b[0m\u001b[0mself\u001b[0m\u001b[0;34m,\u001b[0m \u001b[0msymbol\u001b[0m\u001b[0;34m,\u001b[0m \u001b[0mseen\u001b[0m\u001b[0;34m=\u001b[0m\u001b[0mset\u001b[0m\u001b[0;34m(\u001b[0m\u001b[0;34m)\u001b[0m\u001b[0;34m)\u001b[0m\u001b[0;34m:\u001b[0m\u001b[0;34m\u001b[0m\u001b[0;34m\u001b[0m\u001b[0m\n\u001b[1;32m    571\u001b[0m         \u001b[0mexpansions\u001b[0m \u001b[0;34m=\u001b[0m \u001b[0mself\u001b[0m\u001b[0;34m.\u001b[0m\u001b[0mgrammar\u001b[0m\u001b[0;34m[\u001b[0m\u001b[0msymbol\u001b[0m\u001b[0;34m]\u001b[0m\u001b[0;34m\u001b[0m\u001b[0;34m\u001b[0m\u001b[0m\n\u001b[0;32m--> 572\u001b[0;31m         \u001b[0;32mreturn\u001b[0m \u001b[0mmin\u001b[0m\u001b[0;34m(\u001b[0m\u001b[0mself\u001b[0m\u001b[0;34m.\u001b[0m\u001b[0mexpansion_cost\u001b[0m\u001b[0;34m(\u001b[0m\u001b[0me\u001b[0m\u001b[0;34m,\u001b[0m \u001b[0mseen\u001b[0m \u001b[0;34m|\u001b[0m \u001b[0;34m{\u001b[0m\u001b[0msymbol\u001b[0m\u001b[0;34m}\u001b[0m\u001b[0;34m)\u001b[0m \u001b[0;32mfor\u001b[0m \u001b[0me\u001b[0m \u001b[0;32min\u001b[0m \u001b[0mexpansions\u001b[0m\u001b[0;34m)\u001b[0m\u001b[0;34m\u001b[0m\u001b[0;34m\u001b[0m\u001b[0m\n\u001b[0m\u001b[1;32m    573\u001b[0m \u001b[0;34m\u001b[0m\u001b[0m\n\u001b[1;32m    574\u001b[0m     \u001b[0;32mdef\u001b[0m \u001b[0mexpansion_cost\u001b[0m\u001b[0;34m(\u001b[0m\u001b[0mself\u001b[0m\u001b[0;34m,\u001b[0m \u001b[0mexpansion\u001b[0m\u001b[0;34m,\u001b[0m \u001b[0mseen\u001b[0m\u001b[0;34m=\u001b[0m\u001b[0mset\u001b[0m\u001b[0;34m(\u001b[0m\u001b[0;34m)\u001b[0m\u001b[0;34m)\u001b[0m\u001b[0;34m:\u001b[0m\u001b[0;34m\u001b[0m\u001b[0;34m\u001b[0m\u001b[0m\n",
      "\u001b[0;32m~/anaconda3/lib/python3.7/site-packages/fuzzingbook/GrammarFuzzer.py\u001b[0m in \u001b[0;36mexpansion_cost\u001b[0;34m(self, expansion, seen)\u001b[0m\n\u001b[1;32m    582\u001b[0m         \u001b[0;31m# the value of a expansion is the sum of all expandable variables\u001b[0m\u001b[0;34m\u001b[0m\u001b[0;34m\u001b[0m\u001b[0;34m\u001b[0m\u001b[0m\n\u001b[1;32m    583\u001b[0m         \u001b[0;31m# inside + 1\u001b[0m\u001b[0;34m\u001b[0m\u001b[0;34m\u001b[0m\u001b[0;34m\u001b[0m\u001b[0m\n\u001b[0;32m--> 584\u001b[0;31m         \u001b[0;32mreturn\u001b[0m \u001b[0msum\u001b[0m\u001b[0;34m(\u001b[0m\u001b[0mself\u001b[0m\u001b[0;34m.\u001b[0m\u001b[0msymbol_cost\u001b[0m\u001b[0;34m(\u001b[0m\u001b[0ms\u001b[0m\u001b[0;34m,\u001b[0m \u001b[0mseen\u001b[0m\u001b[0;34m)\u001b[0m \u001b[0;32mfor\u001b[0m \u001b[0ms\u001b[0m \u001b[0;32min\u001b[0m \u001b[0msymbols\u001b[0m\u001b[0;34m)\u001b[0m \u001b[0;34m+\u001b[0m \u001b[0;36m1\u001b[0m\u001b[0;34m\u001b[0m\u001b[0;34m\u001b[0m\u001b[0m\n\u001b[0m\u001b[1;32m    585\u001b[0m \u001b[0;34m\u001b[0m\u001b[0m\n\u001b[1;32m    586\u001b[0m \u001b[0;32mif\u001b[0m \u001b[0m__name__\u001b[0m \u001b[0;34m==\u001b[0m \u001b[0;34m\"__main__\"\u001b[0m\u001b[0;34m:\u001b[0m\u001b[0;34m\u001b[0m\u001b[0;34m\u001b[0m\u001b[0m\n",
      "\u001b[0;32m~/anaconda3/lib/python3.7/site-packages/fuzzingbook/GrammarFuzzer.py\u001b[0m in \u001b[0;36m<genexpr>\u001b[0;34m(.0)\u001b[0m\n\u001b[1;32m    582\u001b[0m         \u001b[0;31m# the value of a expansion is the sum of all expandable variables\u001b[0m\u001b[0;34m\u001b[0m\u001b[0;34m\u001b[0m\u001b[0;34m\u001b[0m\u001b[0m\n\u001b[1;32m    583\u001b[0m         \u001b[0;31m# inside + 1\u001b[0m\u001b[0;34m\u001b[0m\u001b[0;34m\u001b[0m\u001b[0;34m\u001b[0m\u001b[0m\n\u001b[0;32m--> 584\u001b[0;31m         \u001b[0;32mreturn\u001b[0m \u001b[0msum\u001b[0m\u001b[0;34m(\u001b[0m\u001b[0mself\u001b[0m\u001b[0;34m.\u001b[0m\u001b[0msymbol_cost\u001b[0m\u001b[0;34m(\u001b[0m\u001b[0ms\u001b[0m\u001b[0;34m,\u001b[0m \u001b[0mseen\u001b[0m\u001b[0;34m)\u001b[0m \u001b[0;32mfor\u001b[0m \u001b[0ms\u001b[0m \u001b[0;32min\u001b[0m \u001b[0msymbols\u001b[0m\u001b[0;34m)\u001b[0m \u001b[0;34m+\u001b[0m \u001b[0;36m1\u001b[0m\u001b[0;34m\u001b[0m\u001b[0;34m\u001b[0m\u001b[0m\n\u001b[0m\u001b[1;32m    585\u001b[0m \u001b[0;34m\u001b[0m\u001b[0m\n\u001b[1;32m    586\u001b[0m \u001b[0;32mif\u001b[0m \u001b[0m__name__\u001b[0m \u001b[0;34m==\u001b[0m \u001b[0;34m\"__main__\"\u001b[0m\u001b[0;34m:\u001b[0m\u001b[0;34m\u001b[0m\u001b[0;34m\u001b[0m\u001b[0m\n",
      "\u001b[0;32m~/anaconda3/lib/python3.7/site-packages/fuzzingbook/GrammarFuzzer.py\u001b[0m in \u001b[0;36msymbol_cost\u001b[0;34m(self, symbol, seen)\u001b[0m\n\u001b[1;32m    570\u001b[0m     \u001b[0;32mdef\u001b[0m \u001b[0msymbol_cost\u001b[0m\u001b[0;34m(\u001b[0m\u001b[0mself\u001b[0m\u001b[0;34m,\u001b[0m \u001b[0msymbol\u001b[0m\u001b[0;34m,\u001b[0m \u001b[0mseen\u001b[0m\u001b[0;34m=\u001b[0m\u001b[0mset\u001b[0m\u001b[0;34m(\u001b[0m\u001b[0;34m)\u001b[0m\u001b[0;34m)\u001b[0m\u001b[0;34m:\u001b[0m\u001b[0;34m\u001b[0m\u001b[0;34m\u001b[0m\u001b[0m\n\u001b[1;32m    571\u001b[0m         \u001b[0mexpansions\u001b[0m \u001b[0;34m=\u001b[0m \u001b[0mself\u001b[0m\u001b[0;34m.\u001b[0m\u001b[0mgrammar\u001b[0m\u001b[0;34m[\u001b[0m\u001b[0msymbol\u001b[0m\u001b[0;34m]\u001b[0m\u001b[0;34m\u001b[0m\u001b[0;34m\u001b[0m\u001b[0m\n\u001b[0;32m--> 572\u001b[0;31m         \u001b[0;32mreturn\u001b[0m \u001b[0mmin\u001b[0m\u001b[0;34m(\u001b[0m\u001b[0mself\u001b[0m\u001b[0;34m.\u001b[0m\u001b[0mexpansion_cost\u001b[0m\u001b[0;34m(\u001b[0m\u001b[0me\u001b[0m\u001b[0;34m,\u001b[0m \u001b[0mseen\u001b[0m \u001b[0;34m|\u001b[0m \u001b[0;34m{\u001b[0m\u001b[0msymbol\u001b[0m\u001b[0;34m}\u001b[0m\u001b[0;34m)\u001b[0m \u001b[0;32mfor\u001b[0m \u001b[0me\u001b[0m \u001b[0;32min\u001b[0m \u001b[0mexpansions\u001b[0m\u001b[0;34m)\u001b[0m\u001b[0;34m\u001b[0m\u001b[0;34m\u001b[0m\u001b[0m\n\u001b[0m\u001b[1;32m    573\u001b[0m \u001b[0;34m\u001b[0m\u001b[0m\n\u001b[1;32m    574\u001b[0m     \u001b[0;32mdef\u001b[0m \u001b[0mexpansion_cost\u001b[0m\u001b[0;34m(\u001b[0m\u001b[0mself\u001b[0m\u001b[0;34m,\u001b[0m \u001b[0mexpansion\u001b[0m\u001b[0;34m,\u001b[0m \u001b[0mseen\u001b[0m\u001b[0;34m=\u001b[0m\u001b[0mset\u001b[0m\u001b[0;34m(\u001b[0m\u001b[0;34m)\u001b[0m\u001b[0;34m)\u001b[0m\u001b[0;34m:\u001b[0m\u001b[0;34m\u001b[0m\u001b[0;34m\u001b[0m\u001b[0m\n",
      "\u001b[0;32m~/anaconda3/lib/python3.7/site-packages/fuzzingbook/GrammarFuzzer.py\u001b[0m in \u001b[0;36m<genexpr>\u001b[0;34m(.0)\u001b[0m\n\u001b[1;32m    570\u001b[0m     \u001b[0;32mdef\u001b[0m \u001b[0msymbol_cost\u001b[0m\u001b[0;34m(\u001b[0m\u001b[0mself\u001b[0m\u001b[0;34m,\u001b[0m \u001b[0msymbol\u001b[0m\u001b[0;34m,\u001b[0m \u001b[0mseen\u001b[0m\u001b[0;34m=\u001b[0m\u001b[0mset\u001b[0m\u001b[0;34m(\u001b[0m\u001b[0;34m)\u001b[0m\u001b[0;34m)\u001b[0m\u001b[0;34m:\u001b[0m\u001b[0;34m\u001b[0m\u001b[0;34m\u001b[0m\u001b[0m\n\u001b[1;32m    571\u001b[0m         \u001b[0mexpansions\u001b[0m \u001b[0;34m=\u001b[0m \u001b[0mself\u001b[0m\u001b[0;34m.\u001b[0m\u001b[0mgrammar\u001b[0m\u001b[0;34m[\u001b[0m\u001b[0msymbol\u001b[0m\u001b[0;34m]\u001b[0m\u001b[0;34m\u001b[0m\u001b[0;34m\u001b[0m\u001b[0m\n\u001b[0;32m--> 572\u001b[0;31m         \u001b[0;32mreturn\u001b[0m \u001b[0mmin\u001b[0m\u001b[0;34m(\u001b[0m\u001b[0mself\u001b[0m\u001b[0;34m.\u001b[0m\u001b[0mexpansion_cost\u001b[0m\u001b[0;34m(\u001b[0m\u001b[0me\u001b[0m\u001b[0;34m,\u001b[0m \u001b[0mseen\u001b[0m \u001b[0;34m|\u001b[0m \u001b[0;34m{\u001b[0m\u001b[0msymbol\u001b[0m\u001b[0;34m}\u001b[0m\u001b[0;34m)\u001b[0m \u001b[0;32mfor\u001b[0m \u001b[0me\u001b[0m \u001b[0;32min\u001b[0m \u001b[0mexpansions\u001b[0m\u001b[0;34m)\u001b[0m\u001b[0;34m\u001b[0m\u001b[0;34m\u001b[0m\u001b[0m\n\u001b[0m\u001b[1;32m    573\u001b[0m \u001b[0;34m\u001b[0m\u001b[0m\n\u001b[1;32m    574\u001b[0m     \u001b[0;32mdef\u001b[0m \u001b[0mexpansion_cost\u001b[0m\u001b[0;34m(\u001b[0m\u001b[0mself\u001b[0m\u001b[0;34m,\u001b[0m \u001b[0mexpansion\u001b[0m\u001b[0;34m,\u001b[0m \u001b[0mseen\u001b[0m\u001b[0;34m=\u001b[0m\u001b[0mset\u001b[0m\u001b[0;34m(\u001b[0m\u001b[0;34m)\u001b[0m\u001b[0;34m)\u001b[0m\u001b[0;34m:\u001b[0m\u001b[0;34m\u001b[0m\u001b[0;34m\u001b[0m\u001b[0m\n",
      "\u001b[0;32m~/anaconda3/lib/python3.7/site-packages/fuzzingbook/GrammarFuzzer.py\u001b[0m in \u001b[0;36mexpansion_cost\u001b[0;34m(self, expansion, seen)\u001b[0m\n\u001b[1;32m    582\u001b[0m         \u001b[0;31m# the value of a expansion is the sum of all expandable variables\u001b[0m\u001b[0;34m\u001b[0m\u001b[0;34m\u001b[0m\u001b[0;34m\u001b[0m\u001b[0m\n\u001b[1;32m    583\u001b[0m         \u001b[0;31m# inside + 1\u001b[0m\u001b[0;34m\u001b[0m\u001b[0;34m\u001b[0m\u001b[0;34m\u001b[0m\u001b[0m\n\u001b[0;32m--> 584\u001b[0;31m         \u001b[0;32mreturn\u001b[0m \u001b[0msum\u001b[0m\u001b[0;34m(\u001b[0m\u001b[0mself\u001b[0m\u001b[0;34m.\u001b[0m\u001b[0msymbol_cost\u001b[0m\u001b[0;34m(\u001b[0m\u001b[0ms\u001b[0m\u001b[0;34m,\u001b[0m \u001b[0mseen\u001b[0m\u001b[0;34m)\u001b[0m \u001b[0;32mfor\u001b[0m \u001b[0ms\u001b[0m \u001b[0;32min\u001b[0m \u001b[0msymbols\u001b[0m\u001b[0;34m)\u001b[0m \u001b[0;34m+\u001b[0m \u001b[0;36m1\u001b[0m\u001b[0;34m\u001b[0m\u001b[0;34m\u001b[0m\u001b[0m\n\u001b[0m\u001b[1;32m    585\u001b[0m \u001b[0;34m\u001b[0m\u001b[0m\n\u001b[1;32m    586\u001b[0m \u001b[0;32mif\u001b[0m \u001b[0m__name__\u001b[0m \u001b[0;34m==\u001b[0m \u001b[0;34m\"__main__\"\u001b[0m\u001b[0;34m:\u001b[0m\u001b[0;34m\u001b[0m\u001b[0;34m\u001b[0m\u001b[0m\n",
      "\u001b[0;32m~/anaconda3/lib/python3.7/site-packages/fuzzingbook/GrammarFuzzer.py\u001b[0m in \u001b[0;36m<genexpr>\u001b[0;34m(.0)\u001b[0m\n\u001b[1;32m    582\u001b[0m         \u001b[0;31m# the value of a expansion is the sum of all expandable variables\u001b[0m\u001b[0;34m\u001b[0m\u001b[0;34m\u001b[0m\u001b[0;34m\u001b[0m\u001b[0m\n\u001b[1;32m    583\u001b[0m         \u001b[0;31m# inside + 1\u001b[0m\u001b[0;34m\u001b[0m\u001b[0;34m\u001b[0m\u001b[0;34m\u001b[0m\u001b[0m\n\u001b[0;32m--> 584\u001b[0;31m         \u001b[0;32mreturn\u001b[0m \u001b[0msum\u001b[0m\u001b[0;34m(\u001b[0m\u001b[0mself\u001b[0m\u001b[0;34m.\u001b[0m\u001b[0msymbol_cost\u001b[0m\u001b[0;34m(\u001b[0m\u001b[0ms\u001b[0m\u001b[0;34m,\u001b[0m \u001b[0mseen\u001b[0m\u001b[0;34m)\u001b[0m \u001b[0;32mfor\u001b[0m \u001b[0ms\u001b[0m \u001b[0;32min\u001b[0m \u001b[0msymbols\u001b[0m\u001b[0;34m)\u001b[0m \u001b[0;34m+\u001b[0m \u001b[0;36m1\u001b[0m\u001b[0;34m\u001b[0m\u001b[0;34m\u001b[0m\u001b[0m\n\u001b[0m\u001b[1;32m    585\u001b[0m \u001b[0;34m\u001b[0m\u001b[0m\n\u001b[1;32m    586\u001b[0m \u001b[0;32mif\u001b[0m \u001b[0m__name__\u001b[0m \u001b[0;34m==\u001b[0m \u001b[0;34m\"__main__\"\u001b[0m\u001b[0;34m:\u001b[0m\u001b[0;34m\u001b[0m\u001b[0;34m\u001b[0m\u001b[0m\n",
      "\u001b[0;32m~/anaconda3/lib/python3.7/site-packages/fuzzingbook/GrammarFuzzer.py\u001b[0m in \u001b[0;36msymbol_cost\u001b[0;34m(self, symbol, seen)\u001b[0m\n\u001b[1;32m    570\u001b[0m     \u001b[0;32mdef\u001b[0m \u001b[0msymbol_cost\u001b[0m\u001b[0;34m(\u001b[0m\u001b[0mself\u001b[0m\u001b[0;34m,\u001b[0m \u001b[0msymbol\u001b[0m\u001b[0;34m,\u001b[0m \u001b[0mseen\u001b[0m\u001b[0;34m=\u001b[0m\u001b[0mset\u001b[0m\u001b[0;34m(\u001b[0m\u001b[0;34m)\u001b[0m\u001b[0;34m)\u001b[0m\u001b[0;34m:\u001b[0m\u001b[0;34m\u001b[0m\u001b[0;34m\u001b[0m\u001b[0m\n\u001b[1;32m    571\u001b[0m         \u001b[0mexpansions\u001b[0m \u001b[0;34m=\u001b[0m \u001b[0mself\u001b[0m\u001b[0;34m.\u001b[0m\u001b[0mgrammar\u001b[0m\u001b[0;34m[\u001b[0m\u001b[0msymbol\u001b[0m\u001b[0;34m]\u001b[0m\u001b[0;34m\u001b[0m\u001b[0;34m\u001b[0m\u001b[0m\n\u001b[0;32m--> 572\u001b[0;31m         \u001b[0;32mreturn\u001b[0m \u001b[0mmin\u001b[0m\u001b[0;34m(\u001b[0m\u001b[0mself\u001b[0m\u001b[0;34m.\u001b[0m\u001b[0mexpansion_cost\u001b[0m\u001b[0;34m(\u001b[0m\u001b[0me\u001b[0m\u001b[0;34m,\u001b[0m \u001b[0mseen\u001b[0m \u001b[0;34m|\u001b[0m \u001b[0;34m{\u001b[0m\u001b[0msymbol\u001b[0m\u001b[0;34m}\u001b[0m\u001b[0;34m)\u001b[0m \u001b[0;32mfor\u001b[0m \u001b[0me\u001b[0m \u001b[0;32min\u001b[0m \u001b[0mexpansions\u001b[0m\u001b[0;34m)\u001b[0m\u001b[0;34m\u001b[0m\u001b[0;34m\u001b[0m\u001b[0m\n\u001b[0m\u001b[1;32m    573\u001b[0m \u001b[0;34m\u001b[0m\u001b[0m\n\u001b[1;32m    574\u001b[0m     \u001b[0;32mdef\u001b[0m \u001b[0mexpansion_cost\u001b[0m\u001b[0;34m(\u001b[0m\u001b[0mself\u001b[0m\u001b[0;34m,\u001b[0m \u001b[0mexpansion\u001b[0m\u001b[0;34m,\u001b[0m \u001b[0mseen\u001b[0m\u001b[0;34m=\u001b[0m\u001b[0mset\u001b[0m\u001b[0;34m(\u001b[0m\u001b[0;34m)\u001b[0m\u001b[0;34m)\u001b[0m\u001b[0;34m:\u001b[0m\u001b[0;34m\u001b[0m\u001b[0;34m\u001b[0m\u001b[0m\n",
      "\u001b[0;32m~/anaconda3/lib/python3.7/site-packages/fuzzingbook/GrammarFuzzer.py\u001b[0m in \u001b[0;36m<genexpr>\u001b[0;34m(.0)\u001b[0m\n\u001b[1;32m    570\u001b[0m     \u001b[0;32mdef\u001b[0m \u001b[0msymbol_cost\u001b[0m\u001b[0;34m(\u001b[0m\u001b[0mself\u001b[0m\u001b[0;34m,\u001b[0m \u001b[0msymbol\u001b[0m\u001b[0;34m,\u001b[0m \u001b[0mseen\u001b[0m\u001b[0;34m=\u001b[0m\u001b[0mset\u001b[0m\u001b[0;34m(\u001b[0m\u001b[0;34m)\u001b[0m\u001b[0;34m)\u001b[0m\u001b[0;34m:\u001b[0m\u001b[0;34m\u001b[0m\u001b[0;34m\u001b[0m\u001b[0m\n\u001b[1;32m    571\u001b[0m         \u001b[0mexpansions\u001b[0m \u001b[0;34m=\u001b[0m \u001b[0mself\u001b[0m\u001b[0;34m.\u001b[0m\u001b[0mgrammar\u001b[0m\u001b[0;34m[\u001b[0m\u001b[0msymbol\u001b[0m\u001b[0;34m]\u001b[0m\u001b[0;34m\u001b[0m\u001b[0;34m\u001b[0m\u001b[0m\n\u001b[0;32m--> 572\u001b[0;31m         \u001b[0;32mreturn\u001b[0m \u001b[0mmin\u001b[0m\u001b[0;34m(\u001b[0m\u001b[0mself\u001b[0m\u001b[0;34m.\u001b[0m\u001b[0mexpansion_cost\u001b[0m\u001b[0;34m(\u001b[0m\u001b[0me\u001b[0m\u001b[0;34m,\u001b[0m \u001b[0mseen\u001b[0m \u001b[0;34m|\u001b[0m \u001b[0;34m{\u001b[0m\u001b[0msymbol\u001b[0m\u001b[0;34m}\u001b[0m\u001b[0;34m)\u001b[0m \u001b[0;32mfor\u001b[0m \u001b[0me\u001b[0m \u001b[0;32min\u001b[0m \u001b[0mexpansions\u001b[0m\u001b[0;34m)\u001b[0m\u001b[0;34m\u001b[0m\u001b[0;34m\u001b[0m\u001b[0m\n\u001b[0m\u001b[1;32m    573\u001b[0m \u001b[0;34m\u001b[0m\u001b[0m\n\u001b[1;32m    574\u001b[0m     \u001b[0;32mdef\u001b[0m \u001b[0mexpansion_cost\u001b[0m\u001b[0;34m(\u001b[0m\u001b[0mself\u001b[0m\u001b[0;34m,\u001b[0m \u001b[0mexpansion\u001b[0m\u001b[0;34m,\u001b[0m \u001b[0mseen\u001b[0m\u001b[0;34m=\u001b[0m\u001b[0mset\u001b[0m\u001b[0;34m(\u001b[0m\u001b[0;34m)\u001b[0m\u001b[0;34m)\u001b[0m\u001b[0;34m:\u001b[0m\u001b[0;34m\u001b[0m\u001b[0;34m\u001b[0m\u001b[0m\n",
      "\u001b[0;32m~/anaconda3/lib/python3.7/site-packages/fuzzingbook/GrammarFuzzer.py\u001b[0m in \u001b[0;36mexpansion_cost\u001b[0;34m(self, expansion, seen)\u001b[0m\n\u001b[1;32m    573\u001b[0m \u001b[0;34m\u001b[0m\u001b[0m\n\u001b[1;32m    574\u001b[0m     \u001b[0;32mdef\u001b[0m \u001b[0mexpansion_cost\u001b[0m\u001b[0;34m(\u001b[0m\u001b[0mself\u001b[0m\u001b[0;34m,\u001b[0m \u001b[0mexpansion\u001b[0m\u001b[0;34m,\u001b[0m \u001b[0mseen\u001b[0m\u001b[0;34m=\u001b[0m\u001b[0mset\u001b[0m\u001b[0;34m(\u001b[0m\u001b[0;34m)\u001b[0m\u001b[0;34m)\u001b[0m\u001b[0;34m:\u001b[0m\u001b[0;34m\u001b[0m\u001b[0;34m\u001b[0m\u001b[0m\n\u001b[0;32m--> 575\u001b[0;31m         \u001b[0msymbols\u001b[0m \u001b[0;34m=\u001b[0m \u001b[0mnonterminals\u001b[0m\u001b[0;34m(\u001b[0m\u001b[0mexpansion\u001b[0m\u001b[0;34m)\u001b[0m\u001b[0;34m\u001b[0m\u001b[0;34m\u001b[0m\u001b[0m\n\u001b[0m\u001b[1;32m    576\u001b[0m         \u001b[0;32mif\u001b[0m \u001b[0mlen\u001b[0m\u001b[0;34m(\u001b[0m\u001b[0msymbols\u001b[0m\u001b[0;34m)\u001b[0m \u001b[0;34m==\u001b[0m \u001b[0;36m0\u001b[0m\u001b[0;34m:\u001b[0m\u001b[0;34m\u001b[0m\u001b[0;34m\u001b[0m\u001b[0m\n\u001b[1;32m    577\u001b[0m             \u001b[0;32mreturn\u001b[0m \u001b[0;36m1\u001b[0m  \u001b[0;31m# no symbol\u001b[0m\u001b[0;34m\u001b[0m\u001b[0;34m\u001b[0m\u001b[0m\n",
      "\u001b[0;32m~/anaconda3/lib/python3.7/site-packages/fuzzingbook/Grammars.py\u001b[0m in \u001b[0;36mnonterminals\u001b[0;34m(expansion)\u001b[0m\n\u001b[1;32m    154\u001b[0m         \u001b[0mexpansion\u001b[0m \u001b[0;34m=\u001b[0m \u001b[0mexpansion\u001b[0m\u001b[0;34m[\u001b[0m\u001b[0;36m0\u001b[0m\u001b[0;34m]\u001b[0m\u001b[0;34m\u001b[0m\u001b[0;34m\u001b[0m\u001b[0m\n\u001b[1;32m    155\u001b[0m \u001b[0;34m\u001b[0m\u001b[0m\n\u001b[0;32m--> 156\u001b[0;31m     \u001b[0;32mreturn\u001b[0m \u001b[0mre\u001b[0m\u001b[0;34m.\u001b[0m\u001b[0mfindall\u001b[0m\u001b[0;34m(\u001b[0m\u001b[0mRE_NONTERMINAL\u001b[0m\u001b[0;34m,\u001b[0m \u001b[0mexpansion\u001b[0m\u001b[0;34m)\u001b[0m\u001b[0;34m\u001b[0m\u001b[0;34m\u001b[0m\u001b[0m\n\u001b[0m\u001b[1;32m    157\u001b[0m \u001b[0;34m\u001b[0m\u001b[0m\n\u001b[1;32m    158\u001b[0m \u001b[0;32mif\u001b[0m \u001b[0m__name__\u001b[0m \u001b[0;34m==\u001b[0m \u001b[0;34m\"__main__\"\u001b[0m\u001b[0;34m:\u001b[0m\u001b[0;34m\u001b[0m\u001b[0;34m\u001b[0m\u001b[0m\n",
      "\u001b[0;32m~/anaconda3/lib/python3.7/re.py\u001b[0m in \u001b[0;36mfindall\u001b[0;34m(pattern, string, flags)\u001b[0m\n\u001b[1;32m    221\u001b[0m \u001b[0;34m\u001b[0m\u001b[0m\n\u001b[1;32m    222\u001b[0m     Empty matches are included in the result.\"\"\"\n\u001b[0;32m--> 223\u001b[0;31m     \u001b[0;32mreturn\u001b[0m \u001b[0m_compile\u001b[0m\u001b[0;34m(\u001b[0m\u001b[0mpattern\u001b[0m\u001b[0;34m,\u001b[0m \u001b[0mflags\u001b[0m\u001b[0;34m)\u001b[0m\u001b[0;34m.\u001b[0m\u001b[0mfindall\u001b[0m\u001b[0;34m(\u001b[0m\u001b[0mstring\u001b[0m\u001b[0;34m)\u001b[0m\u001b[0;34m\u001b[0m\u001b[0;34m\u001b[0m\u001b[0m\n\u001b[0m\u001b[1;32m    224\u001b[0m \u001b[0;34m\u001b[0m\u001b[0m\n\u001b[1;32m    225\u001b[0m \u001b[0;32mdef\u001b[0m \u001b[0mfinditer\u001b[0m\u001b[0;34m(\u001b[0m\u001b[0mpattern\u001b[0m\u001b[0;34m,\u001b[0m \u001b[0mstring\u001b[0m\u001b[0;34m,\u001b[0m \u001b[0mflags\u001b[0m\u001b[0;34m=\u001b[0m\u001b[0;36m0\u001b[0m\u001b[0;34m)\u001b[0m\u001b[0;34m:\u001b[0m\u001b[0;34m\u001b[0m\u001b[0;34m\u001b[0m\u001b[0m\n",
      "\u001b[0;32m~/anaconda3/lib/python3.7/re.py\u001b[0m in \u001b[0;36m_compile\u001b[0;34m(pattern, flags)\u001b[0m\n\u001b[1;32m    274\u001b[0m         \u001b[0mflags\u001b[0m \u001b[0;34m=\u001b[0m \u001b[0mflags\u001b[0m\u001b[0;34m.\u001b[0m\u001b[0mvalue\u001b[0m\u001b[0;34m\u001b[0m\u001b[0;34m\u001b[0m\u001b[0m\n\u001b[1;32m    275\u001b[0m     \u001b[0;32mtry\u001b[0m\u001b[0;34m:\u001b[0m\u001b[0;34m\u001b[0m\u001b[0;34m\u001b[0m\u001b[0m\n\u001b[0;32m--> 276\u001b[0;31m         \u001b[0;32mreturn\u001b[0m \u001b[0m_cache\u001b[0m\u001b[0;34m[\u001b[0m\u001b[0mtype\u001b[0m\u001b[0;34m(\u001b[0m\u001b[0mpattern\u001b[0m\u001b[0;34m)\u001b[0m\u001b[0;34m,\u001b[0m \u001b[0mpattern\u001b[0m\u001b[0;34m,\u001b[0m \u001b[0mflags\u001b[0m\u001b[0;34m]\u001b[0m\u001b[0;34m\u001b[0m\u001b[0;34m\u001b[0m\u001b[0m\n\u001b[0m\u001b[1;32m    277\u001b[0m     \u001b[0;32mexcept\u001b[0m \u001b[0mKeyError\u001b[0m\u001b[0;34m:\u001b[0m\u001b[0;34m\u001b[0m\u001b[0;34m\u001b[0m\u001b[0m\n\u001b[1;32m    278\u001b[0m         \u001b[0;32mpass\u001b[0m\u001b[0;34m\u001b[0m\u001b[0;34m\u001b[0m\u001b[0m\n",
      "\u001b[0;31mKeyboardInterrupt\u001b[0m: "
     ]
    }
   ],
   "source": [
    "f = GrammarFuzzer(tiny_grammar, start_symbol='<START>')\n",
    "for i in range(2000):\n",
    "    print(f.fuzz())"
   ]
  },
  {
   "cell_type": "markdown",
   "metadata": {},
   "source": [
    "### Lisp"
   ]
  },
  {
   "cell_type": "markdown",
   "metadata": {},
   "source": [
    "#### Golden Grammar"
   ]
  },
  {
   "cell_type": "code",
   "execution_count": 364,
   "metadata": {
    "ExecuteTime": {
     "end_time": "2021-01-05T01:21:12.114615Z",
     "start_time": "2021-01-05T01:21:12.109657Z"
    }
   },
   "outputs": [],
   "source": [
    "lisp_golden = {\n",
    "    '<START>': [ '<sexpr>' ],\n",
    "    '<sexpr>': [ '<atom>', '<list>' ],\n",
    "    '<atom>': ['<id>', '<digits>', '<string>' ],\n",
    "    '<list>': [ '(<whitespace><sexprs><whitespace>)'],\n",
    "    '<sexprs>': [ '', '<sexpr><space><whitespace><sexprs>'],\n",
    "    '<id>': ['<letter><alphanums>'],\n",
    "    '<alphanums>': [ '', '<alphanum><alphanums>'],\n",
    "    '<alphanum>' : ['<letter>', '<digit>'],\n",
    "    '<digit>': [i for i in string.digits],\n",
    "    '<space>': [' '],\n",
    "    '<whitespace>' : ['', '<space><whitespace>'],\n",
    "    '<letter>' : [i for i in string.ascii_letters],\n",
    "    '<digits>': ['<digit>', '<digit>''<digits>'],\n",
    "    '<sletter>': ['<space>', '<digit>', '<letter>'],\n",
    "    '<sletters>': ['', '<sletter><sletters>'],\n",
    "    '<string>': ['\"<sletters>\"']\n",
    "}"
   ]
  },
  {
   "cell_type": "markdown",
   "metadata": {},
   "source": [
    "#### Samples"
   ]
  },
  {
   "cell_type": "code",
   "execution_count": 365,
   "metadata": {
    "ExecuteTime": {
     "end_time": "2021-01-05T01:21:15.007192Z",
     "start_time": "2021-01-05T01:21:15.004217Z"
    }
   },
   "outputs": [],
   "source": [
    "lisp_samples=[i.strip() for i in '''\\\n",
    "(+ 1 2)\n",
    "\n",
    "'''.split('\\n') if i.strip()]"
   ]
  },
  {
   "cell_type": "code",
   "execution_count": 366,
   "metadata": {
    "ExecuteTime": {
     "end_time": "2021-01-05T01:37:02.928932Z",
     "start_time": "2021-01-05T01:21:18.390157Z"
    },
    "scrolled": true
   },
   "outputs": [
    {
     "name": "stdout",
     "output_type": "stream",
     "text": [
      "(+ 1 2)\n",
      "<main> ['<malloc-0-c>']\n",
      "<heap_init-1> ['<heap_init-0-c>', '<lisp_make_symbol-0-c>']\n",
      "<lisp_make_null-1> ['(']\n",
      "<lexer_step-2> ['+']\n",
      "<lexer_step-1> [' ']\n",
      "<lexer_step-4> ['2)']\n",
      "<lexer_step-3> ['1']\n"
     ]
    },
    {
     "data": {
      "text/plain": [
       "{'<START>': ['<heap_init-0-c>'],\n",
       " '<heap_init-0-c>': ['(', '<heap_init-0-c><lisp_make_symbol-0-c>'],\n",
       " '<lisp_make_symbol-0-c>': ['<hash_string-0-c>', '<lexer_next_token-0-c>'],\n",
       " '<hash_string-0-c>': ['<lexer_next_token-0-c>',\n",
       "  '<parse_list_r-0-c>',\n",
       "  '<strlen-0-c>',\n",
       "  '<table_get_string-0-c>',\n",
       "  '<toupper-0-c>'],\n",
       " '<lexer_next_token-0-c>': ['<lexer_next_token-2>',\n",
       "  '<lisp_make_symbol-0-c>',\n",
       "  '<parse_list_r-0-c>'],\n",
       " '<parse_list_r-0-c>': ['<lexer_copy_token-0-c>', '<lexer_next_token-0-c>'],\n",
       " '<strlen-0-c>': ['<lexer_next_token-0-c>', '<memcpy-0-c>'],\n",
       " '<table_get_string-0-c>': ['<lexer_next_token-0-c>',\n",
       "  '<parse_list_r-0-c>',\n",
       "  '<strlen-0-c>',\n",
       "  '<strncasecmp-0-c>'],\n",
       " '<toupper-0-c>': ['<_setjmp-0-c>',\n",
       "  '<expand_r-0-c>',\n",
       "  '<lexer_next_token-0-c>',\n",
       "  '<lisp_make_symbol-0-c>',\n",
       "  '<parse_list_r-0-c>',\n",
       "  '<strlen-0-c>',\n",
       "  '<table_get_string-0-c>'],\n",
       " '<lexer_copy_token-0-c>': ['<_setjmp-0-c>',\n",
       "  '<lexer_next_token-0-c>',\n",
       "  '<lisp_make_symbol-0-c>'],\n",
       " '<_setjmp-0-c>': ['<expand_r-0-c>', '<lexer_next_token-0-c>', '<strcmp-0-c>'],\n",
       " '<expand_r-0-c>': ['<lisp_make_symbol-0-c>', '<strcmp-0-c>'],\n",
       " '<strcmp-0-c>': ['<_setjmp-0-c>', '<expand_r-0-c>', '<lisp_make_symbol-0-c>'],\n",
       " '<memcpy-0-c>': ['<lexer_next_token-0-c>',\n",
       "  '<lisp_make_symbol-0-c>',\n",
       "  '<parse_list_r-0-c>',\n",
       "  '<toupper-0-c>'],\n",
       " '<strncasecmp-0-c>': ['<lexer_next_token-0-c>', '<strlen-0-c>'],\n",
       " '<lexer_next_token-2>': ['<lexer_skip_empty-0-c>',\n",
       "  '<lexer_skip_empty-0-c><parse_list_r-0-c>'],\n",
       " '<lexer_skip_empty-0-c>': ['<__ctype_b_loc-0-c>',\n",
       "  '<lexer_match_real-0-c>',\n",
       "  '<lexer_step-0-c>',\n",
       "  '<parse_list_r-0-c>'],\n",
       " '<__ctype_b_loc-0-c>': ['<__ctype_b_loc-3>',\n",
       "  '<lexer_match_real-0-c>',\n",
       "  '<lisp_make_symbol-0-c>',\n",
       "  '<parse_list_r-0-c>'],\n",
       " '<lexer_match_real-0-c>': ['<lexer_match_real-1>', '<parse_list_r-0-c>'],\n",
       " '<lexer_step-0-c>': [' ', '+', '1', '2)'],\n",
       " '<__ctype_b_loc-3>': ['<lexer_step-0-c>',\n",
       "  '<lexer_step-0-c><__ctype_b_loc-3-c>'],\n",
       " '<__ctype_b_loc-3-c>': ['<lexer_match_real-0-c>', '<parse_list_r-0-c>'],\n",
       " '<lexer_match_real-1>': ['<__ctype_b_loc-0-c>',\n",
       "  '<__ctype_b_loc-0-c><parse_list_r-0-c>']}"
      ]
     },
     "execution_count": 366,
     "metadata": {},
     "output_type": "execute_result"
    }
   ],
   "source": [
    "lisp_grammar = binary_miner(lisp_samples, 'subject/lisp/lisp.c', '-lm')\n",
    "lisp_grammar"
   ]
  },
  {
   "cell_type": "code",
   "execution_count": 196,
   "metadata": {
    "ExecuteTime": {
     "end_time": "2021-01-03T20:30:36.300824Z",
     "start_time": "2021-01-03T20:30:34.384333Z"
    }
   },
   "outputs": [
    {
     "name": "stdout",
     "output_type": "stream",
     "text": [
      "(282, 1000)\n"
     ]
    }
   ],
   "source": [
    "if 'lisp' in CHECK:\n",
    "    result = check_recall(lisp_golden, lisp_grammar, start_symbol='<START>')\n",
    "    BMiner_r['lisp.c'] = result\n",
    "    print(result)"
   ]
  },
  {
   "cell_type": "markdown",
   "metadata": {},
   "source": [
    "### Yxml"
   ]
  },
  {
   "cell_type": "markdown",
   "metadata": {},
   "source": [
    "#### The Golden Grammar"
   ]
  },
  {
   "cell_type": "code",
   "execution_count": 197,
   "metadata": {
    "ExecuteTime": {
     "end_time": "2021-01-03T20:31:07.024954Z",
     "start_time": "2021-01-03T20:31:07.020386Z"
    }
   },
   "outputs": [],
   "source": [
    "from fuzzingbook.Grammars import srange\n",
    "import string"
   ]
  },
  {
   "cell_type": "code",
   "execution_count": 198,
   "metadata": {
    "ExecuteTime": {
     "end_time": "2021-01-03T20:31:08.252731Z",
     "start_time": "2021-01-03T20:31:08.244613Z"
    }
   },
   "outputs": [],
   "source": [
    "XML_GRAMMAR = {\n",
    "    \"<START>\": [\"<xml-tree>\"],\n",
    "    \"<xml-tree>\": [\"<text>\",\n",
    "                   \"<xml-open-tag><xml-tree><xml-close-tag>\", \n",
    "                   \"<xml-openclose-tag>\", \n",
    "                   \"<xml-tree><xml-tree>\"],\n",
    "    \"<xml-open-tag>\":      [\"<<id>>\", \"<<id> <xml-attribute>>\"],\n",
    "    \"<xml-openclose-tag>\": [\"<<id>/>\", \"<<id> <xml-attribute>/>\"],\n",
    "    \"<xml-close-tag>\":     [\"</<id>>\"],\n",
    "    \"<xml-attribute>\" :    [\"<id>=<id>\", \"<xml-attribute> <xml-attribute>\"],\n",
    "    \"<id>\":                [\"<letter>\", \"<id><letter>\"],\n",
    "    \"<text>\" :             [\"<text><letter_space>\",\"<letter_space>\"],\n",
    "    \"<letter>\":            srange(string.ascii_letters + string.digits +\"\\\"\"+\"'\"+\".\"),\n",
    "    \"<letter_space>\":      srange(string.ascii_letters + string.digits +\"\\\"\"+\"'\"+\" \"+\"\\t\"),\n",
    "}"
   ]
  },
  {
   "cell_type": "markdown",
   "metadata": {},
   "source": [
    "#### Samples"
   ]
  },
  {
   "cell_type": "code",
   "execution_count": 199,
   "metadata": {
    "ExecuteTime": {
     "end_time": "2021-01-03T20:31:10.340376Z",
     "start_time": "2021-01-03T20:31:10.337311Z"
    }
   },
   "outputs": [],
   "source": [
    "xml_samples=[i.strip() for i in '''\\\n",
    "<note></note>\n",
    "<to>Tove</to>\n",
    "<from>Jani</from>\n",
    "<heading>Reminder</heading>\n",
    "'''.split('\\n') if i.strip()]"
   ]
  },
  {
   "cell_type": "code",
   "execution_count": 200,
   "metadata": {
    "ExecuteTime": {
     "end_time": "2021-01-03T20:32:57.481676Z",
     "start_time": "2021-01-03T20:31:18.381105Z"
    },
    "scrolled": false
   },
   "outputs": [
    {
     "name": "stdout",
     "output_type": "stream",
     "text": [
      "<note></note>\n",
      "<to>Tove</to>\n",
      "<from>Jani</from>\n",
      "<heading>Reminder</heading>\n",
      "<main> ['<__GI__dl_addr-1>']\n",
      "<__GI__dl_addr-1> ['<_dl_find_dso_for_object-1>', '<__tunable_get_val-0-c>']\n",
      "<__tunable_get_val-3> ['<_int_malloc-0-c>', '<_int_malloc-0-c>']\n",
      "<yxml_parse-7> ['f']\n",
      "<yxml_parse-1> ['/']\n",
      "<yxml_elemnameend-4> ['T']\n",
      "<yxml_elemnameend-3> ['R']\n",
      "<yxml_elemnameend-2> ['J']\n",
      "<yxml_setchar-10> ['v']\n"
     ]
    },
    {
     "data": {
      "text/plain": [
       "{'<START>': ['<_dl_find_dso_for_object-1><__tunable_get_val-0-c>'],\n",
       " '<_dl_find_dso_for_object-1>': ['<'],\n",
       " '<__tunable_get_val-0-c>': ['<__tunable_get_val-1>',\n",
       "  '<__tunable_get_val-5-s>',\n",
       "  '<__tunable_get_val-6>',\n",
       "  '<_int_malloc-0-c><_int_malloc-0-c>'],\n",
       " '<__tunable_get_val-1>': ['<__tunable_get_val-0-c>',\n",
       "  '<__tunable_get_val-0-c><__tunable_get_val-2-s>'],\n",
       " '<__tunable_get_val-5-s>': ['<yxml_parse-0-c>',\n",
       "  '<yxml_parse-0-c><__tunable_get_val-5-s>'],\n",
       " '<__tunable_get_val-6>': ['h'],\n",
       " '<_int_malloc-0-c>': ['<yxml_elemclose-9>', '<yxml_parse-9>'],\n",
       " '<__tunable_get_val-2-s>': ['<yxml_parse-0-c>',\n",
       "  '<yxml_parse-0-c><__tunable_get_val-2-s>'],\n",
       " '<yxml_parse-0-c>': ['/',\n",
       "  '<__tunable_get_val-6>',\n",
       "  '<yxml_elemclose-0-c>',\n",
       "  '<yxml_elemnameend-0-c>',\n",
       "  '<yxml_parse-10>',\n",
       "  '<yxml_parse-9>',\n",
       "  '<yxml_pushstack-0-c>',\n",
       "  '<yxml_pushstackc-0-c>',\n",
       "  '<yxml_setchar-0-c>',\n",
       "  'f'],\n",
       " '<yxml_elemclose-0-c>': ['<yxml_elemclose-10>',\n",
       "  '<yxml_elemclose-1>',\n",
       "  '<yxml_elemclose-2>',\n",
       "  '<yxml_elemclose-3>',\n",
       "  '<yxml_elemclose-4>',\n",
       "  '<yxml_elemclose-5>',\n",
       "  '<yxml_elemclose-6>',\n",
       "  '<yxml_elemclose-7>',\n",
       "  '<yxml_elemclose-9>',\n",
       "  '<yxml_parse-10>',\n",
       "  '<yxml_parse-9>'],\n",
       " '<yxml_elemnameend-0-c>': ['<_dl_find_dso_for_object-1>', 'J', 'R', 'T'],\n",
       " '<yxml_parse-10>': ['t'],\n",
       " '<yxml_parse-9>': ['n'],\n",
       " '<yxml_pushstack-0-c>': ['<yxml_elemclose-10>',\n",
       "  '<yxml_elemclose-4>',\n",
       "  '<yxml_elemclose-9>'],\n",
       " '<yxml_pushstackc-0-c>': ['<yxml_elemclose-1>',\n",
       "  '<yxml_elemclose-2>',\n",
       "  '<yxml_elemclose-3>',\n",
       "  '<yxml_elemclose-4>',\n",
       "  '<yxml_elemclose-5>',\n",
       "  '<yxml_elemclose-6>',\n",
       "  '<yxml_elemclose-7>',\n",
       "  '<yxml_elemclose-9>',\n",
       "  '<yxml_parse-10>',\n",
       "  '<yxml_parse-9>'],\n",
       " '<yxml_setchar-0-c>': ['<_dl_find_dso_for_object-1>',\n",
       "  '<yxml_elemclose-10>',\n",
       "  '<yxml_elemclose-2>',\n",
       "  '<yxml_elemclose-3>',\n",
       "  '<yxml_elemclose-4>',\n",
       "  '<yxml_elemclose-6>',\n",
       "  '<yxml_elemclose-7>',\n",
       "  '<yxml_elemclose-9>',\n",
       "  '<yxml_parse-9>',\n",
       "  'v'],\n",
       " '<yxml_elemclose-10>': ['r'],\n",
       " '<yxml_elemclose-1>': ['>'],\n",
       " '<yxml_elemclose-2>': ['a'],\n",
       " '<yxml_elemclose-3>': ['d'],\n",
       " '<yxml_elemclose-4>': ['e'],\n",
       " '<yxml_elemclose-5>': ['g'],\n",
       " '<yxml_elemclose-6>': ['i'],\n",
       " '<yxml_elemclose-7>': ['m'],\n",
       " '<yxml_elemclose-9>': ['o']}"
      ]
     },
     "execution_count": 200,
     "metadata": {},
     "output_type": "execute_result"
    }
   ],
   "source": [
    "yxml_grammar = binary_miner(xml_samples, 'subject/xml/yxml.c')\n",
    "yxml_grammar"
   ]
  },
  {
   "cell_type": "code",
   "execution_count": 201,
   "metadata": {
    "ExecuteTime": {
     "end_time": "2021-01-03T21:37:37.013945Z",
     "start_time": "2021-01-03T21:37:30.457778Z"
    }
   },
   "outputs": [
    {
     "name": "stdout",
     "output_type": "stream",
     "text": [
      "(19, 1000)\n"
     ]
    }
   ],
   "source": [
    "if 'yxml' in CHECK:\n",
    "    result = check_recall(XML_GRAMMAR, yxml_grammar, start_symbol='<START>')\n",
    "    BMiner_r['yxml.c'] = result\n",
    "    print(result)"
   ]
  },
  {
   "cell_type": "markdown",
   "metadata": {},
   "source": [
    "## Results"
   ]
  }
 ],
 "metadata": {
  "kernelspec": {
   "display_name": "Python 3",
   "language": "python",
   "name": "python3"
  },
  "language_info": {
   "codemirror_mode": {
    "name": "ipython",
    "version": 3
   },
   "file_extension": ".py",
   "mimetype": "text/x-python",
   "name": "python",
   "nbconvert_exporter": "python",
   "pygments_lexer": "ipython3",
   "version": "3.7.7"
  },
  "latex_envs": {
   "LaTeX_envs_menu_present": true,
   "autoclose": false,
   "autocomplete": true,
   "bibliofile": "biblio.bib",
   "cite_by": "apalike",
   "current_citInitial": 1,
   "eqLabelWithNumbers": true,
   "eqNumInitial": 1,
   "hotkeys": {
    "equation": "Ctrl-E",
    "itemize": "Ctrl-I"
   },
   "labels_anchors": false,
   "latex_user_defs": false,
   "report_style_numbering": false,
   "user_envs_cfg": false
  },
  "toc": {
   "base_numbering": 1,
   "nav_menu": {},
   "number_sections": true,
   "sideBar": true,
   "skip_h1_title": false,
   "title_cell": "Table of Contents",
   "title_sidebar": "Contents",
   "toc_cell": false,
   "toc_position": {
    "height": "801px",
    "left": "23px",
    "top": "110px",
    "width": "427.812px"
   },
   "toc_section_display": true,
   "toc_window_display": true
  },
  "varInspector": {
   "cols": {
    "lenName": 16,
    "lenType": 16,
    "lenVar": 40
   },
   "kernels_config": {
    "python": {
     "delete_cmd_postfix": "",
     "delete_cmd_prefix": "del ",
     "library": "var_list.py",
     "varRefreshCmd": "print(var_dic_list())"
    },
    "r": {
     "delete_cmd_postfix": ") ",
     "delete_cmd_prefix": "rm(",
     "library": "var_list.r",
     "varRefreshCmd": "cat(var_dic_list()) "
    }
   },
   "types_to_exclude": [
    "module",
    "function",
    "builtin_function_or_method",
    "instance",
    "_Feature"
   ],
   "window_display": false
  }
 },
 "nbformat": 4,
 "nbformat_minor": 4
}
